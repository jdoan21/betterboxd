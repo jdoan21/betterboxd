{
  "nbformat": 4,
  "nbformat_minor": 0,
  "metadata": {
    "colab": {
      "name": "baseline_models_2.ipynb",
      "provenance": [],
      "collapsed_sections": []
    },
    "kernelspec": {
      "name": "python3",
      "display_name": "Python 3"
    },
    "language_info": {
      "name": "python"
    }
  },
  "cells": [
    {
      "cell_type": "markdown",
      "metadata": {
        "id": "j02i7xgd3tUQ"
      },
      "source": [
        "# Setup"
      ]
    },
    {
      "cell_type": "code",
      "metadata": {
        "colab": {
          "base_uri": "https://localhost:8080/"
        },
        "id": "zTGoh-HMY6GL",
        "outputId": "39b2d63b-a464-47a4-a9fe-372f12710587"
      },
      "source": [
        "# this mounts your Google Drive to the Colab VM.\n",
        "from google.colab import drive\n",
        "drive.mount('/content/drive', force_remount=True)\n",
        "\n",
        "\n",
        "FOLDERNAME = 'cs229_proj/'\n",
        "\n",
        "\n",
        "assert FOLDERNAME is not None, \"[!] Enter the foldername.\"\n",
        "\n",
        "# now that we've mounted your Drive, this ensures that\n",
        "# the Python interpreter of the Colab VM can load\n",
        "# python files from within it.\n",
        "import sys\n",
        "sys.path.append('/content/drive/My Drive/{}'.format(FOLDERNAME))\n",
        "\n",
        "%cd drive/My\\ Drive/$FOLDERNAME/"
      ],
      "execution_count": null,
      "outputs": [
        {
          "output_type": "stream",
          "name": "stdout",
          "text": [
            "Mounted at /content/drive\n",
            "/content/drive/My Drive/cs229_proj\n"
          ]
        }
      ]
    },
    {
      "cell_type": "code",
      "metadata": {
        "id": "M0jdgSEUY-oR",
        "colab": {
          "base_uri": "https://localhost:8080/"
        },
        "outputId": "94914235-566f-4ac2-f8ef-f204f2946c9b"
      },
      "source": [
        "!pwd\n",
        "!ls"
      ],
      "execution_count": null,
      "outputs": [
        {
          "output_type": "stream",
          "name": "stdout",
          "text": [
            "/content/drive/My Drive/cs229_proj\n",
            " archive_data\t\t\t     movies_embeddings_full.csv\n",
            " baseline_models_2.ipynb\t     movies_full.csv\n",
            " baseline_models.ipynb\t\t     movies_svd_full.csv\n",
            " boxd_scrape.ipynb\t\t     movie_to_ebert_rating.json\n",
            " boxd_scrape_jerry.ipynb\t     movie_to_jesse_rating.json\n",
            " collect_movie_posters.ipynb\t     poster_dataset.py\n",
            "'Copy of more_models.ipynb'\t     __pycache__\n",
            " ebert_html\t\t\t     recommendations.ipynb\n",
            " embeddings.json\t\t    'related papers'\n",
            " html\t\t\t\t     resnet_transfer_learning\n",
            " image_embeddings_playground.ipynb   rotten_tomatoes_movies.csv\n",
            " imagenet_classes.txt\t\t     SampleMoviePosters\n",
            " jesse_html\t\t\t    '*submission code*'\n",
            " letterboxd_posters\t\t     tmdb_5000_credits.csv\n",
            " mlp.model\t\t\t     tmdb_5000_movies.csv\n",
            " more_models.ipynb\t\t     user_ratings_full.csv\n",
            " MovieGenre.csv\t\t\t     user_to_input_and_holdout_dicts.json\n",
            " movieid_to_data.json\t\t     user_to_rating.csv\n",
            " movie_industry.csv\t\t     user_to_rating_dict.json\n"
          ]
        }
      ]
    },
    {
      "cell_type": "code",
      "metadata": {
        "id": "PqnsJQB3Y_zi"
      },
      "source": [
        "from IPython.display import Image\n",
        "import json\n",
        "import random\n",
        "import matplotlib.pyplot as plt\n",
        "import pandas as pd\n",
        "import numpy as np\n",
        "import math\n",
        "\n",
        "import torch\n",
        "from torch import nn"
      ],
      "execution_count": null,
      "outputs": []
    },
    {
      "cell_type": "code",
      "metadata": {
        "id": "5m4bttkk-RHC"
      },
      "source": [
        "from sklearn.linear_model import LinearRegression\n",
        "from sklearn.metrics import mean_squared_error\n",
        "from sklearn.utils import shuffle\n",
        "from sklearn.impute import SimpleImputer"
      ],
      "execution_count": null,
      "outputs": []
    },
    {
      "cell_type": "markdown",
      "metadata": {
        "id": "Ep0kH1OOZKx6"
      },
      "source": [
        "# Load Files"
      ]
    },
    {
      "cell_type": "code",
      "metadata": {
        "id": "EFIwGhrEZJ5g"
      },
      "source": [
        "movies_full_path = '/content/drive/My Drive/cs229_proj/movies_full.csv'\n",
        "user_ratings_full_path = '/content/drive/My Drive/cs229_proj/user_ratings_full.csv'\n",
        "\n",
        "movies_full_df = pd.read_csv(movies_full_path)\n",
        "ratings_full_df = pd.read_csv(user_ratings_full_path)"
      ],
      "execution_count": null,
      "outputs": []
    },
    {
      "cell_type": "code",
      "metadata": {
        "colab": {
          "base_uri": "https://localhost:8080/"
        },
        "id": "5ADfW30E8DF1",
        "outputId": "c6323711-35a9-4331-d834-3124f7d7d8a0"
      },
      "source": [
        "print(movies_full_df.shape)\n",
        "print(ratings_full_df.shape)"
      ],
      "execution_count": null,
      "outputs": [
        {
          "output_type": "stream",
          "name": "stdout",
          "text": [
            "(2220, 55)\n",
            "(392551, 3)\n"
          ]
        }
      ]
    },
    {
      "cell_type": "code",
      "metadata": {
        "colab": {
          "base_uri": "https://localhost:8080/"
        },
        "id": "0OBgwQceZOff",
        "outputId": "311306e7-af5e-49e5-85b6-80dee2ce0bfa"
      },
      "source": [
        "# print(movies_full_df.columns)\n",
        "\n",
        "all_columns = ['movie_id', 'poster_path', 'title',\n",
        "       'year', '1', '2', '3', '4', '5', '6', '7', '8', '9', '10',\n",
        "       'tmdb_budget', 'imdb_budget', 'tmdb_revenue', 'imdb_revenue',\n",
        "       'tmdb_vote_average', 'tmdb_vote_count', 'imdb_vote_average',\n",
        "       'imdb_vote_count', 'tmdb_popularity', 'tmdb_runtime', 'imdb_runtime',\n",
        "       'main_genre', 'genres', 'director', 'writer', 'main_actor',\n",
        "       'mpaa_rating', 'overview', 'tagline', 'keywords', 'release_date',\n",
        "       'main_prod_company', 'production_companies', 'country',\n",
        "       'production_countries', 'original_language', 'spoken_languages',\n",
        "       'rt_info', 'critics_consensus', 'actors', 'tm_status', 'tm_rating',\n",
        "       'tm_count', 'audience_status', 'audience_rating', 'audience_count',\n",
        "       'tm_top_critics_count', 'tm_fresh_critics_count',\n",
        "       'tm_rotten_critics_count', 'ebert_rating', 'boxd_vote_average']\n",
        "print(len(all_columns))"
      ],
      "execution_count": null,
      "outputs": [
        {
          "output_type": "stream",
          "name": "stdout",
          "text": [
            "55\n"
          ]
        }
      ]
    },
    {
      "cell_type": "markdown",
      "metadata": {
        "id": "UwfL7S4kbQH3"
      },
      "source": [
        "# Baseline for Recommendation Model"
      ]
    },
    {
      "cell_type": "markdown",
      "metadata": {
        "id": "0xNDuTN3b1bf"
      },
      "source": [
        "## Create Input and Hold-out Sets for Each User"
      ]
    },
    {
      "cell_type": "code",
      "metadata": {
        "id": "Awj8WWives1J"
      },
      "source": [
        "def get_input_and_holdout(movieid_lst, user_rating_lst, frac=0.8):\n",
        "    n = len(movieid_lst)\n",
        "    n_holdout_goal = int((1 - frac) * n)\n",
        "    avg_rating = np.mean(np.array(user_rating_lst))\n",
        "\n",
        "    all_indices = [*range(n)]\n",
        "\n",
        "    if n <= 20:\n",
        "        return None, None\n",
        "\n",
        "    for i in range(1000):\n",
        "        cur_indices = random.sample(all_indices, n_holdout_goal)\n",
        "        holdout_ratings = np.array(user_rating_lst)[cur_indices]\n",
        "       \n",
        "        if abs(np.mean(holdout_ratings) - avg_rating) < 0.5:\n",
        "            input_dict = {}\n",
        "            holdout_dict = {}\n",
        "            for j in range(n):\n",
        "                cur_movieid = movieid_lst[j]\n",
        "                if j in cur_indices:\n",
        "                    holdout_dict[cur_movieid] = user_rating_lst[j]\n",
        "                else:\n",
        "                    input_dict[cur_movieid] = user_rating_lst[j]\n",
        "            return input_dict, holdout_dict\n",
        "    return None, None"
      ],
      "execution_count": null,
      "outputs": []
    },
    {
      "cell_type": "code",
      "metadata": {
        "id": "9KSnLZTses6c",
        "colab": {
          "base_uri": "https://localhost:8080/"
        },
        "outputId": "481a1c95-a996-4e09-9d8c-619d6a78ac03"
      },
      "source": [
        "count = 0\n",
        "bruh_count = 0\n",
        "user_to_dicts = {}\n",
        "for user_id in users_set:\n",
        "    count += 1\n",
        "    user_df = ratings_full_df.loc[ratings_full_df['user_id'] == user_id]\n",
        "    user_movieid = user_df['movie_id'].to_list()\n",
        "    user_ratings = user_df['rating_val'].to_list()\n",
        "    input_dict, holdout_dict = get_input_and_holdout(user_movieid, user_ratings)\n",
        "    if input_dict is None:\n",
        "        bruh_count += 1\n",
        "    else:\n",
        "        user_to_dicts[user_id] = [input_dict, holdout_dict]\n",
        "    if count % 100 == 0:\n",
        "        print(count, bruh_count)"
      ],
      "execution_count": null,
      "outputs": [
        {
          "output_type": "stream",
          "name": "stdout",
          "text": [
            "100 15\n",
            "200 36\n",
            "300 54\n",
            "400 66\n",
            "500 82\n",
            "600 96\n",
            "700 110\n",
            "800 122\n",
            "900 132\n",
            "1000 151\n",
            "1100 176\n",
            "1200 194\n",
            "1300 213\n",
            "1400 227\n",
            "1500 245\n",
            "1600 261\n",
            "1700 271\n",
            "1800 291\n",
            "1900 302\n",
            "2000 319\n",
            "2100 332\n",
            "2200 348\n",
            "2300 368\n",
            "2400 390\n",
            "2500 405\n",
            "2600 419\n",
            "2700 431\n",
            "2800 440\n",
            "2900 447\n",
            "3000 466\n",
            "3100 485\n",
            "3200 495\n",
            "3300 511\n",
            "3400 529\n",
            "3500 539\n",
            "3600 551\n",
            "3700 566\n",
            "3800 580\n",
            "3900 591\n",
            "4000 602\n",
            "4100 619\n",
            "4200 633\n",
            "4300 645\n",
            "4400 661\n",
            "4500 684\n",
            "4600 698\n",
            "4700 717\n",
            "4800 730\n",
            "4900 746\n",
            "5000 763\n",
            "5100 784\n",
            "5200 805\n"
          ]
        }
      ]
    },
    {
      "cell_type": "code",
      "metadata": {
        "id": "R3A9vaWpjMg3"
      },
      "source": [
        "# with open(\"user_to_input_and_holdout_dicts.json\", \"w\") as outfile:\n",
        "#     json.dump(user_to_dicts, outfile)"
      ],
      "execution_count": null,
      "outputs": []
    },
    {
      "cell_type": "markdown",
      "metadata": {
        "id": "4-yosb0jtd1o"
      },
      "source": [
        "## Baseline Model"
      ]
    },
    {
      "cell_type": "code",
      "metadata": {
        "id": "Rmlrg4RN0hZn"
      },
      "source": [
        "user_to_dicts_file_path = '/content/drive/My Drive/cs229_proj/user_to_input_and_holdout_dicts.json'\n",
        "user_to_dicts = {}\n",
        "with open(user_to_dicts_file_path, 'r') as fh:\n",
        "    user_to_dicts = json.load(fh)"
      ],
      "execution_count": null,
      "outputs": []
    },
    {
      "cell_type": "code",
      "metadata": {
        "colab": {
          "base_uri": "https://localhost:8080/"
        },
        "id": "xngdcBYfpMj0",
        "outputId": "df279da4-71c9-4f16-ff49-a9e1132bf685"
      },
      "source": [
        "print(len(user_to_dicts) / 5227)"
      ],
      "execution_count": null,
      "outputs": [
        {
          "output_type": "stream",
          "name": "stdout",
          "text": [
            "0.845035393150947\n"
          ]
        }
      ]
    },
    {
      "cell_type": "code",
      "metadata": {
        "id": "RwIEhiYkpQlG"
      },
      "source": [
        "movieid_lst = list(movies_full_df['movie_id'].to_list())\n",
        "boxd_avg_lst = list(movies_full_df['boxd_vote_average'].to_list())\n",
        "\n",
        "zipped_lists = zip(boxd_avg_lst, movieid_lst)\n",
        "sorted_pairs = sorted(zipped_lists)\n",
        "\n",
        "tuples = zip(*sorted_pairs)\n",
        "boxd_avg_lst_sorted, movieid_lst_sorted = [ list(tuple) for tuple in  tuples]\n",
        "boxd_avg_lst_sorted = list(reversed(boxd_avg_lst_sorted))\n",
        "movieid_lst_sorted = list(reversed(movieid_lst_sorted))"
      ],
      "execution_count": null,
      "outputs": []
    },
    {
      "cell_type": "code",
      "metadata": {
        "id": "zKmjQKOCpnJz"
      },
      "source": [
        "def get_recommendations_score(input_dict, holdout_dict, movieid_lst):\n",
        "    recommendations = []\n",
        "    holdout_ratings = np.array(list(holdout_dict.values()))\n",
        "    holdout_ratings_chosen = []\n",
        "    for movie_id in movieid_lst:\n",
        "        if movie_id not in input_dict:\n",
        "            if movie_id in holdout_dict:\n",
        "                holdout_ratings_chosen.append(holdout_dict[movie_id])\n",
        "            recommendations.append(movie_id)\n",
        "            if len(recommendations) >= 100: # and len(holdout_ratings_chosen) >= 2:\n",
        "                break\n",
        "    if len(holdout_ratings_chosen) == 0:\n",
        "        return None, None, None\n",
        "    holdout_avg = np.mean(holdout_ratings)\n",
        "    holdout_ratings_chosen = np.array(holdout_ratings_chosen)\n",
        "    return np.mean(holdout_ratings_chosen) - holdout_avg, recommendations, len(holdout_ratings_chosen)"
      ],
      "execution_count": null,
      "outputs": []
    },
    {
      "cell_type": "code",
      "metadata": {
        "id": "hmuNmvHap-Rp"
      },
      "source": [
        "scores = []\n",
        "holdout_counts = []\n",
        "recc_counts = []\n",
        "for user in user_to_dicts:\n",
        "    input_dict, holdout_dict = user_to_dicts[user]\n",
        "    score, reccs, holdout_count = get_recommendations_score(input_dict, holdout_dict, movieid_lst_sorted)\n",
        "    if score is not None:\n",
        "        scores.append(score)\n",
        "        holdout_counts.append(holdout_count)\n",
        "        recc_counts.append(len(reccs))\n",
        "    # print(score)\n",
        "\n",
        "scores = np.array(scores)\n",
        "print(\"Percentage of users that had a hold-out movie in the top 100:\", len(scores) / len(user_to_dicts))\n",
        "\n",
        "print(np.mean(scores)) # Mean of scores for users with at least one hold-out movie\n",
        "print(np.mean(holdout_counts))\n",
        "print(np.mean(recc_counts))"
      ],
      "execution_count": null,
      "outputs": []
    }
  ]
}