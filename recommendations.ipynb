{
  "nbformat": 4,
  "nbformat_minor": 0,
  "metadata": {
    "colab": {
      "name": "recommendations.ipynb",
      "provenance": [],
      "collapsed_sections": []
    },
    "kernelspec": {
      "display_name": "Python 3",
      "name": "python3"
    },
    "language_info": {
      "name": "python"
    }
  },
  "cells": [
    {
      "cell_type": "markdown",
      "metadata": {
        "id": "wxP5yvc9Q4O4"
      },
      "source": [
        "# Strategy of Recommendation\n",
        "* Import Dataset\n",
        "Models:\n",
        "* \"baseline\" —— simply recommend the \n",
        "*\n",
        "\n",
        "Testing:\n",
        "* Have letterboxd dataset of users, movies, and ratings\n",
        "* Could threshold the ratings (assume a user will watch anything over a 7).\n",
        "* Split \"train\" and \"test\""
      ]
    },
    {
      "cell_type": "markdown",
      "metadata": {
        "id": "JM07Mq28XEei"
      },
      "source": [
        "# Importing Dataset"
      ]
    },
    {
      "cell_type": "code",
      "metadata": {
        "colab": {
          "base_uri": "https://localhost:8080/"
        },
        "id": "v4Ar0nv8QZVF",
        "outputId": "4298e40f-5473-4e3c-85b6-69d72797e33e"
      },
      "source": [
        "# this mounts your Google Drive to the Colab VM.\n",
        "from google.colab import drive\n",
        "drive.mount('/content/drive', force_remount=True)\n",
        "\n",
        "\n",
        "FOLDERNAME = 'cs229_proj/'\n",
        "\n",
        "\n",
        "assert FOLDERNAME is not None, \"[!] Enter the foldername.\"\n",
        "\n",
        "# now that we've mounted your Drive, this ensures that\n",
        "# the Python interpreter of the Colab VM can load\n",
        "# python files from within it.\n",
        "import sys\n",
        "sys.path.append('/content/drive/My Drive/{}'.format(FOLDERNAME))\n",
        "\n",
        "%cd drive/My\\ Drive/$FOLDERNAME/"
      ],
      "execution_count": null,
      "outputs": [
        {
          "output_type": "stream",
          "name": "stdout",
          "text": [
            "Mounted at /content/drive\n",
            "/content/drive/.shortcut-targets-by-id/1FYI1gIgILgT31h2y_QMmBZOwkDqTPrg-/cs229_proj\n"
          ]
        }
      ]
    },
    {
      "cell_type": "code",
      "metadata": {
        "id": "IhSNI2sRTbaH"
      },
      "source": [
        "import numpy as np\n",
        "from PIL import Image # for viewing images\n",
        "import os\n",
        "from tqdm import tqdm\n",
        "import matplotlib.pyplot as plt\n",
        "import pandas as pd\n",
        "import time\n",
        "import random\n",
        "from collections import defaultdict\n",
        "\n",
        "import torch\n",
        "from torch.optim import lr_scheduler\n",
        "import torch.nn as nn\n",
        "from poster_dataset import PosterDataset\n",
        "device = \"cuda\" if torch.cuda.is_available() else \"cpu\""
      ],
      "execution_count": null,
      "outputs": []
    },
    {
      "cell_type": "code",
      "metadata": {
        "id": "5fLdON23Tbv1",
        "colab": {
          "base_uri": "https://localhost:8080/",
          "height": 424
        },
        "outputId": "33acf365-c4fa-4077-fa78-9033d4d84fff"
      },
      "source": [
        "movies_full_path = '/content/drive/My Drive/cs229_proj/movies_full.csv'\n",
        "user_ratings_full_path = '/content/drive/My Drive/cs229_proj/user_ratings_full.csv'\n",
        "movies_embeddings_full_path = '/content/drive/My Drive/cs229_proj/movies_embeddings_full.csv'\n",
        "movies_svd_path = '/content/drive/My Drive/cs229_proj/movies_svd_full.csv'\n",
        "\n",
        "movies_full_df = pd.read_csv(movies_full_path)\n",
        "ratings_full_df = pd.read_csv(user_ratings_full_path)\n",
        "movies_embeddings_df = pd.read_csv(movies_embeddings_full_path)\n",
        "movies_svd_df = pd.read_csv(movies_svd_path)\n",
        "\n",
        "ratings_full_df"
      ],
      "execution_count": null,
      "outputs": [
        {
          "output_type": "execute_result",
          "data": {
            "text/html": [
              "<div>\n",
              "<style scoped>\n",
              "    .dataframe tbody tr th:only-of-type {\n",
              "        vertical-align: middle;\n",
              "    }\n",
              "\n",
              "    .dataframe tbody tr th {\n",
              "        vertical-align: top;\n",
              "    }\n",
              "\n",
              "    .dataframe thead th {\n",
              "        text-align: right;\n",
              "    }\n",
              "</style>\n",
              "<table border=\"1\" class=\"dataframe\">\n",
              "  <thead>\n",
              "    <tr style=\"text-align: right;\">\n",
              "      <th></th>\n",
              "      <th>user_id</th>\n",
              "      <th>movie_id</th>\n",
              "      <th>rating_val</th>\n",
              "    </tr>\n",
              "  </thead>\n",
              "  <tbody>\n",
              "    <tr>\n",
              "      <th>0</th>\n",
              "      <td>shawn_stubbs</td>\n",
              "      <td>the-addams-family</td>\n",
              "      <td>9</td>\n",
              "    </tr>\n",
              "    <tr>\n",
              "      <th>1</th>\n",
              "      <td>ramiraff</td>\n",
              "      <td>the-truman-show</td>\n",
              "      <td>9</td>\n",
              "    </tr>\n",
              "    <tr>\n",
              "      <th>2</th>\n",
              "      <td>joshua_toomes</td>\n",
              "      <td>the-bourne-identity-2002</td>\n",
              "      <td>8</td>\n",
              "    </tr>\n",
              "    <tr>\n",
              "      <th>3</th>\n",
              "      <td>henryg9876</td>\n",
              "      <td>up</td>\n",
              "      <td>8</td>\n",
              "    </tr>\n",
              "    <tr>\n",
              "      <th>4</th>\n",
              "      <td>denny_crane</td>\n",
              "      <td>eight-legged-freaks</td>\n",
              "      <td>5</td>\n",
              "    </tr>\n",
              "    <tr>\n",
              "      <th>...</th>\n",
              "      <td>...</td>\n",
              "      <td>...</td>\n",
              "      <td>...</td>\n",
              "    </tr>\n",
              "    <tr>\n",
              "      <th>392546</th>\n",
              "      <td>jdoan</td>\n",
              "      <td>into-the-woods-2014</td>\n",
              "      <td>5</td>\n",
              "    </tr>\n",
              "    <tr>\n",
              "      <th>392547</th>\n",
              "      <td>jdoan</td>\n",
              "      <td>zero-dark-thirty</td>\n",
              "      <td>7</td>\n",
              "    </tr>\n",
              "    <tr>\n",
              "      <th>392548</th>\n",
              "      <td>jdoan</td>\n",
              "      <td>the-big-lebowski</td>\n",
              "      <td>9</td>\n",
              "    </tr>\n",
              "    <tr>\n",
              "      <th>392549</th>\n",
              "      <td>jdoan</td>\n",
              "      <td>aliens</td>\n",
              "      <td>8</td>\n",
              "    </tr>\n",
              "    <tr>\n",
              "      <th>392550</th>\n",
              "      <td>jdoan</td>\n",
              "      <td>boyhood</td>\n",
              "      <td>7</td>\n",
              "    </tr>\n",
              "  </tbody>\n",
              "</table>\n",
              "<p>392551 rows × 3 columns</p>\n",
              "</div>"
            ],
            "text/plain": [
              "              user_id                  movie_id  rating_val\n",
              "0        shawn_stubbs         the-addams-family           9\n",
              "1            ramiraff           the-truman-show           9\n",
              "2       joshua_toomes  the-bourne-identity-2002           8\n",
              "3          henryg9876                        up           8\n",
              "4         denny_crane       eight-legged-freaks           5\n",
              "...               ...                       ...         ...\n",
              "392546          jdoan       into-the-woods-2014           5\n",
              "392547          jdoan          zero-dark-thirty           7\n",
              "392548          jdoan          the-big-lebowski           9\n",
              "392549          jdoan                    aliens           8\n",
              "392550          jdoan                   boyhood           7\n",
              "\n",
              "[392551 rows x 3 columns]"
            ]
          },
          "metadata": {},
          "execution_count": 3
        }
      ]
    },
    {
      "cell_type": "code",
      "metadata": {
        "id": "hA2oqQT-AO0g"
      },
      "source": [
        "users_set = set(ratings_full_df['user_id'].to_list())"
      ],
      "execution_count": null,
      "outputs": []
    },
    {
      "cell_type": "code",
      "metadata": {
        "id": "U0Z0O3F1_cJ2"
      },
      "source": [
        "\n",
        "def get_input_and_holdout(movieid_lst, user_rating_lst, frac=0.8):\n",
        "    n = len(movieid_lst)\n",
        "    n_holdout_goal = int((1 - frac) * n)\n",
        "    avg_rating = np.mean(np.array(user_rating_lst))\n",
        "\n",
        "    all_indices = [*range(n)]\n",
        "\n",
        "    # print(n_holdout_goal, n)\n",
        "    if n <= 20:\n",
        "        # print(\"bruh\")\n",
        "        return None, None\n",
        "\n",
        "    for i in range(1000):\n",
        "        # sample potential holdout movies\n",
        "        cur_indices = random.sample(all_indices, n_holdout_goal)\n",
        "\n",
        "        # get potential holdout movies ratings\n",
        "        holdout_ratings = np.array(user_rating_lst)[cur_indices]\n",
        "       \n",
        "        # such that the holdout movies approximately match the user's average ratings\n",
        "        if abs(np.mean(holdout_ratings) - avg_rating) < 0.5:\n",
        "            # print(len(holdout_ratings) / n, np.mean(holdout_ratings), avg_rating)\n",
        "            input_dict = {}\n",
        "            holdout_dict = {}\n",
        "            for j in range(n):\n",
        "                cur_movieid = movieid_lst[j]\n",
        "                if j in cur_indices:\n",
        "                    holdout_dict[cur_movieid] = user_rating_lst[j]\n",
        "                else:\n",
        "                    input_dict[cur_movieid] = user_rating_lst[j]\n",
        "            # # print(i)\n",
        "            return input_dict, holdout_dict\n",
        "    return None, None\n",
        "    # print(n, avg_rating, user_rating_lst)\n",
        "    # raise Exception(\"You suck. 1000 iterations you IDIOT.\")"
      ],
      "execution_count": null,
      "outputs": []
    },
    {
      "cell_type": "code",
      "metadata": {
        "id": "jv3fl4eC_eCI",
        "colab": {
          "base_uri": "https://localhost:8080/"
        },
        "outputId": "882cafd8-4515-4b5a-eb26-655713c3a29b"
      },
      "source": [
        "\n",
        "count = 0\n",
        "dont_count = 0\n",
        "# new_user_id = None\n",
        "user_to_dicts = {}\n",
        "for user_id in users_set:\n",
        "    count += 1\n",
        "    # if count == 1000: # something less than or equal to 5227\n",
        "    #     new_user_id = user_id\n",
        "    #     break\n",
        "    # print(new_user_id)\n",
        "\n",
        "    # get all of user's movie ratings\n",
        "    user_df = ratings_full_df.loc[ratings_full_df['user_id'] == user_id]\n",
        "    # print(user_df.shape)\n",
        "\n",
        "    # get list of movies user rated\n",
        "    user_movieid = user_df['movie_id'].to_list()\n",
        "\n",
        "    # get list of ratings for said movies\n",
        "    user_ratings = user_df['rating_val'].to_list()\n",
        "\n",
        "    # get a list of movies which are \n",
        "    input_dict, holdout_dict = get_input_and_holdout(user_movieid, user_ratings)\n",
        "\n",
        "    # if holdout is empty, iterate\n",
        "    if input_dict is None:\n",
        "        dont_count += 1\n",
        "    else:\n",
        "        user_to_dicts[user_id] = [input_dict, holdout_dict]\n",
        "    if count % 100 == 0:\n",
        "        print(count, dont_count)\n",
        "    "
      ],
      "execution_count": null,
      "outputs": [
        {
          "output_type": "stream",
          "name": "stdout",
          "text": [
            "100 14\n",
            "200 28\n",
            "300 41\n",
            "400 57\n",
            "500 76\n",
            "600 91\n",
            "700 107\n",
            "800 124\n",
            "900 134\n",
            "1000 151\n",
            "1100 170\n",
            "1200 190\n",
            "1300 206\n",
            "1400 223\n",
            "1500 240\n",
            "1600 258\n",
            "1700 269\n",
            "1800 278\n",
            "1900 293\n",
            "2000 312\n",
            "2100 324\n",
            "2200 339\n",
            "2300 353\n",
            "2400 370\n",
            "2500 385\n",
            "2600 399\n",
            "2700 414\n",
            "2800 431\n",
            "2900 446\n",
            "3000 462\n",
            "3100 477\n",
            "3200 493\n",
            "3300 506\n",
            "3400 525\n",
            "3500 538\n",
            "3600 555\n",
            "3700 573\n",
            "3800 591\n",
            "3900 608\n",
            "4000 622\n",
            "4100 634\n",
            "4200 646\n",
            "4300 666\n",
            "4400 680\n",
            "4500 696\n",
            "4600 710\n",
            "4700 728\n",
            "4800 745\n",
            "4900 766\n",
            "5000 778\n",
            "5100 793\n",
            "5200 810\n"
          ]
        }
      ]
    },
    {
      "cell_type": "code",
      "metadata": {
        "id": "-dKAHEAnAazX",
        "colab": {
          "base_uri": "https://localhost:8080/"
        },
        "outputId": "78e7613c-f637-4499-a899-5df47b0240bc"
      },
      "source": [
        "print(user_to_dicts['reviewsbycaleb'][0])\n",
        "print(user_to_dicts['reviewsbycaleb'][1])\n",
        "keys1 = set(user_to_dicts['reviewsbycaleb'][0].keys())\n",
        "keys2 = set(user_to_dicts['reviewsbycaleb'][1].keys())\n",
        "assert(len(keys1.intersection(keys2)) == 0)"
      ],
      "execution_count": null,
      "outputs": [
        {
          "output_type": "stream",
          "name": "stdout",
          "text": [
            "{'running-scared-2006': 6, 'lord-of-war': 7, 'mad-max-fury-road': 9, 'australia': 5, 'traffic': 6, '2012': 6, 'little-miss-sunshine': 4, 'rescue-dawn': 3, 'before-sunrise': 8, 'pearl-harbor': 7, 'back-to-the-future': 8, 'wall-street': 8, 'harry-potter-and-the-goblet-of-fire': 9, 'la-confidential': 10, 'the-kingdom-2007': 5, 'hugo': 9, 'dallas-buyers-club': 5, 'spaceballs': 8, 'the-chronicles-of-narnia-the-lion-the-witch-and-the-wardrobe': 3, 'this-means-war': 6, 'gone-girl': 6, 'boogie-nights': 7, 'the-imaginarium-of-doctor-parnassus': 6, 'adaptation': 9, 'once-upon-a-time-in-america': 4, 'the-descendants': 8, 'edge-of-tomorrow': 8, 'the-grand-budapest-hotel': 7, 'mission-impossible-ghost-protocol': 6, 'napoleon-dynamite': 8, 'hot-rod': 9, 'oldboy': 10, 'christmas-with-the-kranks': 4, 'harry-potter-and-the-half-blood-prince': 8, 'insidious-chapter-2': 4, 'cars-2': 4, 'baby-mama': 3, 'woman-in-gold': 5, 'spotlight': 10, 'signs': 7, 'groundhog-day': 7, 'the-last-samurai': 7, 'shrek': 7, 'revolutionary-road': 7, 'rise-of-the-planet-of-the-apes': 8, 'reservoir-dogs': 7, 'the-theory-of-everything-2014': 4, 'homefront': 7, 'the-proposal-2009': 6, 'night-at-the-museum-battle-of-the-smithsonian': 5, 'kung-fu-panda-2': 6, 'the-last-stand-2013': 6, 'the-kings-speech': 6, 'furious-7': 4, 'tropic-thunder': 8, 'angels-demons': 6, 'thor': 6, 'the-revenant-2015': 8, 'oceans-eleven-2001': 8, 'the-island-2005': 6, 'wall-street-money-never-sleeps': 7, 'super-troopers': 6, 'pitch-black': 7, 'anchorman-the-legend-of-ron-burgundy': 9, 'the-interpreter': 4, 'true-grit-2010': 8, 'deuce-bigalow-male-gigolo': 2, 'chernobyl-diaries': 3, 'legend-2015': 6, 'about-a-boy': 8, 'disturbia': 8, 'you-dont-mess-with-the-zohan': 5, 'the-cat-in-the-hat-2003': 4, 'theres-something-about-mary': 7, 'children-of-men': 9, 'oblivion-2013': 6, 'equilibrium': 7, 'land-of-the-lost': 5, 'hotel-rwanda': 7, 'secret-window': 7, 'the-dictator-2012': 6, 'spider-man-3': 5, 'amelie': 7, 'a-history-of-violence': 5, 'the-purge': 5, 'the-lincoln-lawyer': 8, 'meet-the-fockers': 4, 'buried': 8, 'pineapple-express': 8, 'knight-and-day': 6, 'warrior': 10, 'the-adjustment-bureau': 3, 'alvin-and-the-chipmunks': 3, 'wanted-2008': 7, 'nacho-libre': 7, 'the-mechanic-2011': 6, 'colombiana': 4}\n",
            "{'drive-2011': 10, 'the-finest-hours-2016': 6, 'the-way-of-the-gun': 8, 'over-the-hedge': 5, 'be-kind-rewind': 7, 'hidalgo': 5, 'moneyball': 9, 'the-untouchables': 5, 'a-serious-man': 6, 'the-santa-clause': 5, 'reign-of-fire': 5, 'pirates-of-the-caribbean-dead-mans-chest': 6, 'hitch-2005': 8, 'the-lives-of-others': 9, 'cop-out': 6, '310-to-yuma-2007': 9, 'step-brothers': 8, 'mr-deeds': 6, 'cellular': 7, 'fight-club': 8, 'philomena': 7, 'what-happens-in-vegas': 6, 'chronicle': 7, 'harry-potter-and-the-chamber-of-secrets': 6}\n"
          ]
        }
      ]
    },
    {
      "cell_type": "markdown",
      "metadata": {
        "id": "E2VZuYu3GNI8"
      },
      "source": [
        "# Baseline"
      ]
    },
    {
      "cell_type": "code",
      "metadata": {
        "id": "00_jUAK089ls"
      },
      "source": [
        "movieid_lst = list(movies_full_df['movie_id'].to_list())\n",
        "boxd_avg_lst = list(movies_full_df['boxd_vote_average'].to_list())"
      ],
      "execution_count": null,
      "outputs": []
    },
    {
      "cell_type": "code",
      "metadata": {
        "id": "Hy4M2FpB-r6n"
      },
      "source": [
        "zipped_lists = zip(boxd_avg_lst, movieid_lst)\n",
        "sorted_pairs = sorted(zipped_lists)\n",
        "\n",
        "tuples = zip(*sorted_pairs)\n",
        "boxd_avg_lst_sorted, movieid_lst_sorted = [ list(tuple) for tuple in  tuples]\n",
        "boxd_avg_lst_sorted = list(reversed(boxd_avg_lst_sorted))\n",
        "movieid_lst_sorted = list(reversed(movieid_lst_sorted))"
      ],
      "execution_count": null,
      "outputs": []
    },
    {
      "cell_type": "code",
      "metadata": {
        "id": "F5A011Ql-uiM"
      },
      "source": [
        "def get_recommendations_score(input_dict, holdout_dict, movieid_lst):\n",
        "    recommendations = []\n",
        "    holdout_ratings = np.array(list(holdout_dict.values()))\n",
        "    holdout_ratings_chosen = []\n",
        "    for movie_id in movieid_lst:\n",
        "        if movie_id not in input_dict:\n",
        "            if movie_id in holdout_dict:\n",
        "                holdout_ratings_chosen.append(holdout_dict[movie_id])\n",
        "            recommendations.append(movie_id)\n",
        "            if len(recommendations) >= 100 and len(holdout_ratings_chosen) >= 4:\n",
        "                break\n",
        "    \n",
        "    if len(holdout_ratings_chosen) == 0:\n",
        "      score = 0\n",
        "      print(\"no recommendations made for this user\")\n",
        "    else:\n",
        "      holdout_avg = np.mean(holdout_ratings)\n",
        "      holdout_ratings_chosen = np.array(holdout_ratings_chosen)\n",
        "      score = np.mean(holdout_ratings_chosen) - holdout_avg\n",
        "    return score, recommendations, len(holdout_ratings_chosen)"
      ],
      "execution_count": null,
      "outputs": []
    },
    {
      "cell_type": "code",
      "metadata": {
        "id": "bk6gpWo9-vW7",
        "colab": {
          "base_uri": "https://localhost:8080/"
        },
        "outputId": "47dc8220-1f71-43f9-d274-1378c2be5c99"
      },
      "source": [
        "scores = []\n",
        "holdout_counts = []\n",
        "recc_counts = []\n",
        "for user in tqdm(user_to_dicts):\n",
        "    input_dict, holdout_dict = user_to_dicts[user]\n",
        "    score, reccs, holdout_count = get_recommendations_score(input_dict, holdout_dict, movieid_lst_sorted)\n",
        "    scores.append(score)\n",
        "    holdout_counts.append(holdout_count)\n",
        "    recc_counts.append(len(reccs))\n",
        "    # print(score)\n",
        "\n",
        "scores = np.array(scores)\n",
        "\n",
        "print(np.mean(scores))\n",
        "print(np.mean(holdout_counts))\n",
        "print(np.mean(recc_counts))"
      ],
      "execution_count": null,
      "outputs": [
        {
          "output_type": "stream",
          "name": "stderr",
          "text": [
            "100%|██████████| 4417/4417 [00:00<00:00, 4824.77it/s]"
          ]
        },
        {
          "output_type": "stream",
          "name": "stdout",
          "text": [
            "1.1910181584506847\n",
            "4.0864840389404575\n",
            "434.6244057052298\n"
          ]
        },
        {
          "output_type": "stream",
          "name": "stderr",
          "text": [
            "\n"
          ]
        }
      ]
    },
    {
      "cell_type": "markdown",
      "metadata": {
        "id": "L7EewgmBGTX9"
      },
      "source": [
        "# KNN \n",
        "aka another way of sorting than just top user ratings"
      ]
    },
    {
      "cell_type": "code",
      "metadata": {
        "colab": {
          "base_uri": "https://localhost:8080/"
        },
        "id": "Pyb1guPjGS_g",
        "outputId": "c5c71af2-0d50-46b7-8713-5d6914c3005d"
      },
      "source": [
        "# design an embedding for each movie\n",
        "def get_movie_embeddings():\n",
        "  # let's start with the stupid one: just return the letterboxd histogram\n",
        "  movie_embedding = np.array(movies_full_df[[str(i) for i in range(1, 11)]])\n",
        "  \n",
        "  # TODO: one-hot code genre, actors?\n",
        "  # https://www.geeksforgeeks.org/ml-one-hot-encoding-of-datasets-in-python/\n",
        "  # https://sparrow.dev/pytorch-one-hot-encoding/\n",
        "\n",
        "  return torch.tensor(movie_embedding).float()\n",
        "\n",
        "E = get_movie_embeddings()\n",
        "print(E.shape)"
      ],
      "execution_count": null,
      "outputs": [
        {
          "output_type": "stream",
          "name": "stdout",
          "text": [
            "torch.Size([2220, 10])\n"
          ]
        }
      ]
    },
    {
      "cell_type": "code",
      "metadata": {
        "id": "R-t3K5s1G1ns"
      },
      "source": [
        "# design a user embedding which weighted averages their movies based on what they like. \n",
        "# something like (E[movies] * weights).mean() where weights = (rating - 5)/10\n",
        "def get_user_embedding(input_dict):\n",
        "  embedding = torch.zeros(E.shape[1])\n",
        "  avg_rating = np.mean(np.array(list(input_dict.values())))\n",
        "  for movie, rating in input_dict.items():\n",
        "    ind = movies_full_df.index[movies_full_df['movie_id'] == movie]\n",
        "    if not len(ind):\n",
        "      print(movie)\n",
        "      continue\n",
        "    else:\n",
        "      ind = ind[0]\n",
        "    embedding += (rating - avg_rating) / 10 * E[ind] \n",
        "  return embedding\n",
        "\n"
      ],
      "execution_count": null,
      "outputs": []
    },
    {
      "cell_type": "code",
      "metadata": {
        "id": "XcYY1tvJ-wU0"
      },
      "source": [
        "def get_recommendations(input_dict):\n",
        "  # KNN operates on the average \n",
        "  liked_movies_embed = get_user_embedding(input_dict)\n",
        "\n",
        "  dists = nn.CosineSimilarity()(liked_movies_embed, E)\n",
        "  knn = dists.topk(2200, largest=True)\n",
        "  return knn\n"
      ],
      "execution_count": null,
      "outputs": []
    },
    {
      "cell_type": "code",
      "metadata": {
        "colab": {
          "base_uri": "https://localhost:8080/"
        },
        "id": "mmqGJ9uzJLS6",
        "outputId": "77aefe4f-013c-4062-d3c8-09047df109ec"
      },
      "source": [
        "scores = []\n",
        "holdout_counts = []\n",
        "recc_counts = []\n",
        "\n",
        "i = 0\n",
        "for user in tqdm(user_to_dicts): \n",
        "  input_dict, holdout_dict = user_to_dicts[user]\n",
        "  knn = get_recommendations(input_dict)\n",
        "  movieid_lst_sorted = list(movies_full_df.iloc[knn.indices.tolist()]['movie_id'].to_list())\n",
        "  # print(movieid_lst_sorted[:10])\n",
        "  score, reccs, holdout_count = get_recommendations_score(input_dict, holdout_dict, movieid_lst_sorted)\n",
        "  scores.append(score)\n",
        "  holdout_counts.append(holdout_count)\n",
        "  recc_counts.append(len(reccs))\n",
        "  if user == 'jdoan':\n",
        "    print(reccs)\n",
        "\n",
        "scores = np.array(scores)\n",
        "\n",
        "print(np.mean(scores))\n",
        "print(np.mean(holdout_counts))\n",
        "print(np.mean(recc_counts))"
      ],
      "execution_count": null,
      "outputs": [
        {
          "output_type": "stream",
          "name": "stderr",
          "text": [
            " 42%|████▏     | 1874/4417 [01:00<01:26, 29.39it/s]"
          ]
        },
        {
          "output_type": "stream",
          "name": "stdout",
          "text": [
            "['the-silence-of-the-lambs', 'inglourious-basterds', 'princess-mononoke', 'howls-moving-castle', 'amadeus', 'the-thing', 'akira', 'a-separation', 'good-will-hunting', 'do-the-right-thing', 'saving-private-ryan', 'the-iron-giant', 'whiplash-2014', 'city-of-god', 'trainspotting', 'dancer-in-the-dark', 'prisoners', 'das-boot', 'the-green-mile', 'amelie', 'blade-runner', 'her', 'the-secret-in-their-eyes', 'malcolm-x-1992', 'interstellar', 'brokeback-mountain', 'there-will-be-blood', 'brazil', 'unforgiven', 'coraline', 'the-lives-of-others', 'the-white-ribbon', 'nine-queens', 'hot-fuzz', 'children-of-heaven', 'evil-dead-ii', 'the-shawshank-redemption', '4-months-3-weeks-and-2-days', 'the-great-beauty', 'the-celebration', 'casino', 'monsters-inc', 'pride-prejudice', 'persepolis', 'little-miss-sunshine', 'american-beauty', 'ed-wood', 'adaptation', 'hedwig-and-the-angry-inch', 'indiana-jones-and-the-last-crusade', 'spirited-away', 'central-station', 'american-history-x', 'room-2015', 'the-thin-red-line', 'cure', 'drive-2011', 'mulan', 'the-return', 'gladiator-2000', 'zodiac', 'buffalo-66', 'the-straight-story', 'the-bridges-of-madison-county', 'la-confidential', 'but-im-a-cheerleader', 'waltz-with-bashir', 'atonement', 'the-tree-of-life-2011', 'the-assassination-of-jesse-james-by-the-coward-robert-ford', 'inside-out-2015', 'scream', 'happiness', '10-things-i-hate-about-you', 'elite-squad', 'about-time', 'the-right-stuff', 'the-blues-brothers', 'ponyo', 'the-perks-of-being-a-wallflower', 'this-is-england', 'american-psycho', '2046', 'saving-face', 'snatch', 'maurice', 'ordinary-people', 'billy-elliot', 'volver', 'boyz-n-the-hood', 'star-trek-ii-the-wrath-of-khan', 'downfall', 'weekend-2011', 'exotica', 'ida', 'rushmore', 'the-triplets-of-belleville', 'my-own-private-idaho', 'the-wrestler', 'the-insider']\n"
          ]
        },
        {
          "output_type": "stream",
          "name": "stderr",
          "text": [
            "100%|██████████| 4417/4417 [02:23<00:00, 30.76it/s]"
          ]
        },
        {
          "output_type": "stream",
          "name": "stdout",
          "text": [
            "1.1915805736723706\n",
            "4.081503282771112\n",
            "445.2796015395065\n"
          ]
        },
        {
          "output_type": "stream",
          "name": "stderr",
          "text": [
            "\n"
          ]
        }
      ]
    },
    {
      "cell_type": "markdown",
      "metadata": {
        "id": "cOqS21gTykOH"
      },
      "source": [
        "# SVD\n",
        "https://analyticsindiamag.com/singular-value-decomposition-svd-application-recommender-system/"
      ]
    },
    {
      "cell_type": "code",
      "metadata": {
        "colab": {
          "base_uri": "https://localhost:8080/",
          "height": 188
        },
        "id": "86j774P__n2R",
        "outputId": "35230abc-ad87-41a4-f327-fd65954fa5ab"
      },
      "source": [
        "movies_full_df[movies_full_df['movie_id'] == 'inception']"
      ],
      "execution_count": null,
      "outputs": [
        {
          "output_type": "execute_result",
          "data": {
            "text/html": [
              "<div>\n",
              "<style scoped>\n",
              "    .dataframe tbody tr th:only-of-type {\n",
              "        vertical-align: middle;\n",
              "    }\n",
              "\n",
              "    .dataframe tbody tr th {\n",
              "        vertical-align: top;\n",
              "    }\n",
              "\n",
              "    .dataframe thead th {\n",
              "        text-align: right;\n",
              "    }\n",
              "</style>\n",
              "<table border=\"1\" class=\"dataframe\">\n",
              "  <thead>\n",
              "    <tr style=\"text-align: right;\">\n",
              "      <th></th>\n",
              "      <th>movie_id</th>\n",
              "      <th>poster_path</th>\n",
              "      <th>title</th>\n",
              "      <th>year</th>\n",
              "      <th>1</th>\n",
              "      <th>2</th>\n",
              "      <th>3</th>\n",
              "      <th>4</th>\n",
              "      <th>5</th>\n",
              "      <th>6</th>\n",
              "      <th>7</th>\n",
              "      <th>8</th>\n",
              "      <th>9</th>\n",
              "      <th>10</th>\n",
              "      <th>tmdb_budget</th>\n",
              "      <th>imdb_budget</th>\n",
              "      <th>tmdb_revenue</th>\n",
              "      <th>imdb_revenue</th>\n",
              "      <th>tmdb_vote_average</th>\n",
              "      <th>tmdb_vote_count</th>\n",
              "      <th>imdb_vote_average</th>\n",
              "      <th>imdb_vote_count</th>\n",
              "      <th>tmdb_popularity</th>\n",
              "      <th>tmdb_runtime</th>\n",
              "      <th>imdb_runtime</th>\n",
              "      <th>main_genre</th>\n",
              "      <th>genres</th>\n",
              "      <th>director</th>\n",
              "      <th>writer</th>\n",
              "      <th>main_actor</th>\n",
              "      <th>mpaa_rating</th>\n",
              "      <th>overview</th>\n",
              "      <th>tagline</th>\n",
              "      <th>keywords</th>\n",
              "      <th>release_date</th>\n",
              "      <th>main_prod_company</th>\n",
              "      <th>production_companies</th>\n",
              "      <th>country</th>\n",
              "      <th>production_countries</th>\n",
              "      <th>original_language</th>\n",
              "      <th>spoken_languages</th>\n",
              "      <th>rt_info</th>\n",
              "      <th>critics_consensus</th>\n",
              "      <th>actors</th>\n",
              "      <th>tm_status</th>\n",
              "      <th>tm_rating</th>\n",
              "      <th>tm_count</th>\n",
              "      <th>audience_status</th>\n",
              "      <th>audience_rating</th>\n",
              "      <th>audience_count</th>\n",
              "      <th>tm_top_critics_count</th>\n",
              "      <th>tm_fresh_critics_count</th>\n",
              "      <th>tm_rotten_critics_count</th>\n",
              "      <th>ebert_rating</th>\n",
              "      <th>boxd_vote_average</th>\n",
              "    </tr>\n",
              "  </thead>\n",
              "  <tbody>\n",
              "    <tr>\n",
              "      <th>1</th>\n",
              "      <td>inception</td>\n",
              "      <td>1</td>\n",
              "      <td>Inception</td>\n",
              "      <td>2010</td>\n",
              "      <td>1250</td>\n",
              "      <td>3550</td>\n",
              "      <td>2063</td>\n",
              "      <td>13735</td>\n",
              "      <td>11410</td>\n",
              "      <td>71166</td>\n",
              "      <td>69034</td>\n",
              "      <td>232098</td>\n",
              "      <td>117643</td>\n",
              "      <td>245070</td>\n",
              "      <td>160000000.0</td>\n",
              "      <td>160000000.0</td>\n",
              "      <td>825532764.0</td>\n",
              "      <td>836836967.0</td>\n",
              "      <td>8.1</td>\n",
              "      <td>13752.0</td>\n",
              "      <td>8.8</td>\n",
              "      <td>2100000.0</td>\n",
              "      <td>167.58371</td>\n",
              "      <td>148.0</td>\n",
              "      <td>148.0</td>\n",
              "      <td>Action</td>\n",
              "      <td>[\"Action\", \"Thriller\", \"Science Fiction\", \"Mys...</td>\n",
              "      <td>Christopher Nolan</td>\n",
              "      <td>Christopher Nolan</td>\n",
              "      <td>Leonardo DiCaprio</td>\n",
              "      <td>PG-13</td>\n",
              "      <td>Cobb, a skilled thief who commits corporate es...</td>\n",
              "      <td>Your mind is the scene of the crime.</td>\n",
              "      <td>[\"loss of lover\", \"dream\", \"kidnapping\", \"slee...</td>\n",
              "      <td>2010-07-14</td>\n",
              "      <td>Warner Bros.</td>\n",
              "      <td>[\"Legendary Pictures\", \"Warner Bros.\", \"Syncopy\"]</td>\n",
              "      <td>United States</td>\n",
              "      <td>[\"United Kingdom\", \"United States of America\"]</td>\n",
              "      <td>en</td>\n",
              "      <td>[\"English\", \"\\u65e5\\u672c\\u8a9e\", \"Fran\\u00e7a...</td>\n",
              "      <td>Dom Cobb (Leonardo DiCaprio) is a thief with t...</td>\n",
              "      <td>Smart, innovative, and thrilling, Inception is...</td>\n",
              "      <td>Leonardo DiCaprio, Ken Watanabe, Joseph Gordon...</td>\n",
              "      <td>Certified-Fresh</td>\n",
              "      <td>87.0</td>\n",
              "      <td>357.0</td>\n",
              "      <td>Upright</td>\n",
              "      <td>91.0</td>\n",
              "      <td>571078.0</td>\n",
              "      <td>65.0</td>\n",
              "      <td>310.0</td>\n",
              "      <td>47.0</td>\n",
              "      <td>4.0</td>\n",
              "      <td>8.347947</td>\n",
              "    </tr>\n",
              "  </tbody>\n",
              "</table>\n",
              "</div>"
            ],
            "text/plain": [
              "    movie_id  poster_path  ... ebert_rating  boxd_vote_average\n",
              "1  inception            1  ...          4.0           8.347947\n",
              "\n",
              "[1 rows x 55 columns]"
            ]
          },
          "metadata": {},
          "execution_count": 28
        }
      ]
    },
    {
      "cell_type": "code",
      "metadata": {
        "colab": {
          "base_uri": "https://localhost:8080/"
        },
        "id": "sFdVnucdL0bx",
        "outputId": "251c5389-3948-483f-a77a-3eced2075bca"
      },
      "source": [
        "# create user-movie affinity matrix\n",
        "# convert each user and movie to an index\n",
        "# not vectorized. sorry\n",
        "users_list = list(set(ratings_full_df['user_id'].to_list()))\n",
        "user_to_ind = {user_id : i for i, user_id in enumerate(users_list)}\n",
        "movie_list = list(set(ratings_full_df['movie_id'].to_list()))\n",
        "movie_id_to_ind = {movie_id : i for i, movie_id in enumerate(movie_list)}\n",
        "\n",
        "ratings_mat = np.zeros(\n",
        "    shape = (len(user_to_ind),len(movie_id_to_ind)))\n",
        "\n",
        "for i, movie_id in tqdm(enumerate(movie_list)):\n",
        "    ratings_mat[:, i] += float(movies_full_df[movies_full_df['movie_id'] == movie_id]['boxd_vote_average'])\n",
        "\n",
        "for index, row in tqdm(ratings_full_df.iterrows()):\n",
        "    ratings_mat[user_to_ind[row['user_id']], movie_id_to_ind[row['movie_id']]] = row['rating_val']\n",
        "\n",
        "\n",
        "# for index, row in tqdm(ratings_full_df.iterrows()):\n",
        "#     rec = 1 if row['rating_val'] >= 6 else 0\n",
        "#     ratings_mat[user_to_ind[row['user_id']], movie_id_to_ind[row['movie_id']]] = rec\n",
        "  \n",
        "\n",
        "\n"
      ],
      "execution_count": null,
      "outputs": [
        {
          "output_type": "stream",
          "name": "stderr",
          "text": [
            "2220it [00:02, 1010.60it/s]\n",
            "392551it [00:51, 7653.33it/s]\n"
          ]
        }
      ]
    },
    {
      "cell_type": "code",
      "metadata": {
        "colab": {
          "base_uri": "https://localhost:8080/"
        },
        "id": "bo10vLOt8FZw",
        "outputId": "84cf8b56-ab49-46ed-d564-293c630aff86"
      },
      "source": [
        "print(ratings_mat.shape)\n",
        "ratings_mat"
      ],
      "execution_count": null,
      "outputs": [
        {
          "output_type": "stream",
          "name": "stdout",
          "text": [
            "(5227, 2220)\n"
          ]
        },
        {
          "output_type": "execute_result",
          "data": {
            "text/plain": [
              "array([[6.98415493, 6.59958205, 5.38530302, ..., 6.61188908, 7.04917449,\n",
              "        5.84376341],\n",
              "       [6.98415493, 6.59958205, 5.38530302, ..., 6.61188908, 7.04917449,\n",
              "        5.84376341],\n",
              "       [6.98415493, 6.59958205, 5.38530302, ..., 6.61188908, 7.04917449,\n",
              "        5.84376341],\n",
              "       ...,\n",
              "       [6.98415493, 6.59958205, 5.38530302, ..., 6.61188908, 7.04917449,\n",
              "        5.84376341],\n",
              "       [8.        , 6.59958205, 5.38530302, ..., 6.61188908, 7.04917449,\n",
              "        5.84376341],\n",
              "       [6.98415493, 6.59958205, 5.38530302, ..., 6.61188908, 7.04917449,\n",
              "        5.84376341]])"
            ]
          },
          "metadata": {},
          "execution_count": 36
        }
      ]
    },
    {
      "cell_type": "code",
      "metadata": {
        "id": "nyS-4GOm3c2e"
      },
      "source": [
        "U, S, V = np.linalg.svd(ratings_mat)\n",
        "# U should represent the matrix of user embeddings,\n",
        "# V.T the matrix of movie embeddings"
      ],
      "execution_count": null,
      "outputs": []
    },
    {
      "cell_type": "code",
      "metadata": {
        "colab": {
          "base_uri": "https://localhost:8080/",
          "height": 300
        },
        "id": "G8i7QBYd5pmF",
        "outputId": "e40355f2-60ad-4289-d718-fdea4d097fe9"
      },
      "source": [
        "plt.plot(range(40), [S[i] for i in range(40)])\n",
        "print(sum(S[:750]) / sum(S)) # 60% of variation!\n",
        "print(U.shape, V.shape)\n",
        "\n",
        "U_reduced = U[:, :750]\n",
        "V_reduced = V[:750, :]"
      ],
      "execution_count": null,
      "outputs": [
        {
          "output_type": "stream",
          "name": "stdout",
          "text": [
            "0.7268184316848624\n",
            "(5227, 5227) (2220, 2220)\n"
          ]
        },
        {
          "output_type": "display_data",
          "data": {
            "image/png": "[encoded data removed]",
            "text/plain": [
              "<Figure size 432x288 with 1 Axes>"
            ]
          },
          "metadata": {
            "needs_background": "light"
          }
        }
      ]
    },
    {
      "cell_type": "code",
      "metadata": {
        "colab": {
          "base_uri": "https://localhost:8080/"
        },
        "id": "bwdfbsn5BDm1",
        "outputId": "80d3cc1b-8f4c-4d6d-f851-de2c0a144e65"
      },
      "source": [
        "# test for jesse's account\n",
        "user = 'jdoan'\n",
        "dists = nn.CosineSimilarity()(torch.tensor(U_reduced[user_to_ind[user]]), torch.tensor(V_reduced.T))\n",
        "knn = dists.topk(2000, largest=True)\n",
        "movieid_lst_sorted = [movie_list[i] for i in knn.indices]\n",
        "movieid_lst_sorted[:100]"
      ],
      "execution_count": null,
      "outputs": [
        {
          "output_type": "execute_result",
          "data": {
            "text/plain": [
              "['the-ghost-writer',\n",
              " 'a-serious-man',\n",
              " 'the-hunt-2012',\n",
              " 'burn-after-reading',\n",
              " 'collateral',\n",
              " 'being-john-malkovich',\n",
              " 'american-psycho',\n",
              " 'die-hard',\n",
              " 'anomalisa',\n",
              " 'drag-me-to-hell',\n",
              " 'sin-city',\n",
              " 'the-incredibles',\n",
              " 'memento',\n",
              " 'black-swan',\n",
              " 'back-to-the-future',\n",
              " 'schindlers-list',\n",
              " 'boogie-nights',\n",
              " 'pans-labyrinth',\n",
              " 'requiem-for-a-dream',\n",
              " 'the-lord-of-the-rings-the-return-of-the-king',\n",
              " 'the-best-offer',\n",
              " 'road-trip',\n",
              " 'enter-the-void',\n",
              " 'the-worlds-end',\n",
              " 'the-social-network',\n",
              " 'the-lord-of-the-rings-the-fellowship-of-the-ring',\n",
              " 'the-lord-of-the-rings-the-two-towers',\n",
              " 'the-ladykillers-2004-6',\n",
              " 'on-flux-2005',\n",
              " 'et-the-extra-terrestrial',\n",
              " 'once-upon-a-time-in-america',\n",
              " 'eternal-sunshine-of-the-spotless-mind',\n",
              " 'charlie-wilsons-war',\n",
              " 'the-thing',\n",
              " 'speed',\n",
              " 'the-diving-bell-and-the-butterfly',\n",
              " 'we-were-soldiers',\n",
              " 'horrible-bosses-2',\n",
              " 'oldboy',\n",
              " 'sex-and-the-city-2',\n",
              " 'pan-2015',\n",
              " 'wimbledon',\n",
              " 'team-america-world-police',\n",
              " 'there-will-be-blood',\n",
              " 'no-country-for-old-men',\n",
              " 'x-men-days-of-future-past',\n",
              " 'the-lion-king',\n",
              " 'red-riding-hood-2011',\n",
              " 'red-cliff',\n",
              " 'kangaroo-jack',\n",
              " 'breakdown',\n",
              " 'despicable-me-2',\n",
              " 'amour',\n",
              " 'ride-along',\n",
              " 'scarface-1983',\n",
              " 'rush-hour-2',\n",
              " 'unbroken',\n",
              " 'the-stepford-wives-2004',\n",
              " 'toy-story-2',\n",
              " 'the-sisterhood-of-the-traveling-pants-2',\n",
              " 'the-shining',\n",
              " 'scary-movie-4',\n",
              " 'green-zone',\n",
              " 'air-force-one',\n",
              " 'men-in-black-ii',\n",
              " 'behind-enemy-lines-2001',\n",
              " 'the-proposal-2009',\n",
              " 'transformers',\n",
              " 'the-queen-2006',\n",
              " 'letters-from-iwo-jima',\n",
              " 'payback',\n",
              " 'the-number-23',\n",
              " 'trance',\n",
              " 'home-alone',\n",
              " 'a-walk-among-the-tombstones',\n",
              " 'american-beauty',\n",
              " 'the-book-of-life-2014',\n",
              " 'downfall',\n",
              " 'beverly-hills-cop',\n",
              " 'money-monster',\n",
              " 'the-kids-are-all-right',\n",
              " 'the-master-2012',\n",
              " 'the-collection',\n",
              " 'sahara-2005',\n",
              " 'another-earth',\n",
              " 'the-cable-guy',\n",
              " 'control-2007',\n",
              " 'son-of-the-mask',\n",
              " 'the-legend-of-zorro',\n",
              " 'waitress',\n",
              " 'a-walk-to-remember',\n",
              " 'the-sixth-sense',\n",
              " 'layer-cake',\n",
              " 'ride-along-2',\n",
              " 'white-house-down',\n",
              " 'jack-the-giant-slayer',\n",
              " 'catwoman',\n",
              " 'a-nightmare-on-elm-street-4-the-dream-master',\n",
              " 'into-the-storm-2014',\n",
              " 'the-iron-giant']"
            ]
          },
          "metadata": {},
          "execution_count": 46
        }
      ]
    },
    {
      "cell_type": "code",
      "metadata": {
        "colab": {
          "base_uri": "https://localhost:8080/"
        },
        "id": "ohsk_4n-36IX",
        "outputId": "697ce8a2-129a-4b55-c2b1-c8dd00435017"
      },
      "source": [
        "scores = []\n",
        "holdout_counts = []\n",
        "recc_counts = []\n",
        "for user in tqdm(user_to_dicts):\n",
        "    input_dict, holdout_dict = user_to_dicts[user]\n",
        "    dists = nn.CosineSimilarity()(torch.tensor(U_reduced[user_to_ind[user]]), torch.tensor(V_reduced.T))\n",
        "    knn = dists.topk(2000, largest=True)\n",
        "    movieid_lst_sorted = [movie_list[i] for i in knn.indices]\n",
        "    score, reccs, holdout_count = get_recommendations_score(input_dict, holdout_dict, movieid_lst_sorted)\n",
        "    scores.append(score)\n",
        "    holdout_counts.append(holdout_count)\n",
        "    recc_counts.append(len(reccs))\n",
        "    # print(score)\n",
        "\n",
        "scores = np.array(scores)\n",
        "\n",
        "print(np.mean(scores))\n",
        "print(np.mean(holdout_counts))\n",
        "print(np.mean(recc_counts))"
      ],
      "execution_count": null,
      "outputs": [
        {
          "output_type": "stream",
          "name": "stderr",
          "text": [
            "  2%|▏         | 100/4417 [00:02<01:52, 38.46it/s]"
          ]
        },
        {
          "output_type": "stream",
          "name": "stdout",
          "text": [
            "no recommendations made for this user\n"
          ]
        },
        {
          "output_type": "stream",
          "name": "stderr",
          "text": [
            "  6%|▋         | 280/4417 [00:07<01:49, 37.86it/s]"
          ]
        },
        {
          "output_type": "stream",
          "name": "stdout",
          "text": [
            "no recommendations made for this user\n"
          ]
        },
        {
          "output_type": "stream",
          "name": "stderr",
          "text": [
            "  8%|▊         | 362/4417 [00:09<01:45, 38.59it/s]"
          ]
        },
        {
          "output_type": "stream",
          "name": "stdout",
          "text": [
            "no recommendations made for this user\n"
          ]
        },
        {
          "output_type": "stream",
          "name": "stderr",
          "text": [
            " 11%|█         | 466/4417 [00:12<01:42, 38.45it/s]"
          ]
        },
        {
          "output_type": "stream",
          "name": "stdout",
          "text": [
            "no recommendations made for this user\n"
          ]
        },
        {
          "output_type": "stream",
          "name": "stderr",
          "text": [
            " 16%|█▌        | 706/4417 [00:18<01:40, 36.89it/s]"
          ]
        },
        {
          "output_type": "stream",
          "name": "stdout",
          "text": [
            "no recommendations made for this user\n"
          ]
        },
        {
          "output_type": "stream",
          "name": "stderr",
          "text": [
            " 16%|█▋        | 718/4417 [00:19<01:37, 37.88it/s]"
          ]
        },
        {
          "output_type": "stream",
          "name": "stdout",
          "text": [
            "no recommendations made for this user\n"
          ]
        },
        {
          "output_type": "stream",
          "name": "stderr",
          "text": [
            " 28%|██▊       | 1236/4417 [00:33<01:23, 38.04it/s]"
          ]
        },
        {
          "output_type": "stream",
          "name": "stdout",
          "text": [
            "no recommendations made for this user\n"
          ]
        },
        {
          "output_type": "stream",
          "name": "stderr",
          "text": [
            " 34%|███▍      | 1512/4417 [00:40<01:16, 38.00it/s]"
          ]
        },
        {
          "output_type": "stream",
          "name": "stdout",
          "text": [
            "no recommendations made for this user\n"
          ]
        },
        {
          "output_type": "stream",
          "name": "stderr",
          "text": [
            " 38%|███▊      | 1697/4417 [00:45<01:09, 39.14it/s]"
          ]
        },
        {
          "output_type": "stream",
          "name": "stdout",
          "text": [
            "no recommendations made for this user\n"
          ]
        },
        {
          "output_type": "stream",
          "name": "stderr",
          "text": [
            " 41%|████      | 1821/4417 [00:48<01:13, 35.34it/s]"
          ]
        },
        {
          "output_type": "stream",
          "name": "stdout",
          "text": [
            "no recommendations made for this user\n"
          ]
        },
        {
          "output_type": "stream",
          "name": "stderr",
          "text": [
            " 44%|████▍     | 1963/4417 [00:52<01:03, 38.61it/s]"
          ]
        },
        {
          "output_type": "stream",
          "name": "stdout",
          "text": [
            "no recommendations made for this user\n"
          ]
        },
        {
          "output_type": "stream",
          "name": "stderr",
          "text": [
            " 54%|█████▍    | 2395/4417 [01:04<00:52, 38.58it/s]"
          ]
        },
        {
          "output_type": "stream",
          "name": "stdout",
          "text": [
            "no recommendations made for this user\n"
          ]
        },
        {
          "output_type": "stream",
          "name": "stderr",
          "text": [
            " 54%|█████▍    | 2403/4417 [01:04<00:52, 38.20it/s]"
          ]
        },
        {
          "output_type": "stream",
          "name": "stdout",
          "text": [
            "no recommendations made for this user\n"
          ]
        },
        {
          "output_type": "stream",
          "name": "stderr",
          "text": [
            " 55%|█████▍    | 2415/4417 [01:04<00:53, 37.74it/s]"
          ]
        },
        {
          "output_type": "stream",
          "name": "stdout",
          "text": [
            "no recommendations made for this user\n"
          ]
        },
        {
          "output_type": "stream",
          "name": "stderr",
          "text": [
            " 61%|██████    | 2679/4417 [01:11<00:45, 38.58it/s]"
          ]
        },
        {
          "output_type": "stream",
          "name": "stdout",
          "text": [
            "no recommendations made for this user\n"
          ]
        },
        {
          "output_type": "stream",
          "name": "stderr",
          "text": [
            " 61%|██████▏   | 2707/4417 [01:12<00:45, 37.56it/s]"
          ]
        },
        {
          "output_type": "stream",
          "name": "stdout",
          "text": [
            "no recommendations made for this user\n"
          ]
        },
        {
          "output_type": "stream",
          "name": "stderr",
          "text": [
            " 69%|██████▊   | 3032/4417 [01:21<00:37, 37.15it/s]"
          ]
        },
        {
          "output_type": "stream",
          "name": "stdout",
          "text": [
            "no recommendations made for this user\n"
          ]
        },
        {
          "output_type": "stream",
          "name": "stderr",
          "text": [
            " 71%|███████   | 3132/4417 [01:23<00:35, 36.68it/s]"
          ]
        },
        {
          "output_type": "stream",
          "name": "stdout",
          "text": [
            "no recommendations made for this user\n",
            "no recommendations made for this user\n"
          ]
        },
        {
          "output_type": "stream",
          "name": "stderr",
          "text": [
            " 77%|███████▋  | 3388/4417 [01:30<00:27, 37.91it/s]"
          ]
        },
        {
          "output_type": "stream",
          "name": "stdout",
          "text": [
            "no recommendations made for this user\n"
          ]
        },
        {
          "output_type": "stream",
          "name": "stderr",
          "text": [
            " 84%|████████▍ | 3705/4417 [01:39<00:19, 37.12it/s]"
          ]
        },
        {
          "output_type": "stream",
          "name": "stdout",
          "text": [
            "no recommendations made for this user\n"
          ]
        },
        {
          "output_type": "stream",
          "name": "stderr",
          "text": [
            " 85%|████████▍ | 3735/4417 [01:40<00:17, 38.90it/s]"
          ]
        },
        {
          "output_type": "stream",
          "name": "stdout",
          "text": [
            "no recommendations made for this user\n"
          ]
        },
        {
          "output_type": "stream",
          "name": "stderr",
          "text": [
            " 89%|████████▉ | 3952/4417 [01:45<00:12, 38.70it/s]"
          ]
        },
        {
          "output_type": "stream",
          "name": "stdout",
          "text": [
            "no recommendations made for this user\n"
          ]
        },
        {
          "output_type": "stream",
          "name": "stderr",
          "text": [
            " 92%|█████████▏| 4085/4417 [01:49<00:09, 35.62it/s]"
          ]
        },
        {
          "output_type": "stream",
          "name": "stdout",
          "text": [
            "no recommendations made for this user\n"
          ]
        },
        {
          "output_type": "stream",
          "name": "stderr",
          "text": [
            " 94%|█████████▍| 4162/4417 [01:51<00:06, 37.09it/s]"
          ]
        },
        {
          "output_type": "stream",
          "name": "stdout",
          "text": [
            "no recommendations made for this user\n"
          ]
        },
        {
          "output_type": "stream",
          "name": "stderr",
          "text": [
            "100%|██████████| 4417/4417 [01:58<00:00, 37.41it/s]"
          ]
        },
        {
          "output_type": "stream",
          "name": "stdout",
          "text": [
            "1.443118018633193\n",
            "6.621236133122029\n",
            "537.7602445098483\n"
          ]
        },
        {
          "output_type": "stream",
          "name": "stderr",
          "text": [
            "\n"
          ]
        }
      ]
    },
    {
      "cell_type": "code",
      "metadata": {
        "colab": {
          "base_uri": "https://localhost:8080/"
        },
        "id": "S7WIpSB65Nvi",
        "outputId": "cb381be8-4d2d-48b3-a391-c52f5f4a3dfb"
      },
      "source": [
        "!pip install surprise"
      ],
      "execution_count": null,
      "outputs": [
        {
          "output_type": "stream",
          "name": "stdout",
          "text": [
            "Collecting surprise\n",
            "  Downloading surprise-0.1-py2.py3-none-any.whl (1.8 kB)\n",
            "Collecting scikit-surprise\n",
            "  Downloading scikit-surprise-1.1.1.tar.gz (11.8 MB)\n",
            "\u001b[K     |████████████████████████████████| 11.8 MB 1.0 MB/s \n",
            "\u001b[?25hRequirement already satisfied: joblib>=0.11 in /usr/local/lib/python3.7/dist-packages (from scikit-surprise->surprise) (1.1.0)\n",
            "Requirement already satisfied: numpy>=1.11.2 in /usr/local/lib/python3.7/dist-packages (from scikit-surprise->surprise) (1.19.5)\n",
            "Requirement already satisfied: scipy>=1.0.0 in /usr/local/lib/python3.7/dist-packages (from scikit-surprise->surprise) (1.4.1)\n",
            "Requirement already satisfied: six>=1.10.0 in /usr/local/lib/python3.7/dist-packages (from scikit-surprise->surprise) (1.15.0)\n",
            "Building wheels for collected packages: scikit-surprise\n",
            "  Building wheel for scikit-surprise (setup.py) ... \u001b[?25l\u001b[?25hdone\n",
            "  Created wheel for scikit-surprise: filename=scikit_surprise-1.1.1-cp37-cp37m-linux_x86_64.whl size=1619420 sha256=444a4bd7a8386d1689155d2bb930fd964d35f0c955e89796b031f477bce0e335\n",
            "  Stored in directory: /root/.cache/pip/wheels/76/44/74/b498c42be47b2406bd27994e16c5188e337c657025ab400c1c\n",
            "Successfully built scikit-surprise\n",
            "Installing collected packages: scikit-surprise, surprise\n",
            "Successfully installed scikit-surprise-1.1.1 surprise-0.1\n"
          ]
        }
      ]
    },
    {
      "cell_type": "code",
      "metadata": {
        "id": "5iyvJlluobiK",
        "colab": {
          "base_uri": "https://localhost:8080/"
        },
        "outputId": "7c44be22-c820-4580-92c5-80b7f180f5f0"
      },
      "source": [
        "from surprise import SVD\n",
        "from surprise import Dataset\n",
        "from surprise import accuracy\n",
        "from surprise.model_selection import train_test_split\n",
        "\n",
        "\n",
        "# Load the movielens-100k dataset (download it if needed),\n",
        "data = Dataset.load_builtin('ml-100k')\n",
        "\n",
        "# sample random trainset and testset\n",
        "# test set is made of 25% of the ratings.\n",
        "trainset, testset = train_test_split(data, test_size=.25)\n",
        "\n",
        "# We'll use the famous SVD algorithm.\n",
        "algo = SVD()\n",
        "\n",
        "# Train the algorithm on the trainset, and predict ratings for the testset\n",
        "algo.fit(trainset)\n"
      ],
      "execution_count": null,
      "outputs": [
        {
          "output_type": "stream",
          "name": "stdout",
          "text": [
            "RMSE: 0.9376\n"
          ]
        },
        {
          "output_type": "execute_result",
          "data": {
            "text/plain": [
              "0.9376095390019544"
            ]
          },
          "metadata": {},
          "execution_count": 56
        }
      ]
    },
    {
      "cell_type": "code",
      "metadata": {
        "id": "ikFC2kDKDF-4"
      },
      "source": [
        ""
      ],
      "execution_count": null,
      "outputs": []
    }
  ]
}