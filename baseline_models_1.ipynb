{
  "nbformat": 4,
  "nbformat_minor": 0,
  "metadata": {
    "colab": {
      "name": "baseline_models_1.ipynb",
      "provenance": [],
      "collapsed_sections": [
        "e6NKucoOZIUL",
        "Ep0kH1OOZKx6",
        "ZVeCw4XTZZDN",
        "8v-joOV5Zkkh"
      ]
    },
    "kernelspec": {
      "name": "python3",
      "display_name": "Python 3"
    },
    "language_info": {
      "name": "python"
    }
  },
  "cells": [
    {
      "cell_type": "markdown",
      "metadata": {
        "id": "mdEu0P9zuyqR"
      },
      "source": [
        "# Setup"
      ]
    },
    {
      "cell_type": "code",
      "metadata": {
        "colab": {
          "base_uri": "https://localhost:8080/"
        },
        "id": "zTGoh-HMY6GL",
        "outputId": "56a5eadb-1ba7-4fed-b5fe-afa6e25feff1"
      },
      "source": [
        "# this mounts your Google Drive to the Colab VM.\n",
        "from google.colab import drive\n",
        "drive.mount('/content/drive', force_remount=True)\n",
        "\n",
        "\n",
        "FOLDERNAME = 'cs229_proj/'\n",
        "\n",
        "\n",
        "assert FOLDERNAME is not None, \"[!] Enter the foldername.\"\n",
        "\n",
        "# now that we've mounted your Drive, this ensures that\n",
        "# the Python interpreter of the Colab VM can load\n",
        "# python files from within it.\n",
        "import sys\n",
        "sys.path.append('/content/drive/My Drive/{}'.format(FOLDERNAME))\n",
        "\n",
        "%cd drive/My\\ Drive/$FOLDERNAME/"
      ],
      "execution_count": null,
      "outputs": [
        {
          "output_type": "stream",
          "name": "stdout",
          "text": [
            "Mounted at /content/drive\n",
            "/content/drive/My Drive/cs229_proj\n"
          ]
        }
      ]
    },
    {
      "cell_type": "code",
      "metadata": {
        "id": "M0jdgSEUY-oR"
      },
      "source": [
        "!pwd\n",
        "!ls"
      ],
      "execution_count": null,
      "outputs": []
    },
    {
      "cell_type": "code",
      "metadata": {
        "id": "PqnsJQB3Y_zi"
      },
      "source": [
        "from IPython.display import Image\n",
        "import json\n",
        "import random\n",
        "import matplotlib.pyplot as plt\n",
        "import pandas as pd\n",
        "import numpy as np\n",
        "import math\n",
        "\n",
        "import torch\n",
        "from torch import nn"
      ],
      "execution_count": null,
      "outputs": []
    },
    {
      "cell_type": "markdown",
      "metadata": {
        "id": "e6NKucoOZIUL"
      },
      "source": [
        "# Helper Functions"
      ]
    },
    {
      "cell_type": "code",
      "metadata": {
        "id": "RzsFP20HZDuR"
      },
      "source": [
        "# Uses folder and movie_id to create path where image can be found and displayed\n",
        "\n",
        "def get_poster_path(movie_id, movie_data):\n",
        "    folder_num = str(movie_data[3]) + \"/\"\n",
        "    img_name = movie_id + '.jpg'\n",
        "    return '/content/drive/My Drive/cs229_proj/letterboxd_posters/' + folder_num + img_name"
      ],
      "execution_count": null,
      "outputs": []
    },
    {
      "cell_type": "markdown",
      "metadata": {
        "id": "Ep0kH1OOZKx6"
      },
      "source": [
        "# Load Files"
      ]
    },
    {
      "cell_type": "markdown",
      "metadata": {
        "id": "YfjahjgSv8pT"
      },
      "source": [
        "## CSV files"
      ]
    },
    {
      "cell_type": "code",
      "metadata": {
        "id": "EFIwGhrEZJ5g"
      },
      "source": [
        "movies_full_path = '/content/drive/My Drive/cs229_proj/movies_full.csv'\n",
        "user_ratings_full_path = '/content/drive/My Drive/cs229_proj/user_ratings_full.csv'\n",
        "movies_full_df = pd.read_csv(movies_full_path)\n",
        "ratings_full_df = pd.read_csv(user_ratings_full_path)"
      ],
      "execution_count": null,
      "outputs": []
    },
    {
      "cell_type": "code",
      "metadata": {
        "colab": {
          "base_uri": "https://localhost:8080/",
          "height": 1000
        },
        "id": "CCKp7REEZOLi",
        "outputId": "635872a5-532f-42fd-c3de-346810b7d2c0"
      },
      "source": [
        "movies_full_df"
      ],
      "execution_count": null,
      "outputs": [
        {
          "output_type": "execute_result",
          "data": {
            "text/html": [
              "<div>\n",
              "<style scoped>\n",
              "    .dataframe tbody tr th:only-of-type {\n",
              "        vertical-align: middle;\n",
              "    }\n",
              "\n",
              "    .dataframe tbody tr th {\n",
              "        vertical-align: top;\n",
              "    }\n",
              "\n",
              "    .dataframe thead th {\n",
              "        text-align: right;\n",
              "    }\n",
              "</style>\n",
              "<table border=\"1\" class=\"dataframe\">\n",
              "  <thead>\n",
              "    <tr style=\"text-align: right;\">\n",
              "      <th></th>\n",
              "      <th>movie_id</th>\n",
              "      <th>poster_path</th>\n",
              "      <th>title</th>\n",
              "      <th>year</th>\n",
              "      <th>1</th>\n",
              "      <th>2</th>\n",
              "      <th>3</th>\n",
              "      <th>4</th>\n",
              "      <th>5</th>\n",
              "      <th>6</th>\n",
              "      <th>7</th>\n",
              "      <th>8</th>\n",
              "      <th>9</th>\n",
              "      <th>10</th>\n",
              "      <th>tmdb_budget</th>\n",
              "      <th>imdb_budget</th>\n",
              "      <th>tmdb_revenue</th>\n",
              "      <th>imdb_revenue</th>\n",
              "      <th>tmdb_vote_average</th>\n",
              "      <th>tmdb_vote_count</th>\n",
              "      <th>imdb_vote_average</th>\n",
              "      <th>imdb_vote_count</th>\n",
              "      <th>tmdb_popularity</th>\n",
              "      <th>tmdb_runtime</th>\n",
              "      <th>imdb_runtime</th>\n",
              "      <th>main_genre</th>\n",
              "      <th>genres</th>\n",
              "      <th>director</th>\n",
              "      <th>writer</th>\n",
              "      <th>main_actor</th>\n",
              "      <th>mpaa_rating</th>\n",
              "      <th>overview</th>\n",
              "      <th>tagline</th>\n",
              "      <th>keywords</th>\n",
              "      <th>release_date</th>\n",
              "      <th>main_prod_company</th>\n",
              "      <th>production_companies</th>\n",
              "      <th>country</th>\n",
              "      <th>production_countries</th>\n",
              "      <th>original_language</th>\n",
              "      <th>spoken_languages</th>\n",
              "      <th>rt_info</th>\n",
              "      <th>critics_consensus</th>\n",
              "      <th>actors</th>\n",
              "      <th>tm_status</th>\n",
              "      <th>tm_rating</th>\n",
              "      <th>tm_count</th>\n",
              "      <th>audience_status</th>\n",
              "      <th>audience_rating</th>\n",
              "      <th>audience_count</th>\n",
              "      <th>tm_top_critics_count</th>\n",
              "      <th>tm_fresh_critics_count</th>\n",
              "      <th>tm_rotten_critics_count</th>\n",
              "      <th>ebert_rating</th>\n",
              "      <th>boxd_vote_average</th>\n",
              "    </tr>\n",
              "  </thead>\n",
              "  <tbody>\n",
              "    <tr>\n",
              "      <th>0</th>\n",
              "      <td>pulp-fiction</td>\n",
              "      <td>1</td>\n",
              "      <td>Pulp Fiction</td>\n",
              "      <td>1994</td>\n",
              "      <td>1660</td>\n",
              "      <td>3821</td>\n",
              "      <td>1626</td>\n",
              "      <td>10863</td>\n",
              "      <td>7688</td>\n",
              "      <td>51895</td>\n",
              "      <td>47635</td>\n",
              "      <td>192128</td>\n",
              "      <td>117437</td>\n",
              "      <td>313059</td>\n",
              "      <td>8000000.0</td>\n",
              "      <td>8000000.0</td>\n",
              "      <td>2.139288e+08</td>\n",
              "      <td>2.139288e+08</td>\n",
              "      <td>8.3</td>\n",
              "      <td>8428.0</td>\n",
              "      <td>8.9</td>\n",
              "      <td>1900000.0</td>\n",
              "      <td>121.463076</td>\n",
              "      <td>154.0</td>\n",
              "      <td>154.0</td>\n",
              "      <td>Crime</td>\n",
              "      <td>[\"Thriller\", \"Crime\"]</td>\n",
              "      <td>Quentin Tarantino</td>\n",
              "      <td>Quentin Tarantino</td>\n",
              "      <td>John Travolta</td>\n",
              "      <td>R</td>\n",
              "      <td>A burger-loving hit man, his philosophical par...</td>\n",
              "      <td>Just because you are a character doesn't mean ...</td>\n",
              "      <td>[\"transporter\", \"brothel\", \"drug dealer\", \"box...</td>\n",
              "      <td>1994-10-08</td>\n",
              "      <td>Miramax</td>\n",
              "      <td>[\"Miramax Films\", \"A Band Apart\", \"Jersey Films\"]</td>\n",
              "      <td>United States</td>\n",
              "      <td>[\"United States of America\"]</td>\n",
              "      <td>en</td>\n",
              "      <td>[\"English\", \"Espa\\u00f1ol\", \"Fran\\u00e7ais\"]</td>\n",
              "      <td>Vincent Vega (John Travolta) and Jules Winnfie...</td>\n",
              "      <td>One of the most influential films of the 1990s...</td>\n",
              "      <td>John Travolta, Samuel L. Jackson, Uma Thurman,...</td>\n",
              "      <td>Certified-Fresh</td>\n",
              "      <td>92.0</td>\n",
              "      <td>106.0</td>\n",
              "      <td>Upright</td>\n",
              "      <td>96.0</td>\n",
              "      <td>1127813.0</td>\n",
              "      <td>32.0</td>\n",
              "      <td>97.0</td>\n",
              "      <td>9.0</td>\n",
              "      <td>4.0</td>\n",
              "      <td>8.645801</td>\n",
              "    </tr>\n",
              "    <tr>\n",
              "      <th>1</th>\n",
              "      <td>inception</td>\n",
              "      <td>1</td>\n",
              "      <td>Inception</td>\n",
              "      <td>2010</td>\n",
              "      <td>1250</td>\n",
              "      <td>3550</td>\n",
              "      <td>2063</td>\n",
              "      <td>13735</td>\n",
              "      <td>11410</td>\n",
              "      <td>71166</td>\n",
              "      <td>69034</td>\n",
              "      <td>232098</td>\n",
              "      <td>117643</td>\n",
              "      <td>245070</td>\n",
              "      <td>160000000.0</td>\n",
              "      <td>160000000.0</td>\n",
              "      <td>8.255328e+08</td>\n",
              "      <td>8.368370e+08</td>\n",
              "      <td>8.1</td>\n",
              "      <td>13752.0</td>\n",
              "      <td>8.8</td>\n",
              "      <td>2100000.0</td>\n",
              "      <td>167.583710</td>\n",
              "      <td>148.0</td>\n",
              "      <td>148.0</td>\n",
              "      <td>Action</td>\n",
              "      <td>[\"Action\", \"Thriller\", \"Science Fiction\", \"Mys...</td>\n",
              "      <td>Christopher Nolan</td>\n",
              "      <td>Christopher Nolan</td>\n",
              "      <td>Leonardo DiCaprio</td>\n",
              "      <td>PG-13</td>\n",
              "      <td>Cobb, a skilled thief who commits corporate es...</td>\n",
              "      <td>Your mind is the scene of the crime.</td>\n",
              "      <td>[\"loss of lover\", \"dream\", \"kidnapping\", \"slee...</td>\n",
              "      <td>2010-07-14</td>\n",
              "      <td>Warner Bros.</td>\n",
              "      <td>[\"Legendary Pictures\", \"Warner Bros.\", \"Syncopy\"]</td>\n",
              "      <td>United States</td>\n",
              "      <td>[\"United Kingdom\", \"United States of America\"]</td>\n",
              "      <td>en</td>\n",
              "      <td>[\"English\", \"\\u65e5\\u672c\\u8a9e\", \"Fran\\u00e7a...</td>\n",
              "      <td>Dom Cobb (Leonardo DiCaprio) is a thief with t...</td>\n",
              "      <td>Smart, innovative, and thrilling, Inception is...</td>\n",
              "      <td>Leonardo DiCaprio, Ken Watanabe, Joseph Gordon...</td>\n",
              "      <td>Certified-Fresh</td>\n",
              "      <td>87.0</td>\n",
              "      <td>357.0</td>\n",
              "      <td>Upright</td>\n",
              "      <td>91.0</td>\n",
              "      <td>571078.0</td>\n",
              "      <td>65.0</td>\n",
              "      <td>310.0</td>\n",
              "      <td>47.0</td>\n",
              "      <td>4.0</td>\n",
              "      <td>8.347947</td>\n",
              "    </tr>\n",
              "    <tr>\n",
              "      <th>2</th>\n",
              "      <td>fight-club</td>\n",
              "      <td>1</td>\n",
              "      <td>Fight Club</td>\n",
              "      <td>1999</td>\n",
              "      <td>1069</td>\n",
              "      <td>2709</td>\n",
              "      <td>1501</td>\n",
              "      <td>9343</td>\n",
              "      <td>7963</td>\n",
              "      <td>50079</td>\n",
              "      <td>53178</td>\n",
              "      <td>191481</td>\n",
              "      <td>110863</td>\n",
              "      <td>240121</td>\n",
              "      <td>63000000.0</td>\n",
              "      <td>63000000.0</td>\n",
              "      <td>1.008538e+08</td>\n",
              "      <td>1.012097e+08</td>\n",
              "      <td>8.3</td>\n",
              "      <td>9413.0</td>\n",
              "      <td>8.8</td>\n",
              "      <td>1900000.0</td>\n",
              "      <td>146.757391</td>\n",
              "      <td>139.0</td>\n",
              "      <td>139.0</td>\n",
              "      <td>Drama</td>\n",
              "      <td>[\"Drama\"]</td>\n",
              "      <td>David Fincher</td>\n",
              "      <td>Chuck Palahniuk</td>\n",
              "      <td>Brad Pitt</td>\n",
              "      <td>R</td>\n",
              "      <td>A ticking-time-bomb insomniac and a slippery s...</td>\n",
              "      <td>Mischief. Mayhem. Soap.</td>\n",
              "      <td>[\"support group\", \"dual identity\", \"nihilism\",...</td>\n",
              "      <td>1999-10-15</td>\n",
              "      <td>Fox 2000 Pictures</td>\n",
              "      <td>[\"Regency Enterprises\", \"Fox 2000 Pictures\", \"...</td>\n",
              "      <td>Germany</td>\n",
              "      <td>[\"Germany\", \"United States of America\"]</td>\n",
              "      <td>en</td>\n",
              "      <td>[\"English\"]</td>\n",
              "      <td>A depressed man (Edward Norton) suffering from...</td>\n",
              "      <td>Solid acting, amazing direction, and elaborate...</td>\n",
              "      <td>Brad Pitt, Edward Norton, Helena Bonham Carter...</td>\n",
              "      <td>Certified-Fresh</td>\n",
              "      <td>79.0</td>\n",
              "      <td>173.0</td>\n",
              "      <td>Upright</td>\n",
              "      <td>96.0</td>\n",
              "      <td>1093242.0</td>\n",
              "      <td>40.0</td>\n",
              "      <td>137.0</td>\n",
              "      <td>36.0</td>\n",
              "      <td>2.0</td>\n",
              "      <td>8.516628</td>\n",
              "    </tr>\n",
              "    <tr>\n",
              "      <th>3</th>\n",
              "      <td>the-dark-knight</td>\n",
              "      <td>1</td>\n",
              "      <td>The Dark Knight</td>\n",
              "      <td>2008</td>\n",
              "      <td>757</td>\n",
              "      <td>1771</td>\n",
              "      <td>962</td>\n",
              "      <td>6094</td>\n",
              "      <td>5548</td>\n",
              "      <td>37917</td>\n",
              "      <td>40828</td>\n",
              "      <td>175350</td>\n",
              "      <td>125042</td>\n",
              "      <td>335098</td>\n",
              "      <td>185000000.0</td>\n",
              "      <td>185000000.0</td>\n",
              "      <td>1.004558e+09</td>\n",
              "      <td>1.005974e+09</td>\n",
              "      <td>8.2</td>\n",
              "      <td>12002.0</td>\n",
              "      <td>9.0</td>\n",
              "      <td>2400000.0</td>\n",
              "      <td>187.322927</td>\n",
              "      <td>152.0</td>\n",
              "      <td>152.0</td>\n",
              "      <td>Action</td>\n",
              "      <td>[\"Drama\", \"Action\", \"Crime\", \"Thriller\"]</td>\n",
              "      <td>Christopher Nolan</td>\n",
              "      <td>Jonathan Nolan</td>\n",
              "      <td>Christian Bale</td>\n",
              "      <td>PG-13</td>\n",
              "      <td>Batman raises the stakes in his war on crime. ...</td>\n",
              "      <td>Why So Serious?</td>\n",
              "      <td>[\"dc comics\", \"crime fighter\", \"secret identit...</td>\n",
              "      <td>2008-07-16</td>\n",
              "      <td>Warner Bros.</td>\n",
              "      <td>[\"DC Comics\", \"Legendary Pictures\", \"Warner Br...</td>\n",
              "      <td>United States</td>\n",
              "      <td>[\"United Kingdom\", \"United States of America\"]</td>\n",
              "      <td>en</td>\n",
              "      <td>[\"English\", \"\\u666e\\u901a\\u8bdd\"]</td>\n",
              "      <td>With the help of allies Lt. Jim Gordon (Gary O...</td>\n",
              "      <td>Dark, complex, and unforgettable, The Dark Kni...</td>\n",
              "      <td>Christian Bale, Heath Ledger, Aaron Eckhart, M...</td>\n",
              "      <td>Certified-Fresh</td>\n",
              "      <td>94.0</td>\n",
              "      <td>340.0</td>\n",
              "      <td>Upright</td>\n",
              "      <td>94.0</td>\n",
              "      <td>1831566.0</td>\n",
              "      <td>63.0</td>\n",
              "      <td>320.0</td>\n",
              "      <td>20.0</td>\n",
              "      <td>4.0</td>\n",
              "      <td>8.845694</td>\n",
              "    </tr>\n",
              "    <tr>\n",
              "      <th>4</th>\n",
              "      <td>the-grand-budapest-hotel</td>\n",
              "      <td>1</td>\n",
              "      <td>The Grand Budapest Hotel</td>\n",
              "      <td>2014</td>\n",
              "      <td>624</td>\n",
              "      <td>2238</td>\n",
              "      <td>1081</td>\n",
              "      <td>8321</td>\n",
              "      <td>6965</td>\n",
              "      <td>47211</td>\n",
              "      <td>52375</td>\n",
              "      <td>182761</td>\n",
              "      <td>101769</td>\n",
              "      <td>173334</td>\n",
              "      <td>30000000.0</td>\n",
              "      <td>25000000.0</td>\n",
              "      <td>1.746003e+08</td>\n",
              "      <td>1.729458e+08</td>\n",
              "      <td>8.0</td>\n",
              "      <td>4519.0</td>\n",
              "      <td>8.1</td>\n",
              "      <td>734000.0</td>\n",
              "      <td>74.417456</td>\n",
              "      <td>99.0</td>\n",
              "      <td>99.0</td>\n",
              "      <td>Adventure</td>\n",
              "      <td>[\"Comedy\", \"Drama\"]</td>\n",
              "      <td>Wes Anderson</td>\n",
              "      <td>Stefan Zweig</td>\n",
              "      <td>Ralph Fiennes</td>\n",
              "      <td>R</td>\n",
              "      <td>The Grand Budapest Hotel tells of a legendary ...</td>\n",
              "      <td>A perfect holiday without leaving home.</td>\n",
              "      <td>[\"hotel\", \"painting\", \"wartime\", \"gunfight\", \"...</td>\n",
              "      <td>2014-02-26</td>\n",
              "      <td>Fox Searchlight Pictures</td>\n",
              "      <td>[\"Fox Searchlight Pictures\", \"Scott Rudin Prod...</td>\n",
              "      <td>United States</td>\n",
              "      <td>[\"United Kingdom\", \"United States of America\",...</td>\n",
              "      <td>en</td>\n",
              "      <td>[\"English\", \"Fran\\u00e7ais\"]</td>\n",
              "      <td>In the 1930s, the Grand Budapest Hotel is a po...</td>\n",
              "      <td>Typically stylish but deceptively thoughtful, ...</td>\n",
              "      <td>Ralph Fiennes, Tony Revolori, F. Murray Abraha...</td>\n",
              "      <td>Certified-Fresh</td>\n",
              "      <td>91.0</td>\n",
              "      <td>305.0</td>\n",
              "      <td>Upright</td>\n",
              "      <td>86.0</td>\n",
              "      <td>97547.0</td>\n",
              "      <td>64.0</td>\n",
              "      <td>280.0</td>\n",
              "      <td>26.0</td>\n",
              "      <td>NaN</td>\n",
              "      <td>8.388882</td>\n",
              "    </tr>\n",
              "    <tr>\n",
              "      <th>...</th>\n",
              "      <td>...</td>\n",
              "      <td>...</td>\n",
              "      <td>...</td>\n",
              "      <td>...</td>\n",
              "      <td>...</td>\n",
              "      <td>...</td>\n",
              "      <td>...</td>\n",
              "      <td>...</td>\n",
              "      <td>...</td>\n",
              "      <td>...</td>\n",
              "      <td>...</td>\n",
              "      <td>...</td>\n",
              "      <td>...</td>\n",
              "      <td>...</td>\n",
              "      <td>...</td>\n",
              "      <td>...</td>\n",
              "      <td>...</td>\n",
              "      <td>...</td>\n",
              "      <td>...</td>\n",
              "      <td>...</td>\n",
              "      <td>...</td>\n",
              "      <td>...</td>\n",
              "      <td>...</td>\n",
              "      <td>...</td>\n",
              "      <td>...</td>\n",
              "      <td>...</td>\n",
              "      <td>...</td>\n",
              "      <td>...</td>\n",
              "      <td>...</td>\n",
              "      <td>...</td>\n",
              "      <td>...</td>\n",
              "      <td>...</td>\n",
              "      <td>...</td>\n",
              "      <td>...</td>\n",
              "      <td>...</td>\n",
              "      <td>...</td>\n",
              "      <td>...</td>\n",
              "      <td>...</td>\n",
              "      <td>...</td>\n",
              "      <td>...</td>\n",
              "      <td>...</td>\n",
              "      <td>...</td>\n",
              "      <td>...</td>\n",
              "      <td>...</td>\n",
              "      <td>...</td>\n",
              "      <td>...</td>\n",
              "      <td>...</td>\n",
              "      <td>...</td>\n",
              "      <td>...</td>\n",
              "      <td>...</td>\n",
              "      <td>...</td>\n",
              "      <td>...</td>\n",
              "      <td>...</td>\n",
              "      <td>...</td>\n",
              "      <td>...</td>\n",
              "    </tr>\n",
              "    <tr>\n",
              "      <th>2215</th>\n",
              "      <td>school-daze</td>\n",
              "      <td>100</td>\n",
              "      <td>School Daze</td>\n",
              "      <td>1988</td>\n",
              "      <td>22</td>\n",
              "      <td>52</td>\n",
              "      <td>96</td>\n",
              "      <td>404</td>\n",
              "      <td>669</td>\n",
              "      <td>1555</td>\n",
              "      <td>1440</td>\n",
              "      <td>1126</td>\n",
              "      <td>231</td>\n",
              "      <td>167</td>\n",
              "      <td>0.0</td>\n",
              "      <td>6500000.0</td>\n",
              "      <td>0.000000e+00</td>\n",
              "      <td>1.454584e+07</td>\n",
              "      <td>6.2</td>\n",
              "      <td>26.0</td>\n",
              "      <td>6.0</td>\n",
              "      <td>6700.0</td>\n",
              "      <td>3.159574</td>\n",
              "      <td>121.0</td>\n",
              "      <td>121.0</td>\n",
              "      <td>Comedy</td>\n",
              "      <td>[\"Comedy\", \"Drama\"]</td>\n",
              "      <td>Spike Lee</td>\n",
              "      <td>Spike Lee</td>\n",
              "      <td>Laurence Fishburne</td>\n",
              "      <td>R</td>\n",
              "      <td>In the South of the United States are taking p...</td>\n",
              "      <td>NaN</td>\n",
              "      <td>[\"musical\"]</td>\n",
              "      <td>1988-02-12</td>\n",
              "      <td>Columbia Pictures</td>\n",
              "      <td>[\"Columbia Pictures\", \"40 Acres &amp; A Mule Filmw...</td>\n",
              "      <td>United States</td>\n",
              "      <td>[\"United States of America\"]</td>\n",
              "      <td>en</td>\n",
              "      <td>[\"English\"]</td>\n",
              "      <td>At historically black Mission College, the act...</td>\n",
              "      <td>School Daze is undeniably messy, but thought-p...</td>\n",
              "      <td>Spike Lee, Laurence Fishburne, Giancarlo Espos...</td>\n",
              "      <td>Rotten</td>\n",
              "      <td>56.0</td>\n",
              "      <td>27.0</td>\n",
              "      <td>Upright</td>\n",
              "      <td>80.0</td>\n",
              "      <td>8967.0</td>\n",
              "      <td>5.0</td>\n",
              "      <td>15.0</td>\n",
              "      <td>12.0</td>\n",
              "      <td>3.5</td>\n",
              "      <td>6.515446</td>\n",
              "    </tr>\n",
              "    <tr>\n",
              "      <th>2216</th>\n",
              "      <td>trees-lounge</td>\n",
              "      <td>100</td>\n",
              "      <td>Trees Lounge</td>\n",
              "      <td>1996</td>\n",
              "      <td>3</td>\n",
              "      <td>24</td>\n",
              "      <td>46</td>\n",
              "      <td>166</td>\n",
              "      <td>350</td>\n",
              "      <td>1403</td>\n",
              "      <td>1867</td>\n",
              "      <td>1791</td>\n",
              "      <td>381</td>\n",
              "      <td>316</td>\n",
              "      <td>0.0</td>\n",
              "      <td>1300000.0</td>\n",
              "      <td>0.000000e+00</td>\n",
              "      <td>7.497410e+05</td>\n",
              "      <td>6.7</td>\n",
              "      <td>51.0</td>\n",
              "      <td>7.1</td>\n",
              "      <td>14000.0</td>\n",
              "      <td>3.443916</td>\n",
              "      <td>95.0</td>\n",
              "      <td>95.0</td>\n",
              "      <td>Comedy</td>\n",
              "      <td>[\"Comedy\", \"Drama\"]</td>\n",
              "      <td>Steve Buscemi</td>\n",
              "      <td>Steve Buscemi</td>\n",
              "      <td>Steve Buscemi</td>\n",
              "      <td>R</td>\n",
              "      <td>Tommy has lost his job, his love and his life....</td>\n",
              "      <td>NaN</td>\n",
              "      <td>[\"bar\", \"alcoholism\", \"independent film\", \"dri...</td>\n",
              "      <td>1996-10-11</td>\n",
              "      <td>Addis Wechsler Pictures</td>\n",
              "      <td>[]</td>\n",
              "      <td>United States</td>\n",
              "      <td>[]</td>\n",
              "      <td>en</td>\n",
              "      <td>[\"Italiano\", \"English\"]</td>\n",
              "      <td>Long Island loser Tommy (Steve Buscemi) is a h...</td>\n",
              "      <td>NaN</td>\n",
              "      <td>Steve Buscemi, Anthony LaPaglia, Chloë Sevigny...</td>\n",
              "      <td>Fresh</td>\n",
              "      <td>81.0</td>\n",
              "      <td>26.0</td>\n",
              "      <td>Upright</td>\n",
              "      <td>79.0</td>\n",
              "      <td>6619.0</td>\n",
              "      <td>6.0</td>\n",
              "      <td>21.0</td>\n",
              "      <td>5.0</td>\n",
              "      <td>3.5</td>\n",
              "      <td>7.091067</td>\n",
              "    </tr>\n",
              "    <tr>\n",
              "      <th>2217</th>\n",
              "      <td>kill-the-messenger</td>\n",
              "      <td>100</td>\n",
              "      <td>Kill the Messenger</td>\n",
              "      <td>2014</td>\n",
              "      <td>12</td>\n",
              "      <td>43</td>\n",
              "      <td>84</td>\n",
              "      <td>480</td>\n",
              "      <td>895</td>\n",
              "      <td>2703</td>\n",
              "      <td>2354</td>\n",
              "      <td>1204</td>\n",
              "      <td>185</td>\n",
              "      <td>112</td>\n",
              "      <td>5000000.0</td>\n",
              "      <td>NaN</td>\n",
              "      <td>2.450846e+06</td>\n",
              "      <td>5.218973e+06</td>\n",
              "      <td>6.6</td>\n",
              "      <td>355.0</td>\n",
              "      <td>6.9</td>\n",
              "      <td>45000.0</td>\n",
              "      <td>21.343093</td>\n",
              "      <td>112.0</td>\n",
              "      <td>112.0</td>\n",
              "      <td>Biography</td>\n",
              "      <td>[\"Thriller\", \"Crime\", \"Drama\", \"Mystery\"]</td>\n",
              "      <td>Michael Cuesta</td>\n",
              "      <td>Peter Landesman</td>\n",
              "      <td>Jeremy Renner</td>\n",
              "      <td>R</td>\n",
              "      <td>A reporter becomes the target of a vicious sme...</td>\n",
              "      <td>Can you keep a national secret?</td>\n",
              "      <td>[\"biography\"]</td>\n",
              "      <td>2014-10-09</td>\n",
              "      <td>Sierra / Affinity</td>\n",
              "      <td>[\"The Combine\", \"Bluegrass Films\"]</td>\n",
              "      <td>United States</td>\n",
              "      <td>[\"United States of America\"]</td>\n",
              "      <td>en</td>\n",
              "      <td>[\"English\"]</td>\n",
              "      <td>Journalist Gary Webb (Jeremy Renner) happens u...</td>\n",
              "      <td>Kill the Messenger's potent fury over the tale...</td>\n",
              "      <td>Jeremy Renner, Rosemarie DeWitt, Ray Liotta, T...</td>\n",
              "      <td>Certified-Fresh</td>\n",
              "      <td>77.0</td>\n",
              "      <td>128.0</td>\n",
              "      <td>Upright</td>\n",
              "      <td>69.0</td>\n",
              "      <td>16615.0</td>\n",
              "      <td>42.0</td>\n",
              "      <td>99.0</td>\n",
              "      <td>29.0</td>\n",
              "      <td>NaN</td>\n",
              "      <td>6.424430</td>\n",
              "    </tr>\n",
              "    <tr>\n",
              "      <th>2218</th>\n",
              "      <td>my-name-is-khan</td>\n",
              "      <td>100</td>\n",
              "      <td>My Name Is Khan</td>\n",
              "      <td>2010</td>\n",
              "      <td>104</td>\n",
              "      <td>149</td>\n",
              "      <td>128</td>\n",
              "      <td>434</td>\n",
              "      <td>599</td>\n",
              "      <td>1885</td>\n",
              "      <td>1930</td>\n",
              "      <td>2827</td>\n",
              "      <td>847</td>\n",
              "      <td>1278</td>\n",
              "      <td>12000000.0</td>\n",
              "      <td>12000000.0</td>\n",
              "      <td>4.234536e+07</td>\n",
              "      <td>4.234536e+07</td>\n",
              "      <td>7.7</td>\n",
              "      <td>232.0</td>\n",
              "      <td>8.0</td>\n",
              "      <td>101000.0</td>\n",
              "      <td>14.719886</td>\n",
              "      <td>145.0</td>\n",
              "      <td>165.0</td>\n",
              "      <td>Drama</td>\n",
              "      <td>[\"Drama\", \"Romance\"]</td>\n",
              "      <td>Karan Johar</td>\n",
              "      <td>Shibani Bathija</td>\n",
              "      <td>Shah Rukh Khan</td>\n",
              "      <td>PG-13</td>\n",
              "      <td>Rizwan Khan, a Muslim from the Borivali sectio...</td>\n",
              "      <td>I am Muslim and i am not a terrorist</td>\n",
              "      <td>[\"bollywood\"]</td>\n",
              "      <td>2010-02-12</td>\n",
              "      <td>Dharma Productions</td>\n",
              "      <td>[\"Fox Searchlight Pictures\", \"Red Chillies Ent...</td>\n",
              "      <td>India</td>\n",
              "      <td>[\"India\", \"United States of America\"]</td>\n",
              "      <td>en</td>\n",
              "      <td>[\"English\", \"\\u0939\\u093f\\u0928\\u094d\\u0926\\u0...</td>\n",
              "      <td>Rizvan Khan embarks on a journey to meet the p...</td>\n",
              "      <td>My Name Is Khan rests on powerful performances...</td>\n",
              "      <td>Shah Rukh Khan, Kajol, Tanay Cheda, Tanay Chhe...</td>\n",
              "      <td>Fresh</td>\n",
              "      <td>85.0</td>\n",
              "      <td>27.0</td>\n",
              "      <td>Upright</td>\n",
              "      <td>83.0</td>\n",
              "      <td>20041.0</td>\n",
              "      <td>7.0</td>\n",
              "      <td>23.0</td>\n",
              "      <td>4.0</td>\n",
              "      <td>NaN</td>\n",
              "      <td>7.205186</td>\n",
              "    </tr>\n",
              "    <tr>\n",
              "      <th>2219</th>\n",
              "      <td>mr-hollands-opus</td>\n",
              "      <td>100</td>\n",
              "      <td>Mr. Holland's Opus</td>\n",
              "      <td>1995</td>\n",
              "      <td>43</td>\n",
              "      <td>140</td>\n",
              "      <td>139</td>\n",
              "      <td>567</td>\n",
              "      <td>786</td>\n",
              "      <td>2274</td>\n",
              "      <td>1940</td>\n",
              "      <td>1928</td>\n",
              "      <td>510</td>\n",
              "      <td>530</td>\n",
              "      <td>0.0</td>\n",
              "      <td>23000000.0</td>\n",
              "      <td>1.062700e+08</td>\n",
              "      <td>1.062700e+08</td>\n",
              "      <td>6.9</td>\n",
              "      <td>113.0</td>\n",
              "      <td>7.3</td>\n",
              "      <td>36000.0</td>\n",
              "      <td>6.775294</td>\n",
              "      <td>137.0</td>\n",
              "      <td>143.0</td>\n",
              "      <td>Drama</td>\n",
              "      <td>[\"Music\", \"Drama\", \"Family\"]</td>\n",
              "      <td>Stephen Herek</td>\n",
              "      <td>Patrick Sheane Duncan</td>\n",
              "      <td>Richard Dreyfuss</td>\n",
              "      <td>PG</td>\n",
              "      <td>In 1965, passionate musician Glenn Holland tak...</td>\n",
              "      <td>Of All the Lives He Changed, the One That Chan...</td>\n",
              "      <td>[\"composer\", \"mentor\", \"deaf-mute\", \"musical\",...</td>\n",
              "      <td>1995-12-29</td>\n",
              "      <td>Hollywood Pictures</td>\n",
              "      <td>[\"Hollywood Pictures\", \"The Charlie Mopic Comp...</td>\n",
              "      <td>United States</td>\n",
              "      <td>[\"United States of America\"]</td>\n",
              "      <td>en</td>\n",
              "      <td>[\"English\"]</td>\n",
              "      <td>Composer Glenn Holland (Richard Dreyfuss) beli...</td>\n",
              "      <td>A feel-good story brought to life by a terrifi...</td>\n",
              "      <td>Richard Dreyfuss, Glenne Headly, Olympia Dukak...</td>\n",
              "      <td>Fresh</td>\n",
              "      <td>75.0</td>\n",
              "      <td>28.0</td>\n",
              "      <td>Upright</td>\n",
              "      <td>84.0</td>\n",
              "      <td>54748.0</td>\n",
              "      <td>7.0</td>\n",
              "      <td>21.0</td>\n",
              "      <td>7.0</td>\n",
              "      <td>3.5</td>\n",
              "      <td>6.715141</td>\n",
              "    </tr>\n",
              "  </tbody>\n",
              "</table>\n",
              "<p>2220 rows × 55 columns</p>\n",
              "</div>"
            ],
            "text/plain": [
              "                      movie_id  poster_path  ... ebert_rating  boxd_vote_average\n",
              "0                 pulp-fiction            1  ...          4.0           8.645801\n",
              "1                    inception            1  ...          4.0           8.347947\n",
              "2                   fight-club            1  ...          2.0           8.516628\n",
              "3              the-dark-knight            1  ...          4.0           8.845694\n",
              "4     the-grand-budapest-hotel            1  ...          NaN           8.388882\n",
              "...                        ...          ...  ...          ...                ...\n",
              "2215               school-daze          100  ...          3.5           6.515446\n",
              "2216              trees-lounge          100  ...          3.5           7.091067\n",
              "2217        kill-the-messenger          100  ...          NaN           6.424430\n",
              "2218           my-name-is-khan          100  ...          NaN           7.205186\n",
              "2219          mr-hollands-opus          100  ...          3.5           6.715141\n",
              "\n",
              "[2220 rows x 55 columns]"
            ]
          },
          "metadata": {},
          "execution_count": 37
        }
      ]
    },
    {
      "cell_type": "code",
      "metadata": {
        "colab": {
          "base_uri": "https://localhost:8080/",
          "height": 419
        },
        "id": "cKI2I0Oz_mFf",
        "outputId": "48dad0b7-e7a4-4d6e-d2c6-5540c5f298e3"
      },
      "source": [
        "ratings_full_df"
      ],
      "execution_count": null,
      "outputs": [
        {
          "output_type": "execute_result",
          "data": {
            "text/html": [
              "<div>\n",
              "<style scoped>\n",
              "    .dataframe tbody tr th:only-of-type {\n",
              "        vertical-align: middle;\n",
              "    }\n",
              "\n",
              "    .dataframe tbody tr th {\n",
              "        vertical-align: top;\n",
              "    }\n",
              "\n",
              "    .dataframe thead th {\n",
              "        text-align: right;\n",
              "    }\n",
              "</style>\n",
              "<table border=\"1\" class=\"dataframe\">\n",
              "  <thead>\n",
              "    <tr style=\"text-align: right;\">\n",
              "      <th></th>\n",
              "      <th>user_id</th>\n",
              "      <th>movie_id</th>\n",
              "      <th>rating_val</th>\n",
              "    </tr>\n",
              "  </thead>\n",
              "  <tbody>\n",
              "    <tr>\n",
              "      <th>0</th>\n",
              "      <td>shawn_stubbs</td>\n",
              "      <td>the-addams-family</td>\n",
              "      <td>9</td>\n",
              "    </tr>\n",
              "    <tr>\n",
              "      <th>1</th>\n",
              "      <td>ramiraff</td>\n",
              "      <td>the-truman-show</td>\n",
              "      <td>9</td>\n",
              "    </tr>\n",
              "    <tr>\n",
              "      <th>2</th>\n",
              "      <td>joshua_toomes</td>\n",
              "      <td>the-bourne-identity-2002</td>\n",
              "      <td>8</td>\n",
              "    </tr>\n",
              "    <tr>\n",
              "      <th>3</th>\n",
              "      <td>henryg9876</td>\n",
              "      <td>up</td>\n",
              "      <td>8</td>\n",
              "    </tr>\n",
              "    <tr>\n",
              "      <th>4</th>\n",
              "      <td>denny_crane</td>\n",
              "      <td>eight-legged-freaks</td>\n",
              "      <td>5</td>\n",
              "    </tr>\n",
              "    <tr>\n",
              "      <th>...</th>\n",
              "      <td>...</td>\n",
              "      <td>...</td>\n",
              "      <td>...</td>\n",
              "    </tr>\n",
              "    <tr>\n",
              "      <th>392546</th>\n",
              "      <td>jdoan</td>\n",
              "      <td>into-the-woods-2014</td>\n",
              "      <td>5</td>\n",
              "    </tr>\n",
              "    <tr>\n",
              "      <th>392547</th>\n",
              "      <td>jdoan</td>\n",
              "      <td>zero-dark-thirty</td>\n",
              "      <td>7</td>\n",
              "    </tr>\n",
              "    <tr>\n",
              "      <th>392548</th>\n",
              "      <td>jdoan</td>\n",
              "      <td>the-big-lebowski</td>\n",
              "      <td>9</td>\n",
              "    </tr>\n",
              "    <tr>\n",
              "      <th>392549</th>\n",
              "      <td>jdoan</td>\n",
              "      <td>aliens</td>\n",
              "      <td>8</td>\n",
              "    </tr>\n",
              "    <tr>\n",
              "      <th>392550</th>\n",
              "      <td>jdoan</td>\n",
              "      <td>boyhood</td>\n",
              "      <td>7</td>\n",
              "    </tr>\n",
              "  </tbody>\n",
              "</table>\n",
              "<p>392551 rows × 3 columns</p>\n",
              "</div>"
            ],
            "text/plain": [
              "              user_id                  movie_id  rating_val\n",
              "0        shawn_stubbs         the-addams-family           9\n",
              "1            ramiraff           the-truman-show           9\n",
              "2       joshua_toomes  the-bourne-identity-2002           8\n",
              "3          henryg9876                        up           8\n",
              "4         denny_crane       eight-legged-freaks           5\n",
              "...               ...                       ...         ...\n",
              "392546          jdoan       into-the-woods-2014           5\n",
              "392547          jdoan          zero-dark-thirty           7\n",
              "392548          jdoan          the-big-lebowski           9\n",
              "392549          jdoan                    aliens           8\n",
              "392550          jdoan                   boyhood           7\n",
              "\n",
              "[392551 rows x 3 columns]"
            ]
          },
          "metadata": {},
          "execution_count": 38
        }
      ]
    },
    {
      "cell_type": "code",
      "metadata": {
        "colab": {
          "base_uri": "https://localhost:8080/"
        },
        "id": "0OBgwQceZOff",
        "outputId": "2cccc266-cd44-4e30-ccd9-babb1457c7d0"
      },
      "source": [
        "# print(movies_full_df.columns)\n",
        "\n",
        "all_columns = ['movie_id', 'poster_path', 'title',\n",
        "       'year', '1', '2', '3', '4', '5', '6', '7', '8', '9', '10',\n",
        "       'tmdb_budget', 'imdb_budget', 'tmdb_revenue', 'imdb_revenue',\n",
        "       'tmdb_vote_average', 'tmdb_vote_count', 'imdb_vote_average',\n",
        "       'imdb_vote_count', 'tmdb_popularity', 'tmdb_runtime', 'imdb_runtime',\n",
        "       'main_genre', 'genres', 'director', 'writer', 'main_actor',\n",
        "       'mpaa_rating', 'overview', 'tagline', 'keywords', 'release_date',\n",
        "       'main_prod_company', 'production_companies', 'country',\n",
        "       'production_countries', 'original_language', 'spoken_languages',\n",
        "       'rt_info', 'critics_consensus', 'actors', 'tm_status', 'tm_rating',\n",
        "       'tm_count', 'audience_status', 'audience_rating', 'audience_count',\n",
        "       'tm_top_critics_count', 'tm_fresh_critics_count',\n",
        "       'tm_rotten_critics_count', 'ebert_rating', 'boxd_vote_average']\n",
        "print(len(all_columns))"
      ],
      "execution_count": null,
      "outputs": [
        {
          "output_type": "stream",
          "name": "stdout",
          "text": [
            "55\n"
          ]
        }
      ]
    },
    {
      "cell_type": "markdown",
      "metadata": {
        "id": "ZVeCw4XTZZDN"
      },
      "source": [
        "## JSON Files"
      ]
    },
    {
      "cell_type": "code",
      "metadata": {
        "colab": {
          "base_uri": "https://localhost:8080/"
        },
        "id": "YfBHN50rZQqX",
        "outputId": "5d28a77c-bbdb-44b0-87d6-193a65bf5c38"
      },
      "source": [
        "movieid_file_path = '/content/drive/My Drive/cs229_proj/movieid_to_data.json'\n",
        "ratings_dict_file_path = '/content/drive/My Drive/cs229_proj/user_to_rating_dict.json'\n",
        "\n",
        "user_to_rating_dict = {}\n",
        "with open(ratings_dict_file_path, 'r') as fh:\n",
        "    user_to_rating_dict = json.load(fh)\n",
        "\n",
        "movieid_to_data = {}\n",
        "with open(movieid_file_path, 'r') as fh:\n",
        "    movieid_to_data = json.load(fh)\n",
        "\n",
        "n_movies = len(movieid_to_data)\n",
        "print(n_movies)\n",
        "\n",
        "print(len(user_to_rating_dict)) # Number of Users"
      ],
      "execution_count": null,
      "outputs": [
        {
          "output_type": "stream",
          "name": "stdout",
          "text": [
            "6833\n",
            "5227\n"
          ]
        }
      ]
    },
    {
      "cell_type": "code",
      "metadata": {
        "colab": {
          "base_uri": "https://localhost:8080/"
        },
        "id": "r1al3sKvDwSh",
        "outputId": "751e3e9a-1abb-4678-d190-8541ea68a9d0"
      },
      "source": [
        "user_counts = []\n",
        "for user in user_to_rating_dict:\n",
        "    cur_dict = user_to_rating_dict[user]\n",
        "    user_counts.append(len(cur_dict))\n",
        "print(sum(user_counts) / len(user_counts))  # Each user rated around 75 movies\n",
        "print(sum(user_counts))                     # Sanity check - 392180\n",
        "print(sum(user_counts) / 2220)              # Sanity check -- 176 users per movie"
      ],
      "execution_count": null,
      "outputs": [
        {
          "output_type": "stream",
          "name": "stdout",
          "text": [
            "75.02965372106371\n",
            "392180\n",
            "176.65765765765767\n"
          ]
        }
      ]
    },
    {
      "cell_type": "markdown",
      "metadata": {
        "id": "8v-joOV5Zkkh"
      },
      "source": [
        "# Exploratory Data Analysis"
      ]
    },
    {
      "cell_type": "markdown",
      "metadata": {
        "id": "0EGLFJhy4ojs"
      },
      "source": [
        "## User Ratings Exploration"
      ]
    },
    {
      "cell_type": "code",
      "metadata": {
        "id": "sS5y1EF14oTq"
      },
      "source": [
        "users = ratings_full_df['user_id'].tolist()\n",
        "\n",
        "user_to_count = {}\n",
        "for user in users:\n",
        "    if user in user_to_count:\n",
        "        user_to_count[user] += 1\n",
        "    else:\n",
        "        user_to_count[user] = 1\n"
      ],
      "execution_count": null,
      "outputs": []
    },
    {
      "cell_type": "code",
      "metadata": {
        "colab": {
          "base_uri": "https://localhost:8080/"
        },
        "id": "KzbmOn2l7rS2",
        "outputId": "610729a6-51ef-487d-a8ef-1c9d8b31099a"
      },
      "source": [
        "counts = list(user_to_count.values())\n",
        "print(sum(counts) / len(counts))"
      ],
      "execution_count": null,
      "outputs": [
        {
          "output_type": "stream",
          "name": "stdout",
          "text": [
            "75.10063133728717\n"
          ]
        }
      ]
    },
    {
      "cell_type": "code",
      "metadata": {
        "colab": {
          "base_uri": "https://localhost:8080/",
          "height": 435
        },
        "id": "GC1PE6o27ubF",
        "outputId": "5002b5bb-fa5b-473e-c283-d0e40d096371"
      },
      "source": [
        "plt.hist(counts, bins=[10*i for i in range(50)])"
      ],
      "execution_count": null,
      "outputs": [
        {
          "output_type": "execute_result",
          "data": {
            "text/plain": [
              "(array([355., 413., 455., 493., 451., 422., 390., 327., 297., 257., 189.,\n",
              "        183., 147., 138., 112., 104.,  66.,  67.,  66.,  50.,  37.,  36.,\n",
              "         31.,  26.,  20.,  18.,  19.,  20.,  13.,   4.,   3.,   3.,   3.,\n",
              "          3.,   2.,   2.,   0.,   2.,   1.,   0.,   1.,   0.,   0.,   0.,\n",
              "          0.,   0.,   0.,   0.,   1.]),\n",
              " array([  0,  10,  20,  30,  40,  50,  60,  70,  80,  90, 100, 110, 120,\n",
              "        130, 140, 150, 160, 170, 180, 190, 200, 210, 220, 230, 240, 250,\n",
              "        260, 270, 280, 290, 300, 310, 320, 330, 340, 350, 360, 370, 380,\n",
              "        390, 400, 410, 420, 430, 440, 450, 460, 470, 480, 490]),\n",
              " <a list of 49 Patch objects>)"
            ]
          },
          "metadata": {},
          "execution_count": 53
        },
        {
          "output_type": "display_data",
          "data": {
            "image/png": "[encoded data removed]",
            "text/plain": [
              "<Figure size 432x288 with 1 Axes>"
            ]
          },
          "metadata": {
            "needs_background": "light"
          }
        }
      ]
    },
    {
      "cell_type": "code",
      "metadata": {
        "colab": {
          "base_uri": "https://localhost:8080/"
        },
        "id": "NkjQhJDR64dZ",
        "outputId": "fd404a09-a193-475f-98ec-906936761fa9"
      },
      "source": [
        "print(user_to_count['bratpitt'])\n",
        "print(user_to_count['deathproof'])\n",
        "print(user_to_count['jdoan'])\n",
        "print(user_to_count['ralfmakesmovies'])\n",
        "print(user_to_count['ihe'])"
      ],
      "execution_count": null,
      "outputs": [
        {
          "output_type": "stream",
          "name": "stdout",
          "text": [
            "66\n",
            "114\n",
            "402\n",
            "182\n",
            "83\n"
          ]
        }
      ]
    },
    {
      "cell_type": "code",
      "metadata": {
        "id": "gTakDlob458-"
      },
      "source": [
        "top_n = 1000\n",
        "count = 0\n",
        "for w in sorted(user_to_count, key=user_to_count.get, reverse=True):\n",
        "    print(w, user_to_count[w])\n",
        "    count += 1\n",
        "    if count >= top_n:\n",
        "        break"
      ],
      "execution_count": null,
      "outputs": []
    },
    {
      "cell_type": "code",
      "metadata": {
        "id": "ppck2lgD8Hpg"
      },
      "source": [
        "movies = ratings_full_df['movie_id'].tolist()"
      ],
      "execution_count": null,
      "outputs": []
    },
    {
      "cell_type": "code",
      "metadata": {
        "id": "cmgZ78Fb8HsK"
      },
      "source": [
        "movie_to_count = {}\n",
        "for movie in movies:\n",
        "    if movie in movie_to_count:\n",
        "        movie_to_count[movie] += 1\n",
        "    else:\n",
        "        movie_to_count[movie] = 1"
      ],
      "execution_count": null,
      "outputs": []
    },
    {
      "cell_type": "code",
      "metadata": {
        "colab": {
          "base_uri": "https://localhost:8080/"
        },
        "id": "7WanpRK58Uru",
        "outputId": "83e63b66-f9de-4755-8ce4-edc8cb2a0284"
      },
      "source": [
        "movie_counts = list(movie_to_count.values())\n",
        "print(movie_counts)\n",
        "\n",
        "print(sum(movie_counts) / len(movie_counts))"
      ],
      "execution_count": null,
      "outputs": [
        {
          "output_type": "stream",
          "name": "stdout",
          "text": [
            "[236, 512, 266, 485, 86, 310, 234, 375, 303, 358, 285, 250, 488, 475, 184, 294, 121, 213, 502, 169, 205, 66, 157, 597, 92, 204, 121, 145, 356, 131, 234, 135, 153, 198, 131, 68, 205, 90, 123, 355, 181, 376, 73, 134, 242, 206, 499, 192, 408, 475, 218, 236, 322, 217, 406, 137, 408, 191, 260, 453, 451, 96, 218, 174, 342, 415, 207, 151, 114, 227, 97, 506, 107, 167, 309, 434, 351, 91, 41, 230, 200, 449, 120, 195, 82, 191, 119, 207, 98, 296, 139, 112, 117, 140, 262, 272, 485, 152, 413, 516, 128, 364, 188, 168, 85, 242, 54, 334, 350, 558, 100, 353, 429, 155, 155, 452, 72, 119, 168, 119, 166, 154, 230, 255, 367, 165, 340, 107, 147, 125, 459, 331, 261, 131, 36, 467, 419, 134, 367, 80, 122, 233, 94, 263, 228, 409, 299, 393, 516, 115, 380, 197, 272, 477, 152, 250, 82, 370, 337, 131, 179, 49, 88, 429, 204, 291, 190, 155, 247, 170, 150, 184, 151, 445, 108, 168, 362, 161, 363, 321, 261, 191, 122, 164, 388, 159, 142, 246, 566, 118, 111, 127, 86, 169, 245, 410, 227, 402, 193, 369, 198, 247, 45, 346, 517, 128, 362, 150, 432, 105, 245, 111, 268, 322, 211, 106, 407, 356, 335, 144, 250, 468, 240, 256, 360, 146, 297, 310, 91, 105, 99, 65, 131, 136, 322, 253, 362, 262, 246, 148, 62, 30, 71, 106, 432, 245, 79, 100, 296, 341, 173, 70, 173, 130, 497, 207, 252, 297, 386, 346, 530, 591, 117, 113, 366, 269, 324, 83, 144, 56, 63, 146, 126, 171, 66, 563, 61, 251, 375, 124, 122, 198, 295, 95, 336, 469, 67, 160, 55, 184, 85, 145, 156, 210, 473, 463, 93, 191, 295, 132, 348, 160, 59, 136, 354, 181, 115, 156, 190, 271, 159, 196, 244, 423, 312, 397, 367, 452, 240, 385, 147, 193, 541, 172, 447, 120, 351, 635, 115, 109, 386, 66, 239, 137, 330, 96, 390, 138, 294, 122, 511, 59, 80, 262, 358, 168, 429, 117, 510, 207, 205, 241, 290, 396, 315, 184, 110, 374, 181, 172, 265, 536, 294, 86, 180, 401, 210, 305, 152, 252, 230, 217, 511, 99, 402, 175, 446, 192, 513, 256, 518, 105, 83, 503, 105, 254, 157, 151, 209, 101, 58, 36, 202, 572, 119, 241, 139, 93, 191, 603, 51, 73, 60, 136, 186, 505, 447, 172, 140, 283, 126, 609, 85, 462, 187, 117, 316, 260, 348, 528, 204, 268, 231, 510, 197, 655, 404, 115, 146, 73, 229, 506, 77, 160, 84, 164, 104, 76, 492, 255, 126, 562, 203, 175, 205, 78, 152, 328, 334, 247, 255, 245, 270, 82, 82, 34, 129, 59, 96, 188, 346, 201, 56, 97, 511, 282, 99, 214, 325, 246, 342, 268, 351, 169, 399, 230, 130, 270, 99, 223, 420, 199, 84, 434, 310, 372, 229, 250, 68, 161, 175, 144, 197, 127, 131, 585, 115, 341, 194, 76, 78, 192, 98, 130, 504, 133, 286, 126, 87, 344, 44, 301, 419, 233, 351, 477, 113, 465, 87, 167, 175, 84, 275, 216, 197, 146, 243, 142, 202, 238, 180, 342, 377, 294, 182, 197, 161, 447, 112, 96, 78, 167, 377, 356, 91, 123, 178, 136, 315, 89, 261, 249, 131, 256, 448, 458, 609, 241, 102, 198, 518, 197, 60, 246, 344, 49, 257, 221, 147, 218, 524, 123, 52, 384, 363, 167, 244, 125, 163, 174, 268, 433, 266, 113, 329, 116, 294, 610, 156, 441, 277, 185, 488, 334, 118, 218, 81, 95, 174, 89, 56, 148, 317, 340, 576, 102, 320, 413, 124, 599, 86, 72, 210, 219, 120, 219, 183, 315, 499, 222, 62, 131, 485, 133, 542, 319, 432, 76, 193, 160, 134, 198, 83, 214, 150, 314, 174, 87, 271, 107, 121, 329, 138, 229, 498, 93, 214, 354, 37, 124, 441, 273, 265, 169, 271, 218, 356, 58, 375, 260, 95, 201, 442, 73, 277, 139, 174, 427, 357, 283, 333, 154, 69, 373, 162, 211, 231, 499, 288, 89, 277, 82, 49, 74, 340, 256, 106, 131, 399, 161, 96, 68, 150, 191, 68, 143, 219, 611, 176, 256, 174, 539, 237, 229, 302, 270, 398, 349, 352, 165, 290, 203, 66, 114, 339, 181, 112, 125, 442, 361, 147, 339, 245, 256, 229, 365, 357, 192, 170, 511, 46, 284, 118, 110, 545, 94, 296, 97, 80, 150, 79, 345, 394, 254, 454, 460, 127, 89, 175, 349, 75, 363, 70, 211, 283, 296, 99, 266, 229, 150, 114, 79, 172, 286, 180, 426, 268, 65, 597, 26, 241, 142, 104, 476, 431, 381, 138, 165, 195, 301, 150, 421, 323, 75, 165, 125, 168, 183, 84, 257, 247, 562, 127, 89, 205, 86, 187, 129, 264, 193, 312, 233, 363, 66, 141, 46, 118, 254, 205, 283, 120, 245, 167, 227, 177, 161, 54, 144, 465, 308, 171, 295, 331, 287, 107, 146, 138, 259, 55, 281, 144, 273, 170, 133, 70, 89, 244, 211, 100, 584, 222, 114, 131, 137, 208, 149, 296, 292, 161, 94, 302, 158, 243, 157, 159, 279, 139, 102, 468, 52, 256, 122, 266, 209, 183, 276, 212, 155, 178, 165, 572, 285, 369, 92, 292, 277, 233, 366, 217, 287, 317, 91, 178, 383, 108, 138, 176, 273, 61, 73, 234, 46, 317, 103, 77, 174, 97, 89, 287, 289, 118, 277, 73, 259, 391, 149, 108, 122, 263, 172, 404, 311, 189, 276, 533, 282, 178, 406, 84, 211, 103, 196, 135, 82, 348, 162, 50, 80, 422, 164, 153, 383, 179, 169, 134, 58, 100, 143, 224, 135, 613, 104, 173, 429, 78, 553, 131, 347, 169, 92, 82, 94, 95, 426, 199, 80, 181, 371, 100, 146, 131, 135, 345, 107, 206, 252, 118, 199, 99, 267, 112, 130, 97, 91, 65, 195, 112, 139, 104, 126, 114, 32, 188, 144, 135, 66, 158, 115, 82, 51, 150, 174, 118, 242, 99, 70, 297, 264, 142, 329, 150, 134, 460, 131, 535, 197, 250, 216, 159, 105, 127, 174, 115, 75, 380, 130, 61, 143, 159, 372, 252, 112, 105, 116, 84, 427, 199, 231, 88, 47, 199, 539, 118, 68, 105, 175, 111, 128, 162, 193, 72, 434, 159, 104, 348, 82, 463, 138, 228, 74, 137, 83, 312, 49, 221, 67, 106, 140, 499, 102, 208, 65, 64, 122, 138, 73, 227, 309, 161, 211, 416, 124, 538, 242, 109, 155, 71, 332, 182, 82, 92, 160, 116, 403, 226, 134, 118, 117, 129, 357, 232, 74, 137, 61, 136, 75, 464, 93, 228, 59, 218, 104, 157, 219, 179, 206, 227, 100, 177, 102, 77, 215, 137, 220, 91, 67, 269, 127, 160, 158, 135, 47, 177, 334, 81, 143, 479, 75, 119, 205, 68, 270, 248, 156, 427, 90, 238, 194, 186, 150, 293, 112, 95, 57, 422, 205, 93, 82, 182, 113, 113, 70, 125, 97, 225, 197, 166, 178, 124, 40, 201, 73, 192, 188, 164, 110, 365, 69, 604, 196, 121, 93, 310, 139, 249, 107, 121, 184, 127, 77, 198, 83, 147, 57, 192, 101, 106, 300, 191, 161, 384, 153, 205, 265, 129, 361, 174, 439, 64, 89, 132, 237, 207, 78, 142, 107, 200, 60, 99, 234, 232, 273, 288, 275, 144, 159, 113, 195, 128, 88, 45, 113, 64, 268, 214, 149, 369, 195, 80, 268, 81, 64, 487, 237, 92, 300, 371, 361, 62, 130, 92, 179, 264, 69, 101, 87, 247, 123, 91, 140, 127, 181, 114, 113, 384, 283, 94, 160, 72, 270, 319, 88, 65, 151, 58, 135, 337, 258, 163, 101, 80, 142, 352, 139, 188, 58, 86, 184, 106, 170, 63, 414, 196, 82, 280, 153, 87, 340, 112, 231, 179, 210, 177, 72, 284, 220, 465, 405, 79, 235, 240, 62, 420, 213, 64, 152, 74, 94, 176, 102, 178, 59, 65, 204, 125, 85, 78, 57, 195, 98, 141, 49, 101, 49, 124, 178, 178, 203, 183, 95, 115, 244, 139, 207, 123, 71, 102, 163, 285, 92, 77, 111, 122, 82, 180, 167, 209, 60, 151, 159, 96, 280, 62, 264, 83, 270, 138, 160, 163, 149, 273, 187, 59, 256, 239, 45, 236, 38, 47, 168, 157, 132, 107, 169, 61, 349, 83, 105, 102, 37, 82, 205, 191, 67, 125, 73, 178, 168, 37, 448, 83, 227, 452, 43, 182, 134, 113, 153, 87, 61, 128, 60, 162, 182, 207, 99, 238, 60, 341, 78, 92, 67, 221, 376, 78, 113, 121, 67, 98, 347, 216, 74, 62, 171, 78, 212, 88, 119, 99, 121, 172, 417, 69, 120, 360, 315, 176, 132, 127, 135, 78, 75, 218, 388, 68, 456, 254, 58, 97, 358, 171, 156, 279, 267, 152, 84, 92, 75, 135, 128, 264, 77, 352, 279, 86, 157, 179, 106, 93, 124, 124, 100, 129, 109, 88, 209, 87, 257, 118, 123, 181, 347, 136, 268, 110, 186, 318, 203, 189, 148, 104, 86, 249, 203, 92, 135, 197, 158, 162, 395, 176, 169, 97, 297, 133, 141, 204, 101, 204, 136, 73, 180, 172, 198, 152, 370, 52, 156, 158, 57, 62, 281, 65, 78, 108, 53, 83, 93, 74, 165, 160, 223, 124, 108, 106, 83, 231, 68, 40, 138, 170, 81, 79, 111, 49, 146, 33, 68, 104, 116, 85, 243, 108, 120, 80, 69, 81, 237, 209, 72, 214, 346, 72, 252, 171, 75, 97, 107, 405, 60, 88, 101, 169, 27, 52, 68, 171, 63, 54, 156, 103, 78, 112, 261, 61, 227, 51, 47, 159, 248, 325, 168, 148, 458, 224, 179, 105, 107, 184, 97, 76, 278, 183, 113, 171, 50, 128, 58, 103, 111, 90, 66, 306, 295, 212, 105, 120, 113, 50, 370, 72, 65, 173, 53, 148, 95, 85, 218, 93, 93, 136, 59, 169, 161, 158, 56, 164, 191, 80, 134, 168, 200, 105, 157, 91, 157, 117, 99, 36, 183, 138, 85, 171, 70, 209, 155, 76, 76, 100, 337, 110, 112, 165, 80, 145, 67, 94, 95, 113, 91, 250, 105, 61, 175, 189, 122, 92, 194, 64, 94, 87, 84, 81, 273, 210, 83, 102, 36, 209, 126, 129, 73, 39, 73, 108, 87, 171, 183, 78, 83, 75, 91, 75, 229, 176, 137, 68, 59, 186, 177, 71, 74, 60, 67, 379, 164, 84, 116, 54, 87, 173, 60, 172, 88, 96, 87, 146, 43, 87, 260, 168, 100, 99, 122, 422, 74, 161, 203, 86, 81, 144, 69, 67, 28, 139, 80, 98, 232, 78, 132, 175, 254, 89, 178, 119, 159, 159, 137, 133, 106, 68, 98, 160, 39, 192, 68, 79, 87, 53, 121, 170, 124, 57, 59, 178, 151, 92, 231, 91, 89, 275, 134, 84, 183, 46, 291, 87, 110, 163, 142, 89, 181, 82, 62, 91, 120, 70, 72, 55, 189, 80, 101, 98, 93, 67, 123, 311, 126, 166, 88, 81, 99, 154, 224, 197, 94, 112, 257, 62, 88, 197, 51, 74, 135, 76, 199, 187, 99, 83, 92, 64, 148, 75, 46, 130, 178, 169, 133, 84, 170, 134, 53, 53, 114, 206, 204, 46, 128, 103, 78, 193, 74, 48, 105, 77, 76, 82, 198, 108, 181, 37, 58, 102, 116, 35, 411, 100, 196, 142, 71, 121, 98, 161, 65, 193, 126, 103, 190, 66, 134, 123, 40, 42, 40, 102, 193, 120, 130, 63, 100, 89, 172, 155, 138, 189, 61, 175, 50, 72, 63, 29, 44, 69, 106, 75, 92, 181, 46, 126, 68, 111, 328, 72, 148, 53, 58, 127, 104, 62, 39, 61, 147, 62, 138, 154, 80, 81, 111, 182, 56, 65, 71, 127, 107, 120, 38, 149, 39, 68, 68, 61, 58, 115, 207, 316, 147, 55, 110, 82, 56, 57, 109, 60, 76, 58, 45, 75, 57, 248, 123, 82, 179, 62, 96, 40, 87, 236, 56, 131, 138, 197, 183, 90, 154, 70, 102, 102, 46, 105, 159, 70, 142, 79, 129, 124, 89, 32, 64, 74, 37, 100, 91, 110, 85, 120, 35, 76, 58, 69, 87, 50, 64, 110, 107, 40, 82, 97, 63, 66, 103, 179, 87, 77, 84, 108, 55, 83, 49, 75, 73, 74, 136, 55, 34, 75, 63, 134, 134, 73, 108, 48, 168, 99, 94, 80, 104, 94, 153, 94, 80, 37, 75, 56, 112, 81, 103, 71, 65, 64, 122, 45, 76, 61, 45, 84, 39, 41, 219, 50, 95, 95, 44, 100, 48, 124, 137, 290, 134, 145, 88, 40, 68, 66, 109, 80, 52, 58, 63, 61, 68, 65, 40, 30, 44, 108, 100, 62, 88, 102, 69, 73, 81, 62, 38, 94, 53, 113, 119, 53, 150, 91, 242, 65, 82, 82, 90, 58, 142, 45, 61, 55, 190, 56, 59, 79, 49, 70, 56, 92, 87, 56, 88, 60, 85, 41, 66, 41, 98, 32, 92, 53, 73, 80, 99, 91, 74, 205, 99, 67, 42, 73, 49, 90, 39, 48, 46, 59, 50, 58, 73, 26, 63, 107, 93, 19, 76, 60, 90, 97, 54, 68, 98, 48, 92, 78, 92, 71, 35, 81, 56, 61, 54, 40, 15, 65, 136, 73, 61, 76, 63, 56, 41, 76, 16, 70, 27, 54, 33, 65, 52, 80, 64, 25, 47, 61, 67, 33, 39, 34, 21, 76, 58, 49, 75, 48, 91, 82, 95, 115, 100, 47, 51, 58, 74, 18, 58, 35, 51, 40, 17]\n",
            "176.82477477477477\n"
          ]
        }
      ]
    },
    {
      "cell_type": "code",
      "metadata": {
        "id": "AEGaXDM78xbz"
      },
      "source": [
        "top_n = 100\n",
        "count = 0\n",
        "for w in sorted(movie_to_count, key=movie_to_count.get, reverse=True):\n",
        "    print(w, movie_to_count[w])\n",
        "    count += 1\n",
        "    if count >= top_n:\n",
        "        break"
      ],
      "execution_count": null,
      "outputs": []
    },
    {
      "cell_type": "code",
      "metadata": {
        "id": "QCuKCHFO83-w"
      },
      "source": [
        "top_n = 100\n",
        "count = 0\n",
        "for w in sorted(movie_to_count, key=movie_to_count.get, reverse=False):\n",
        "    print(w, movie_to_count[w])\n",
        "    count += 1\n",
        "    if count >= top_n:\n",
        "        break"
      ],
      "execution_count": null,
      "outputs": []
    },
    {
      "cell_type": "code",
      "metadata": {
        "colab": {
          "base_uri": "https://localhost:8080/",
          "height": 503
        },
        "id": "eG8XqOI08Uum",
        "outputId": "8acacb9c-7351-43b7-a90b-75958fdd0800"
      },
      "source": [
        "plt.hist(movie_counts, bins=[10*i for i in range(70)])"
      ],
      "execution_count": null,
      "outputs": [
        {
          "output_type": "execute_result",
          "data": {
            "text/plain": [
              "(array([  0.,   5.,   8.,  35.,  62.,  91., 130., 127., 141., 124., 108.,\n",
              "         90.,  94.,  99.,  60.,  75.,  75.,  81.,  56.,  68.,  53.,  41.,\n",
              "         31.,  35.,  40.,  36.,  37.,  31.,  24.,  27.,  12.,  22.,  14.,\n",
              "         16.,  28.,  22.,  23.,  17.,  13.,  10.,  14.,  10.,  16.,   9.,\n",
              "         12.,  10.,  13.,   7.,   6.,   7.,   6.,  13.,   2.,   7.,   3.,\n",
              "          2.,   4.,   3.,   2.,   4.,   4.,   3.,   0.,   1.,   0.,   1.,\n",
              "          0.,   0.,   0.]),\n",
              " array([  0,  10,  20,  30,  40,  50,  60,  70,  80,  90, 100, 110, 120,\n",
              "        130, 140, 150, 160, 170, 180, 190, 200, 210, 220, 230, 240, 250,\n",
              "        260, 270, 280, 290, 300, 310, 320, 330, 340, 350, 360, 370, 380,\n",
              "        390, 400, 410, 420, 430, 440, 450, 460, 470, 480, 490, 500, 510,\n",
              "        520, 530, 540, 550, 560, 570, 580, 590, 600, 610, 620, 630, 640,\n",
              "        650, 660, 670, 680, 690]),\n",
              " <a list of 69 Patch objects>)"
            ]
          },
          "metadata": {},
          "execution_count": 59
        },
        {
          "output_type": "display_data",
          "data": {
            "image/png": "[encoded data removed]",
            "text/plain": [
              "<Figure size 432x288 with 1 Axes>"
            ]
          },
          "metadata": {
            "needs_background": "light"
          }
        }
      ]
    },
    {
      "cell_type": "markdown",
      "metadata": {
        "id": "qRYgjwJ2ag1m"
      },
      "source": [
        "## PCA Visualization - User Ratings and Critic Ratings"
      ]
    },
    {
      "cell_type": "code",
      "metadata": {
        "colab": {
          "base_uri": "https://localhost:8080/",
          "height": 542
        },
        "id": "0Uf85qnoZmnN",
        "outputId": "85a68cbf-221f-4c83-a69b-9ca73c45e34f"
      },
      "source": [
        "import plotly.express as px\n",
        "\n",
        "features = ['tmdb_vote_average', 'imdb_vote_average', 'boxd_vote_average', 'ebert_rating', 'audience_rating', 'tm_rating']\n",
        "\n",
        "fig = px.scatter_matrix(\n",
        "    movies_full_df,\n",
        "    dimensions=features,\n",
        "    # color=movies_full_df['mpaa_rating']\n",
        ")\n",
        "fig.update_traces(diagonal_visible=False)\n",
        "fig.show()"
      ],
      "execution_count": null,
      "outputs": [
        {
          "output_type": "display_data",
          "data": {
            "text/html": [
              "<html>\n",
              "<head><meta charset=\"utf-8\" /></head>\n",
              "<body>\n",
              "    <div>\n",
              "            <script src=\"https://cdnjs.cloudflare.com/ajax/libs/mathjax/2.7.5/MathJax.js?config=TeX-AMS-MML_SVG\"></script><script type=\"text/javascript\">if (window.MathJax) {MathJax.Hub.Config({SVG: {font: \"STIX-Web\"}});}</script>\n",
              "                <script type=\"text/javascript\">window.PlotlyConfig = {MathJaxConfig: 'local'};</script>\n",
              "        <script src=\"https://cdn.plot.ly/plotly-latest.min.js\"></script>    \n",
              "            <div id=\"0582d5d5-ee8e-44d5-a335-0fc79ef6d98f\" class=\"plotly-graph-div\" style=\"height:525px; width:100%;\"></div>\n",
              "            <script type=\"text/javascript\">\n",
              "                \n",
              "                    window.PLOTLYENV=window.PLOTLYENV || {};\n",
              "                    \n",
              "                if (document.getElementById(\"0582d5d5-ee8e-44d5-a335-0fc79ef6d98f\")) {\n",
              "                    Plotly.newPlot(\n",
              "                        '0582d5d5-ee8e-44d5-a335-0fc79ef6d98f',\n",
              "                        [{\"diagonal\": {\"visible\": false}, \"dimensions\": [{\"axis\": {\"matches\": true}, \"label\": \"tmdb_vote_average\", \"values\": [8.3, 8.1, 8.3, 8.2, 8.0, 8.1, 7.9, 8.1, 7.9, 8.3, 7.9, 7.9, 8.3, 7.2, 7.9, 7.9, 7.8, 7.1, 8.1, 7.7, 7.2, 7.8, 8.2, 7.9, 8.1, 7.4, 7.3, 8.0, 7.4, 8.0, 7.4, 8.5, 8.0, 7.8, 7.3, 7.5, 7.1, 7.6, 7.7, 7.7, 7.9, 7.8, 7.6, 7.4, 8.0, 7.6, 7.3, 7.7, 7.7, 7.6, 8.1, 7.4, 7.7, 8.1, 7.6, 7.5, 7.7, 7.3, 7.3, 7.3, 7.8, 8.0, 7.5, 7.6, 7.6, 7.9, 7.6, 7.0, 8.1, 8.0, 7.9, 7.5, 7.9, 7.5, 8.0, 7.9, 7.8, 8.3, 7.9, 7.7, 7.6, 7.2, 5.9, 7.3, 7.6, 7.9, 7.3, 7.4, 7.5, 7.5, 6.8, 7.6, 8.2, 8.1, 6.7, 7.1, 6.6, 7.9, 7.0, 6.8, 8.0, 7.5, 7.3, 7.7, 6.3, 7.1, 6.6, 6.9, 7.8, 8.2, 7.4, 6.9, 7.8, 6.7, 7.3, 7.3, 7.4, 7.5, 7.0, 7.5, 6.4, 7.5, 7.8, 7.4, 8.0, 7.3, 7.9, 7.3, 7.3, 8.0, 7.5, 6.8, 6.9, 7.4, 6.9, 7.4, 7.3, 7.2, 7.1, 6.5, 7.7, 7.4, 7.2, 5.7, 7.2, 7.0, 6.7, 7.0, 6.9, 7.8, 6.7, 7.4, 7.4, 7.9, 5.8, 7.5, 7.5, 7.7, 7.4, 7.4, 7.3, 7.6, 8.0, 7.7, 7.1, 6.8, 7.0, 6.7, 7.2, 7.7, 7.6, 7.6, 8.1, 7.3, 7.2, 7.5, 7.3, 6.9, 6.4, 7.8, 7.4, 7.2, 7.5, 7.5, 7.8, 7.0, 7.1, 7.2, 8.1, 8.2, 6.5, 6.5, 6.7, 7.3, 6.7, 5.3, 5.9, 7.8, 7.9, 7.6, 6.7, 7.4, 7.8, 7.6, 7.3, 7.6, 6.5, 7.3, 7.0, 6.6, 7.1, 8.2, 7.6, 7.0, 7.3, 7.4, 7.1, 7.1, 6.5, 6.6, 7.7, 7.4, 7.0, 6.9, 7.8, 7.6, 7.0, 7.2, 6.6, 6.9, 7.1, 7.6, 7.4, 7.4, 7.2, 7.6, 6.3, 7.6, 7.8, 6.1, 7.1, 6.7, 6.5, 6.8, 7.5, 7.7, 7.2, 7.4, 6.7, 6.1, 6.4, 6.4, 7.0, 7.5, 6.4, 7.4, 7.1, 7.5, 6.6, 7.7, 7.1, 6.9, 7.1, 7.7, 7.0, 6.3, 7.3, 6.8, 7.3, 7.1, 6.5, 7.0, 6.9, 6.7, 6.4, 6.3, 7.0, 7.1, 7.1, 7.9, 7.0, 7.3, 7.3, 6.3, 7.6, 7.3, 6.8, 6.3, 7.0, 7.0, 7.8, 7.2, 6.5, 7.1, 7.4, 7.5, 7.1, 7.1, 6.3, 7.3, 7.3, 6.9, 7.1, 7.2, 6.7, 6.5, 6.3, 7.0, 6.3, 6.7, 6.9, 7.2, 6.7, 6.5, 6.2, 5.7, 7.6, 6.6, 7.4, 7.3, 6.6, 6.6, 7.0, 7.0, 7.0, 7.0, 6.7, 7.6, 7.0, 7.8, 6.3, 6.9, 6.5, 6.6, 7.0, 6.7, 7.1, 7.2, 6.7, 7.4, 7.7, 6.7, 6.5, 6.5, 6.7, 6.2, 5.6, 7.7, 7.4, 7.5, 7.2, 6.9, 7.0, 7.0, 5.7, 6.5, 7.0, 6.7, 7.1, 6.3, 7.7, 6.8, 7.3, 7.6, 7.0, 7.4, 6.4, 6.8, 7.3, 7.6, 7.1, 7.8, 6.7, 6.7, 5.6, 6.4, 6.6, 6.2, 6.6, 6.7, 6.0, 7.2, 6.8, 7.0, 7.0, 6.4, 6.4, 6.8, 7.6, 6.6, 7.7, 6.0, 7.1, 7.0, 6.6, 6.1, 7.9, 7.6, 6.5, 7.1, 5.8, 7.1, 7.4, 7.1, 6.6, 6.4, 8.2, 7.0, 6.6, 7.2, 6.9, 5.4, 6.2, 7.1, 7.5, 6.5, 6.8, 7.3, 6.8, 6.1, 6.7, 7.0, 6.5, 7.7, 6.5, 7.2, 7.0, 7.6, 6.7, 6.6, 5.3, 6.9, 6.7, 6.4, 7.4, 7.7, 6.1, 6.0, 6.7, 7.0, 6.1, 5.7, 6.0, 6.9, 7.3, 7.2, 7.3, 6.7, 6.5, 6.2, 7.5, 7.2, 6.8, 7.0, 7.0, 6.4, 6.5, 7.0, 6.7, 7.1, 6.5, 7.2, 7.6, 7.1, 6.9, 6.4, 6.7, 6.6, 5.8, 6.7, 7.5, 6.6, 6.6, 5.6, 6.8, 7.1, 6.9, 6.5, 6.2, 6.7, 6.9, 7.0, 6.8, 6.3, 7.3, 7.3, 6.9, 6.4, 7.1, 7.5, 6.6, 7.6, 6.7, 7.4, 6.8, 6.3, 6.7, 7.7, 6.8, 5.6, 6.5, 6.5, 7.3, 7.5, 5.8, 6.7, 6.7, 6.2, 6.6, 7.7, 7.3, 6.2, 6.7, 6.3, 7.4, 6.8, 7.2, 7.3, 7.1, 6.9, 7.5, 7.0, 6.5, 6.5, 6.0, 6.5, 7.2, 6.7, 6.2, 6.2, 6.0, 6.8, 6.6, 7.6, 5.7, 6.9, 6.8, 6.1, 6.5, 6.5, 6.4, 4.2, 7.1, 6.3, 6.1, 6.5, 6.2, 6.8, 6.7, 5.9, 6.4, 7.3, 5.9, 7.5, 7.3, 6.4, 7.3, 6.2, 7.3, 6.1, 6.8, 6.7, 6.7, 5.9, 7.0, 6.4, 7.2, 6.6, 7.2, 6.0, 6.8, 6.4, 6.5, 7.3, 7.2, 5.9, 6.4, 6.7, 7.3, 7.1, 5.2, 6.9, 7.7, 7.1, 7.0, 6.4, 5.6, 6.4, 6.4, 6.5, 5.6, 6.3, 7.2, 6.8, 6.6, 7.1, 6.3, 6.1, 7.3, 6.9, 6.4, 6.7, 6.7, 6.4, 6.3, 6.6, 7.4, 5.6, 7.2, 7.4, 6.0, 7.9, 6.7, 7.4, 6.3, 7.1, 6.9, 6.7, 7.0, 7.2, 6.2, 6.7, 6.4, 6.9, 6.3, 6.0, 6.5, 6.2, 6.6, 6.3, 7.2, 6.5, 5.9, 6.7, 7.1, 6.3, 6.6, 7.2, 5.9, 6.7, 7.2, 6.9, 7.0, 5.7, 5.5, 7.1, 6.6, 5.2, 7.4, 5.8, 5.9, 6.0, 6.4, 6.1, 7.6, 6.8, 7.7, 6.7, 6.1, 7.3, 7.1, 5.9, 7.1, 7.2, 6.0, 6.5, 7.3, 6.3, 6.2, 7.0, 6.5, 7.3, 6.7, 6.6, 6.3, 7.4, 6.1, 6.7, 7.1, 7.1, 7.4, 6.9, 6.4, 5.1, 6.5, 6.5, 6.1, 7.2, 6.8, 6.4, 6.5, 6.8, 7.2, 7.2, 6.9, 6.3, 7.3, 7.2, 6.2, 6.6, 6.6, 6.2, 5.9, 7.3, 6.8, 6.5, 6.6, 6.3, 5.6, 6.9, 6.4, 7.1, 6.1, 6.0, 7.0, 7.3, 6.6, 6.8, 5.6, 6.4, 6.5, 7.5, 6.4, 6.6, 6.7, 5.9, 6.6, 7.3, 6.7, 6.5, 7.3, 7.4, 6.5, 5.7, 7.0, 7.3, 6.4, 6.0, 7.1, 5.3, 6.5, 7.0, 6.5, 7.0, 4.4, 6.9, 7.1, 4.7, 6.7, 6.6, 7.2, 7.1, 7.0, 6.0, 6.3, 4.9, 7.4, 6.8, 6.7, 6.0, 6.8, 6.6, 6.2, 6.2, 7.1, 7.4, 6.9, 6.8, 6.1, 6.6, 6.3, 6.5, 6.1, 5.9, 6.1, 5.2, 6.5, 6.4, 7.0, 5.7, 6.7, 6.8, 6.7, 5.8, 6.6, 6.5, 7.3, 5.6, 5.4, 5.9, 5.8, 6.3, 6.0, 6.8, 7.0, 7.1, 5.2, 6.0, 7.1, 7.3, 7.1, 6.9, 7.7, 6.5, 6.9, 6.8, 6.4, 6.9, 7.2, 6.1, 7.1, 6.8, 5.9, 7.6, 6.1, 6.8, 5.5, 7.0, 6.5, 7.2, 7.7, 6.3, 5.8, 7.2, 6.3, 7.3, 6.3, 7.2, 7.7, 6.4, 7.0, 7.1, 6.2, 6.3, 6.8, 5.8, 5.8, 7.2, 7.9, 6.7, 6.5, 7.5, 7.3, 6.0, 6.4, 6.2, 6.1, 7.4, 6.6, 6.9, 6.1, 6.3, 6.0, 6.6, 6.6, 5.6, 6.7, 5.8, 6.9, 6.1, 5.6, 6.9, 7.4, 6.2, 6.3, 6.2, 6.8, 6.6, 7.2, 4.9, 6.6, 6.9, 6.5, 6.6, 7.4, 6.8, 5.9, 7.0, 7.0, 7.5, 6.7, 7.5, 6.6, 7.0, 7.1, 6.2, 7.1, 6.0, 6.1, 7.0, 6.6, 6.1, 7.8, 4.9, 6.0, 6.6, 6.5, 6.3, 5.9, 5.8, 6.3, 6.0, 6.5, 5.1, 7.3, 5.4, 5.9, 5.7, 6.0, 5.0, 6.1, 6.6, 6.2, 6.9, 5.9, 5.8, 5.4, 7.3, 6.6, 5.9, 6.9, 5.7, 6.4, 6.7, 7.2, 6.8, 6.2, 6.1, 5.5, 5.7, 6.5, 6.5, 6.6, 6.7, 5.7, 6.5, 7.1, 7.1, 6.8, 6.8, 5.9, 7.0, 5.6, 6.0, 6.5, 6.3, 6.3, 6.8, 7.2, 6.3, 7.1, 6.7, 6.5, 5.9, 6.7, 6.6, 7.5, 6.7, 7.5, 5.4, 6.8, 6.4, 4.9, 7.4, 6.2, 5.2, 6.0, 7.4, 7.2, 6.3, 7.0, 7.4, 5.8, 6.1, 6.7, 6.4, 6.0, 7.3, 6.9, 6.9, 6.4, 7.7, 5.5, 7.6, 7.1, 5.9, 6.7, 6.0, 7.1, 6.1, 7.2, 6.9, 6.9, 6.6, 5.2, 5.9, 6.4, 7.4, 6.7, 7.2, 6.9, 6.5, 5.8, 7.0, 5.5, 6.6, 6.9, 6.2, 5.9, 6.2, 6.6, 7.0, 7.2, 6.1, 5.8, 7.3, 5.8, 6.2, 6.3, 6.6, 6.0, 6.4, 7.3, 6.8, 6.6, 7.3, 6.4, 6.2, 6.0, 5.6, 7.2, 6.6, 7.0, 6.9, 5.8, 6.5, 6.0, 5.8, 4.7, 5.7, 6.1, 5.9, 5.9, 7.0, 6.1, 6.5, 7.0, 6.1, 7.1, 6.5, 7.0, 5.0, 7.0, 6.4, 6.0, 7.0, 6.1, 5.5, 6.5, 6.5, 7.0, 5.3, 7.6, 5.3, 6.3, 5.4, 6.7, 6.1, 7.0, 6.0, 6.7, 5.5, 6.2, 5.4, 7.2, 6.9, 7.3, 6.1, 6.1, 6.7, 5.7, 7.4, 5.9, 6.5, 7.4, 5.7, 6.0, 6.8, 6.9, 6.2, 6.9, 6.7, 5.6, 7.1, 6.9, 5.6, 6.0, 5.9, 6.9, 6.0, 6.8, 6.4, 5.5, 6.6, 7.4, 6.1, 7.0, 6.7, 5.8, 5.9, 7.4, 5.9, 7.4, 5.9, 7.3, 6.0, 7.2, 7.3, 6.5, 5.8, 5.7, 5.6, 7.4, 7.4, 6.2, 6.8, 5.8, 5.9, 6.0, 6.6, 6.6, 6.3, 6.0, 6.8, 6.1, 5.8, 6.4, 7.3, 6.6, 6.4, 5.9, 6.3, 5.2, 5.9, 6.4, 6.2, 6.1, 7.4, 6.4, 6.8, 6.8, 6.6, 7.5, 6.3, 6.9, 7.8, 6.6, 5.9, 6.4, 6.8, 7.2, 7.1, 6.2, 7.4, 6.1, 5.9, 6.1, 6.6, 6.1, 6.4, 6.3, 6.1, 6.2, 6.8, 6.6, 4.1, 5.7, 6.6, 6.7, 4.7, 5.8, 5.4, 7.4, 6.1, 5.9, 5.5, 5.9, 4.2, 6.6, 6.7, 5.8, 6.2, 5.6, 6.4, 6.8, 5.9, 6.5, 6.3, 6.8, 7.0, 6.5, 7.3, 5.9, 6.7, 5.1, 7.4, 6.2, 6.7, 6.2, 5.8, 5.7, 5.7, 6.3, 6.4, 7.0, 5.8, 7.0, 6.5, 5.6, 5.8, 7.5, 6.5, 6.7, 7.0, 6.2, 7.2, 7.1, 5.7, 6.3, 6.1, 5.5, 7.2, 5.1, 6.6, 6.7, 5.9, 6.6, 6.0, 7.0, 5.7, 6.0, 6.5, 5.8, 5.2, 5.9, 6.3, 5.7, 6.3, 7.4, 5.8, 4.5, 5.1, 5.9, 6.2, 7.3, 6.5, 6.7, 5.8, 6.2, 5.6, 6.5, 5.8, 5.7, 6.4, 6.8, 6.1, 6.0, 5.5, 5.8, 6.3, 5.1, 5.9, 6.5, 6.5, 7.0, 6.6, 7.0, 6.4, 7.2, 6.5, 5.8, 5.7, 6.4, 6.2, 6.8, 7.0, 5.6, 6.7, 6.1, 6.4, 5.7, 6.0, 5.6, 5.6, 5.4, 5.5, 6.2, 6.3, 5.8, 6.1, 5.6, 5.8, 6.2, 6.6, 6.2, 5.4, 6.3, 5.4, 6.7, 5.2, 6.1, 6.3, 6.5, 7.0, 6.9, 5.6, 5.1, 5.9, 6.9, 6.8, 4.4, 6.9, 5.9, 6.2, 5.6, 6.3, 5.2, 7.3, 6.4, 7.2, 7.0, 6.8, 6.7, 7.4, 4.7, 6.1, 6.7, 6.5, 6.2, 6.1, 5.9, 7.2, 7.2, 5.1, 6.0, 7.4, 6.2, 5.8, 5.5, 5.7, 5.6, 6.9, 6.1, 5.9, 6.6, 6.9, 5.5, 5.3, 6.6, 6.6, 6.0, 6.2, 7.3, 5.5, 7.2, 6.4, 4.8, 5.6, 5.8, 5.9, 6.3, 6.4, 6.3, 6.5, 5.5, 6.7, 5.7, 6.7, 5.6, 7.0, 5.5, 6.1, 6.6, 5.8, 5.1, 7.1, 6.9, 6.2, 6.2, 6.0, 5.5, 5.9, 6.9, 6.7, 5.0, 6.0, 6.5, 4.7, 6.3, 6.3, 7.3, 6.3, 7.5, 6.2, 6.0, 5.3, 6.9, 6.3, 6.5, 5.6, 5.8, 5.6, 6.6, 6.7, 6.9, 5.6, 5.7, 6.6, 5.2, 6.1, 5.1, 6.0, 7.0, 5.2, 6.5, 7.1, 6.9, 5.6, 6.4, 6.5, 7.3, 5.4, 5.4, 6.3, 7.3, 5.3, 4.0, 7.3, 6.8, 5.9, 6.1, 5.4, 5.9, 6.9, 5.0, 6.2, 6.8, 6.9, 7.2, 7.1, 6.2, 6.7, 6.6, 6.3, 5.3, 6.7, 5.5, 6.0, 6.9, 6.1, 7.0, 6.2, 7.0, 6.6, 6.2, 6.0, 6.4, 6.6, 6.5, 6.0, 6.5, 6.6, 6.7, 5.8, 5.2, 5.6, 5.3, 5.6, 5.0, 6.6, 5.0, 5.8, 5.9, 5.4, 5.6, 7.5, 6.0, 6.7, 6.3, 5.6, 7.0, 6.6, 6.4, 6.9, 5.2, 4.6, 5.9, 6.4, 6.0, 6.8, 6.3, 6.9, 6.1, 5.9, 6.4, 4.6, 6.8, 6.4, 6.6, 5.4, 7.4, 5.6, 6.6, 6.9, 4.5, 5.7, 5.8, 5.6, 4.9, 7.2, 5.8, 5.9, 4.9, 6.0, 5.9, 6.4, 6.2, 5.5, 7.8, 6.5, 5.3, 6.3, 7.3, 6.6, 7.0, 6.5, 6.5, 5.6, 7.0, 6.8, 6.3, 6.2, 6.9, 6.6, 6.2, 5.1, 4.9, 6.6, 6.6, 6.0, 7.4, 6.0, 6.7, 5.7, 6.6, 6.4, 6.3, 6.1, 6.8, 5.2, 5.7, 5.5, 5.2, 6.8, 5.1, 6.5, 6.1, 6.3, 5.4, 6.5, 6.6, 6.2, 5.7, 6.8, 5.5, 6.1, 6.2, 5.6, 5.8, 5.2, 6.6, 6.0, 7.0, 6.2, 5.4, 6.0, 5.9, 6.1, 6.3, 7.1, 6.3, 6.9, 5.0, 5.8, 5.8, 6.1, 5.2, 6.0, 6.2, 5.7, 6.4, 6.2, 5.5, 6.7, 6.2, 5.9, 6.1, 6.7, 6.3, 6.4, 6.2, 6.8, 7.2, 6.2, 5.6, 6.0, 7.0, 5.9, 6.6, 6.1, 5.2, 6.8, 6.5, 7.4, 6.5, 6.3, 4.9, 5.3, 5.7, 4.3, 6.3, 6.2, 7.0, 5.9, 5.6, 5.3, 5.7, 5.9, 6.9, 6.7, 6.5, 6.0, 6.7, 6.4, 7.2, 6.6, 5.9, 6.1, 5.9, 5.6, 5.6, 6.7, 5.6, 7.0, 5.9, 6.7, 6.8, 7.5, 5.6, 6.2, 5.8, 6.3, 6.7, 5.9, 5.3, 6.2, 5.1, 6.0, 6.4, 6.7, 6.1, 5.6, 6.0, 5.9, 6.8, 7.2, 7.3, 5.8, 6.7, 6.3, 5.1, 6.5, 6.7, 6.7, 6.1, 6.2, 6.0, 6.5, 5.1, 5.5, 6.4, 5.2, 7.2, 6.8, 6.5, 6.4, 6.0, 6.6, 6.2, 7.1, 6.2, 6.7, 6.7, 4.8, 5.8, 7.8, 5.8, 7.1, 5.6, 6.9, 6.8, 7.1, 5.6, 6.0, 5.7, 6.4, 6.3, 7.3, 5.3, 7.0, 4.8, 6.3, 5.3, 6.4, 5.3, 5.5, 5.4, 5.5, 6.2, 5.3, 5.6, 5.9, 6.7, 7.4, 7.7, 5.4, 5.4, 5.3, 6.3, 6.8, 7.3, 6.6, 5.1, 6.4, 6.1, 6.8, 5.5, 7.4, 5.9, 7.1, 6.8, 6.1, 5.6, 6.4, 5.6, 5.8, 6.0, 5.4, 6.4, 5.6, 7.3, 5.6, 5.8, 6.9, 7.0, 6.5, 5.0, 5.8, 5.7, 6.9, 5.4, 6.5, 4.3, 6.6, 7.2, 7.3, 5.8, 6.8, 6.5, 7.1, 6.3, 4.1, 6.4, 5.5, 5.7, 5.7, 6.7, 5.8, 5.4, 6.9, 6.1, 5.7, 5.2, 5.7, 6.1, 5.8, 6.2, 5.5, 6.4, 7.4, 6.0, 6.4, 6.0, 2.9, 5.6, 5.0, 6.2, 5.6, 5.6, 6.1, 6.9, 5.5, 7.0, 5.7, 6.9, 6.9, 5.8, 6.8, 5.4, 6.9, 5.4, 5.6, 7.0, 6.4, 6.2, 6.9, 6.7, 6.3, 5.9, 7.3, 6.3, 6.0, 5.9, 6.8, 5.2, 4.8, 6.0, 5.5, 6.2, 5.7, 6.0, 5.5, 6.1, 6.2, 3.2, 6.3, 5.3, 6.8, 7.0, 4.1, 6.0, 6.3, 7.2, 5.3, 7.0, 5.5, 5.3, 5.8, 6.3, 6.2, 5.5, 5.2, 6.7, 5.5, 7.2, 6.9, 5.2, 6.7, 6.4, 5.3, 6.5, 5.3, 5.6, 3.8, 6.5, 6.5, 6.4, 6.4, 6.5, 6.2, 4.7, 4.9, 5.4, 6.3, 4.9, 6.3, 5.9, 5.8, 5.3, 7.3, 6.2, 5.8, 6.7, 6.1, 6.5, 6.8, 6.1, 6.4, 5.1, 7.1, 5.3, 6.6, 6.6, 6.7, 7.0, 5.3, 6.1, 6.6, 6.4, 6.1, 6.0, 5.3, 6.4, 5.6, 5.9, 6.0, 5.9, 5.3, 4.6, 5.3, 5.4, 5.6, 5.5, 4.9, 5.7, 6.4, 5.7, 5.5, 6.6, 6.2, 6.7, 6.2, 5.9, 5.8, 3.6, 5.6, 6.6, 5.5, 6.8, 6.1, 5.9, 6.8, 6.5, 6.7, 5.5, 6.3, 5.3, 6.0, 4.9, 5.9, 5.9, 6.4, 6.9, 5.7, 6.5, 5.7, 5.8, 7.0, 6.3, 6.5, 5.7, 6.4, 5.4, 5.9, 6.9, 4.1, 5.6, 6.5, 6.0, 5.5, 4.2, 6.6, 5.1, 5.9, 5.5, 6.1, 5.7, 5.5, 6.3, 5.4, 6.0, 5.8, 5.6, 5.2, 5.2, 6.3, 7.1, 6.4, 6.3, 5.1, 7.0, 6.6, 5.0, 6.9, 5.8, 5.7, 5.9, 6.5, 5.7, 5.7, 5.7, 4.3, 7.0, 5.9, 7.3, 6.3, 5.7, 3.0, 6.5, 5.4, 6.6, 5.4, 6.0, 5.5, 7.3, 6.7, 5.5, 6.2, 6.3, 6.1, 6.1, 5.8, 5.0, 6.4, 6.1, 5.2, 6.5, 5.9, 5.8, 6.6, 6.9, 5.5, 6.0, 5.9, 6.9, 6.6, 4.4, 6.5, 5.3, 5.0, 6.0, 5.3, 6.7, 5.8, 5.3, 5.3, 6.7, 6.4, 6.0, 5.3, 6.3, 6.5, 6.4, 5.7, 7.2, 6.0, 6.1, 6.0, 7.3, 7.0, 5.4, 6.9, 6.5, 6.5, 6.2, 6.1, 6.2, 6.0, 6.2, 7.2, 7.0, 6.3, 5.8, 6.3, 6.3, 5.9, 6.3, 4.8, 6.4, 6.2, 5.3, 6.5, 4.1, 7.0, 6.7, 6.9, 6.3, 5.5, 6.2, 4.3, 6.4, 4.6, 5.8, 5.9, 4.2, 6.3, 6.7, 5.4, 6.8, 5.7, 5.7, 6.8, 6.2, 6.0, 6.8, 6.2, 6.1, 5.5, 6.4, 6.0, 4.8, 6.1, 6.4, 5.8, 6.5, 5.0, 4.7, 6.8, 5.0, 5.5, 6.7, 6.5, 6.4, 3.7, 5.9, 5.4, 5.4, 6.1, 6.3, 5.9, 6.9, 5.5, 5.8, 4.2, 5.2, 5.0, 5.8, 5.7, 4.9, 7.1, 3.7, 6.0, 6.6, 5.4, 5.5, 5.6, 5.2, 6.8, 6.2, 7.0, 5.7, 6.4, 5.7, 6.1, 6.1, 5.8, 6.5, 6.1, 6.6, 5.9, 5.4, 6.9, 5.5, 6.8, 6.5, 5.9, 6.1, 6.1, 6.5, 5.8, 6.3, 6.0, 6.7, 6.9, 5.8, 6.6, 6.6, 5.4, 6.0, 6.0, 7.1, 6.4, 6.0, 5.1, 6.1, 6.0, 5.5, 6.8, 5.3, 6.7, 6.7, 5.9, 6.3, 7.0, 5.9, 5.7, 7.0, 6.7, 6.1, 6.7, 7.1, 6.5, 6.5, 5.7, 4.6, 5.5, 6.1, 4.7, 6.4, 6.3, 7.4, 5.3, 4.7, 6.1, 6.4, 6.2, 6.7, 6.6, 7.7, 6.9]}, {\"axis\": {\"matches\": true}, \"label\": \"imdb_vote_average\", \"values\": [8.9, 8.8, 8.8, 9.0, 8.1, 8.6, 8.3, 8.4, 8.2, 8.5, 8.1, 8.0, 8.6, 8.1, 8.3, 8.0, 8.4, 7.7, 8.6, 8.1, 7.5, 8.1, 8.8, 8.7, 8.6, 8.0, 8.0, 8.1, 8.0, 8.8, 7.8, 9.3, 8.5, 8.2, 7.6, 8.0, 7.8, 7.8, 8.1, 8.2, 8.1, 8.4, 7.7, 7.9, 8.3, 8.1, 7.7, 8.0, 8.3, 8.0, 8.4, 8.0, 7.9, 8.9, 8.4, 7.8, 7.9, 8.0, 7.3, 7.7, 8.1, 8.7, 7.9, 8.1, 7.8, 8.3, 7.8, 7.3, 8.1, 8.5, 8.3, 8.1, 8.2, 8.2, 8.5, 8.5, 8.3, 8.9, 8.3, 8.1, 8.0, 7.8, 5.9, 7.3, 8.2, 8.1, 7.9, 7.4, 7.8, 7.7, 7.1, 8.2, 8.2, 8.1, 7.1, 7.5, 7.0, 8.6, 7.6, 7.3, 8.4, 7.9, 7.7, 8.1, 6.5, 7.6, 7.0, 7.2, 8.1, 8.4, 7.5, 7.0, 8.1, 7.3, 7.9, 7.2, 7.6, 7.9, 7.4, 8.2, 6.5, 7.9, 7.8, 7.8, 8.0, 7.8, 8.1, 7.7, 7.4, 8.3, 7.7, 6.8, 6.8, 7.6, 7.7, 7.9, 7.8, 7.6, 7.4, 7.0, 8.1, 7.7, 7.6, 6.4, 7.7, 7.3, 7.2, 6.9, 7.7, 8.1, 7.1, 7.5, 7.5, 8.5, 5.2, 7.7, 7.9, 7.8, 7.7, 8.0, 7.8, 8.1, 8.5, 8.5, 7.5, 7.2, 7.2, 6.6, 7.9, 8.3, 7.6, 8.1, 8.6, 8.0, 7.5, 8.0, 7.7, 7.3, 6.4, 8.0, 7.8, 7.7, 7.9, 8.1, 7.8, 7.8, 7.7, 7.8, 8.5, 8.6, 6.9, 7.0, 7.2, 8.0, 7.0, 5.3, 6.2, 8.1, 8.0, 7.9, 7.1, 8.0, 7.7, 8.2, 7.5, 8.0, 7.3, 7.2, 7.6, 7.1, 7.7, 8.5, 8.0, 7.2, 7.6, 7.6, 7.2, 7.6, 6.8, 6.6, 8.2, 7.9, 7.3, 7.3, 8.1, 7.8, 7.4, 7.3, 7.4, 7.6, 7.5, 8.0, 7.9, 7.5, 7.5, 8.0, 6.5, 8.0, 8.2, 6.7, 7.3, 7.0, 6.6, 7.2, 7.7, 7.8, 7.4, 7.9, 6.9, 6.3, 6.4, 7.0, 7.6, 7.7, 6.9, 7.6, 7.7, 7.8, 6.6, 8.3, 7.6, 7.3, 7.4, 8.2, 7.6, 7.0, 7.9, 7.2, 7.1, 7.4, 7.0, 7.5, 7.2, 7.0, 6.2, 6.6, 7.2, 7.6, 7.3, 8.3, 7.6, 7.6, 7.7, 6.8, 7.8, 7.5, 7.4, 6.4, 7.0, 7.5, 8.3, 7.6, 6.7, 7.7, 7.8, 7.8, 7.5, 7.6, 6.8, 7.6, 7.7, 7.2, 7.5, 7.6, 7.2, 7.0, 6.4, 7.5, 6.9, 6.7, 7.3, 7.6, 6.9, 6.8, 6.7, 6.3, 7.3, 6.9, 7.6, 7.7, 7.2, 6.9, 7.3, 7.6, 7.3, 6.8, 7.1, 7.7, 7.0, 8.0, 6.2, 7.3, 6.5, 7.0, 7.1, 7.1, 7.4, 7.5, 7.2, 7.6, 8.3, 6.9, 6.5, 6.4, 7.2, 6.2, 4.7, 8.0, 7.3, 7.9, 8.0, 7.3, 7.5, 7.5, 6.1, 6.5, 7.0, 7.4, 7.2, 6.7, 8.1, 7.4, 7.8, 8.0, 7.5, 7.9, 6.6, 7.2, 7.9, 7.8, 7.3, 8.1, 6.9, 7.0, 6.1, 7.0, 7.0, 6.6, 7.0, 7.1, 6.1, 7.3, 7.0, 7.4, 7.3, 6.7, 6.5, 6.8, 7.7, 6.8, 8.2, 5.7, 7.3, 7.2, 7.1, 6.5, 8.3, 7.8, 6.8, 7.5, 5.0, 7.6, 7.7, 7.0, 6.8, 6.7, 8.4, 7.3, 7.2, 7.5, 7.2, 5.1, 6.6, 7.4, 7.7, 6.7, 7.2, 7.7, 7.2, 5.5, 6.5, 7.6, 6.9, 8.2, 6.9, 7.6, 7.5, 7.9, 7.3, 6.9, 6.7, 6.6, 6.7, 6.7, 7.6, 7.8, 6.6, 6.4, 7.4, 7.0, 6.5, 6.1, 6.2, 7.2, 7.7, 7.8, 7.1, 7.2, 6.7, 6.3, 7.9, 7.8, 7.2, 7.3, 7.4, 6.9, 6.6, 7.3, 7.0, 7.3, 7.0, 7.6, 7.4, 7.4, 7.3, 6.9, 7.3, 7.0, 6.1, 6.9, 8.1, 7.0, 7.4, 5.7, 7.1, 7.5, 7.3, 7.3, 6.4, 6.8, 7.2, 7.5, 7.2, 6.4, 7.9, 8.0, 7.0, 7.0, 7.3, 7.8, 7.1, 7.9, 7.2, 7.7, 7.1, 6.8, 7.1, 8.1, 7.0, 5.8, 6.9, 6.9, 7.6, 7.9, 6.0, 6.9, 7.2, 6.5, 6.8, 8.3, 7.9, 6.8, 7.1, 6.6, 7.7, 7.2, 7.6, 7.4, 6.5, 6.9, 7.9, 7.5, 6.5, 7.0, 6.2, 6.8, 7.8, 6.7, 6.4, 6.4, 6.3, 7.0, 6.7, 8.0, 5.9, 7.4, 7.1, 6.0, 6.8, 6.8, 6.9, 3.8, 7.3, 6.8, 6.2, 6.5, 6.5, 7.3, 6.9, 6.1, 7.1, 7.8, 6.3, 8.2, 8.0, 6.8, 7.5, 5.9, 7.6, 6.6, 7.1, 7.2, 7.1, 6.5, 7.3, 6.7, 7.2, 6.7, 7.7, 6.2, 6.4, 7.0, 7.1, 7.8, 7.5, 6.4, 6.6, 7.2, 7.4, 7.1, 5.4, 7.2, 8.0, 7.3, 7.5, 6.4, 5.7, 6.5, 6.7, 6.6, 5.6, 6.7, 7.7, 7.2, 7.0, 7.5, 6.7, 6.3, 7.6, 7.3, 6.8, 7.0, 6.7, 6.9, 5.6, 7.0, 7.5, 5.9, 7.7, 7.8, 6.3, 8.4, 7.4, 7.7, 6.5, 7.4, 7.4, 7.0, 7.2, 7.8, 6.6, 6.9, 6.7, 7.2, 6.6, 5.9, 7.0, 6.9, 6.8, 6.6, 7.5, 7.0, 6.4, 7.1, 7.5, 6.4, 7.0, 7.7, 6.0, 7.3, 7.5, 7.1, 7.6, 6.2, 5.5, 7.7, 7.1, 4.1, 7.2, 5.9, 6.5, 6.0, 6.8, 6.3, 7.7, 7.1, 8.1, 7.3, 6.4, 7.7, 7.6, 6.0, 7.4, 7.2, 5.9, 7.1, 7.5, 6.6, 6.5, 7.1, 6.6, 7.5, 7.0, 6.8, 6.7, 7.7, 6.2, 7.0, 7.4, 7.4, 7.8, 7.4, 6.3, 5.5, 7.1, 6.9, 6.2, 7.7, 7.2, 6.3, 6.9, 7.3, 7.6, 7.7, 7.1, 6.6, 7.8, 7.6, 4.9, 6.9, 7.1, 6.3, 6.2, 7.4, 7.1, 6.7, 7.1, 6.7, 5.4, 7.1, 6.7, 7.3, 6.1, 6.4, 7.2, 7.7, 6.7, 7.0, 5.7, 6.6, 7.0, 7.5, 6.7, 7.2, 7.2, 6.2, 7.0, 7.8, 7.1, 7.3, 7.5, 7.7, 7.0, 5.6, 7.4, 7.6, 6.8, 5.8, 7.2, 5.6, 6.9, 7.2, 6.9, 7.5, 4.2, 7.5, 7.5, 4.0, 7.3, 6.9, 7.7, 7.4, 6.9, 6.6, 6.5, 4.0, 7.7, 7.1, 6.6, 6.8, 7.3, 6.7, 6.6, 6.4, 7.7, 7.9, 7.3, 7.2, 6.2, 6.4, 6.3, 6.9, 6.1, 6.6, 6.4, 5.3, 6.8, 6.6, 7.0, 6.0, 6.8, 7.2, 7.1, 6.2, 7.1, 6.6, 7.6, 5.7, 5.1, 6.2, 5.6, 7.0, 6.1, 7.2, 7.3, 7.3, 5.3, 6.5, 7.3, 7.8, 7.4, 7.5, 8.0, 6.8, 7.4, 7.2, 6.8, 7.4, 7.7, 6.2, 7.6, 7.0, 6.3, 8.0, 6.2, 6.9, 5.2, 7.5, 7.0, 7.9, 8.2, 6.4, 6.2, 7.7, 6.7, 7.6, 6.5, 7.8, 7.8, 6.6, 7.1, 7.7, 6.7, 6.6, 7.3, 6.1, 6.3, 7.6, 8.3, 7.1, 7.0, 8.0, 7.6, 6.5, 7.1, 6.5, 6.0, 7.2, 7.0, 7.7, 6.3, 6.5, 6.1, 6.9, 6.8, 5.7, 7.2, 5.9, 7.3, 6.4, 5.5, 7.4, 7.8, 6.3, 6.6, 6.3, 7.1, 7.2, 7.6, 5.0, 7.0, 7.1, 6.6, 7.0, 7.4, 7.1, 6.3, 7.2, 7.2, 7.7, 6.9, 8.1, 6.8, 7.5, 7.5, 6.4, 7.4, 6.5, 6.4, 7.6, 7.0, 6.4, 8.2, 4.9, 6.1, 6.2, 6.6, 6.5, 6.7, 5.7, 6.3, 6.2, 6.7, 5.3, 7.8, 5.3, 6.3, 5.9, 6.1, 5.0, 6.2, 6.6, 6.4, 7.1, 6.5, 5.8, 6.0, 7.7, 7.1, 6.4, 7.3, 6.1, 6.6, 6.9, 7.7, 7.3, 6.6, 5.9, 5.6, 5.8, 6.2, 7.1, 6.8, 6.7, 5.9, 6.6, 7.7, 7.6, 6.5, 7.3, 6.2, 7.3, 5.8, 6.4, 6.8, 6.9, 6.2, 7.3, 7.6, 6.8, 7.5, 6.9, 7.0, 5.9, 6.8, 7.1, 7.3, 7.3, 7.4, 5.6, 7.1, 7.1, 5.2, 7.2, 6.5, 5.2, 6.3, 7.8, 7.6, 6.7, 6.9, 7.7, 6.1, 6.2, 7.5, 6.6, 6.4, 7.4, 7.1, 7.2, 6.6, 8.1, 5.5, 7.7, 7.5, 6.2, 7.0, 6.6, 7.6, 6.4, 7.5, 7.6, 7.2, 7.0, 5.0, 6.1, 6.6, 7.6, 7.2, 7.6, 7.1, 7.0, 6.0, 7.3, 5.7, 7.3, 7.2, 6.6, 6.3, 6.4, 6.9, 7.4, 7.8, 6.3, 6.1, 7.3, 5.4, 6.5, 6.8, 6.8, 6.4, 6.7, 7.7, 6.9, 7.2, 7.2, 6.8, 6.7, 6.5, 5.8, 7.5, 6.7, 7.3, 7.4, 5.8, 7.2, 5.9, 5.5, 4.3, 6.1, 6.8, 5.8, 6.3, 7.4, 6.4, 6.8, 7.3, 6.6, 7.3, 6.8, 7.3, 4.8, 7.5, 6.7, 6.0, 7.3, 6.1, 5.4, 7.0, 7.1, 7.4, 5.4, 8.0, 5.3, 6.3, 5.8, 6.8, 6.3, 7.2, 6.4, 7.0, 6.2, 6.5, 5.8, 7.5, 7.3, 7.7, 6.6, 6.2, 7.0, 5.7, 7.8, 5.8, 7.0, 8.0, 5.7, 6.4, 7.5, 7.4, 6.3, 7.0, 6.9, 6.3, 7.5, 7.3, 5.7, 6.0, 6.3, 6.4, 6.4, 7.2, 6.5, 5.8, 6.9, 7.7, 6.2, 7.4, 6.9, 6.1, 6.1, 7.5, 5.7, 7.7, 6.0, 7.9, 6.4, 7.5, 7.6, 6.9, 5.9, 6.0, 6.2, 7.7, 8.0, 6.5, 7.2, 6.2, 5.6, 4.6, 7.0, 7.0, 6.5, 6.4, 7.1, 6.3, 6.2, 6.8, 7.3, 7.0, 6.4, 5.8, 6.6, 4.9, 6.2, 6.5, 6.6, 6.4, 7.7, 6.7, 7.2, 7.2, 6.9, 7.6, 6.5, 7.3, 8.0, 6.5, 6.3, 6.3, 7.0, 7.7, 7.2, 6.4, 7.5, 6.5, 6.1, 6.2, 7.1, 6.4, 7.1, 6.8, 6.0, 6.5, 7.1, 6.8, 3.3, 6.0, 6.8, 7.3, 4.8, 5.6, 5.2, 7.7, 6.6, 6.2, 5.8, 6.3, 3.4, 7.1, 7.0, 6.1, 6.4, 5.5, 6.5, 6.6, 6.2, 6.8, 6.5, 7.1, 7.3, 7.1, 7.6, 5.5, 7.3, 5.4, 7.6, 6.6, 7.1, 6.5, 5.8, 5.9, 5.7, 5.6, 7.1, 7.2, 5.8, 7.4, 7.0, 5.9, 5.4, 7.7, 6.7, 7.1, 7.1, 6.1, 7.4, 7.4, 6.1, 6.5, 6.2, 5.4, 7.4, 4.9, 6.9, 7.1, 5.9, 6.8, 6.3, 7.3, 5.8, 6.4, 6.6, 6.2, 5.3, 6.2, 6.5, 5.5, 6.7, 7.6, 5.9, 4.4, 5.4, 6.3, 6.2, 7.3, 6.7, 7.1, 5.9, 6.5, 5.4, 6.6, 6.0, 5.9, 6.6, 7.2, 6.2, 6.2, 5.9, 5.7, 6.7, 4.8, 5.6, 7.2, 6.8, 6.8, 6.8, 7.5, 6.7, 7.9, 7.1, 6.2, 6.3, 6.6, 6.4, 6.9, 7.3, 5.8, 7.2, 6.7, 6.8, 5.8, 6.3, 5.7, 5.7, 5.5, 5.4, 6.1, 6.8, 6.0, 6.4, 5.2, 5.8, 6.7, 6.5, 6.6, 5.4, 6.4, 5.6, 6.7, 5.2, 6.1, 6.7, 6.5, 7.2, 7.2, 5.7, 4.8, 6.1, 7.3, 6.9, 4.3, 7.3, 6.3, 6.0, 5.3, 6.5, 5.3, 6.7, 6.5, 7.7, 7.4, 7.5, 7.2, 7.7, 4.7, 6.1, 6.9, 6.6, 6.5, 6.0, 6.2, 7.6, 7.7, 4.8, 6.3, 7.8, 6.4, 6.1, 6.2, 6.0, 5.8, 7.0, 6.4, 6.0, 7.3, 7.2, 5.6, 5.1, 6.3, 6.9, 6.2, 6.7, 7.3, 5.9, 7.5, 6.6, 4.6, 6.1, 5.7, 6.2, 6.7, 6.4, 6.7, 6.5, 5.7, 6.8, 5.8, 6.8, 6.1, 6.8, 5.8, 6.7, 6.9, 6.2, 4.7, 7.2, 7.4, 6.2, 6.4, 6.1, 5.8, 6.3, 7.6, 6.5, 4.9, 6.1, 6.9, 4.3, 6.6, 6.6, 7.8, 6.5, 7.8, 6.5, 6.5, 5.5, 6.9, 6.6, 6.8, 5.8, 6.0, 5.6, 6.8, 7.2, 6.9, 6.0, 6.1, 7.0, 5.1, 6.3, 4.9, 6.4, 7.6, 5.1, 6.7, 7.5, 7.4, 5.8, 6.8, 7.1, 7.6, 5.6, 5.5, 6.5, 8.0, 5.5, 4.1, 7.8, 7.0, 6.2, 6.4, 5.6, 6.1, 7.5, 5.3, 6.3, 7.4, 7.4, 7.6, 7.4, 6.6, 6.8, 7.0, 6.6, 5.4, 7.1, 5.7, 6.4, 7.3, 6.5, 7.2, 6.4, 6.8, 6.9, 6.4, 6.3, 6.6, 6.9, 6.8, 6.2, 7.0, 6.8, 7.1, 6.0, 5.4, 6.1, 5.7, 5.6, 4.8, 6.5, 5.1, 5.8, 6.1, 5.8, 5.7, 7.6, 6.4, 7.1, 6.6, 5.8, 7.3, 6.8, 6.6, 6.0, 5.4, 4.6, 6.2, 6.7, 6.1, 6.8, 6.4, 7.3, 6.5, 6.3, 6.6, 4.9, 7.4, 6.6, 6.9, 5.5, 7.7, 5.9, 6.9, 7.0, 4.0, 5.8, 5.9, 6.0, 4.9, 6.8, 6.3, 6.3, 4.8, 6.1, 6.4, 6.7, 6.4, 5.5, 8.0, 6.7, 5.4, 6.8, 7.5, 6.7, 7.2, 6.8, 6.8, 6.3, 7.1, 7.2, 6.7, 6.5, 7.3, 7.0, 6.4, 5.1, 5.1, 7.0, 6.7, 5.9, 8.0, 6.6, 6.9, 6.2, 6.9, 6.7, 6.3, 6.1, 7.3, 5.4, 5.5, 5.3, 4.6, 7.4, 5.2, 6.9, 6.4, 6.7, 5.3, 6.4, 6.9, 6.5, 5.4, 7.2, 5.7, 6.2, 6.5, 5.6, 6.1, 5.8, 6.8, 5.8, 7.6, 6.4, 5.3, 6.2, 6.3, 6.3, 6.9, 7.5, 6.6, 7.5, 5.2, 6.1, 5.8, 6.3, 5.4, 6.0, 6.6, 5.6, 6.9, 5.9, 6.2, 7.2, 6.4, 5.7, 6.4, 7.2, 6.6, 6.7, 6.2, 7.2, 7.5, 6.1, 5.8, 6.2, 7.4, 6.4, 7.1, 6.5, 5.5, 7.3, 6.8, 8.0, 6.8, 6.6, 4.5, 5.5, 6.1, 4.2, 6.6, 6.5, 7.2, 6.3, 6.0, 5.1, 6.3, 6.4, 7.0, 6.9, 6.7, 6.3, 7.0, 6.7, 7.6, 6.7, 4.4, 6.5, 6.1, 6.3, 6.0, 7.1, 5.8, 7.1, 6.4, 7.0, 7.1, 7.9, 5.5, 6.6, 5.4, 6.4, 6.9, 6.1, 5.5, 6.3, 4.7, 6.3, 6.4, 7.1, 6.4, 5.5, 5.9, 6.2, 6.9, 7.1, 7.7, 5.8, 6.9, 6.6, 5.5, 7.1, 7.0, 7.2, 6.4, 6.7, 6.4, 6.8, 4.7, 5.6, 6.7, 5.5, 7.3, 7.3, 6.7, 6.7, 6.2, 6.9, 6.3, 7.4, 6.3, 7.1, 6.8, 4.7, 6.4, 8.3, 6.0, 7.4, 5.3, 7.0, 7.2, 7.3, 5.5, 6.4, 5.7, 6.9, 6.3, 7.5, 5.6, 7.1, 4.8, 6.6, 5.0, 6.9, 5.3, 5.4, 5.8, 5.6, 6.5, 5.7, 5.2, 6.2, 7.3, 7.6, 7.8, 5.6, 4.5, 5.2, 6.6, 7.5, 7.8, 7.0, 5.0, 6.6, 6.2, 7.5, 5.8, 7.9, 6.0, 7.3, 7.1, 6.5, 5.6, 6.4, 5.7, 6.0, 6.0, 4.3, 6.8, 6.0, 7.4, 6.1, 5.7, 7.3, 7.5, 6.8, 5.2, 5.8, 6.0, 7.4, 5.5, 6.8, 4.4, 7.2, 7.6, 7.7, 6.2, 7.1, 6.8, 7.4, 6.9, 4.0, 6.5, 5.8, 6.0, 5.6, 7.0, 6.0, 5.8, 6.8, 6.2, 6.0, 5.3, 5.9, 6.3, 6.3, 6.4, 5.9, 6.7, 7.2, 6.2, 6.6, 5.9, 2.5, 6.0, 4.4, 6.4, 5.8, 5.5, 6.3, 7.4, 5.7, 7.5, 5.9, 6.7, 7.3, 5.9, 7.3, 5.5, 7.1, 5.4, 5.9, 7.2, 6.7, 6.5, 7.3, 6.8, 6.7, 6.3, 7.5, 6.2, 6.0, 6.4, 7.0, 5.5, 4.9, 5.3, 5.7, 6.5, 6.1, 6.2, 5.4, 6.4, 6.2, 2.4, 6.6, 5.2, 6.9, 7.3, 3.7, 6.2, 6.7, 7.7, 5.5, 7.1, 5.7, 5.5, 6.1, 6.6, 6.6, 6.1, 5.0, 6.6, 5.6, 8.0, 7.3, 5.5, 6.9, 6.8, 5.6, 6.6, 5.7, 5.9, 3.7, 7.1, 6.8, 6.8, 6.4, 7.0, 6.7, 3.5, 5.4, 5.3, 6.5, 4.6, 6.6, 6.2, 6.1, 5.6, 7.3, 6.6, 5.9, 7.1, 6.2, 6.9, 6.8, 6.2, 6.6, 4.9, 7.6, 5.4, 6.9, 6.9, 6.8, 6.8, 5.4, 6.2, 6.9, 6.5, 6.4, 5.9, 5.3, 6.5, 5.1, 5.9, 5.6, 6.1, 5.4, 5.3, 5.9, 5.5, 5.6, 5.9, 3.8, 5.9, 6.7, 6.0, 5.3, 6.8, 6.2, 7.0, 6.6, 6.1, 6.2, 2.2, 5.9, 7.2, 6.0, 7.1, 6.3, 6.4, 6.4, 7.0, 7.2, 5.0, 6.4, 5.4, 6.4, 5.0, 6.3, 6.3, 6.7, 7.1, 6.8, 6.8, 6.0, 6.2, 7.3, 6.8, 6.7, 5.5, 6.7, 5.4, 6.3, 7.4, 3.9, 5.6, 6.9, 6.3, 5.6, 4.5, 7.2, 5.2, 6.2, 5.8, 6.3, 6.1, 5.6, 6.4, 5.7, 6.5, 6.1, 6.1, 5.6, 4.7, 6.6, 7.4, 6.8, 6.4, 5.6, 7.4, 7.1, 4.9, 7.0, 6.1, 6.2, 6.0, 6.8, 5.7, 5.8, 6.0, 4.0, 7.3, 6.3, 7.7, 6.7, 5.7, 2.5, 6.7, 5.1, 6.9, 6.4, 6.1, 6.0, 7.1, 7.3, 5.8, 6.1, 6.2, 6.5, 6.4, 5.9, 5.1, 6.9, 7.3, 5.5, 6.7, 6.3, 6.0, 6.9, 6.9, 5.7, 5.8, 5.9, 7.0, 6.7, 4.7, 6.4, 5.5, 5.2, 6.2, 5.6, 7.0, 6.2, 5.6, 4.8, 6.7, 6.6, 6.0, 4.5, 6.4, 6.8, 6.6, 6.2, 7.6, 6.3, 6.0, 6.1, 7.3, 7.2, 5.6, 7.2, 6.7, 6.4, 6.4, 6.4, 6.6, 6.4, 6.5, 6.7, 7.2, 6.4, 6.2, 6.5, 6.4, 6.1, 6.4, 4.6, 7.4, 6.6, 5.3, 6.7, 4.7, 7.3, 6.9, 6.1, 6.6, 5.5, 6.3, 3.8, 6.7, 4.8, 5.8, 6.1, 3.4, 6.6, 7.1, 5.7, 7.3, 6.1, 5.9, 7.4, 6.6, 6.2, 6.9, 6.5, 6.5, 5.7, 6.6, 6.7, 3.9, 6.3, 6.6, 6.4, 6.7, 5.2, 3.6, 7.1, 5.1, 5.3, 7.2, 7.0, 6.7, 3.3, 6.4, 5.6, 5.3, 6.2, 6.6, 6.2, 7.2, 5.6, 6.3, 4.1, 5.5, 5.2, 6.1, 6.2, 4.7, 7.4, 2.8, 6.5, 6.7, 5.8, 5.8, 6.0, 5.4, 7.1, 6.4, 7.4, 5.9, 6.7, 6.1, 5.9, 6.4, 5.0, 7.0, 6.4, 6.9, 5.9, 5.6, 7.3, 5.9, 7.4, 6.7, 6.0, 6.3, 6.4, 6.9, 6.0, 6.6, 6.1, 7.4, 7.5, 6.1, 6.8, 6.8, 4.8, 6.4, 6.2, 7.5, 6.6, 6.1, 5.0, 6.4, 6.3, 6.0, 7.3, 5.2, 6.4, 7.3, 6.3, 6.5, 7.3, 6.3, 6.0, 7.5, 7.3, 6.6, 6.8, 7.4, 6.8, 6.6, 5.6, 4.5, 5.6, 6.4, 4.4, 6.6, 6.3, 7.5, 5.4, 4.5, 6.4, 6.7, 6.0, 7.1, 6.9, 8.0, 7.3]}, {\"axis\": {\"matches\": true}, \"label\": \"boxd_vote_average\", \"values\": [8.645801351141731, 8.347947052159073, 8.516627837206553, 8.8456935945827, 8.388881856283998, 8.291161087624104, 8.552465784576555, 8.582213553454013, 8.005497986006006, 8.704214025795533, 8.084131986654132, 8.116461088247688, 8.945312857862673, 8.318546919537164, 8.418245179464762, 7.651456708396146, 8.27510553643716, 7.8840717137159615, 8.630408428487813, 8.281127375314783, 7.761289981268272, 8.27055307564201, 8.212865760364277, 8.270615286387406, 8.522377569972313, 7.329335756691033, 8.136715403575103, 7.79974711402945, 7.363272721632134, 8.616314186661608, 7.9418497501105545, 8.90053509672199, 8.410829185912807, 7.9814783796888085, 7.808901386978478, 8.218410590239854, 7.2337016955581035, 8.053247649743495, 8.537498952543226, 8.134258444662835, 8.205354901091386, 8.259869269899541, 7.561950014777005, 7.437499575535448, 8.254717893619635, 8.220994356227282, 7.96963577932512, 7.881960226066727, 8.348666849917537, 7.433266437776643, 8.236679836481148, 8.174628594239932, 7.743219828336525, 8.774852273591843, 7.336366670684332, 7.5139509103020075, 8.121331423573702, 7.625858852912132, 6.2269821290152825, 7.774119710560087, 8.247366235388018, 8.5886729728596, 8.318984533508624, 8.094308416314282, 7.975224316086236, 8.345453181947715, 7.674791683110264, 6.67749142799646, 8.302012338218969, 8.420298404159096, 7.957525434833858, 8.115621662455391, 8.787025303959824, 7.569183522734635, 8.245322020779017, 8.379948491880793, 8.17762128027484, 8.837193884202097, 8.115759081194568, 7.966621383214798, 7.994067724274165, 6.631857831660143, 4.139952853522861, 7.890490874526022, 8.296468081215847, 8.317720489981614, 7.83835848785396, 7.1934422476342545, 8.070139262336122, 7.482551674174689, 6.228352801368076, 7.986977730156851, 8.507946115519468, 8.034789613888767, 7.360271361099184, 6.838783226154635, 5.879521468717515, 8.318251226986396, 7.67045750582938, 7.274953651642707, 8.611239421423514, 7.982195748365702, 7.027945547075362, 8.623566460970439, 5.323617794839605, 7.452053439809135, 5.829872045161953, 6.829233279720628, 8.244769014218159, 8.650845342248928, 7.256320604184281, 7.565061500434753, 8.61048480650658, 7.472709631260678, 7.8982201237340295, 6.665728865178141, 7.2680774796106284, 7.5460766087269295, 7.368004396779209, 8.168317064750008, 5.119707238623496, 7.736956572305831, 7.526557967390217, 8.085028396503807, 7.476311397577188, 7.7048782135992315, 8.139357256088774, 8.10748409798349, 6.710081493249632, 8.06171280715248, 8.12093958578596, 5.062393291324113, 7.555131017822368, 8.083622999407233, 7.215187493086538, 8.421783764699493, 7.51475999042639, 7.106446375239466, 7.889698857188102, 5.979283426741393, 7.879803394013675, 7.635293235338233, 7.786784610465736, 4.931887230421755, 7.617764723965885, 7.823161017916239, 7.587289288683952, 7.419238100036105, 7.547147757397037, 7.973482837647119, 7.345756258954084, 7.0109197722701495, 7.139500745589403, 7.927707959791331, 5.429770014988573, 7.519867085849468, 7.1437534107818, 8.161306074614233, 7.421450706183826, 7.692782674020192, 7.1584590693119585, 8.14107152635011, 8.467064594097652, 8.41905601331891, 7.65064398566052, 7.1680245817447465, 7.954369924296669, 6.088035479458765, 7.316474718611701, 8.264216489351202, 8.03741505639281, 8.59105104836598, 8.786833587855856, 7.762099585366749, 7.978015543817912, 8.279128025846608, 8.004595267596146, 7.9096715328467155, 7.200097366290055, 8.395792025323159, 7.642310401908623, 6.852423273556087, 8.330556671903352, 7.737700553131549, 7.761641920303843, 6.711950266660183, 7.1534757933987585, 7.595538079244149, 7.9508420196030665, 8.202646603593722, 5.90476895004192, 5.7981372739164705, 7.050000639721593, 7.81224714708916, 6.829876694855199, 6.884407791488445, 5.5197135035495695, 8.2261403467501, 7.714279757747595, 7.442371600520791, 6.6106622708499385, 7.7853137353520445, 7.202279418459951, 8.045107890628127, 7.638088369403897, 8.685638753397624, 7.290075837148644, 6.392523074605306, 7.1263663506417005, 6.6363039703194575, 7.083136227966436, 8.075341290790268, 7.520149435900701, 6.574787701872773, 7.922804924807226, 7.856977808780573, 7.517695777452593, 6.9450818672067545, 7.598283552697863, 6.137513452765317, 8.389236592587041, 7.8948438551525655, 6.768125095603002, 7.12473808568499, 7.525988785233475, 6.6425251277417, 7.064554987482028, 7.408790183738217, 7.054835977580096, 7.127677494592682, 7.183202193223888, 8.32808342414029, 8.16953218712515, 7.721825647969622, 7.538459977680836, 7.4564978883042725, 6.665631103515625, 7.6345597052997025, 8.168887492143305, 5.068040669932393, 7.520952492120929, 6.044436630760678, 5.131631556211889, 6.564602549791434, 7.858953152791523, 6.936106339042463, 7.586939893829556, 8.001552804792949, 6.607301577028456, 7.306656919515464, 5.671517985829041, 6.958505177255177, 6.812029795619895, 7.780688424697406, 5.29629265770424, 8.233110315854987, 7.263157582622206, 7.5657614773607085, 6.1825042178968195, 7.8459543006469294, 7.044065984918105, 7.332926524161413, 6.199615980703824, 7.523831454449584, 7.561438790316422, 6.340877674039159, 7.47842742402148, 6.8577796852646635, 6.648028677953249, 6.969638121844993, 7.07380257441457, 7.009019002300445, 6.501930080684127, 7.128388507950552, 6.450532813623969, 6.35448320136957, 7.538840590571835, 6.6811934540346165, 7.7531724536684825, 8.368596192539854, 6.742820862376042, 7.573332058270377, 7.766875910069461, 6.1263974617825205, 7.6818031716212545, 7.446987788942459, 6.630309935398798, 5.478476985236643, 6.607261375780415, 7.199194977890689, 8.422987785781396, 7.051227977681121, 7.12772934495721, 7.64360808277203, 7.85308632059897, 7.348748999277148, 7.225230142806562, 7.346894172048603, 6.584944497093567, 7.290905662901941, 8.053399773162523, 7.590119046345715, 6.73531963962285, 7.4620497427101204, 6.4471773567324115, 6.90982085015199, 6.139715155091227, 7.112674707449196, 5.739677652524651, 6.6703792649650175, 7.538392816025788, 7.450779693017727, 6.66445355241928, 6.917346119867009, 6.67781717056267, 6.4106792775924015, 7.674028105635881, 6.427145797620489, 7.3828076848574495, 7.3842932257275615, 6.990207176857295, 6.528358952246185, 6.740308170916536, 6.531995098835973, 7.054948904674235, 6.264885373341255, 7.053742994395517, 6.241135837431354, 6.2047041202305095, 7.532681139074022, 6.946028758563577, 7.293537443618235, 6.3588888032133015, 7.18022480058013, 7.090881019323593, 7.439904297241509, 7.2281555798919, 7.521828657413824, 6.9014738704683, 7.161231095937885, 7.560266466444078, 7.167218926407065, 7.206578906094794, 7.101097507885712, 6.997147865768824, 6.337755611674252, 4.852560724020059, 7.509181872547733, 6.33429733270877, 8.089195936933548, 7.230593873756117, 6.620370191409446, 7.364524996505614, 6.966467632978921, 5.043638140130584, 6.0686432298620785, 7.034584498550427, 6.541455753887572, 7.683556493030081, 5.860401415787549, 7.717946913862553, 7.268605061282074, 7.561077666712091, 7.545436524027068, 7.535547159346945, 7.192607541157727, 6.219356994464865, 7.144733203079696, 7.33788061332156, 7.248111910849677, 6.8450372340862256, 7.438746545999383, 6.649813272048262, 6.536441175143283, 4.812026781394254, 6.605977108944468, 5.746354437546495, 6.077279277829391, 6.8361299590439515, 7.310891938250429, 5.276857883838836, 7.442525595306568, 6.226028766908057, 7.006151099171117, 7.586104266790271, 5.841547413358953, 6.341265847442495, 6.416879420589438, 8.046623665391317, 6.339568633739576, 7.96849615168376, 5.326337034739011, 7.487784232189527, 7.526640290141774, 7.66282320837434, 5.66537808446837, 8.534999181624748, 7.345965042168287, 6.808094258531389, 7.479854768037563, 4.962348490631653, 6.882454632664482, 6.543175508479691, 7.712768245669187, 6.253323312508807, 6.687335352720595, 8.399880352106658, 7.137250360045522, 6.651124695650879, 7.356249260752077, 6.9677867309835735, 5.98565504113128, 4.578151623151958, 7.156917383995758, 7.539613763147809, 7.8701987307949235, 6.936540811465734, 7.345592577877522, 7.184965492566543, 5.304299949947673, 5.7743049187909135, 7.113058796349775, 6.489745188311273, 8.184896370090462, 6.857683445735717, 7.060104470524387, 6.456169895798754, 7.560878303088188, 7.011533190812915, 6.5840832756454635, 4.9831316708270785, 5.454772034544069, 6.448463010318127, 6.184643708035521, 7.362981334797271, 7.36981302397941, 5.584409040136392, 5.318450604893398, 7.173705735660848, 7.019787696363053, 6.357266690938091, 5.45895210596421, 6.440684775165487, 7.473067833493226, 7.601722783226144, 6.785864831839392, 6.421170245097163, 7.134282099936749, 6.756965718453683, 5.827546691373677, 7.754085516006268, 7.804291492092708, 6.906821670905064, 5.823822240868786, 7.481627154524351, 6.889642887437442, 5.943515255537093, 7.236064614304109, 7.286334781156031, 7.296965215165391, 6.867311972956248, 7.955150528394615, 6.511111728172234, 7.597281946666275, 7.146841965904231, 6.312053975729035, 6.909170803314469, 6.88004917286974, 4.666339687337063, 7.145653094232711, 7.693694457224495, 6.581766221597563, 6.7831233748501, 6.080882150241213, 6.5572463768115945, 6.841182316851742, 7.28458040762127, 6.5982150130796455, 5.408235787672641, 6.474629822215619, 7.264912760351941, 7.852982137450803, 7.258631584994543, 7.055801178992497, 7.352844068199527, 7.275584119048088, 7.046921792764206, 6.08570828440218, 6.798512596078119, 7.410031894687802, 7.137799216287588, 7.487125459805007, 7.394725817226582, 7.52182178128726, 6.883644013895005, 6.027900472562446, 7.41619618570902, 7.449866846343889, 7.046381025248661, 4.668003869827025, 6.509935020162554, 6.614342173895598, 6.769649880714424, 7.794960511470477, 5.1643526201275956, 6.625213660701147, 6.719581321990154, 6.275696065757231, 6.606774166907544, 8.489072534475033, 7.858345188709697, 5.979842908028131, 6.080584206321421, 6.530548843631343, 7.460365892258023, 6.766652179880141, 6.470413503701259, 7.105590609690054, 5.880669909439633, 7.202746914580026, 8.209781069600261, 7.177719115236412, 5.549330180018982, 6.695333972859653, 5.620442678249619, 6.691006901943036, 7.446951757440684, 6.395946811078576, 5.354216239687364, 5.598944640932045, 5.4633239597731285, 7.141114702982782, 6.421364025052578, 8.146462018730489, 5.312686473490591, 7.162162910460158, 6.250421793138831, 5.721180825980732, 6.066087457399318, 7.158005164622337, 6.238579046715283, 3.6178547971505077, 7.427968223464292, 5.856607875104985, 6.525110893484648, 5.767427394354707, 6.30151136993899, 7.315499356182815, 6.3170069813757035, 5.248391440969624, 6.659862133271171, 7.515535232735373, 5.692356984135187, 7.671733949146054, 7.218121911037891, 5.943108331725937, 7.426228420535821, 5.470921135856719, 7.45134799353957, 6.347663377011113, 7.613180803291438, 7.009999272250928, 6.821745239594942, 5.587523805664735, 7.176080699252687, 6.183331642601923, 7.288821209636485, 5.807397779963468, 7.075665298556864, 6.086646856280364, 5.638070707934337, 6.109976828575176, 6.656667686970717, 8.042804150498299, 7.482300691025435, 5.652593053548639, 5.736562364279362, 7.532330539532809, 8.022810510969668, 6.4832930503213095, 4.815676473178895, 6.329188273891417, 8.14714438266377, 7.347556648848101, 7.271551460233883, 4.89848900119209, 5.19524058235947, 6.6029938458434225, 6.775429100491418, 6.770968649312126, 5.784435718292621, 7.095309104852797, 8.203364116094987, 6.983402421099569, 6.819451401311866, 7.781130625920314, 6.741424953135956, 6.304487591616304, 7.22711596307437, 7.297436325678497, 5.803734349357907, 6.477139128664983, 5.708061289542527, 6.393692444684904, 6.053132416303772, 6.3596946093250075, 7.5440735660214395, 5.501524464608029, 7.455304589489139, 7.913480661225399, 5.946547349653707, 8.263326208347832, 7.075594907290456, 7.822957610207414, 5.404007792321499, 7.221279063636843, 7.36739483938269, 6.724613601236476, 7.221864799659397, 7.611107259238716, 5.769209391257949, 7.054424469789285, 5.864064749506999, 6.433853614183967, 6.005730553994281, 4.79783675774293, 6.589112372734707, 6.2022538969245895, 6.4689827457795435, 6.541065159340138, 7.316078607236094, 7.0758457318593635, 5.409249140504596, 6.822296177354191, 7.039297800338409, 6.321377390165009, 7.580114249886795, 7.452340303250562, 5.222018876310492, 7.024484862953402, 6.893383310660222, 7.223600688048955, 7.07657566735631, 5.140995929345934, 5.592061254718334, 7.671053052348822, 7.110874200426439, 3.5814374474446415, 7.3498257943479945, 5.472316223180043, 5.819363298797746, 4.24887500266587, 6.508589881593111, 6.443689174617474, 7.609050691857371, 7.064420779851804, 7.811057964904119, 7.0643315612033195, 5.461405965377514, 7.0624490761426655, 6.998666415411599, 5.417988673537585, 7.834147756431711, 7.032812721627713, 4.914493033396545, 6.961219869122235, 7.726260257913247, 7.111591875295229, 6.370437643020595, 6.794831743943878, 5.715904590344052, 7.702386020393683, 6.869926274001458, 5.959280796912486, 7.143178531255022, 7.656085147484954, 4.634559152361622, 7.074641926593069, 7.3409923242863595, 7.622455516749675, 7.301179981846433, 7.839604195058364, 6.316790104604108, 3.3387663718795477, 6.421336636482716, 6.28012134628787, 6.163951424127692, 7.1074862788144895, 7.1021969492975145, 5.748932395615536, 6.598980168032717, 6.774128459283915, 7.559180237751666, 7.095142793608438, 7.080712523553293, 7.063846947388165, 7.979040240051951, 7.229070753574025, 6.0180320927448205, 6.679824630079073, 6.513594192336799, 5.929529498792692, 5.627297619883452, 6.772874338725753, 6.97647728950866, 6.477283938017724, 6.973833314500638, 5.898980878335784, 4.610629109953142, 6.742179959812034, 5.825769790908145, 6.7718192993239095, 6.278820126525498, 5.673866321368023, 7.4405410432887775, 7.375303466946118, 6.272996793580717, 6.564985214819969, 5.135623448067716, 6.093542855258384, 6.00485067147725, 7.316266367648122, 5.71457920610463, 6.9361283511421075, 6.592777702733126, 5.7415958625785, 6.674530078405861, 7.336067223508101, 6.267876708378986, 6.671116361488482, 6.883333333333334, 7.784819026656884, 6.179872627937801, 5.563904549833389, 6.949687417451792, 7.229192189892802, 6.968571671918917, 6.503587060256031, 6.528012433980456, 4.676550713923912, 5.804376935874373, 7.03177109651339, 6.0896988303696356, 7.671646562999564, 2.9200582979187097, 7.3402427713029805, 7.349863109574096, 2.198496530454896, 7.02236208049663, 6.785236396074933, 5.818352825713585, 7.17800848742043, 7.001103752759382, 5.9170502909754195, 5.7915768145307185, 4.557868228226406, 7.351102539844262, 6.918859563120122, 5.9947391952309985, 6.568800038975591, 7.164927111187786, 6.455839760486836, 6.6694077010637045, 5.337008592502471, 7.360339648090246, 7.342083732265645, 7.354272868875673, 5.9950096191399185, 5.579020629037051, 5.753561779339465, 5.559828861089151, 6.551671707405755, 5.950045506843199, 5.726584077657358, 5.942521568911767, 4.1755094697589215, 7.572694745211758, 5.777100565955594, 6.755146769570837, 6.415058184794107, 6.912003599422198, 7.663572014772261, 6.752071529745042, 6.0483798882681565, 6.750792148471256, 6.812841562943881, 7.633151663221199, 5.658710914881297, 5.7756398826409034, 5.996438080795613, 3.866053841103086, 6.227876740222326, 5.749226105506279, 7.015928392712408, 7.185998549542199, 7.195748601795701, 4.289673295454546, 5.602039447202468, 6.773386995871043, 7.588011461318051, 6.730767679212554, 7.374595922589544, 7.998497945302536, 6.7039520865233655, 7.315663498768039, 7.023261574026296, 5.578308207705192, 6.899196378439079, 7.7111220472440944, 4.970672110454879, 7.503493516399695, 6.539200809307031, 5.2025288764438224, 7.41795154185022, 5.9203135714731, 7.059653739198039, 4.348722598382592, 7.60493053379296, 7.029691211401425, 7.63681637923084, 7.898691048670563, 5.610369416347302, 6.540677248677249, 7.588034527234845, 6.219334453535944, 7.237679139752547, 6.060956993209454, 8.150288467634565, 7.619821232554493, 6.394846118694244, 7.114826027817998, 7.200161257810925, 6.390765599645966, 6.163903478439655, 7.34647550776583, 5.047741773265864, 4.539457807095165, 7.562606324089326, 8.28616285740165, 6.3142213664339994, 6.276380745308407, 7.7048040937905755, 7.859847592112499, 5.391111508007382, 6.785777195636955, 5.5662123429686545, 5.366722046851637, 6.549010304974095, 6.875476967861217, 7.2685350170436935, 5.489882345694222, 6.324384486960526, 4.979548876801573, 6.25640064536106, 6.036608400013737, 5.1679544793249494, 7.494656981436642, 4.901258169934641, 7.545162537548702, 6.120756616800921, 3.896567465284425, 7.373190348525469, 7.272218690400509, 5.389032438826972, 6.12263224358075, 5.158356290174472, 6.4189510797708245, 6.762685331797899, 7.30314478251991, 3.8846573318322544, 6.213859162597615, 6.351849046440775, 5.903046619411123, 6.10597040578759, 8.113551661248117, 6.969493347668324, 6.578160869753541, 6.4151388888888885, 7.100863677791763, 7.751664276935682, 6.362751318554943, 7.431761680240034, 6.14667501826913, 7.614945033657804, 7.101118184102521, 6.827135951788068, 7.204168257461765, 5.4323435682128585, 5.740748455182948, 6.975965140581253, 6.061393132632491, 5.798913331098841, 8.205748599281424, 5.899597935498589, 6.27700488185006, 5.170450582409151, 7.074951925226958, 5.9709743629463246, 6.399765380604797, 5.339516892958636, 6.369679223844069, 5.426659151754262, 5.977405710257314, 4.989083982514836, 7.847257019438445, 4.90172492439729, 5.978905947619662, 5.449684713256968, 6.14409436733978, 6.071539582321515, 5.36171424233222, 5.465597606790038, 5.665343798168063, 6.535006690551215, 4.968668494616465, 5.65214370222915, 5.086313172298289, 7.072233511915758, 6.789841349997896, 5.092013857724964, 7.684406272765615, 6.020589927201317, 6.462218789705773, 7.513781125215076, 7.600153339391186, 7.003962593120939, 6.541336461799986, 6.131012258584275, 5.458654084926745, 5.0736797274275975, 5.233120919504281, 6.5864784581021025, 7.2099880462212775, 5.726561516464939, 5.717172204272556, 5.992241250373915, 7.848332144131288, 6.6291891673239896, 5.409119359672249, 6.867493402561737, 5.679658302189002, 7.482715609408411, 6.065534357065301, 5.556113401841605, 6.263641232124085, 6.039542570883035, 5.641318715496462, 7.276090352991023, 7.2268731268731266, 5.1505737526327255, 7.171291053227633, 7.064493525421828, 6.661422806694115, 5.128429431492181, 6.935629124068987, 6.438733236525156, 6.513636363636364, 7.498444503031901, 7.295867902602492, 4.645515514620406, 7.241352519929739, 5.761948913735115, 4.141372500143808, 7.186500460062218, 5.137903547229972, 4.298828463484801, 6.5340738296858385, 7.5997711421098515, 7.277640853748706, 6.435476313777712, 7.062655784174772, 7.3860782482357825, 4.792153054688953, 5.360666919287609, 7.696134620920677, 6.2471469740634005, 5.613250009299557, 7.213685200490182, 7.46833557282234, 6.9784422611419625, 6.12341000699959, 8.228151084346534, 4.490803296664426, 7.458191756537155, 7.1660624516628, 5.739825407581616, 6.344417713260479, 5.530396997021502, 7.09454826403979, 5.7919901369651905, 7.521312516233298, 7.22744825670232, 6.484065147212311, 6.455204159918166, 4.271670409723139, 5.0317945132385145, 5.634089564016572, 6.840784004087225, 6.586017320229639, 7.138686686788241, 6.235664160401003, 6.628093062561069, 5.0479357612134, 7.562241692841792, 5.426816786079836, 6.87991464521351, 6.38311482103162, 6.482342380648666, 6.386493827160494, 5.537299558447595, 6.4317217239116165, 6.932908079816814, 6.519493827748915, 5.27035152182029, 4.584885751012029, 7.672692930383162, 4.0982783754359415, 5.404126402743142, 6.333914540478503, 6.780214715610259, 6.93852006381151, 7.416004622273581, 7.2143629837242464, 5.947789973301691, 6.705151871119315, 6.611889084670314, 7.39330256684084, 5.460732274749848, 5.799958130771556, 4.600927565869958, 7.682618670630433, 6.497830914630997, 6.914265914265914, 6.462147725179591, 4.532430724448956, 7.397910809767929, 5.581560283687943, 5.013546507048909, 4.431851282466219, 4.752804337111877, 7.077829634355169, 5.0238886108204035, 5.683937611444733, 7.081932181100883, 6.516766583808549, 5.741322841782191, 7.381660099366113, 5.272077063006449, 6.660877000122145, 5.847874365482234, 7.605724319578577, 3.4390376196195422, 7.396715171848789, 6.7407435111077865, 5.098236199509131, 7.0254080167123645, 5.766837148065627, 5.400800552762622, 6.156318920002673, 6.82339293025795, 6.9538025775385925, 4.5464760928572785, 8.807055289437363, 4.949254752689092, 6.786427788876716, 5.236871957271825, 7.146533988327665, 5.046513893760474, 6.569440491775286, 5.527662777568686, 7.063206827169916, 4.997669902912621, 6.287953259760735, 5.553262505726565, 7.372436974789916, 6.574775964052702, 7.8052595721487945, 5.4530586665588485, 5.986099793893495, 6.757598508776471, 5.613914082441753, 7.298841207181969, 4.189670147655887, 7.373521236020428, 8.004173106646059, 4.902541345361075, 7.018011679448392, 7.241419429901105, 7.498549790525298, 5.600187894242383, 7.426384985949418, 7.17106259899456, 6.427440558649741, 7.335268862612613, 7.006732547387887, 4.43841825228263, 5.42812762598355, 5.565905801135731, 6.279617550314991, 5.533328235324106, 6.400230308613542, 6.6961223636255, 4.730336618246635, 7.033850911244161, 7.91042864283929, 4.965493172795882, 6.379192908794028, 7.261049723756906, 5.0371940770684125, 5.514034516444155, 6.6586229235111745, 4.334749362786746, 7.529106430440565, 5.0065740325713435, 8.206657420249654, 5.407973973835398, 7.539831373586903, 7.139124033860876, 6.040521284037619, 5.490978608556578, 6.493229249641549, 5.742530755711775, 7.813260245366745, 7.251508715147837, 6.4519139920405415, 7.211228243950757, 5.144659882163899, 6.546641036017807, 6.004746918436926, 6.001366915580307, 7.0110818143605025, 6.590828025477707, 5.6165844491425885, 6.617770064582207, 5.4347236585085605, 5.125531576194483, 6.272233616108884, 6.877736119534653, 6.594866993446054, 5.546498198281438, 5.431180852906962, 6.035050071530758, 5.269526099433802, 5.094664729084492, 5.900794752113032, 5.370507688108453, 5.994204200831181, 7.999315849486887, 6.468284798820427, 6.574465643379716, 6.838043043900211, 6.761767294490407, 6.583094699824165, 6.693335445711871, 7.279237844940868, 7.952172231532809, 6.2354639753294085, 5.742848242562691, 5.387648521060914, 6.706045989332108, 6.791415792189919, 7.1409391128595665, 6.125211955979652, 6.879175097707681, 5.609823347976446, 5.556509535210105, 5.084034445214293, 6.934584371792992, 6.062287870971246, 7.305333072865794, 6.412810527729287, 5.816645100900256, 5.578808084477077, 6.541970396307496, 6.715281989084294, 2.5518410524174406, 6.468809934011637, 7.183038526774897, 6.919824150800177, 4.565283793595554, 4.816797850780035, 4.386446978449792, 7.008033284488173, 5.878277615920202, 5.506854510972636, 6.051380998320649, 5.522135015294146, 2.732492356580563, 6.350259489162512, 6.803595326798567, 5.368144902458765, 5.567511028241394, 5.374638051439278, 5.786843203912447, 5.375245085717158, 5.826278611324061, 6.2013372472276584, 6.011611081701076, 6.4850393700787405, 6.825515999445907, 6.071451509312781, 7.827948269238977, 5.4154900389599625, 6.670544361571858, 4.815559208781885, 7.195637573160201, 6.165675567499571, 6.488846687164647, 6.2162818198792555, 5.646022744321421, 4.400671772818646, 5.015878868323378, 6.202976108272338, 7.684414377194795, 7.214101097411127, 4.959590890625373, 7.185488270594654, 6.335618719813468, 5.494467924731472, 6.1594499707431245, 7.631453212940843, 6.95853465060936, 6.5830893908113275, 6.846049497088407, 5.215640377709802, 6.524681268388362, 7.0421876825990415, 4.973228307201436, 6.109130459347986, 5.186531097319424, 5.840604645446724, 6.45602384438402, 4.23358698895852, 6.7611677690528165, 6.555027134270876, 5.694376207788805, 6.066116748057994, 5.9662051511091265, 7.185761893817514, 4.6296642817831595, 5.9776576463971, 5.650434040130923, 5.997997618789912, 3.7233273056057867, 4.8457291056638505, 6.612500496998131, 6.231297530905558, 5.8127805575411005, 7.784234541354172, 6.244645421491644, 4.310272265207679, 5.686949850601631, 5.049415894257665, 6.0716357467301485, 7.032137545794189, 5.6648419662751355, 6.322689888727624, 4.982851648058123, 6.2017905877654265, 4.919572553430821, 7.254516413306896, 5.338876297897012, 4.886895915543484, 7.377416899264146, 7.1458138752942055, 5.461998756605533, 5.735236825917572, 4.98667519454216, 5.557897952948365, 6.130854706376381, 4.563869807000327, 6.543912175648702, 7.088671988088837, 6.668103719554408, 6.31535144588849, 6.564752383166706, 7.057121288374434, 6.559603440038223, 7.58086439850236, 6.920340369824906, 5.808318646457526, 6.04156342913776, 6.0156468678273525, 6.341631692738141, 7.181404496548533, 6.472235266494482, 5.134621977268532, 6.912561196891369, 5.459331668703182, 6.0965747460087085, 4.728381906334914, 5.358429063378986, 5.077047129153343, 5.633339399454049, 5.057997045105594, 4.191811496475737, 5.006970866775904, 6.233315743183817, 5.439363358514504, 5.345774152721137, 4.426107021206461, 4.972336668628605, 6.346965699208443, 5.480432780847146, 6.960643431635389, 4.864809279622673, 5.307978343645883, 4.945406626506024, 5.744663360096457, 4.251766013175649, 5.0977238321799305, 6.068812532509256, 5.987169617654606, 7.016908663357097, 6.2028043135051245, 4.739994606256742, 4.827551569506727, 5.805268012708824, 7.227758281593459, 6.8809971572272035, 2.8698700513750377, 6.915314575203669, 5.34650823775339, 5.372561931640012, 7.204791138395836, 6.440137468030691, 4.497912081710965, 5.688386901152214, 5.219832593607578, 7.224508475817377, 6.454986295593506, 6.997975355185535, 7.129388460403759, 7.156352027860407, 3.8137067368043516, 4.886509397133456, 6.4597353805945765, 6.209553670232387, 5.658017126827108, 4.470856888245287, 5.942629285029829, 6.788665655799848, 7.153683350660923, 4.693056528633062, 5.519211970824874, 7.340388426476417, 5.990474908283128, 5.038164237428335, 5.098285848007956, 4.847035444002831, 4.460535550396804, 6.196108688359611, 4.832544645372091, 4.646369636963696, 7.02817705175304, 6.7877382002223845, 5.277633000699168, 4.22021542813622, 5.48220742150333, 6.992052926701359, 5.517293125625268, 6.4900917937202065, 6.974957957498853, 4.84734626180148, 6.840244468513075, 6.545898283734845, 4.316403992139032, 5.43274231678487, 5.564231073595358, 5.612619430517453, 6.138606417916353, 5.041305775304087, 6.276343964837146, 6.821539948170598, 5.198416625432954, 6.5475111205253125, 5.656750854929752, 6.7511631990167675, 5.098804609033212, 7.553367990266564, 4.180120174593277, 7.133091873692802, 6.241229760986893, 5.215249404779401, 5.937963787474028, 6.561425734438129, 7.493709050849423, 6.245968869419331, 6.289534668149796, 5.064054582187924, 5.2608764687202285, 4.92751713231418, 7.344653691592467, 5.833875106928999, 4.603265181568508, 6.436276969392875, 6.230082389707374, 3.69885100074129, 5.843763410098698, 6.094097795648739, 7.752620130512161, 5.856395500915512, 7.711289903970932, 5.989110334908568, 5.649455254567807, 6.9036593629997745, 6.16542422246108, 6.660458758703173, 6.168409445226054, 5.287253631589715, 6.287095509777449, 5.086403792286145, 6.452544576523032, 6.55034766932784, 5.992372509085101, 4.886148616144447, 5.719821264112972, 6.714185918866324, 4.933611545818119, 6.043038561006678, 4.386035870408955, 6.160058347699244, 7.381178063642519, 4.441521747781448, 6.169229152803558, 7.268984739102622, 6.988332987336516, 6.0353117651828425, 7.270908891086933, 6.098609671539369, 7.517573449401524, 4.173593021142546, 4.567972878042821, 5.9454250422227375, 7.210842427573212, 4.719366993217784, 3.7766116381564205, 7.868350211511345, 6.48751517253338, 7.088930607704074, 5.609549248747913, 5.261071359504931, 6.148925828715855, 7.461736931730224, 5.106564475621374, 5.079164594728991, 7.262744740084889, 7.495245825602969, 6.692712504290127, 7.000688357578817, 5.842777704223487, 5.844920515794501, 7.00416068866571, 6.12480604734434, 4.8542175527821465, 6.951682555202477, 5.078343812517862, 5.827475486811214, 6.399886577109843, 6.056877353200353, 6.599582051430893, 6.379929382737057, 6.023186509667103, 6.574646596397222, 5.852438668224299, 5.543581468954604, 6.329376402998136, 6.423969352662052, 6.442270306821063, 5.648948129115143, 6.391046408886271, 6.565658237801597, 7.01300894650356, 4.701895830522197, 5.545711113167392, 5.064581104047334, 4.826287271665423, 5.487630048332924, 4.262847588877156, 6.848561521881735, 4.261309794249367, 5.710100196815173, 4.620667563585111, 4.531035156886384, 5.748056346701563, 7.1149480415667465, 6.410086121941814, 6.147432917811114, 6.854075187969925, 5.159947078894227, 7.313749942265946, 6.223180684172692, 6.616639852907378, 6.012728091912593, 5.575839753466872, 5.453121822249339, 5.513933655654043, 6.233341918392877, 5.590121350754081, 6.836480186480187, 6.454234783411841, 7.324032754213422, 6.334541199562149, 4.987774361907485, 5.551454981170832, 3.781443495379926, 7.883556254917388, 6.682457229970075, 6.991972021301963, 4.808358921869669, 7.74998334998335, 5.197076975502632, 6.23476148409894, 7.335993436754177, 3.3277242560479556, 5.433397139961716, 4.948899527894142, 5.650139255350338, 3.841936587946109, 7.5056148231330715, 5.332738918407453, 5.0404553355373025, 4.704532600791791, 5.294688350666574, 5.515251073361957, 6.069800255743199, 5.6951103887308685, 4.19574483456148, 7.820666830105418, 6.143105271107084, 3.8427556496107624, 7.416222391469916, 7.686623332192952, 5.714539447976981, 6.935380203698211, 6.655088730471713, 5.7485182950633495, 5.599958822318303, 6.727373021597997, 7.034251573474414, 5.624767086532011, 5.845068313681453, 7.049612112112112, 7.2204831374401985, 5.607763570936376, 3.7588101944081886, 3.386361428617686, 7.387851348802113, 6.158452711175286, 4.687437495191938, 8.096669374492283, 6.217668875782818, 6.147915168943206, 5.650262602870022, 7.002526335859669, 6.318830272350751, 5.239979977832601, 5.1949328027934545, 6.880324152235782, 4.3194938880549, 5.214605684170902, 5.001366541767688, 4.146823789357393, 6.957934714677179, 5.750215749730313, 6.466964570699011, 5.067772912910703, 5.744976989561118, 5.357661927330174, 6.8719693287974515, 6.6578374455732945, 6.258409269884126, 5.0064063077491685, 7.119236329195952, 4.407005838198499, 6.072643574917195, 5.951094922933416, 4.611775207637972, 4.930751571261902, 5.907662535133392, 5.936580077554935, 5.907586581065196, 7.18194173877588, 6.330635891305348, 4.722497834475155, 5.71917380442541, 5.578819358562124, 5.779046443450085, 6.43298102861186, 6.432904928815613, 6.021149257956246, 7.2788613303269445, 4.029695677456871, 5.800020484457418, 4.768391298125089, 6.059574873701267, 4.847529490785441, 5.127918447878987, 6.294106100014722, 5.396080051409162, 6.76631803215185, 4.787951617351562, 4.820968572900567, 6.717732793522267, 5.925737744898789, 4.4005677003897645, 6.204233180666104, 6.586903517938, 5.385303024774693, 6.350610187061207, 6.324283662723108, 6.584229137199435, 7.486822245442935, 5.673992673992674, 4.839356749894202, 5.651219725452479, 7.556179331066656, 5.949930523390458, 6.4703652653342525, 5.252412371134021, 4.429040165943805, 6.662351985140469, 6.716290227673924, 7.666256157635468, 6.679274882342688, 5.935536605841029, 3.4880061486185836, 4.757006122273002, 5.960687840997662, 3.806023419955085, 6.126260201632261, 5.330572117791634, 6.99122692156606, 6.381651954602774, 5.366478003601749, 3.9719956916448687, 5.560683185393968, 5.456311856190669, 7.13040901007706, 6.604969290898939, 6.182647551666356, 5.652179332696223, 7.10568991045618, 5.544439234408969, 7.6532517504573265, 6.454143537849388, 4.891562246891229, 6.201507226815139, 5.423893567461029, 5.583872099433669, 4.745089463220676, 6.871791907514451, 5.660673014699085, 6.981984175289106, 5.925763300316553, 7.109310986964618, 6.4276461062858825, 7.689300104462021, 5.399216409310901, 5.582431102362205, 5.455283315578552, 6.373801526717557, 7.085329637695506, 5.895354393416512, 4.355189743183887, 5.413043478260869, 4.221590601483406, 5.327689565780946, 5.042290202563042, 6.524187115844789, 6.141258221939316, 4.594991477645208, 5.18135519231702, 5.32871940599505, 6.4538517821678685, 6.7671096138249425, 7.181489773074183, 5.114603114318268, 6.410017221584385, 7.498910675381263, 6.216604142880444, 7.728743260058067, 6.690549681486832, 7.1830301043544775, 5.640835082543825, 5.669262086513995, 5.792912246865959, 6.762510919755398, 4.546192408689425, 4.726392136279047, 5.358952281687587, 4.408505215462312, 7.0811301715438955, 7.194992778045258, 6.022307481501781, 5.882412014424613, 5.425190583898802, 6.871285650291175, 5.5778534403902835, 6.293321036792545, 6.102090310659429, 6.58576, 6.170737192461656, 3.2188634673432786, 5.476611400449138, 8.134468632018637, 5.549132670222479, 7.370436744988717, 5.182367453803938, 6.697218710493047, 6.8801281684499624, 7.427713367788797, 5.26262721447418, 6.536076847505731, 4.564738565333863, 6.304474774224214, 5.20284932062462, 7.26424649176327, 5.096477721104802, 6.298240116977388, 3.9521003611480707, 5.5746973066468986, 4.472177581357975, 6.518723698929313, 4.5506830831506155, 3.8089298004129386, 5.27057546145494, 4.661167568518763, 5.987017615314123, 4.98540073492899, 4.572644224752847, 6.0028035841899845, 7.038573933372297, 7.48505291005291, 7.549575402635432, 5.06968253968254, 4.386150116173351, 3.781052806376619, 6.227371552809246, 7.730684730867814, 7.788315523059618, 6.710565714896802, 3.9467749012724878, 6.0486821705426355, 5.144719630243307, 7.6525356576862125, 5.118405511811024, 8.181578007854338, 5.261283206177039, 7.5393077873918415, 6.426968659468001, 5.910796324655436, 5.163066476406042, 6.0231824250515835, 4.724286272976144, 5.658417829535187, 5.515506178707224, 3.5552118775131456, 7.29116387699494, 4.988384371700105, 7.272116307776711, 4.960912052117264, 5.2080420499342965, 6.4125860276278654, 7.37305955405024, 6.790026563631973, 4.279336867269515, 5.196920770384039, 5.448771929824561, 7.218550607831284, 4.208038463616228, 6.700051793344556, 3.4818474157617563, 6.939678656807694, 7.649682041374869, 7.427490956922065, 5.303925732661853, 6.863085834649816, 6.142998515586344, 6.413615048211181, 6.501557445788906, 4.047425402693425, 6.041320022185247, 5.269606754054655, 4.77232906536727, 5.115834580329207, 6.923142370958593, 5.190195083706129, 4.483246321784528, 6.6985399192295745, 5.314940402794903, 5.0452677011612375, 4.535814090307398, 5.965005130420694, 5.973854235855323, 6.214269354099862, 5.83269020330588, 5.033846472813974, 5.742037497176417, 7.372891049470975, 6.204805840008111, 5.866462851868944, 5.515324587197466, 1.6693844446341672, 4.3464118817378425, 3.2715131353651974, 6.20617188364119, 4.393505168359877, 4.815767079990275, 5.160727865290603, 7.331050458253601, 4.99949836970153, 7.140219443133554, 5.092180578368423, 5.765852010361527, 6.926013405681456, 4.95243537414966, 6.688805889358017, 4.479014700931433, 7.272044135831827, 4.757874415769153, 5.674282147315855, 5.862482183392282, 5.930689122527281, 5.94564531850238, 7.129324671400513, 6.159261871180066, 6.713868613138686, 5.456132693147097, 6.788765497385275, 5.342974713740458, 5.2713480482537, 6.486074213728683, 6.72337648210595, 4.294992890513914, 4.692618806875632, 4.935989586281058, 5.366864249186425, 5.826827991390844, 6.114679495514237, 5.003868912152936, 5.76821898329186, 5.777865198006819, 6.684638581741753, 2.1617897009508935, 5.686392665842604, 5.224863123993559, 7.131339401820546, 7.044672999921489, 3.209355050414653, 5.325644574299042, 6.658385093167702, 7.370309242529534, 4.580059359122692, 6.415524861878453, 4.478542760111146, 4.706421486165091, 5.604310665180231, 6.548126700008774, 5.470144246897014, 5.60647532650348, 4.364421617835882, 6.105634987384357, 5.206936226166995, 7.444297629862086, 6.59495481438138, 4.735896532635499, 6.70091759789225, 5.931972040288404, 5.3974086014964415, 7.049174486281031, 4.85850649827447, 5.435201283937408, 2.923723410421376, 6.357913777509798, 6.521619388598182, 6.667352134743439, 5.713426256850131, 6.416024247216183, 5.9688410670253305, 5.2814912009879595, 4.546165018327685, 5.059361801970906, 5.466147907603701, 3.8286822486399354, 5.773662306777646, 5.455372747544145, 5.568421717969787, 5.00084923285965, 6.787915086178213, 6.275044077576535, 5.102606171515113, 6.470280580851587, 6.198702185792349, 6.693836978131213, 6.191681187968785, 6.076672610279867, 5.4778349659638055, 4.618008017267962, 7.166029288312657, 4.945170525267613, 6.753300733496332, 6.380887465067139, 6.121282727328469, 7.153185995291259, 4.9024451726745655, 5.152142651711245, 6.930501361996614, 5.599549341345043, 5.12791286727457, 5.42174423726325, 5.122174795325729, 5.811965811965812, 3.910472209670131, 5.237605665981266, 4.265715611227093, 5.998140849260058, 4.5668819668715495, 6.141522029372497, 4.725943970767357, 4.723900462962963, 5.108006750421901, 5.552788078080179, 3.689196962724344, 5.227490615073636, 6.704457444178957, 5.5915137759283775, 3.725575706004361, 6.373653058127181, 7.038134110787172, 7.639500929121317, 5.570743965869908, 6.2902673389782136, 5.345337290263669, 2.2393810364523836, 5.348244734202608, 7.261206062560464, 5.543071895424837, 7.063740856844305, 6.124666522460163, 5.699926497611172, 5.55, 6.466399434095732, 6.495603770004428, 5.539687650941877, 5.8482487636339, 5.402875079610591, 5.646049596309112, 4.164246931067044, 5.622090698232424, 4.6957991576147196, 6.252347847298451, 6.975618092742395, 7.207445373617481, 5.877559003781458, 5.371944739638682, 5.3203649727537705, 6.743949136623076, 6.062036762525941, 5.994723798864817, 4.621732476277931, 6.132623096360035, 4.966996496834859, 5.171522131887985, 7.458088423204702, 3.5611792177466435, 5.190577176591964, 6.776739981922265, 5.620689655172414, 5.258493460948345, 6.279728199320498, 6.327918975730938, 4.179146485142034, 5.137669801462905, 5.132073093887839, 5.107979791831517, 5.406560636182903, 5.066388994067903, 5.394140290846877, 4.758022388059701, 6.155521472392638, 5.403083401249661, 5.5385609929536495, 5.400221554043362, 4.423142638307901, 6.2546133567662565, 6.652757078986587, 6.40009250693802, 6.429699724312645, 5.20098416115639, 7.260677872692201, 6.911287791610001, 4.23991116751269, 6.917978939232924, 5.213980827093975, 6.558027437893956, 5.713661832564272, 6.815205660151097, 5.8321609684279405, 4.846679561573179, 5.217660975765714, 3.684706575362639, 6.830612066707413, 5.218832522585129, 7.158157723223984, 6.212337917485265, 5.275297041236313, 2.145742198891805, 6.577978131594092, 4.710480440694512, 6.177238507127983, 7.090010272213662, 5.276823163306724, 4.937025601440885, 6.1044493291897215, 6.293425076452599, 4.288713262533959, 6.5964247020585045, 5.7788080519892215, 5.729064039408867, 5.663013698630137, 5.520975832193343, 4.536530915978894, 6.524734982332156, 7.553605895771188, 4.948593284065863, 6.490629911739814, 6.631946273373716, 5.036772486772486, 6.311735458921948, 7.212356912239507, 4.420202269363592, 5.538094155105754, 4.93050916496945, 5.732008516678495, 6.4477218526421485, 3.3657894736842104, 5.6590179941414425, 4.755605381165919, 4.839579763057895, 5.701076575794409, 5.5840762373193975, 6.483072800357302, 5.396512059369202, 4.191684017919112, 4.026139308032312, 6.768443893366398, 6.060395065465829, 5.5214690998313145, 3.6980893255379423, 6.5683436165163736, 6.606711284625395, 6.245555740156172, 5.191194968553459, 7.0521968365553604, 5.426020234942622, 5.513296903460838, 5.163656964804193, 6.6637580993520515, 6.64687191074707, 4.574965800273598, 6.729916767979052, 6.009998485078018, 6.3219345383488035, 5.275325046435205, 6.047180913662138, 5.996269669017906, 5.026545217957059, 6.3006681514476615, 5.861222525268731, 6.775835737315459, 6.237571656799173, 6.138927839499515, 5.776147199046484, 6.616324264297613, 5.830999262925134, 6.853531433640093, 4.9310209680580055, 7.48037542662116, 5.95698408891021, 4.841776598235891, 6.754446039986744, 3.634722887717617, 6.496081374020344, 6.620643905890677, 6.552961727806892, 5.598591549295775, 4.2943404165790025, 5.631312738308303, 2.7853672081077328, 6.08439824527942, 3.522792207792208, 4.759591182976127, 5.619817227957353, 2.7572906191639133, 6.731274801587301, 6.525450549450549, 4.768613707165109, 6.769109535066982, 5.312815091884859, 5.290828951438293, 7.3338642879898055, 6.984154929577465, 5.831096530470226, 6.874883979951735, 5.998888508891929, 5.475048072520831, 4.7796297847390905, 5.873095695902973, 6.402204309919394, 3.52902296415558, 5.765492375873206, 6.599631208943183, 5.584471288515406, 6.160878809355068, 4.351429003477998, 4.742294798312966, 6.323301516002246, 3.4334105616361748, 4.280813008130082, 6.552831290134267, 6.054128188717199, 5.67494321297094, 3.2624846248462487, 5.054759507396794, 4.767762070864696, 5.512345679012346, 5.379117164107022, 7.0742725880551305, 5.568394147717258, 7.094994519546949, 4.023661929241004, 6.09953095684803, 3.8621926229508197, 4.00189117166681, 4.210415081579169, 5.080171977744056, 5.295642056272477, 4.104364043267437, 7.171470121628768, 2.3536824236092975, 5.282890146522987, 6.41933318415753, 4.9249397326320405, 5.115059064273091, 5.641481737328383, 5.025894187779434, 6.760426770126092, 5.80228231208137, 7.154615057422373, 5.3151201903355485, 5.948930641615031, 5.527665995975855, 4.787176516029355, 6.309871703492516, 3.5780767708745547, 6.185530440521366, 5.368040729183774, 6.203323454699407, 5.329672915522786, 5.228474455162558, 6.724153037383178, 5.412899860917942, 7.1174472902221595, 6.0545176630434785, 5.412332251556881, 6.164392972813819, 5.4115553348232766, 6.538042099923916, 4.967104675069277, 6.020740740740741, 6.019733656174334, 7.60718954248366, 6.776211203633611, 5.778639542275906, 5.840435344032466, 6.498410504492052, 4.246251874062969, 5.672120255792708, 5.309358218153006, 6.981094527363184, 5.472702529618956, 5.51337885218675, 4.863650513645325, 5.251908396946565, 5.4422652804032765, 5.251840219844931, 6.940982706560527, 4.0854877628404, 5.577459584295612, 7.349013902360168, 5.683835256590674, 6.468686384864088, 6.673815620998719, 5.931607166208971, 5.489363999568082, 6.956678700361011, 6.065460252977564, 6.0146350500185255, 6.49097428288823, 7.006648781056806, 6.335870818915802, 6.335979403561468, 4.706576200417537, 4.083726822526777, 5.4733555370524565, 5.3773503162637555, 3.423372929563326, 5.810639730639731, 5.619426751592357, 7.509260832625318, 4.190748570007461, 4.002981366459627, 5.25495944493306, 6.243546721734641, 6.5154460256855256, 7.0910666456593665, 6.424430128840436, 7.205186131028386, 6.715140566783335]}, {\"axis\": {\"matches\": true}, \"label\": \"ebert_rating\", \"values\": [4.0, 4.0, 2.0, 4.0, null, null, 4.0, 4.0, null, null, null, null, 4.0, null, 4.0, null, null, 4.0, 4.0, 4.0, null, 4.0, 4.0, 3.0, 4.0, null, 3.5, null, 3.0, 3.0, 3.5, 4.0, 3.5, 3.5, 3.0, 4.0, null, null, 4.0, 4.0, 4.0, 3.5, null, 4.0, 2.5, 3.0, 4.0, 2.5, 4.0, null, 3.0, 3.5, 3.5, 3.5, 3.0, 4.0, 3.5, null, null, 4.0, 4.0, 3.0, 3.5, 4.0, 3.5, 3.0, null, null, 2.0, 3.5, 4.0, 3.0, 3.5, 4.0, 3.0, 4.0, 3.5, 4.0, 3.5, 3.0, 3.5, 4.0, null, 2.5, 4.0, null, 4.0, 4.0, 3.5, 3.5, null, 3.0, 2.5, null, null, 3.5, 1.5, 4.0, 3.5, 2.5, 4.0, 3.0, null, 3.0, 3.5, 2.5, 3.0, 3.0, 3.0, 4.0, 2.5, 3.0, 2.5, 4.0, 3.5, null, 3.0, null, 4.0, 2.0, 2.0, 2.0, null, null, null, 4.0, null, 3.0, null, 4.0, 4.0, null, 3.5, 3.5, 3.5, 4.0, null, 3.0, 3.5, null, 3.0, null, null, null, 3.0, 3.0, 3.0, 2.0, 4.0, null, 3.5, null, null, 2.0, 2.5, null, null, 4.0, 3.5, 4.0, 2.5, 3.5, 3.5, 3.5, 2.0, null, 2.5, 3.0, 4.0, 3.5, 3.5, 3.5, 4.0, null, null, 4.0, 4.0, 3.5, 2.0, null, 3.0, 3.5, 4.0, 3.0, null, null, 3.0, 3.5, 1.5, 3.5, 3.5, null, 3.0, 4.0, 3.5, 3.0, 2.0, null, null, null, 3.0, 3.0, null, 3.5, 4.0, 4.0, null, null, 4.0, 3.0, 2.5, 3.0, 4.0, null, 3.0, 3.0, 3.5, 1.0, 4.0, null, 4.0, 4.0, null, 3.0, 4.0, null, 3.0, 3.0, 3.5, 3.0, 4.0, 3.5, null, 4.0, null, 4.0, 4.0, 2.5, 4.0, 2.5, 2.5, null, null, null, 4.0, 3.5, 3.0, 4.0, null, 3.0, 3.0, 3.0, 3.5, 2.5, null, 4.0, 4.0, 3.0, null, 2.0, null, 3.0, null, 4.0, 4.0, 4.0, 3.0, 3.5, 2.0, 2.5, 3.0, 4.0, 3.0, null, null, null, 3.5, 3.0, 3.5, null, 3.0, null, 2.5, null, 3.5, null, 2.5, null, null, 2.0, 4.0, 2.0, null, 3.0, 4.0, 3.5, 3.5, 4.0, 2.0, null, 4.0, 3.0, 3.0, 3.5, 3.5, 3.5, null, 3.0, 3.5, 2.0, 3.5, 1.0, 3.0, 3.5, 3.0, null, 2.5, 3.0, 3.5, 3.0, 4.0, 2.5, null, 2.0, null, null, 3.0, null, null, 3.0, 2.0, 3.0, 3.5, 2.0, 3.0, null, null, null, 3.0, null, 3.5, 1.5, 4.0, 1.5, 3.0, 2.0, 1.0, null, null, 2.0, 4.0, 3.0, 4.0, 4.0, 3.5, 3.0, 3.5, null, null, null, 4.0, 3.5, 3.0, 3.5, 3.5, 2.5, 4.0, null, 3.0, null, null, 3.0, 2.5, 2.5, null, 3.0, 3.0, 2.0, 3.5, 3.0, 2.5, null, null, 3.5, null, 3.0, 3.0, 2.5, 3.0, 3.0, 4.0, null, null, 4.0, 4.0, null, 3.5, null, 3.0, 3.5, 2.0, 3.5, null, 3.5, 3.0, 4.0, 4.0, 3.0, 4.0, 4.0, 3.0, 1.0, 2.0, 3.0, 4.0, 3.0, 4.0, 3.0, 4.0, 2.5, null, 3.5, 2.5, 4.0, 1.5, null, 3.5, 4.0, 4.0, 3.5, null, null, 3.0, 3.0, 2.5, null, 2.0, 2.0, 3.0, 2.5, 1.0, 2.0, 3.0, 3.5, 3.0, 2.5, null, 3.5, 3.5, null, 3.0, 4.0, 3.5, null, 4.0, 1.0, 3.0, 3.0, null, 4.0, 3.5, 3.0, null, 3.0, null, 2.0, 3.5, 3.0, 3.5, 2.0, 4.0, null, 4.0, null, 4.0, 3.5, 4.0, 2.0, 2.0, 3.0, null, 3.5, 4.0, 2.0, 4.0, 3.5, 0.5, 3.0, 3.0, 3.5, null, 2.5, 2.0, 3.0, 3.0, 3.0, 3.0, null, 2.0, 3.5, 2.5, 2.5, 2.5, 2.5, 2.0, null, 3.5, 2.0, 2.0, 4.0, 4.0, 3.0, 2.0, null, 3.0, 3.0, null, null, null, 3.5, 4.0, 3.0, 1.0, 2.5, 1.5, 3.5, 2.5, 3.0, 2.5, 3.0, null, 4.0, 1.5, 3.5, null, 4.0, null, 3.0, 3.5, null, 1.0, 2.0, 2.0, null, 3.0, 3.0, 1.0, 2.5, null, 3.0, null, 3.5, 3.5, 3.0, null, 2.0, 2.0, 3.0, 4.0, null, 3.5, 4.0, 2.0, null, null, 3.0, 2.5, null, 3.0, null, null, null, 3.0, 3.5, 2.5, 2.5, null, 3.5, 4.0, null, 2.5, 2.0, 4.0, 3.5, 4.0, null, 2.5, null, 3.0, 3.5, 0.5, 3.0, 4.0, 2.5, 3.5, 3.0, 3.0, 2.0, 2.5, 3.5, null, 3.5, 3.0, 3.0, 1.5, 3.0, null, null, 3.0, 4.0, 3.5, 4.0, 4.0, 3.0, null, 3.5, 3.5, null, 3.0, 4.0, 3.0, 3.5, 1.0, null, null, 3.0, 1.5, null, 3.0, 3.0, 4.0, 3.0, 3.0, 2.5, 3.5, 1.5, 3.5, 3.0, null, 3.0, 2.5, 3.0, 4.0, 2.5, 3.5, 2.5, 3.0, null, 3.5, 2.0, null, 1.0, 3.0, 2.0, 3.5, 3.5, 3.0, 4.0, 3.0, 3.5, 2.5, 1.5, null, null, 2.0, 3.0, null, null, 3.0, null, null, 3.0, 3.5, null, 3.0, null, 1.0, null, 2.0, 4.0, 4.0, 2.5, 3.0, 2.5, 3.0, 2.0, null, 4.0, 3.5, null, 3.0, 3.0, 4.0, 3.0, 2.5, null, null, 4.0, null, 3.0, 3.5, null, null, null, 4.0, 2.0, null, 3.0, null, 2.5, 3.0, 3.0, 2.0, 2.0, 4.0, 3.0, 2.5, null, null, null, 2.5, null, 1.0, 3.0, 3.5, 2.0, 2.5, null, null, 4.0, null, 4.0, 3.5, 2.0, 3.0, 3.5, 2.0, 1.5, null, 3.0, 3.5, 1.0, null, 4.0, null, 4.0, 4.0, 0.5, 4.0, 3.0, 4.0, null, 3.0, null, 3.0, 2.0, 3.5, 3.5, null, 3.0, 3.0, 2.0, null, null, 2.5, 4.0, 3.0, null, null, null, null, 3.0, 3.0, null, 1.5, null, null, 2.5, 3.0, null, 3.5, 3.5, 3.0, null, 3.5, 2.5, 2.5, 1.0, 2.0, null, null, null, 3.0, 3.0, 4.0, 4.0, null, 3.5, 4.0, 4.0, 3.0, 4.0, 4.0, 3.5, 4.0, 4.0, null, 3.5, 3.0, null, 4.0, 3.5, 2.5, 4.0, 3.0, null, 2.0, 3.5, null, 3.5, 4.0, 1.0, 2.0, 3.0, 2.0, 4.0, 2.5, 4.0, 4.0, null, null, 3.0, 3.5, null, 4.0, 3.5, null, 4.0, 4.0, null, null, 4.0, 4.0, null, 3.5, 2.5, null, null, 3.5, 4.0, 2.0, null, null, 3.0, 4.0, null, 3.5, null, 4.0, 2.5, null, 3.5, 3.0, null, 1.0, null, 4.0, 1.0, 4.0, 3.0, 3.0, 3.0, null, 3.0, null, null, 3.0, 3.5, 3.0, 3.5, null, 4.0, null, 4.0, 4.0, 2.5, 3.5, 3.5, 3.0, 3.5, 2.0, null, 4.0, 2.0, null, 1.5, 1.5, 1.5, null, null, 3.0, null, 3.0, null, 3.5, null, 4.0, null, 0.5, 1.5, 2.0, null, 4.0, null, 2.0, 2.0, 2.0, 2.5, 3.5, null, 4.0, 2.0, 1.5, 3.0, 2.5, 4.0, 3.5, 1.0, 2.5, 3.0, null, 3.0, 4.0, null, 2.5, null, 3.0, 3.5, null, 3.5, 1.5, 3.5, 1.5, null, null, null, null, 4.0, 3.0, null, null, 3.5, 3.5, null, 3.0, 3.0, 3.0, 3.0, null, 2.0, 3.0, null, null, 3.0, 2.0, 3.0, 4.0, null, 3.5, 3.0, 3.5, 3.5, 3.0, null, 3.5, 1.5, 3.0, 3.5, 1.5, 3.5, 2.0, 3.0, 3.0, null, 3.5, 3.5, 3.0, 2.5, 3.5, null, 3.5, 4.0, 3.0, 3.0, 3.0, null, null, 2.5, 3.5, 3.5, 3.0, 3.5, null, 3.0, 2.0, 2.5, 4.0, 3.0, 3.5, 2.0, null, 4.0, null, null, null, 3.0, null, null, 3.0, 3.5, 3.0, 4.0, 3.5, null, 3.5, null, 3.5, 2.0, 3.0, 3.0, 3.0, 2.0, 3.5, 3.0, null, 4.0, 3.0, 2.0, 1.5, null, null, null, null, 3.0, 2.5, 3.0, 3.5, 2.5, 3.0, null, 3.5, null, 3.0, null, 2.0, null, null, 2.0, 3.0, null, 3.5, null, 3.0, 1.0, 2.0, null, 3.5, 3.0, 3.0, 3.0, 2.5, null, 2.5, 3.5, 4.0, null, 3.0, null, null, 1.0, null, 3.0, null, 3.5, 4.0, 2.0, 3.0, 2.5, 4.0, null, 2.0, 3.0, 3.5, 4.0, 4.0, 2.5, null, 3.5, 2.0, 3.5, 3.0, 3.0, 1.0, null, 3.5, null, 1.0, 3.5, 4.0, 1.0, null, null, 4.0, 2.5, 4.0, 3.5, 2.0, 3.0, null, 1.0, null, null, 4.0, 4.0, null, 4.0, null, 1.0, null, 2.0, 3.0, 2.0, 2.0, 1.5, null, null, 3.0, null, 3.5, null, 2.0, null, 2.5, 4.0, 3.0, 2.0, null, 3.0, 2.5, 3.0, 2.0, 2.5, 3.0, null, 4.0, 3.5, 3.0, 2.0, null, 2.5, 3.5, 2.0, 3.5, null, 3.0, null, 0.5, 4.0, 1.5, 3.0, 3.5, 3.0, 3.0, null, 3.0, null, null, 0.5, 3.0, 3.5, 2.0, null, 2.0, 1.5, 2.5, null, 3.0, 1.0, 1.0, 3.0, null, 3.0, null, 3.0, null, 3.5, 2.0, 3.0, 3.5, 3.0, 2.5, 3.5, 2.0, 3.0, null, null, 2.5, null, 3.0, 2.0, null, 1.5, null, 3.5, 3.0, 2.0, 4.0, 3.5, 3.0, 2.0, 3.0, 3.0, 3.5, 4.0, null, null, null, null, null, null, null, 3.0, 1.0, 3.0, 2.0, null, 2.5, null, 4.0, 1.5, 3.0, null, 3.0, null, null, 3.0, 2.0, 1.5, 3.0, null, 0.5, null, 1.5, 2.5, 2.5, null, 3.0, null, null, null, 3.5, null, 3.0, 2.0, 3.0, 2.0, 1.5, 3.0, null, 2.0, 2.0, 1.5, 4.0, 4.0, 1.5, 3.0, 3.0, 3.0, 4.0, null, 2.5, 3.5, 3.0, 2.5, 3.0, 3.5, 1.5, 4.0, 2.5, 3.0, 1.0, 3.0, 1.5, 3.5, 3.0, null, null, 3.0, 2.0, 3.0, null, null, null, null, null, 3.0, null, 3.0, null, 3.0, null, 3.0, null, 3.0, null, null, null, 3.0, 2.5, 3.5, null, 3.0, 3.0, null, 1.5, 3.0, 2.5, null, null, 4.0, 4.0, null, 4.0, null, null, null, 2.5, null, null, null, null, 3.0, 4.0, null, null, 3.5, null, 2.5, 3.0, 1.5, 1.5, null, null, null, 3.0, null, 2.5, null, 2.0, null, 2.5, 2.0, 3.0, 3.0, 3.0, 3.5, null, 3.0, 2.0, 2.5, 2.0, 2.0, 3.5, 3.0, 3.0, null, null, 2.0, 2.0, 2.0, 2.5, 4.0, 2.0, 2.5, null, null, 4.0, 3.0, null, null, null, null, 4.0, null, 2.5, null, null, null, null, 3.5, 3.5, 2.5, 3.5, 2.5, 3.5, 0.5, 2.0, 2.5, 3.5, 2.0, 1.0, 1.0, 1.0, 2.5, 2.5, null, 3.0, 3.5, 2.5, 3.0, null, 4.0, 3.0, null, 0.5, 4.0, 3.0, 3.0, 2.0, 3.0, 3.0, null, null, 3.5, 3.5, null, null, 4.0, 3.5, 3.5, 2.0, 1.0, 4.0, 4.0, null, null, 4.0, 4.0, 2.0, 3.5, 3.0, null, null, 2.0, null, 3.5, 3.0, null, null, 3.0, 4.0, 3.5, 2.5, 3.0, 3.0, null, 2.0, 3.5, null, 3.0, 3.0, null, 3.5, null, null, 3.0, 2.0, 2.0, null, null, 3.0, 2.0, 1.5, null, 3.0, null, 4.0, 2.5, null, 2.0, 3.5, null, 3.5, 2.5, 1.0, 0.5, 2.5, 3.0, null, 2.5, 2.0, 3.5, 1.0, null, null, 1.0, null, 2.0, 3.0, 3.0, 4.0, 2.0, 1.5, 4.0, null, null, 3.5, 3.0, 3.0, 3.5, null, 1.5, 2.0, null, 3.0, 2.5, 2.0, null, null, 2.0, null, 4.0, 3.0, null, 4.0, null, 2.0, 3.0, 2.5, 3.0, 2.0, 3.5, 4.0, 3.0, null, 2.5, null, 3.5, null, 2.5, 2.5, 2.5, 3.0, null, 2.0, 3.0, null, null, 4.0, null, 3.0, 2.0, null, 4.0, null, 3.5, null, null, 3.0, 2.0, 3.0, 2.0, 2.5, 3.0, 2.0, 1.5, 2.5, null, null, 4.0, 3.0, 2.0, 3.5, 3.0, null, 3.0, 3.0, 3.5, 2.5, 3.0, 2.0, 2.5, 1.0, 2.0, 2.5, 1.5, 1.0, null, 3.0, 2.0, 3.5, null, null, 3.0, 3.5, null, 3.0, 3.0, 2.0, 3.0, null, 4.0, 4.0, null, null, 1.0, 3.5, 3.0, 2.5, 2.5, 2.0, 3.0, 3.0, 3.5, 2.5, 2.0, null, 2.0, 2.0, 1.5, 3.0, 3.5, 3.0, 3.5, 2.0, null, null, 2.0, 3.0, 3.5, 3.0, null, null, null, 3.5, 3.5, null, 3.5, null, null, null, 4.0, null, 2.0, 3.0, 3.5, 2.5, 2.5, 3.0, null, 2.0, 3.0, 3.5, 3.0, 3.0, 3.0, null, 0.5, null, 3.0, null, 1.0, 3.0, null, 3.0, 3.5, 3.0, 3.0, 3.5, 2.0, null, 4.0, 3.5, 3.0, 3.0, 1.5, 2.5, 3.0, 1.0, 1.0, null, null, 3.0, 3.5, null, null, 3.0, 3.5, 3.5, 3.5, 3.0, 4.0, 3.0, 1.5, 3.0, 4.0, null, 4.0, 3.0, 3.0, 4.0, 4.0, null, 3.5, 1.0, 4.0, 0.5, 4.0, null, null, null, 3.0, 2.5, null, 3.0, null, null, 1.5, null, 2.0, 2.0, null, 2.5, 3.5, null, 3.0, 1.0, 3.0, 3.0, 4.0, null, 3.0, 3.0, 2.0, null, 4.0, 2.5, 3.0, 1.5, 3.5, 3.0, 3.5, 2.0, null, null, 1.0, null, null, 1.5, null, 3.5, null, 2.5, 2.5, 4.0, 3.0, 3.5, 1.5, 2.5, null, null, 4.0, null, null, null, 4.0, 3.5, 2.5, 2.5, 3.0, 4.0, null, 2.5, 2.0, null, null, 1.0, 3.0, 2.5, 2.0, null, 1.5, null, 2.0, 2.5, 4.0, null, null, 3.0, 3.0, 3.5, 2.0, null, null, 2.5, null, 2.5, null, 2.0, null, 4.0, 2.0, 2.0, 3.0, null, 3.5, 2.5, 3.5, null, 3.0, 2.5, null, 2.5, 3.5, 2.5, 4.0, 3.5, 3.5, 3.5, 0.5, null, null, 4.0, 3.0, 1.0, 3.0, null, 1.0, 2.5, null, null, 2.0, 2.0, 4.0, null, 2.0, 1.5, 3.5, 4.0, null, null, 3.5, null, 2.0, 1.5, 2.5, 1.5, null, 2.0, null, 2.0, 3.0, null, 1.0, 3.0, 3.5, null, 4.0, 4.0, null, 3.0, null, 2.0, null, null, 2.0, 3.0, null, 3.0, 3.0, 0.5, 2.0, 2.0, null, null, null, 1.0, 3.0, null, null, 2.0, 1.5, 3.0, null, 2.0, null, 2.5, null, 2.5, 3.5, 2.0, 3.5, 2.5, null, 3.5, null, null, 3.0, null, 2.0, 3.0, null, 3.0, null, 3.0, null, null, 1.5, 2.5, null, 2.5, 1.0, 2.0, null, 3.0, 3.0, 2.0, null, 2.5, 1.5, 3.5, 2.0, null, 1.5, 1.5, 3.0, 2.5, 2.5, 3.5, 3.0, 3.5, null, 4.0, 3.5, 1.5, 3.0, 1.0, 3.0, null, 3.5, 3.0, 3.0, 3.5, 4.0, null, 4.0, 3.0, 3.5, null, 2.0, null, null, 3.0, 2.5, 4.0, 3.0, 3.0, 3.0, 3.0, null, 0.5, null, null, null, 2.0, 3.0, null, null, 2.0, 1.0, 3.5, 1.5, 3.0, null, 2.0, 3.5, null, 3.0, null, null, 3.5, 3.5, null, 3.5, 2.5, 3.5, 3.0, 3.5, null, null, 3.0, 2.0, 3.0, 2.0, 4.0, 3.0, 2.5, 0.5, 4.0, null, null, null, 2.0, 1.5, null, 3.5, null, 3.0, 3.0, 3.5, 2.0, 3.0, 2.5, null, 4.0, 1.5, 1.0, 3.0, 1.5, 3.0, 3.5, 1.5, 2.0, 2.0, 2.5, 3.5, 2.0, null, 1.5, 3.0, 3.0, null, 2.5, 3.5, 1.5, null, null, 1.5, 3.5, null, null, 4.0, 3.5, null, 3.5, 3.0, 2.0, null, null, 3.0, null, 3.0, 2.5, null, null, 3.5, 3.0, null, 3.0, null, 2.0, 3.0, null, null, null, 2.0, 2.0, null, 4.0, 3.5, 3.0, 3.0, null, 3.0, 3.0, 3.0, null, 1.5, 2.0, 1.0, null, null, null, null, null, 3.0, 2.5, null, 3.5, 2.0, 1.5, 3.5, 3.5, 3.0, 3.0, 3.0, null, null, 3.0, 3.0, null, 3.0, null, 4.0, 2.5, 1.5, null, null, null, null, 3.0, null, 3.0, 1.0, 3.5, null, null, 1.5, 3.0, 2.5, 3.0, 1.0, 2.0, 1.5, null, null, 3.0, null, 3.0, null, null, 2.0, 3.5, null, null, 3.0, null, 3.0, 3.0, 3.5, 2.0, 1.5, 2.5, null, 2.0, null, null, 2.0, 3.5, 2.0, 3.5, 3.0, 3.5, 3.0, 3.0, 2.0, 3.5, 3.0, 3.5, null, 2.5, 1.5, 4.0, 3.0, null, 3.0, 3.0, null, 1.5, 2.0, null, null, 1.5, null, 2.0, 2.0, null, 3.5, null, 2.0, 4.0, 2.5, 1.0, 3.0, 3.5, 2.5, 4.0, 3.0, 2.0, 3.0, 2.5, null, 1.0, null, null, 2.0, 2.5, null, 2.0, null, 3.5, null, 2.5, 2.0, 2.5, 3.5, 3.5, null, null, 3.5]}, {\"axis\": {\"matches\": true}, \"label\": \"audience_rating\", \"values\": [96.0, 91.0, 96.0, 94.0, 86.0, 86.0, 88.0, 93.0, 83.0, 94.0, 87.0, 82.0, null, 85.0, 94.0, 92.0, 91.0, 86.0, 95.0, null, 84.0, 89.0, 95.0, 85.0, null, 90.0, 84.0, 89.0, null, 95.0, 79.0, 98.0, 94.0, 76.0, 85.0, 87.0, 89.0, 85.0, 86.0, 90.0, 91.0, null, 92.0, 91.0, 94.0, 91.0, 77.0, 80.0, 92.0, 91.0, 94.0, 75.0, 89.0, 86.0, 90.0, 69.0, 86.0, 84.0, 83.0, null, 93.0, 95.0, 85.0, 86.0, 86.0, 94.0, 76.0, 86.0, 92.0, 93.0, 93.0, 90.0, 86.0, 94.0, 92.0, 94.0, 95.0, 97.0, 93.0, 89.0, null, 82.0, 59.0, 69.0, 91.0, 87.0, 90.0, 80.0, 91.0, 74.0, 78.0, 89.0, null, 93.0, null, 66.0, 76.0, 95.0, 87.0, 67.0, null, 93.0, 80.0, 93.0, 59.0, 80.0, 71.0, 81.0, 93.0, null, 81.0, 66.0, 92.0, 82.0, 86.0, 67.0, 78.0, 81.0, 88.0, 94.0, 56.0, 91.0, 91.0, 89.0, 91.0, null, 90.0, 73.0, 85.0, 93.0, 82.0, 76.0, 76.0, null, 86.0, 85.0, 88.0, 86.0, 73.0, 78.0, 90.0, 87.0, 85.0, 62.0, 80.0, 79.0, 69.0, 76.0, 86.0, 93.0, 64.0, 89.0, 83.0, 87.0, 73.0, null, 91.0, null, 83.0, 88.0, 80.0, 94.0, 96.0, 94.0, 82.0, 79.0, 61.0, 51.0, 84.0, 94.0, 85.0, 91.0, null, 89.0, 74.0, 89.0, 87.0, 77.0, 66.0, null, 85.0, 84.0, 89.0, 91.0, 81.0, 83.0, null, 86.0, 96.0, 94.0, 77.0, 75.0, 82.0, 89.0, 77.0, 34.0, 51.0, 94.0, 91.0, null, 75.0, 92.0, 84.0, 94.0, 85.0, 90.0, 79.0, 70.0, 71.0, 79.0, 87.0, 96.0, 90.0, 81.0, null, 90.0, null, 81.0, 60.0, 71.0, 93.0, 92.0, 72.0, 79.0, 89.0, 85.0, 78.0, null, 82.0, 83.0, 81.0, 90.0, 82.0, null, 83.0, 92.0, 56.0, 89.0, 93.0, 70.0, 82.0, 72.0, 64.0, 74.0, null, 85.0, 83.0, 87.0, 77.0, 72.0, 55.0, 79.0, 72.0, 91.0, 65.0, 71.0, 90.0, 84.0, 66.0, null, 79.0, 77.0, 74.0, 93.0, 86.0, 68.0, 82.0, 73.0, 83.0, 78.0, 65.0, 78.0, 68.0, 71.0, 51.0, 71.0, 67.0, 82.0, 77.0, null, 77.0, 89.0, 89.0, 61.0, 89.0, 84.0, 83.0, 47.0, 77.0, null, 95.0, 84.0, null, 89.0, 80.0, 84.0, 81.0, 80.0, 61.0, null, null, null, 82.0, 85.0, 72.0, 70.0, 67.0, 77.0, 73.0, 77.0, 77.0, 89.0, null, 76.0, 63.0, 44.0, 84.0, 68.0, 89.0, 86.0, 69.0, 70.0, 81.0, null, null, 68.0, 71.0, null, 70.0, 89.0, 70.0, 78.0, 63.0, 73.0, 79.0, null, null, 87.0, 72.0, 84.0, 85.0, 74.0, 56.0, 68.0, null, null, 61.0, 87.0, null, null, 78.0, 77.0, 79.0, 85.0, 54.0, 58.0, 68.0, 86.0, 80.0, 69.0, 90.0, null, 87.0, 90.0, 84.0, 91.0, 63.0, 73.0, 93.0, 90.0, null, null, 83.0, 75.0, 50.0, 68.0, 85.0, null, 75.0, 74.0, 52.0, null, null, 74.0, 71.0, 60.0, 60.0, null, null, 74.0, 94.0, 36.0, 79.0, 75.0, 68.0, 48.0, null, 89.0, 63.0, 78.0, 60.0, null, 89.0, 80.0, 65.0, 67.0, 93.0, 79.0, 50.0, null, 76.0, 38.0, null, null, 89.0, null, 64.0, 83.0, 76.0, null, 53.0, 88.0, null, 93.0, 69.0, 87.0, 77.0, 89.0, 81.0, 73.0, 50.0, 69.0, 64.0, 57.0, 77.0, 85.0, 58.0, 66.0, null, 77.0, 80.0, 53.0, 57.0, 83.0, 89.0, null, 82.0, 71.0, 81.0, 63.0, 93.0, null, 77.0, 85.0, 80.0, 71.0, 57.0, 77.0, null, 84.0, 64.0, 80.0, 73.0, null, 82.0, 76.0, 74.0, 80.0, 49.0, 66.0, 93.0, 80.0, 66.0, 37.0, 76.0, 82.0, 82.0, 84.0, 52.0, 61.0, 77.0, 75.0, null, 65.0, 87.0, 91.0, 72.0, 61.0, 83.0, 87.0, 72.0, 89.0, 70.0, 93.0, 54.0, null, 78.0, 88.0, 80.0, 47.0, 75.0, 69.0, 81.0, 92.0, 49.0, 80.0, 74.0, 42.0, 76.0, 92.0, 88.0, null, 70.0, 63.0, 89.0, 82.0, 85.0, null, 66.0, 79.0, 82.0, 85.0, 66.0, 77.0, 45.0, 66.0, 89.0, 67.0, 59.0, 50.0, 54.0, 70.0, 52.0, 91.0, 36.0, 77.0, 72.0, 69.0, 70.0, 60.0, null, 16.0, 82.0, 74.0, 57.0, null, 57.0, 85.0, 78.0, null, 76.0, 90.0, null, null, 90.0, 66.0, null, 50.0, 87.0, 60.0, 76.0, 81.0, 65.0, 62.0, 77.0, 68.0, 72.0, 65.0, 90.0, 51.0, 64.0, 61.0, 78.0, 88.0, null, 70.0, 58.0, 79.0, 82.0, 73.0, 32.0, 73.0, 92.0, 84.0, 90.0, 49.0, 47.0, 63.0, 57.0, 84.0, 45.0, 64.0, 91.0, 74.0, 71.0, 88.0, 73.0, 53.0, 85.0, 81.0, 73.0, 63.0, 51.0, null, 55.0, 79.0, 86.0, 49.0, 85.0, 93.0, 53.0, 96.0, 79.0, 89.0, 57.0, 85.0, 76.0, 75.0, 73.0, 89.0, 66.0, null, 73.0, null, 59.0, 53.0, 85.0, 83.0, 81.0, 63.0, 78.0, 84.0, 44.0, 83.0, 85.0, 77.0, 79.0, null, 47.0, null, 80.0, null, 84.0, 46.0, 46.0, 89.0, 65.0, 41.0, 77.0, 41.0, 58.0, 57.0, 61.0, 69.0, 89.0, null, 92.0, 71.0, 67.0, 83.0, 86.0, null, null, 83.0, 62.0, 80.0, 87.0, null, 62.0, 70.0, 61.0, 81.0, 76.0, 56.0, 75.0, 83.0, 55.0, 72.0, 81.0, 81.0, 87.0, null, 79.0, 45.0, 61.0, 78.0, 40.0, 88.0, 68.0, 54.0, 72.0, 77.0, 83.0, 86.0, 82.0, 61.0, 80.0, 86.0, 72.0, 70.0, 70.0, 59.0, 66.0, 75.0, 70.0, 61.0, 75.0, 71.0, 36.0, 80.0, 69.0, 80.0, 55.0, 63.0, 75.0, 86.0, null, 68.0, 41.0, 57.0, 62.0, null, 67.0, 83.0, 74.0, 44.0, 70.0, 79.0, 78.0, 75.0, 84.0, 89.0, 59.0, 37.0, null, 90.0, 64.0, null, 76.0, 29.0, null, null, 71.0, 84.0, 18.0, 79.0, 89.0, 30.0, 79.0, 79.0, 88.0, 84.0, 66.0, 65.0, 73.0, null, 89.0, null, 53.0, 67.0, 82.0, 65.0, 67.0, 49.0, 88.0, 88.0, 79.0, 77.0, 71.0, 56.0, 61.0, 75.0, 60.0, 55.0, 74.0, 38.0, null, 62.0, 49.0, 60.0, 77.0, null, 74.0, 57.0, 74.0, 50.0, 87.0, 40.0, 39.0, 51.0, 50.0, 67.0, 49.0, null, null, 82.0, 48.0, 67.0, 82.0, 91.0, 88.0, 83.0, 91.0, 66.0, 81.0, 76.0, 72.0, 85.0, 85.0, 47.0, 86.0, 80.0, null, null, 51.0, null, 64.0, 84.0, null, null, null, 59.0, 44.0, null, 57.0, 81.0, null, null, 94.0, 59.0, 75.0, 88.0, 68.0, 60.0, 76.0, 52.0, 53.0, null, null, 68.0, null, 88.0, 89.0, 64.0, 70.0, 52.0, 48.0, 67.0, 68.0, 86.0, 58.0, null, 52.0, 64.0, null, 44.0, 79.0, 44.0, null, 58.0, 46.0, 79.0, 93.0, 61.0, 78.0, 50.0, 80.0, 80.0, 85.0, 24.0, 80.0, 75.0, 57.0, 73.0, null, 74.0, 56.0, 74.0, 66.0, 88.0, 59.0, 94.0, 77.0, 78.0, 74.0, 57.0, 86.0, 52.0, 54.0, 84.0, null, 47.0, null, 37.0, 65.0, 66.0, 68.0, 63.0, 70.0, 50.0, 73.0, 55.0, 57.0, 36.0, 90.0, 52.0, 49.0, null, 48.0, 27.0, 51.0, 65.0, 59.0, 66.0, 54.0, 57.0, 61.0, 89.0, 55.0, 51.0, 82.0, 51.0, 71.0, 78.0, null, 80.0, null, 53.0, 38.0, null, 48.0, 73.0, 70.0, 64.0, 55.0, 71.0, 87.0, 83.0, 66.0, null, 58.0, 84.0, 54.0, 57.0, 61.0, 68.0, 63.0, 82.0, 86.0, 76.0, null, 74.0, 74.0, 62.0, null, 56.0, 78.0, 84.0, 69.0, 36.0, 74.0, 86.0, 30.0, null, 62.0, 43.0, 48.0, null, 88.0, 53.0, 77.0, 78.0, 41.0, 57.0, 89.0, 74.0, 68.0, 85.0, 75.0, 77.0, 65.0, null, null, null, 84.0, 49.0, null, 58.0, null, null, 87.0, 85.0, 81.0, 80.0, null, 44.0, 67.0, 87.0, 83.0, 79.0, 69.0, 74.0, 38.0, 80.0, 55.0, 87.0, 80.0, 73.0, 57.0, 59.0, 71.0, 83.0, 91.0, 51.0, 41.0, 79.0, 53.0, 66.0, 72.0, 65.0, 63.0, 58.0, 82.0, 63.0, 72.0, 70.0, 65.0, 57.0, 53.0, 40.0, null, null, null, 81.0, 50.0, 69.0, 56.0, 54.0, null, 49.0, 73.0, 52.0, 68.0, null, 47.0, null, 83.0, 60.0, 75.0, 66.0, 85.0, 36.0, 74.0, 67.0, 42.0, 91.0, 57.0, 42.0, 67.0, 76.0, 81.0, 52.0, null, 33.0, 73.0, 57.0, 65.0, 52.0, null, 56.0, 73.0, 58.0, 66.0, null, 87.0, 77.0, 90.0, 67.0, 48.0, 71.0, null, 91.0, 55.0, 74.0, 92.0, 47.0, null, null, 86.0, 62.0, 80.0, 68.0, 49.0, 85.0, null, 27.0, 55.0, 55.0, 64.0, 49.0, 81.0, null, 43.0, 74.0, null, 51.0, 77.0, 71.0, 51.0, 71.0, null, null, 88.0, 55.0, 86.0, 39.0, 86.0, null, 53.0, 46.0, null, 50.0, 88.0, 92.0, 55.0, 78.0, 49.0, 44.0, 67.0, 79.0, 77.0, 63.0, 52.0, 82.0, 47.0, 43.0, 74.0, 77.0, 65.0, 66.0, 52.0, 63.0, null, 42.0, 65.0, 58.0, 49.0, 93.0, 60.0, 83.0, null, 72.0, 75.0, null, null, 91.0, 62.0, 44.0, 62.0, 81.0, 87.0, 79.0, 50.0, 73.0, 66.0, null, 60.0, 77.0, 58.0, null, 72.0, 60.0, 48.0, 79.0, 78.0, 36.0, null, null, 80.0, 24.0, 59.0, 35.0, 87.0, 57.0, 43.0, 46.0, 62.0, 18.0, 86.0, 82.0, 44.0, 62.0, 50.0, 47.0, 64.0, 39.0, null, 53.0, 62.0, 82.0, 71.0, 87.0, 51.0, 78.0, 49.0, 89.0, 56.0, 72.0, 64.0, 42.0, 44.0, 48.0, 55.0, 67.0, null, 51.0, 80.0, 75.0, 39.0, 61.0, 89.0, null, 76.0, null, 51.0, 72.0, 85.0, null, 60.0, 58.0, 46.0, 75.0, 28.0, 74.0, 77.0, 53.0, 73.0, 55.0, 84.0, 59.0, 59.0, null, 52.0, null, 37.0, 55.0, 49.0, 69.0, 86.0, 47.0, null, 24.0, 56.0, 45.0, 83.0, null, 65.0, 51.0, 68.0, 51.0, null, 54.0, 45.0, 75.0, 89.0, 63.0, 50.0, 42.0, 43.0, 57.0, null, 55.0, 83.0, null, 73.0, 64.0, 85.0, 61.0, 86.0, 76.0, 48.0, 48.0, null, 56.0, 78.0, 75.0, 59.0, 70.0, 63.0, 75.0, 44.0, 63.0, 51.0, null, 41.0, 44.0, 45.0, 60.0, 47.0, null, 38.0, 48.0, 72.0, 64.0, null, null, 56.0, null, 55.0, 30.0, 57.0, 60.0, 51.0, null, 80.0, 53.0, null, 59.0, 87.0, 66.0, 24.0, 87.0, null, 57.0, 55.0, 78.0, 56.0, 61.0, 55.0, 88.0, null, 85.0, 76.0, 89.0, 20.0, 49.0, 83.0, 59.0, 47.0, null, null, 82.0, 87.0, null, 40.0, 93.0, 58.0, 53.0, 50.0, 53.0, 50.0, 80.0, 65.0, 45.0, null, 65.0, 45.0, 51.0, 55.0, 63.0, 43.0, 66.0, 85.0, 50.0, 87.0, null, null, 49.0, 71.0, 43.0, 64.0, 60.0, 69.0, 60.0, null, 66.0, null, 65.0, 40.0, null, 54.0, 62.0, 72.0, 48.0, 35.0, 78.0, null, 68.0, 63.0, 45.0, 45.0, 46.0, 83.0, 83.0, 24.0, null, 62.0, null, 44.0, 56.0, 90.0, 55.0, 89.0, 56.0, null, 52.0, 58.0, 66.0, 73.0, 28.0, 35.0, 48.0, null, 79.0, null, 35.0, 39.0, null, 30.0, 64.0, 33.0, 57.0, 83.0, 37.0, 64.0, 82.0, 79.0, null, 72.0, 62.0, null, 38.0, 34.0, 63.0, 91.0, 49.0, null, null, 84.0, 43.0, 63.0, null, 53.0, 81.0, 23.0, 58.0, null, 82.0, 87.0, 86.0, 65.0, 73.0, 75.0, 58.0, null, 74.0, 42.0, 64.0, 84.0, 52.0, 83.0, 53.0, 63.0, null, null, 45.0, 65.0, 71.0, 52.0, 78.0, 73.0, 74.0, 74.0, 47.0, 45.0, 51.0, 39.0, 37.0, null, 71.0, 32.0, 62.0, 57.0, 48.0, 50.0, 87.0, 44.0, 59.0, 58.0, 46.0, 83.0, 68.0, null, 66.0, null, 56.0, null, 61.0, 54.0, null, 53.0, null, 57.0, 48.0, null, 23.0, null, 58.0, 75.0, 41.0, 88.0, 39.0, 79.0, null, 25.0, 45.0, null, null, 27.0, null, 62.0, 47.0, 38.0, 69.0, 59.0, 62.0, null, 51.0, null, 63.0, null, 71.0, 91.0, 66.0, null, 65.0, 55.0, 40.0, 73.0, 79.0, 65.0, 60.0, 78.0, null, 56.0, 39.0, 47.0, 59.0, 65.0, 49.0, null, 61.0, 70.0, 51.0, 67.0, 62.0, 58.0, 46.0, 76.0, 28.0, 57.0, 59.0, 34.0, 82.0, null, 79.0, null, 63.0, 30.0, 68.0, null, 55.0, 29.0, 80.0, 49.0, 61.0, 60.0, 41.0, 65.0, 41.0, 66.0, 49.0, 89.0, 54.0, 31.0, 51.0, 41.0, 48.0, 73.0, 82.0, 64.0, 82.0, 34.0, null, 59.0, null, null, 52.0, 63.0, 53.0, 70.0, 58.0, 55.0, 77.0, 64.0, 40.0, 52.0, 77.0, 62.0, null, 45.0, 80.0, 93.0, 44.0, 39.0, 49.0, 85.0, 51.0, null, 59.0, 27.0, 79.0, null, 92.0, 70.0, 59.0, 24.0, 37.0, 57.0, 18.0, 59.0, 54.0, 78.0, 55.0, null, 33.0, 53.0, 65.0, 78.0, 67.0, 75.0, 63.0, 74.0, 72.0, null, 56.0, 51.0, 63.0, 44.0, 41.0, 48.0, 76.0, 37.0, 81.0, null, null, 75.0, null, 44.0, 60.0, 48.0, 60.0, 83.0, 60.0, 38.0, 58.0, 38.0, 60.0, 51.0, 73.0, 52.0, 39.0, 55.0, 53.0, 73.0, null, 88.0, 45.0, 69.0, null, 35.0, null, 74.0, null, 66.0, null, null, 61.0, 29.0, 52.0, 65.0, 34.0, 86.0, 81.0, 49.0, null, 54.0, 74.0, 54.0, 72.0, 63.0, 69.0, 80.0, 29.0, 60.0, null, 55.0, 86.0, 43.0, 74.0, 76.0, 85.0, null, 61.0, 45.0, null, null, 86.0, 35.0, 74.0, 22.0, 65.0, 23.0, 74.0, 32.0, 53.0, 38.0, 51.0, 53.0, 47.0, 57.0, 54.0, null, 89.0, null, 24.0, 43.0, 41.0, 61.0, null, null, null, 43.0, 55.0, 58.0, 86.0, 33.0, null, null, 83.0, 61.0, 51.0, 35.0, 65.0, 39.0, null, 50.0, 51.0, 54.0, 35.0, null, 54.0, 47.0, 66.0, 84.0, 65.0, 36.0, 54.0, 38.0, 83.0, 30.0, 77.0, 29.0, 84.0, null, 90.0, 37.0, 75.0, 67.0, 75.0, 67.0, 20.0, 58.0, 31.0, 43.0, 27.0, 77.0, 52.0, 40.0, 75.0, null, 48.0, 31.0, 50.0, null, 39.0, 40.0, 44.0, 82.0, null, 46.0, null, 55.0, 20.0, 40.0, 33.0, 56.0, 61.0, null, 62.0, 82.0, 43.0, 90.0, 34.0, 67.0, null, 60.0, 79.0, null, null, 33.0, 30.0, 77.0, 66.0, 61.0, 83.0, 67.0, 60.0, null, 81.0, 42.0, null, 55.0, null, 34.0, null, 59.0, null, 52.0, null, 55.0, 63.0, 56.0, 49.0, 29.0, 51.0, 65.0, 68.0, 83.0, 16.0, 60.0, 78.0, null, 39.0, 78.0, 44.0, 35.0, 38.0, 71.0, null, 34.0, 28.0, 73.0, 37.0, null, null, 64.0, 69.0, 57.0, 39.0, 68.0, null, 42.0, 25.0, null, null, null, 45.0, 70.0, 64.0, null, 24.0, 66.0, null, 32.0, 56.0, 69.0, 44.0, 52.0, 81.0, null, 41.0, 69.0, null, null, 62.0, 58.0, 59.0, 32.0, 85.0, 37.0, 77.0, 77.0, 62.0, 77.0, null, 58.0, 67.0, 61.0, null, 56.0, 34.0, null, 42.0, 60.0, 48.0, 40.0, 30.0, 34.0, 33.0, 34.0, 55.0, 36.0, 52.0, 32.0, 67.0, 44.0, 56.0, 59.0, 67.0, 90.0, 52.0, 41.0, 52.0, 16.0, 44.0, 75.0, 41.0, 74.0, 63.0, 49.0, 60.0, null, 84.0, 47.0, 53.0, 54.0, 62.0, 28.0, 37.0, 57.0, 62.0, 78.0, 64.0, 65.0, 46.0, 44.0, 81.0, 66.0, 77.0, 41.0, 81.0, 32.0, 38.0, 83.0, null, 43.0, 67.0, 57.0, 42.0, 39.0, 74.0, 23.0, 42.0, 32.0, null, 31.0, 35.0, 44.0, 39.0, 56.0, 38.0, 39.0, 32.0, 45.0, null, 81.0, 78.0, 62.0, 48.0, null, 79.0, 36.0, 72.0, 46.0, 53.0, 58.0, 76.0, 45.0, null, 53.0, null, 74.0, 45.0, 90.0, 68.0, 30.0, 12.0, null, 44.0, 64.0, null, null, 63.0, 71.0, 76.0, 42.0, null, 59.0, 59.0, 53.0, 38.0, 32.0, null, null, 31.0, 72.0, 75.0, 37.0, null, 90.0, 42.0, 43.0, 48.0, 75.0, 63.0, 20.0, 67.0, null, 29.0, 42.0, null, null, 48.0, 40.0, 27.0, null, 65.0, 53.0, 55.0, null, 59.0, 64.0, 48.0, 87.0, 50.0, 50.0, 44.0, null, 81.0, 50.0, null, 64.0, 65.0, 47.0, null, 57.0, 65.0, 69.0, null, 74.0, 52.0, 47.0, 59.0, 64.0, 53.0, 73.0, 37.0, 81.0, null, 38.0, null, 33.0, 79.0, 70.0, 83.0, 60.0, 40.0, 41.0, 33.0, 59.0, 28.0, null, 49.0, 29.0, null, 68.0, 48.0, 83.0, 41.0, 51.0, null, 75.0, 66.0, 78.0, 52.0, 41.0, 36.0, 69.0, 69.0, 38.0, 65.0, 52.0, 38.0, 60.0, 24.0, 40.0, 64.0, 38.0, 29.0, null, 65.0, 60.0, 33.0, 48.0, 41.0, null, null, null, 41.0, 82.0, 57.0, null, 15.0, null, 23.0, 44.0, 36.0, 26.0, null, 25.0, 58.0, 57.0, 36.0, null, 47.0, null, null, 54.0, 84.0, 39.0, 76.0, 38.0, 48.0, 51.0, 51.0, 76.0, 57.0, 60.0, 40.0, null, null, null, 83.0, 64.0, 40.0, 53.0, 42.0, 80.0, 36.0, 55.0, 43.0, null, 84.0, 51.0, 66.0, null, 58.0, 62.0, 63.0, 85.0, 34.0, 61.0, 30.0, 54.0, 60.0, 53.0, null, 39.0, 68.0, 81.0, 43.0, 57.0, 79.0, 68.0, 32.0, 83.0, 79.0, 66.0, 66.0, null, 64.0, 77.0, 40.0, 20.0, 39.0, 49.0, 18.0, 70.0, 79.0, 89.0, 43.0, 32.0, 46.0, 70.0, 80.0, 79.0, 69.0, 83.0, 84.0]}, {\"axis\": {\"matches\": true}, \"label\": \"tm_rating\", \"values\": [92.0, 87.0, 79.0, 94.0, 91.0, 72.0, 89.0, 84.0, 80.0, 94.0, 87.0, 95.0, null, 97.0, 93.0, 91.0, 87.0, 96.0, 96.0, null, 82.0, 95.0, 71.0, 88.0, null, 85.0, 85.0, 98.0, null, 91.0, 92.0, 91.0, 96.0, 68.0, 69.0, 96.0, 91.0, 95.0, 93.0, 98.0, 90.0, null, 90.0, 94.0, 92.0, 91.0, 89.0, 86.0, 100.0, 91.0, 93.0, 97.0, 86.0, 93.0, 87.0, 89.0, 90.0, 78.0, 76.0, null, 83.0, 95.0, 93.0, 99.0, 94.0, 97.0, 75.0, 83.0, 84.0, 93.0, 87.0, 96.0, 92.0, 84.0, 76.0, 91.0, 89.0, 97.0, 79.0, 96.0, null, 82.0, 26.0, 69.0, 95.0, 81.0, 88.0, 82.0, 91.0, 88.0, 79.0, 98.0, null, 93.0, null, 80.0, 77.0, 93.0, 88.0, 90.0, null, 91.0, 96.0, 100.0, 52.0, 65.0, 72.0, 84.0, 91.0, null, 78.0, 84.0, 85.0, 93.0, 100.0, 48.0, 84.0, 97.0, 94.0, 94.0, 65.0, 90.0, 89.0, 91.0, 89.0, null, 95.0, 90.0, 90.0, 82.0, 87.0, 66.0, 82.0, null, 92.0, 92.0, 88.0, 89.0, 75.0, 70.0, 86.0, 89.0, 92.0, 28.0, 82.0, 78.0, 89.0, 75.0, 92.0, 97.0, 91.0, 90.0, 86.0, 77.0, 49.0, null, 90.0, null, 93.0, 96.0, 72.0, 97.0, 95.0, 93.0, 85.0, 90.0, 85.0, 83.0, 87.0, 97.0, 86.0, 95.0, null, 100.0, 92.0, 83.0, 93.0, 79.0, 55.0, null, 66.0, 78.0, 93.0, 99.0, 68.0, 64.0, null, 86.0, 89.0, 78.0, 73.0, 56.0, 84.0, 95.0, 85.0, 45.0, 62.0, 91.0, 93.0, null, 78.0, 95.0, 80.0, 88.0, 87.0, 93.0, 91.0, 51.0, 65.0, 75.0, 86.0, 83.0, 91.0, 80.0, null, 92.0, null, 76.0, 85.0, 69.0, 93.0, 89.0, 53.0, 92.0, 83.0, 74.0, 79.0, null, 93.0, 87.0, 84.0, 96.0, 98.0, null, 94.0, 94.0, 86.0, 75.0, 80.0, 67.0, 56.0, 66.0, 51.0, 92.0, null, 53.0, 85.0, 84.0, 72.0, 70.0, 51.0, 84.0, 64.0, 89.0, 47.0, 69.0, 96.0, 88.0, 69.0, null, 69.0, 70.0, 59.0, 74.0, 94.0, 73.0, 90.0, 92.0, 80.0, 80.0, 78.0, 93.0, 68.0, 89.0, 59.0, 83.0, 79.0, 81.0, 86.0, 83.0, 69.0, 95.0, 77.0, 63.0, 90.0, 95.0, 81.0, 67.0, 85.0, null, 93.0, 49.0, null, 97.0, 83.0, 74.0, 73.0, 90.0, 33.0, null, null, null, 77.0, 96.0, 73.0, 82.0, 43.0, 82.0, 69.0, 72.0, 87.0, 49.0, null, 90.0, 85.0, 85.0, 53.0, 77.0, 76.0, 70.0, 88.0, 54.0, 80.0, null, null, 65.0, 64.0, null, 54.0, 76.0, 65.0, 85.0, 43.0, 80.0, 83.0, null, null, 97.0, 72.0, 76.0, 78.0, 71.0, 57.0, 48.0, null, null, 28.0, 67.0, null, null, 77.0, 88.0, 86.0, 93.0, 78.0, 60.0, 63.0, 94.0, 80.0, 71.0, 91.0, null, 81.0, 89.0, 86.0, 94.0, 56.0, 85.0, 83.0, 91.0, null, null, 54.0, 67.0, 82.0, 77.0, 58.0, null, 81.0, 85.0, 41.0, null, null, 61.0, 92.0, 35.0, 55.0, null, null, 53.0, 99.0, 40.0, 86.0, 79.0, 90.0, 52.0, null, 93.0, 75.0, 82.0, 48.0, null, 84.0, 80.0, 45.0, 74.0, 87.0, 86.0, 84.0, null, 62.0, 30.0, null, null, 90.0, null, 74.0, 77.0, 94.0, null, 33.0, 93.0, null, 96.0, 55.0, 90.0, 59.0, 88.0, 89.0, 68.0, 74.0, 41.0, 55.0, 48.0, 83.0, 89.0, 65.0, 34.0, null, 71.0, 64.0, 50.0, 88.0, 86.0, 73.0, null, 82.0, 83.0, 80.0, 73.0, 93.0, null, 92.0, 75.0, 83.0, 37.0, 26.0, 74.0, null, 93.0, 97.0, 80.0, 54.0, null, 97.0, 46.0, 74.0, 93.0, 39.0, 64.0, 88.0, 86.0, 67.0, 41.0, 91.0, 92.0, 89.0, 68.0, 33.0, 63.0, 86.0, 77.0, null, 56.0, 95.0, 92.0, 72.0, 61.0, 77.0, 82.0, 79.0, 82.0, 65.0, 80.0, 75.0, null, 68.0, 88.0, 85.0, 39.0, 70.0, 71.0, 33.0, 84.0, 36.0, 49.0, 81.0, 75.0, 29.0, 99.0, 98.0, null, 56.0, 75.0, 89.0, 92.0, 66.0, null, 67.0, 73.0, 93.0, 93.0, 53.0, 71.0, 39.0, 81.0, 90.0, 45.0, 41.0, 44.0, 58.0, 71.0, 32.0, 69.0, 49.0, 69.0, 45.0, 37.0, 69.0, 70.0, null, 11.0, 78.0, 89.0, 81.0, null, 43.0, 76.0, 84.0, null, 83.0, 82.0, null, null, 63.0, 46.0, null, 36.0, 96.0, 78.0, 80.0, 68.0, 72.0, 73.0, 91.0, 35.0, 69.0, 76.0, 82.0, 68.0, 65.0, 53.0, 56.0, 92.0, null, 76.0, 65.0, 92.0, 83.0, 60.0, 39.0, 54.0, 96.0, 81.0, 91.0, 55.0, 37.0, 62.0, 73.0, 91.0, 68.0, 39.0, 88.0, 52.0, 85.0, 76.0, 70.0, 54.0, 86.0, 92.0, 81.0, 56.0, 37.0, null, 15.0, 84.0, 99.0, 71.0, 85.0, 96.0, 64.0, 93.0, 91.0, 85.0, 32.0, 88.0, 87.0, 91.0, 76.0, 96.0, 64.0, null, 38.0, null, 37.0, 49.0, 61.0, 90.0, 54.0, 71.0, 66.0, 84.0, 57.0, 58.0, 73.0, 42.0, 90.0, null, 22.0, null, 63.0, null, 81.0, 36.0, 93.0, 83.0, 83.0, 25.0, 86.0, 67.0, 79.0, 20.0, 88.0, 41.0, 80.0, null, 83.0, 67.0, 56.0, 66.0, 76.0, null, null, 89.0, 11.0, 95.0, 94.0, null, 92.0, 85.0, 28.0, 85.0, 78.0, 33.0, 90.0, 91.0, 35.0, 89.0, 84.0, 92.0, 80.0, null, 43.0, 26.0, 83.0, 42.0, 26.0, 76.0, 73.0, 46.0, 42.0, 75.0, 89.0, 85.0, 63.0, 54.0, 91.0, 85.0, 63.0, 87.0, 69.0, 78.0, 85.0, 59.0, 70.0, 28.0, 86.0, 75.0, 29.0, 74.0, 71.0, 75.0, 60.0, 47.0, 84.0, 81.0, null, 72.0, 76.0, 61.0, 70.0, null, 36.0, 78.0, 68.0, 53.0, 77.0, 66.0, 87.0, 78.0, 79.0, 81.0, 68.0, 39.0, null, 83.0, 74.0, null, 59.0, 62.0, null, null, 72.0, 81.0, 9.0, 97.0, 93.0, 5.0, 88.0, 59.0, 74.0, 84.0, 48.0, 73.0, 67.0, null, 88.0, null, 56.0, 97.0, 82.0, 60.0, 84.0, 50.0, 80.0, 89.0, 90.0, 71.0, 28.0, 57.0, 76.0, 56.0, 79.0, 54.0, 39.0, 27.0, null, 69.0, 36.0, 40.0, 81.0, null, 81.0, 73.0, 96.0, 63.0, 86.0, 43.0, 22.0, 66.0, 18.0, 64.0, 51.0, null, null, 90.0, 26.0, 50.0, 53.0, 97.0, 86.0, 78.0, 95.0, 71.0, 90.0, 94.0, 78.0, 66.0, 76.0, 58.0, 92.0, 91.0, null, null, 76.0, null, 28.0, 80.0, null, null, null, 19.0, 73.0, null, 20.0, 77.0, null, null, 81.0, 51.0, 88.0, 93.0, 57.0, 76.0, 87.0, 49.0, 27.0, null, null, 73.0, null, 84.0, 91.0, 42.0, 82.0, 39.0, 56.0, 54.0, 61.0, 89.0, 39.0, null, 50.0, 47.0, null, 64.0, 96.0, 50.0, null, 58.0, 17.0, 63.0, 73.0, 71.0, 23.0, 45.0, 92.0, 77.0, 76.0, 17.0, 73.0, 62.0, 39.0, 60.0, null, 68.0, 57.0, 75.0, 70.0, 95.0, 61.0, 91.0, 69.0, 80.0, 59.0, 71.0, 87.0, 92.0, 67.0, 61.0, null, 50.0, null, 21.0, 20.0, 24.0, 72.0, 31.0, 79.0, 41.0, 73.0, 64.0, 37.0, 45.0, 96.0, 15.0, 80.0, null, 27.0, 41.0, 49.0, 62.0, 62.0, 57.0, 33.0, 43.0, 75.0, 38.0, 93.0, 30.0, 89.0, 54.0, 52.0, 98.0, null, 94.0, null, 12.0, 15.0, null, 29.0, 84.0, 72.0, 56.0, 41.0, 66.0, 89.0, 74.0, 73.0, null, 48.0, 92.0, 40.0, 74.0, 80.0, 73.0, 58.0, 90.0, 80.0, 28.0, null, 84.0, 83.0, 19.0, null, 57.0, 27.0, 78.0, 52.0, 44.0, 80.0, 82.0, 30.0, null, 37.0, 34.0, 71.0, null, 89.0, 55.0, 53.0, 54.0, 57.0, 47.0, 94.0, 52.0, 52.0, 75.0, 81.0, 89.0, 75.0, null, null, null, 87.0, 54.0, null, 55.0, null, null, 94.0, 93.0, 45.0, 74.0, null, 15.0, 86.0, 55.0, 87.0, 63.0, 27.0, 92.0, 30.0, 82.0, 29.0, 73.0, 49.0, 76.0, 50.0, 42.0, 61.0, 85.0, 28.0, 35.0, 33.0, 91.0, 8.0, 49.0, 82.0, 82.0, 85.0, 63.0, 62.0, 62.0, 39.0, 50.0, 76.0, 31.0, 57.0, 27.0, null, null, null, 41.0, 21.0, 91.0, 24.0, 35.0, null, 48.0, 91.0, 13.0, 70.0, null, 38.0, null, 92.0, 52.0, 62.0, 35.0, 87.0, 11.0, 66.0, 71.0, 20.0, 78.0, 41.0, 26.0, 71.0, 77.0, 79.0, 23.0, null, 24.0, 22.0, 48.0, 88.0, 22.0, null, 64.0, 89.0, 36.0, 78.0, null, 88.0, 83.0, 88.0, 68.0, 46.0, 71.0, null, 82.0, 42.0, 93.0, 94.0, 18.0, null, null, 90.0, 78.0, 57.0, 73.0, 80.0, 91.0, null, 44.0, 39.0, 66.0, 37.0, 52.0, 61.0, null, 45.0, 92.0, null, 45.0, 41.0, 90.0, 42.0, 34.0, null, null, 89.0, 27.0, 96.0, 56.0, 84.0, null, 43.0, 40.0, null, 51.0, 89.0, 85.0, 52.0, 86.0, 31.0, 47.0, 43.0, 31.0, 90.0, 86.0, 64.0, 56.0, 34.0, 50.0, 77.0, 82.0, 87.0, 70.0, 62.0, 72.0, null, 33.0, 46.0, 43.0, 52.0, 92.0, 64.0, 62.0, null, 76.0, 26.0, null, null, 96.0, 42.0, 31.0, 52.0, 76.0, 83.0, 59.0, 78.0, 47.0, 66.0, null, 20.0, 94.0, 52.0, null, 87.0, 27.0, 64.0, 69.0, 54.0, 3.0, null, null, 68.0, 38.0, 21.0, 28.0, 52.0, 47.0, 46.0, 55.0, 72.0, 9.0, 60.0, 76.0, 30.0, 31.0, 44.0, 23.0, 51.0, 50.0, null, 62.0, 64.0, 83.0, 65.0, 90.0, 11.0, 72.0, 69.0, 90.0, 51.0, 70.0, 79.0, 36.0, 11.0, 58.0, 65.0, 85.0, null, 61.0, 93.0, 79.0, 59.0, 51.0, 88.0, null, 88.0, null, 57.0, 48.0, 93.0, null, 35.0, 24.0, 46.0, 26.0, 17.0, 64.0, 59.0, 29.0, 54.0, 77.0, 82.0, 26.0, 72.0, null, 51.0, null, 19.0, 69.0, 41.0, 56.0, 95.0, 44.0, null, 32.0, 26.0, 48.0, 35.0, null, 62.0, 28.0, 63.0, 29.0, null, 81.0, 50.0, 45.0, 87.0, 18.0, 33.0, 42.0, 53.0, 43.0, null, 11.0, 90.0, null, 22.0, 75.0, 67.0, 72.0, 91.0, 87.0, 75.0, 69.0, null, 65.0, 93.0, 77.0, 22.0, 84.0, 45.0, 52.0, 17.0, 54.0, 21.0, null, 56.0, 21.0, 27.0, 64.0, 27.0, null, 15.0, 22.0, 88.0, 14.0, null, null, 8.0, null, 50.0, 12.0, 48.0, 44.0, 59.0, null, 47.0, 19.0, null, 42.0, 80.0, 66.0, 4.0, 65.0, null, 25.0, 39.0, 77.0, 22.0, 35.0, 35.0, 93.0, null, 80.0, 85.0, 87.0, 22.0, 32.0, 46.0, 44.0, 43.0, null, null, 53.0, 80.0, null, 38.0, 93.0, 80.0, 40.0, 71.0, 47.0, 34.0, 25.0, 66.0, 28.0, null, 67.0, 50.0, 35.0, 29.0, 94.0, 54.0, 73.0, 64.0, 34.0, 58.0, null, null, 62.0, 23.0, 45.0, 71.0, 14.0, 72.0, 34.0, null, 79.0, null, 68.0, 45.0, null, 34.0, 84.0, 51.0, 67.0, 14.0, 77.0, null, 33.0, 64.0, 19.0, 45.0, 43.0, 90.0, 21.0, 22.0, null, 68.0, null, 28.0, 60.0, 94.0, 32.0, 95.0, 70.0, null, 53.0, 36.0, 39.0, 35.0, 27.0, 41.0, 27.0, null, 57.0, null, 30.0, 43.0, null, 14.0, 33.0, 19.0, 45.0, 93.0, 13.0, 54.0, 87.0, 62.0, null, 63.0, 55.0, null, 13.0, 9.0, 80.0, 80.0, 25.0, null, null, 54.0, 38.0, 29.0, null, 63.0, 90.0, 33.0, 24.0, null, 85.0, 35.0, 82.0, 79.0, 81.0, 95.0, 46.0, null, 87.0, 56.0, 44.0, 64.0, 21.0, 59.0, 73.0, 31.0, null, null, 38.0, 23.0, 83.0, 54.0, 38.0, 82.0, 40.0, 85.0, 37.0, 80.0, 66.0, 17.0, 21.0, null, 78.0, 54.0, 35.0, 33.0, 28.0, 56.0, 70.0, 79.0, 38.0, 78.0, 34.0, 88.0, 87.0, null, 21.0, null, 10.0, null, 60.0, 40.0, null, 59.0, null, 47.0, 16.0, null, 14.0, null, 69.0, 97.0, 81.0, 88.0, 38.0, 58.0, null, 12.0, 39.0, null, null, 20.0, null, 78.0, 25.0, 33.0, 28.0, 58.0, 43.0, null, 20.0, null, 29.0, null, 85.0, 91.0, 64.0, null, 87.0, 54.0, 46.0, 60.0, 96.0, 29.0, 74.0, 94.0, null, 57.0, 22.0, 16.0, 82.0, 44.0, 9.0, null, 46.0, 60.0, 63.0, 75.0, 69.0, 48.0, 22.0, 96.0, 20.0, 6.0, 17.0, 23.0, 83.0, null, 86.0, null, 53.0, 26.0, 50.0, null, 58.0, 53.0, 91.0, 27.0, 36.0, 58.0, 13.0, 26.0, 65.0, 57.0, 40.0, 92.0, 92.0, 16.0, 74.0, 55.0, 37.0, 73.0, 37.0, 54.0, 80.0, 19.0, null, 45.0, null, null, 23.0, 80.0, 46.0, 88.0, 13.0, 52.0, 82.0, 47.0, 27.0, 69.0, 71.0, 26.0, null, 58.0, 82.0, 84.0, 24.0, 30.0, 42.0, 93.0, 70.0, null, 25.0, 21.0, 77.0, null, 96.0, 70.0, 88.0, 6.0, 16.0, 61.0, 21.0, 48.0, 50.0, 91.0, 75.0, null, 16.0, 61.0, 58.0, 48.0, 62.0, 55.0, 52.0, 89.0, 17.0, null, 45.0, 17.0, 40.0, 52.0, 54.0, 58.0, 85.0, 51.0, 55.0, null, null, 66.0, null, 44.0, 52.0, 14.0, 89.0, 81.0, 38.0, 41.0, 52.0, 14.0, 42.0, 18.0, 84.0, 30.0, 10.0, 43.0, 54.0, 52.0, null, 73.0, 15.0, 50.0, null, 48.0, null, 68.0, null, 28.0, null, null, 57.0, 7.0, 23.0, 65.0, 28.0, 90.0, 94.0, 30.0, null, 66.0, 82.0, 48.0, 48.0, 53.0, 73.0, 52.0, 11.0, 53.0, null, 64.0, 94.0, 38.0, 58.0, 90.0, 85.0, null, 81.0, 7.0, null, null, 95.0, 29.0, 59.0, 10.0, 55.0, 29.0, 80.0, 26.0, 24.0, 22.0, 12.0, 68.0, 25.0, 30.0, 60.0, null, 94.0, null, 44.0, 16.0, 14.0, 53.0, null, null, null, 11.0, 41.0, 18.0, 98.0, 34.0, null, null, 89.0, 50.0, 55.0, 16.0, 46.0, 26.0, null, 73.0, 12.0, 58.0, 26.0, null, 47.0, 22.0, 50.0, 90.0, 80.0, 17.0, 8.0, 26.0, 87.0, 12.0, 91.0, 8.0, 83.0, null, 95.0, 67.0, 86.0, 53.0, 42.0, 73.0, 10.0, 38.0, 43.0, 18.0, 32.0, 64.0, 48.0, 33.0, 45.0, null, 46.0, 19.0, 59.0, null, 65.0, 37.0, 56.0, 58.0, null, 61.0, null, 15.0, 15.0, 23.0, 5.0, 75.0, 14.0, null, 26.0, 94.0, 33.0, 81.0, 32.0, 13.0, null, 45.0, 74.0, null, null, 20.0, 48.0, 39.0, 69.0, 27.0, 82.0, 73.0, 51.0, null, 19.0, 38.0, null, 86.0, null, 28.0, null, 28.0, null, 42.0, null, 16.0, 40.0, 52.0, 49.0, 2.0, 53.0, 27.0, 83.0, 93.0, 11.0, 35.0, 61.0, null, 10.0, 23.0, 43.0, 28.0, 61.0, 43.0, null, 44.0, 16.0, 40.0, 24.0, null, null, 13.0, 55.0, 53.0, 59.0, 81.0, null, 29.0, 2.0, null, null, null, 36.0, 67.0, 45.0, null, 31.0, 17.0, null, 17.0, 59.0, 11.0, 54.0, 21.0, 67.0, null, 18.0, 55.0, null, null, 51.0, 15.0, 46.0, 31.0, 78.0, 47.0, 68.0, 70.0, 47.0, 64.0, null, 61.0, 81.0, 43.0, null, 18.0, 56.0, null, 5.0, 67.0, 21.0, 30.0, 21.0, 32.0, 38.0, 40.0, 18.0, 45.0, 40.0, 40.0, 83.0, 52.0, 14.0, 34.0, 53.0, 77.0, 32.0, 58.0, 20.0, 6.0, 41.0, 87.0, 67.0, 89.0, 51.0, 60.0, 28.0, null, 63.0, 11.0, 78.0, 15.0, 50.0, 19.0, 35.0, 15.0, 75.0, 93.0, 87.0, 59.0, 70.0, 55.0, 70.0, 63.0, 64.0, 10.0, 29.0, 48.0, 37.0, 94.0, null, 41.0, 88.0, 61.0, 30.0, 37.0, 79.0, 16.0, 29.0, 11.0, null, 43.0, 9.0, 54.0, 22.0, 59.0, 11.0, 38.0, 60.0, 12.0, null, 64.0, 62.0, 62.0, 31.0, null, 92.0, 24.0, 87.0, 38.0, 71.0, 52.0, 76.0, 55.0, null, 38.0, null, 76.0, 27.0, 91.0, 50.0, 24.0, 3.0, null, 9.0, 47.0, null, null, 10.0, 31.0, 78.0, 62.0, null, 53.0, 55.0, 32.0, 25.0, 38.0, null, null, 50.0, 49.0, 29.0, 29.0, null, 68.0, 22.0, 19.0, 15.0, 45.0, 84.0, 12.0, 28.0, null, 22.0, 60.0, null, null, 42.0, 19.0, 3.0, null, 33.0, 51.0, 12.0, null, 78.0, 78.0, 41.0, 83.0, 39.0, 13.0, 15.0, null, 42.0, 20.0, null, 57.0, 17.0, 39.0, null, 56.0, 41.0, 70.0, null, 63.0, 71.0, 50.0, 58.0, 85.0, 37.0, 31.0, 14.0, 93.0, null, 45.0, null, 12.0, 74.0, 64.0, 34.0, 64.0, 12.0, 22.0, 14.0, 47.0, 30.0, null, 36.0, 4.0, null, 59.0, 11.0, 75.0, 37.0, 14.0, null, 65.0, 66.0, 91.0, 62.0, 27.0, 22.0, 33.0, 90.0, 7.0, 36.0, 81.0, 47.0, 20.0, 28.0, 14.0, 30.0, 5.0, 11.0, null, 25.0, 85.0, 1.0, 45.0, 62.0, null, null, null, 35.0, 89.0, 5.0, null, 6.0, null, 23.0, 57.0, 36.0, 42.0, null, 2.0, 45.0, 64.0, 18.0, null, 26.0, null, null, 57.0, 79.0, 27.0, 15.0, 62.0, 13.0, 56.0, 15.0, 51.0, 52.0, 42.0, 35.0, null, null, null, 95.0, 46.0, 73.0, 80.0, 27.0, 76.0, 6.0, 62.0, 28.0, null, 60.0, 32.0, 51.0, null, 5.0, 37.0, 22.0, 74.0, 23.0, 32.0, 17.0, 38.0, 26.0, 27.0, null, 25.0, 41.0, 82.0, 61.0, 38.0, 41.0, 63.0, 24.0, 74.0, 73.0, 41.0, 76.0, null, 76.0, 41.0, 7.0, 24.0, 34.0, 42.0, 16.0, 60.0, 26.0, 100.0, 33.0, 17.0, 22.0, 45.0, 56.0, 81.0, 77.0, 85.0, 75.0]}], \"hoverlabel\": {\"namelength\": 0}, \"hovertemplate\": \"%{xaxis.title.text}=%{x}<br>%{yaxis.title.text}=%{y}\", \"legendgroup\": \"\", \"marker\": {\"color\": \"#636efa\", \"symbol\": \"circle\"}, \"name\": \"\", \"showlegend\": false, \"type\": \"splom\"}],\n",
              "                        {\"dragmode\": \"select\", \"legend\": {\"tracegroupgap\": 0}, \"margin\": {\"t\": 60}, \"template\": {\"data\": {\"bar\": [{\"error_x\": {\"color\": \"#2a3f5f\"}, \"error_y\": {\"color\": \"#2a3f5f\"}, \"marker\": {\"line\": {\"color\": \"#E5ECF6\", \"width\": 0.5}}, \"type\": \"bar\"}], \"barpolar\": [{\"marker\": {\"line\": {\"color\": \"#E5ECF6\", \"width\": 0.5}}, \"type\": \"barpolar\"}], \"carpet\": [{\"aaxis\": {\"endlinecolor\": \"#2a3f5f\", \"gridcolor\": \"white\", \"linecolor\": \"white\", \"minorgridcolor\": \"white\", \"startlinecolor\": \"#2a3f5f\"}, \"baxis\": {\"endlinecolor\": \"#2a3f5f\", \"gridcolor\": \"white\", \"linecolor\": \"white\", \"minorgridcolor\": \"white\", \"startlinecolor\": \"#2a3f5f\"}, \"type\": \"carpet\"}], \"choropleth\": [{\"colorbar\": {\"outlinewidth\": 0, \"ticks\": \"\"}, \"type\": \"choropleth\"}], \"contour\": [{\"colorbar\": {\"outlinewidth\": 0, \"ticks\": \"\"}, \"colorscale\": [[0.0, \"#0d0887\"], [0.1111111111111111, \"#46039f\"], [0.2222222222222222, \"#7201a8\"], [0.3333333333333333, \"#9c179e\"], [0.4444444444444444, \"#bd3786\"], [0.5555555555555556, \"#d8576b\"], [0.6666666666666666, \"#ed7953\"], [0.7777777777777778, \"#fb9f3a\"], [0.8888888888888888, \"#fdca26\"], [1.0, \"#f0f921\"]], \"type\": \"contour\"}], \"contourcarpet\": [{\"colorbar\": {\"outlinewidth\": 0, \"ticks\": \"\"}, \"type\": \"contourcarpet\"}], \"heatmap\": [{\"colorbar\": {\"outlinewidth\": 0, \"ticks\": \"\"}, \"colorscale\": [[0.0, \"#0d0887\"], [0.1111111111111111, \"#46039f\"], [0.2222222222222222, \"#7201a8\"], [0.3333333333333333, \"#9c179e\"], [0.4444444444444444, \"#bd3786\"], [0.5555555555555556, \"#d8576b\"], [0.6666666666666666, \"#ed7953\"], [0.7777777777777778, \"#fb9f3a\"], [0.8888888888888888, \"#fdca26\"], [1.0, \"#f0f921\"]], \"type\": \"heatmap\"}], \"heatmapgl\": [{\"colorbar\": {\"outlinewidth\": 0, \"ticks\": \"\"}, \"colorscale\": [[0.0, \"#0d0887\"], [0.1111111111111111, \"#46039f\"], [0.2222222222222222, \"#7201a8\"], [0.3333333333333333, \"#9c179e\"], [0.4444444444444444, \"#bd3786\"], [0.5555555555555556, \"#d8576b\"], [0.6666666666666666, \"#ed7953\"], [0.7777777777777778, \"#fb9f3a\"], [0.8888888888888888, \"#fdca26\"], [1.0, \"#f0f921\"]], \"type\": \"heatmapgl\"}], \"histogram\": [{\"marker\": {\"colorbar\": {\"outlinewidth\": 0, \"ticks\": \"\"}}, \"type\": \"histogram\"}], \"histogram2d\": [{\"colorbar\": {\"outlinewidth\": 0, \"ticks\": \"\"}, \"colorscale\": [[0.0, \"#0d0887\"], [0.1111111111111111, \"#46039f\"], [0.2222222222222222, \"#7201a8\"], [0.3333333333333333, \"#9c179e\"], [0.4444444444444444, \"#bd3786\"], [0.5555555555555556, \"#d8576b\"], [0.6666666666666666, \"#ed7953\"], [0.7777777777777778, \"#fb9f3a\"], [0.8888888888888888, \"#fdca26\"], [1.0, \"#f0f921\"]], \"type\": \"histogram2d\"}], \"histogram2dcontour\": [{\"colorbar\": {\"outlinewidth\": 0, \"ticks\": \"\"}, \"colorscale\": [[0.0, \"#0d0887\"], [0.1111111111111111, \"#46039f\"], [0.2222222222222222, \"#7201a8\"], [0.3333333333333333, \"#9c179e\"], [0.4444444444444444, \"#bd3786\"], [0.5555555555555556, \"#d8576b\"], [0.6666666666666666, \"#ed7953\"], [0.7777777777777778, \"#fb9f3a\"], [0.8888888888888888, \"#fdca26\"], [1.0, \"#f0f921\"]], \"type\": \"histogram2dcontour\"}], \"mesh3d\": [{\"colorbar\": {\"outlinewidth\": 0, \"ticks\": \"\"}, \"type\": \"mesh3d\"}], \"parcoords\": [{\"line\": {\"colorbar\": {\"outlinewidth\": 0, \"ticks\": \"\"}}, \"type\": \"parcoords\"}], \"pie\": [{\"automargin\": true, \"type\": \"pie\"}], \"scatter\": [{\"marker\": {\"colorbar\": {\"outlinewidth\": 0, \"ticks\": \"\"}}, \"type\": \"scatter\"}], \"scatter3d\": [{\"line\": {\"colorbar\": {\"outlinewidth\": 0, \"ticks\": \"\"}}, \"marker\": {\"colorbar\": {\"outlinewidth\": 0, \"ticks\": \"\"}}, \"type\": \"scatter3d\"}], \"scattercarpet\": [{\"marker\": {\"colorbar\": {\"outlinewidth\": 0, \"ticks\": \"\"}}, \"type\": \"scattercarpet\"}], \"scattergeo\": [{\"marker\": {\"colorbar\": {\"outlinewidth\": 0, \"ticks\": \"\"}}, \"type\": \"scattergeo\"}], \"scattergl\": [{\"marker\": {\"colorbar\": {\"outlinewidth\": 0, \"ticks\": \"\"}}, \"type\": \"scattergl\"}], \"scattermapbox\": [{\"marker\": {\"colorbar\": {\"outlinewidth\": 0, \"ticks\": \"\"}}, \"type\": \"scattermapbox\"}], \"scatterpolar\": [{\"marker\": {\"colorbar\": {\"outlinewidth\": 0, \"ticks\": \"\"}}, \"type\": \"scatterpolar\"}], \"scatterpolargl\": [{\"marker\": {\"colorbar\": {\"outlinewidth\": 0, \"ticks\": \"\"}}, \"type\": \"scatterpolargl\"}], \"scatterternary\": [{\"marker\": {\"colorbar\": {\"outlinewidth\": 0, \"ticks\": \"\"}}, \"type\": \"scatterternary\"}], \"surface\": [{\"colorbar\": {\"outlinewidth\": 0, \"ticks\": \"\"}, \"colorscale\": [[0.0, \"#0d0887\"], [0.1111111111111111, \"#46039f\"], [0.2222222222222222, \"#7201a8\"], [0.3333333333333333, \"#9c179e\"], [0.4444444444444444, \"#bd3786\"], [0.5555555555555556, \"#d8576b\"], [0.6666666666666666, \"#ed7953\"], [0.7777777777777778, \"#fb9f3a\"], [0.8888888888888888, \"#fdca26\"], [1.0, \"#f0f921\"]], \"type\": \"surface\"}], \"table\": [{\"cells\": {\"fill\": {\"color\": \"#EBF0F8\"}, \"line\": {\"color\": \"white\"}}, \"header\": {\"fill\": {\"color\": \"#C8D4E3\"}, \"line\": {\"color\": \"white\"}}, \"type\": \"table\"}]}, \"layout\": {\"annotationdefaults\": {\"arrowcolor\": \"#2a3f5f\", \"arrowhead\": 0, \"arrowwidth\": 1}, \"coloraxis\": {\"colorbar\": {\"outlinewidth\": 0, \"ticks\": \"\"}}, \"colorscale\": {\"diverging\": [[0, \"#8e0152\"], [0.1, \"#c51b7d\"], [0.2, \"#de77ae\"], [0.3, \"#f1b6da\"], [0.4, \"#fde0ef\"], [0.5, \"#f7f7f7\"], [0.6, \"#e6f5d0\"], [0.7, \"#b8e186\"], [0.8, \"#7fbc41\"], [0.9, \"#4d9221\"], [1, \"#276419\"]], \"sequential\": [[0.0, \"#0d0887\"], [0.1111111111111111, \"#46039f\"], [0.2222222222222222, \"#7201a8\"], [0.3333333333333333, \"#9c179e\"], [0.4444444444444444, \"#bd3786\"], [0.5555555555555556, \"#d8576b\"], [0.6666666666666666, \"#ed7953\"], [0.7777777777777778, \"#fb9f3a\"], [0.8888888888888888, \"#fdca26\"], [1.0, \"#f0f921\"]], \"sequentialminus\": [[0.0, \"#0d0887\"], [0.1111111111111111, \"#46039f\"], [0.2222222222222222, \"#7201a8\"], [0.3333333333333333, \"#9c179e\"], [0.4444444444444444, \"#bd3786\"], [0.5555555555555556, \"#d8576b\"], [0.6666666666666666, \"#ed7953\"], [0.7777777777777778, \"#fb9f3a\"], [0.8888888888888888, \"#fdca26\"], [1.0, \"#f0f921\"]]}, \"colorway\": [\"#636efa\", \"#EF553B\", \"#00cc96\", \"#ab63fa\", \"#FFA15A\", \"#19d3f3\", \"#FF6692\", \"#B6E880\", \"#FF97FF\", \"#FECB52\"], \"font\": {\"color\": \"#2a3f5f\"}, \"geo\": {\"bgcolor\": \"white\", \"lakecolor\": \"white\", \"landcolor\": \"#E5ECF6\", \"showlakes\": true, \"showland\": true, \"subunitcolor\": \"white\"}, \"hoverlabel\": {\"align\": \"left\"}, \"hovermode\": \"closest\", \"mapbox\": {\"style\": \"light\"}, \"paper_bgcolor\": \"white\", \"plot_bgcolor\": \"#E5ECF6\", \"polar\": {\"angularaxis\": {\"gridcolor\": \"white\", \"linecolor\": \"white\", \"ticks\": \"\"}, \"bgcolor\": \"#E5ECF6\", \"radialaxis\": {\"gridcolor\": \"white\", \"linecolor\": \"white\", \"ticks\": \"\"}}, \"scene\": {\"xaxis\": {\"backgroundcolor\": \"#E5ECF6\", \"gridcolor\": \"white\", \"gridwidth\": 2, \"linecolor\": \"white\", \"showbackground\": true, \"ticks\": \"\", \"zerolinecolor\": \"white\"}, \"yaxis\": {\"backgroundcolor\": \"#E5ECF6\", \"gridcolor\": \"white\", \"gridwidth\": 2, \"linecolor\": \"white\", \"showbackground\": true, \"ticks\": \"\", \"zerolinecolor\": \"white\"}, \"zaxis\": {\"backgroundcolor\": \"#E5ECF6\", \"gridcolor\": \"white\", \"gridwidth\": 2, \"linecolor\": \"white\", \"showbackground\": true, \"ticks\": \"\", \"zerolinecolor\": \"white\"}}, \"shapedefaults\": {\"line\": {\"color\": \"#2a3f5f\"}}, \"ternary\": {\"aaxis\": {\"gridcolor\": \"white\", \"linecolor\": \"white\", \"ticks\": \"\"}, \"baxis\": {\"gridcolor\": \"white\", \"linecolor\": \"white\", \"ticks\": \"\"}, \"bgcolor\": \"#E5ECF6\", \"caxis\": {\"gridcolor\": \"white\", \"linecolor\": \"white\", \"ticks\": \"\"}}, \"title\": {\"x\": 0.05}, \"xaxis\": {\"automargin\": true, \"gridcolor\": \"white\", \"linecolor\": \"white\", \"ticks\": \"\", \"title\": {\"standoff\": 15}, \"zerolinecolor\": \"white\", \"zerolinewidth\": 2}, \"yaxis\": {\"automargin\": true, \"gridcolor\": \"white\", \"linecolor\": \"white\", \"ticks\": \"\", \"title\": {\"standoff\": 15}, \"zerolinecolor\": \"white\", \"zerolinewidth\": 2}}}},\n",
              "                        {\"responsive\": true}\n",
              "                    ).then(function(){\n",
              "                            \n",
              "var gd = document.getElementById('0582d5d5-ee8e-44d5-a335-0fc79ef6d98f');\n",
              "var x = new MutationObserver(function (mutations, observer) {{\n",
              "        var display = window.getComputedStyle(gd).display;\n",
              "        if (!display || display === 'none') {{\n",
              "            console.log([gd, 'removed!']);\n",
              "            Plotly.purge(gd);\n",
              "            observer.disconnect();\n",
              "        }}\n",
              "}});\n",
              "\n",
              "// Listen for the removal of the full notebook cells\n",
              "var notebookContainer = gd.closest('#notebook-container');\n",
              "if (notebookContainer) {{\n",
              "    x.observe(notebookContainer, {childList: true});\n",
              "}}\n",
              "\n",
              "// Listen for the clearing of the current output cell\n",
              "var outputEl = gd.closest('.output');\n",
              "if (outputEl) {{\n",
              "    x.observe(outputEl, {childList: true});\n",
              "}}\n",
              "\n",
              "                        })\n",
              "                };\n",
              "                \n",
              "            </script>\n",
              "        </div>\n",
              "</body>\n",
              "</html>"
            ]
          },
          "metadata": {}
        }
      ]
    },
    {
      "cell_type": "code",
      "metadata": {
        "colab": {
          "base_uri": "https://localhost:8080/",
          "height": 542
        },
        "id": "KjuuleJtZmwT",
        "outputId": "10043171-4aca-45ed-a750-d649c1e773d9"
      },
      "source": [
        "import plotly.express as px\n",
        "\n",
        "# features = ['imdb_budget', 'imdb_revenue']\n",
        "features = ['tmdb_budget', 'tmdb_revenue']\n",
        "\n",
        "fig = px.scatter_matrix(\n",
        "    movies_full_df,\n",
        "    dimensions=features,\n",
        "    color=movies_full_df['ebert_rating']\n",
        ")\n",
        "fig.update_traces(diagonal_visible=False)\n",
        "fig.show()"
      ],
      "execution_count": null,
      "outputs": [
        {
          "output_type": "display_data",
          "data": {
            "text/html": [
              "<html>\n",
              "<head><meta charset=\"utf-8\" /></head>\n",
              "<body>\n",
              "    <div>\n",
              "            <script src=\"https://cdnjs.cloudflare.com/ajax/libs/mathjax/2.7.5/MathJax.js?config=TeX-AMS-MML_SVG\"></script><script type=\"text/javascript\">if (window.MathJax) {MathJax.Hub.Config({SVG: {font: \"STIX-Web\"}});}</script>\n",
              "                <script type=\"text/javascript\">window.PlotlyConfig = {MathJaxConfig: 'local'};</script>\n",
              "        <script src=\"https://cdn.plot.ly/plotly-latest.min.js\"></script>    \n",
              "            <div id=\"a9c749fd-c3de-4272-8104-a90d8129674e\" class=\"plotly-graph-div\" style=\"height:525px; width:100%;\"></div>\n",
              "            <script type=\"text/javascript\">\n",
              "                \n",
              "                    window.PLOTLYENV=window.PLOTLYENV || {};\n",
              "                    \n",
              "                if (document.getElementById(\"a9c749fd-c3de-4272-8104-a90d8129674e\")) {\n",
              "                    Plotly.newPlot(\n",
              "                        'a9c749fd-c3de-4272-8104-a90d8129674e',\n",
              "                        [{\"diagonal\": {\"visible\": false}, \"dimensions\": [{\"axis\": {\"matches\": true}, \"label\": \"tmdb_budget\", \"values\": [8000000.0, 160000000.0, 63000000.0, 185000000.0, 30000000.0, 165000000.0, 70000000.0, 19000000.0, 100000000.0, 3300000.0, 61000000.0, 23000000.0, 15000000.0, 150000000.0, 20000000.0, 170000000.0, 100000000.0, 40000000.0, 19000000.0, 30000000.0, 60000000.0, 60000000.0, 55000000.0, 63000000.0, 33000000.0, 58000000.0, 13000000.0, 175000000.0, 220000000.0, 93000000.0, 15000000.0, 25000000.0, 19000000.0, 80000000.0, 7000000.0, 150000000.0, 250000000.0, 8500000.0, 25000000.0, 175000000.0, 28000000.0, 180000000.0, 170000000.0, 140000000.0, 1200000.0, 63000000.0, 65000000.0, 6000000.0, 30000000.0, 108000000.0, 9000000.0, 92000000.0, 13000000.0, 94000000.0, 250000000.0, 200000000.0, 130000000.0, 135000000.0, 280000000.0, 4000000.0, 15000000.0, 79000000.0, 40000000.0, 94000000.0, 16000000.0, 10000000.0, 44000000.0, 130000000.0, 16400000.0, 45000000.0, 15000000.0, 115000000.0, 25000000.0, 150000000.0, 40000000.0, 90000000.0, 10000000.0, 22000000.0, 4500000.0, 52000000.0, 30000000.0, 237000000.0, 175000000.0, 16000000.0, 19000000.0, 46000000.0, 60000000.0, 100000000.0, 8000000.0, 150000000.0, 200000000.0, 200000000.0, 24000000.0, 6000000.0, 39200000.0, 113000000.0, 150000000.0, 70000000.0, 20000000.0, 139000000.0, 3000000.0, 4000000.0, 105000000.0, 2500000.0, 115000000.0, 18000000.0, 200000000.0, 75000000.0, 4000000.0, 26500000.0, 150000000.0, 17000000.0, 15000000.0, 200000000.0, 90000000.0, 105000000.0, 250000000.0, 4000000.0, 7500000.0, 28000000.0, 120000000.0, 20000000.0, 165000000.0, 12000000.0, 14000000.0, 10500000.0, 20000000.0, 60000000.0, 150000000.0, 25000000.0, 14000000.0, 170000000.0, 12000000.0, 21000000.0, 21000000.0, 76000000.0, 28000000.0, 23600000.0, 65000000.0, 150000000.0, 40000000.0, 260000000.0, 30000000.0, 250000000.0, 85000000.0, 14000000.0, 150000000.0, 35000000.0, 200000000.0, 20000000.0, 35000000.0, 130000000.0, 13000000.0, 103000000.0, 37000000.0, 60000000.0, 250000000.0, 28000000.0, 30000000.0, 14600000.0, 150000000.0, 16000000.0, 35000000.0, 100000000.0, 15000000.0, 15000000.0, 32000000.0, 150000000.0, 120000000.0, 18500000.0, 90000000.0, 2700000.0, 3300000.0, 6400000.0, 11000000.0, 37000000.0, 13000000.0, 25000000.0, 52000000.0, 8000000.0, 40000000.0, 35000000.0, 15000000.0, 165000000.0, 0.0, 250000000.0, 165000000.0, 90000000.0, 6000000.0, 60000000.0, 215000000.0, 225000000.0, 42000000.0, 150000000.0, 8000000.0, 16000000.0, 258000000.0, 8000000.0, 5000000.0, 178000000.0, 185000000.0, 28000000.0, 15000000.0, 48000000.0, 12000000.0, 6500000.0, 18000000.0, 75000000.0, 130000000.0, 120000000.0, 160000000.0, 20000000.0, 15000000.0, 200000000.0, 16000000.0, 6900000.0, 6000000.0, 28000000.0, 32000000.0, 125000000.0, 18000000.0, 60000000.0, 200000000.0, 90000000.0, 15000000.0, 250000000.0, 50000000.0, 40000000.0, 30000000.0, 130000000.0, 28000000.0, 70000000.0, 3000000.0, 7000000.0, 1800000.0, 15000000.0, 60000.0, 70000000.0, 52000000.0, 150000000.0, 50000000.0, 200000000.0, 200000000.0, 40000000.0, 41677699.0, 29000000.0, 100000000.0, 15000000.0, 180000000.0, 18000000.0, 200000000.0, 32000000.0, 40000000.0, 9000000.0, 178000000.0, 21000000.0, 44500000.0, 90000000.0, 160000000.0, 10000000.0, 61000000.0, 75000000.0, 250000000.0, 60000000.0, 50000000.0, 130000000.0, 30000000.0, 120000000.0, 17000000.0, 40000000.0, 37000000.0, 170000000.0, 150000000.0, 20000000.0, 7000000.0, 32000000.0, 7400000.0, 69000000.0, 80000000.0, 3800000.0, 90000000.0, 37000000.0, 26000000.0, 245000000.0, 5000000.0, 350000.0, 75000000.0, 40000000.0, 50000000.0, 35000000.0, 18000000.0, 1200000.0, 20000000.0, 3500000.0, 30000000.0, 50000000.0, 100000000.0, 102000000.0, 18000000.0, 170000000.0, 19000000.0, 0.0, 59000000.0, 38000000.0, 150000000.0, 92000000.0, 110000000.0, 93000000.0, 50000000.0, 14500000.0, 3500000.0, 18500000.0, 180000000.0, 32500000.0, 60000000.0, 22000000.0, 40000000.0, 23000000.0, 52500000.0, 90000000.0, 135000000.0, 75000000.0, 40000000.0, 65000000.0, 90000000.0, 34000000.0, 80000000.0, 12000000.0, 180000000.0, 25000000.0, 37000000.0, 11000000.0, 80000000.0, 80000000.0, 42000000.0, 11000000.0, 150000000.0, 11000000.0, 130000000.0, 68000000.0, 72000000.0, 400000.0, 40000000.0, 37000000.0, 26000000.0, 123000000.0, 50000000.0, 55000000.0, 58800000.0, 15000000.0, 40000000.0, 75000000.0, 116000000.0, 18000000.0, 185000000.0, 110000000.0, 14000000.0, 175000000.0, 5952000.0, 120000000.0, 30000000.0, 145000000.0, 18000000.0, 25000000.0, 65000000.0, 150000000.0, 165000000.0, 30000000.0, 60000000.0, 145000000.0, 75000000.0, 33000000.0, 15000000.0, 75000000.0, 19000000.0, 25000000.0, 150000000.0, 73000000.0, 50000000.0, 105000000.0, 160000000.0, 13000000.0, 37000000.0, 60000000.0, 8000000.0, 150000000.0, 110000000.0, 1500000.0, 3600000.0, 38000000.0, 35000000.0, 3000000.0, 4000000.0, 6500000.0, 7000000.0, 44000000.0, 6800000.0, 55000000.0, 48000000.0, 65000000.0, 68000000.0, 54000000.0, 190000000.0, 2500000.0, 75000000.0, 72000000.0, 30000000.0, 10700000.0, 207000000.0, 15000000.0, 19000000.0, 84000000.0, 150000000.0, 40000000.0, 11000000.0, 0.0, 100000000.0, 5000000.0, 30000000.0, 120000000.0, 90000000.0, 8000000.0, 100000000.0, 14000000.0, 65000000.0, 40000000.0, 125000000.0, 25000000.0, 65000000.0, 27000000.0, 144000000.0, 85000000.0, 55000000.0, 80000000.0, 0.0, 28000000.0, 200000000.0, 82500000.0, 40000000.0, 25000000.0, 28000000.0, 150000000.0, 26000000.0, 45000000.0, 45000000.0, 25000000.0, 190000000.0, 15000000.0, 25000000.0, 18000000.0, 12500000.0, 17000000.0, 46000000.0, 76000000.0, 40000000.0, 28000000.0, 125000000.0, 35000000.0, 10000000.0, 7000000.0, 45000000.0, 52000000.0, 20000000.0, 0.0, 18000000.0, 100000000.0, 130000000.0, 85000000.0, 200000000.0, 30000000.0, 6000000.0, 185000000.0, 102000000.0, 4800000.0, 2500000.0, 32000000.0, 8000000.0, 16000000.0, 80000000.0, 3000000.0, 6000000.0, 30000000.0, 0.0, 15000000.0, 15000000.0, 70000000.0, 1000000.0, 11000000.0, 125000000.0, 36000000.0, 50000000.0, 25000000.0, 105000000.0, 10000000.0, 41000000.0, 170000000.0, 30000000.0, 38000000.0, 7000000.0, 200000000.0, 85000000.0, 150000000.0, 13000000.0, 27000000.0, 75000000.0, 85000000.0, 150000000.0, 132000000.0, 70000000.0, 800000.0, 6000000.0, 225000000.0, 120000000.0, 75000000.0, 27000.0, 80000000.0, 29000000.0, 8000000.0, 20000000.0, 7000.0, 8900000.0, 37000000.0, 40000000.0, 16500000.0, 140000000.0, 66000000.0, 25000000.0, 40000000.0, 150000000.0, 125000000.0, 165000000.0, 100000000.0, 65000000.0, 12800000.0, 93000000.0, 25000000.0, 85000000.0, 85000000.0, 35000000.0, 12000000.0, 15000000.0, 125000000.0, 25000000.0, 150000000.0, 24000000.0, 35000000.0, 60000000.0, 8500000.0, 95000000.0, 125000000.0, 30000000.0, 28000000.0, 15000.0, 1350000.0, 100000000.0, 70000000.0, 11000000.0, 76000000.0, 52000000.0, 100000000.0, 70000000.0, 27000000.0, 18000000.0, 75000000.0, 18000000.0, 23000000.0, 140000000.0, 175000000.0, 75000000.0, 5000000.0, 29000000.0, 120000000.0, 45000000.0, 18000000.0, 15000000.0, 100000000.0, 115000000.0, 0.0, 18000000.0, 35000000.0, 100000000.0, 175000000.0, 7300000.0, 12000000.0, 30000000.0, 74000000.0, 150000000.0, 17000000.0, 100000000.0, 50000000.0, 92000000.0, 0.0, 34000000.0, 35000000.0, 15000000.0, 1500000.0, 65000000.0, 70000000.0, 45000000.0, 1500000.0, 35000000.0, 20000000.0, 40000000.0, 45000000.0, 37000000.0, 55000000.0, 20000000.0, 50000000.0, 15000000.0, 6500000.0, 75000000.0, 2000000.0, 25000000.0, 5000000.0, 28000000.0, 60000.0, 32000000.0, 5000000.0, 50000000.0, 44000000.0, 150000000.0, 120000000.0, 140000000.0, 250000.0, 4000000.0, 95000000.0, 12000000.0, 30000000.0, 10500000.0, 9000000.0, 90000000.0, 20000000.0, 65000000.0, 22700000.0, 30000000.0, 50000000.0, 25000000.0, 1530000.0, 82000000.0, 50000000.0, 57000000.0, 230000.0, 42000000.0, 150000000.0, 35000000.0, 40000000.0, 30000000.0, 40000000.0, 53000000.0, 133000000.0, 6000000.0, 150000000.0, 9500000.0, 45000000.0, 26000000.0, 1500000.0, 25000000.0, 35000000.0, 20000000.0, 140000000.0, 70000000.0, 150000000.0, 2159280.0, 700000.0, 80000000.0, 45000000.0, 0.0, 15000000.0, 30000000.0, 60000000.0, 12000000.0, 7000000.0, 20000000.0, 49000000.0, 14350531.0, 12000000.0, 195000000.0, 60000000.0, 52000000.0, 5000000.0, 100000000.0, 12000000.0, 20000000.0, 200000000.0, 23000000.0, 19000000.0, 5000000.0, 92000000.0, 32000000.0, 61000000.0, 68000000.0, 28000000.0, 51500000.0, 50000000.0, 10000000.0, 55000000.0, 12400000.0, 7000000.0, 0.0, 39000000.0, 70000000.0, 17000000.0, 35000000.0, 30000000.0, 15000000.0, 60000000.0, 11000000.0, 80000000.0, 6500000.0, 22000000.0, 75000000.0, 145000000.0, 40000000.0, 98000000.0, 34000000.0, 80000000.0, 30000000.0, 10000000.0, 125000000.0, 60000000.0, 40000000.0, 5000000.0, 33000000.0, 58000000.0, 78000000.0, 63000000.0, 40000000.0, 40000000.0, 145000000.0, 31000000.0, 35000000.0, 3000000.0, 80000000.0, 40000000.0, 27000000.0, 15000000.0, 1000000.0, 40000000.0, 55000000.0, 137000000.0, 90000000.0, 4500000.0, 90000000.0, 7000000.0, 120000000.0, 16000000.0, 20000000.0, 150000000.0, 20000000.0, 65000000.0, 6500000.0, 4600000.0, 95000000.0, 149000000.0, 225000000.0, 0.0, 35000000.0, 950000.0, 50100000.0, 30000000.0, 15000000.0, 50000000.0, 18000000.0, 190000000.0, 21000000.0, 0.0, 45000000.0, 135000000.0, 10000000.0, 9000000.0, 4900000.0, 75000000.0, 7000000.0, 120000000.0, 34200000.0, 176000003.0, 15000000.0, 70000000.0, 15000000.0, 120000000.0, 2000000.0, 3200000.0, 15000000.0, 35000000.0, 6000000.0, 0.0, 11000000.0, 17000000.0, 0.0, 15000000.0, 210000000.0, 60000000.0, 50000000.0, 115000000.0, 8000000.0, 13000000.0, 110000000.0, 80000000.0, 0.0, 160000.0, 2500000.0, 70000000.0, 10000000.0, 30000000.0, 21000000.0, 2000000.0, 145000000.0, 75000000.0, 0.0, 12000000.0, 7000000.0, 750000.0, 200000000.0, 22000000.0, 65000000.0, 2000000.0, 60000000.0, 25000000.0, 20000000.0, 31000000.0, 18339750.0, 80000000.0, 15000000.0, 20000000.0, 40000000.0, 15000000.0, 22000000.0, 15238800.0, 15000000.0, 11500000.0, 15000000.0, 40000000.0, 54000000.0, 30000000.0, 1800000.0, 170000000.0, 155000000.0, 15000000.0, 14000000.0, 55000000.0, 15000000.0, 40000000.0, 12899867.0, 80000000.0, 30000000.0, 65000000.0, 10000000.0, 25000000.0, 72000000.0, 55000000.0, 80000000.0, 5000000.0, 110000000.0, 80000000.0, 200000000.0, 35000000.0, 1200000.0, 30000000.0, 3000000.0, 92000000.0, 88000000.0, 82000000.0, 30000000.0, 50000000.0, 130000000.0, 68000000.0, 25000000.0, 32000000.0, 27000000.0, 60000000.0, 60000000.0, 60000000.0, 5000000.0, 110000000.0, 20000.0, 8700000.0, 0.0, 66000000.0, 25000000.0, 12500000.0, 25000000.0, 17500000.0, 20000000.0, 20000000.0, 50000000.0, 50000000.0, 0.0, 60000000.0, 17000000.0, 42000000.0, 58000000.0, 25000000.0, 2000000.0, 45000000.0, 7000000.0, 140000000.0, 5000000.0, 50000000.0, 85000000.0, 30000000.0, 38000000.0, 15000000.0, 150000000.0, 2800000.0, 90000000.0, 45000000.0, 12305523.0, 4800000.0, 1250000.0, 2500000.0, 25000000.0, 110000000.0, 110000000.0, 8000000.0, 200000000.0, 25000000.0, 270000000.0, 70000000.0, 27000000.0, 255000000.0, 4500000.0, 47000000.0, 8200000.0, 1500000.0, 16500000.0, 7500000.0, 3500159.0, 19000000.0, 60000000.0, 115000000.0, 170000000.0, 12500000.0, 32000000.0, 80000000.0, 10000000.0, 43000000.0, 0.0, 40000000.0, 8500000.0, 10000000.0, 26000000.0, 18000000.0, 32000000.0, 140000000.0, 25000000.0, 53000000.0, 20000000.0, 7000000.0, 20000000.0, 160000000.0, 70000000.0, 15000000.0, 41000000.0, 10000000.0, 15000000.0, 30000000.0, 11000000.0, 40000000.0, 0.0, 20000000.0, 6500000.0, 110000000.0, 165000000.0, 80000000.0, 95000000.0, 26000000.0, 8000000.0, 25000000.0, 30000000.0, 10000000.0, 16500000.0, 14000000.0, 140000000.0, 127000000.0, 0.0, 90000000.0, 30000000.0, 12000000.0, 3500000.0, 10000000.0, 9000000.0, 1300000.0, 90000000.0, 64000000.0, 40600000.0, 15000000.0, 13000000.0, 130000000.0, 6500000.0, 30000000.0, 30000000.0, 48000000.0, 90000000.0, 9000000.0, 50000000.0, 85000000.0, 130000000.0, 53000000.0, 250000.0, 32000000.0, 20000000.0, 3500000.0, 10000000.0, 967686.0, 16000000.0, 6000000.0, 30000000.0, 5000000.0, 31000000.0, 40000000.0, 12000000.0, 27000000.0, 6000000.0, 58000000.0, 0.0, 4000000.0, 80000000.0, 70000000.0, 95000000.0, 12000000.0, 0.0, 30000000.0, 55000000.0, 50000000.0, 130000000.0, 65000000.0, 10000000.0, 60000000.0, 110000000.0, 125000000.0, 0.0, 2500000.0, 6500000.0, 20000000.0, 125000000.0, 25000000.0, 40000000.0, 48000000.0, 38000000.0, 120000000.0, 0.0, 10800000.0, 53000000.0, 12300000.0, 85000000.0, 126000000.0, 5000000.0, 260000000.0, 30000000.0, 35000000.0, 5000000.0, 130000000.0, 0.0, 10000000.0, 100000000.0, 3500000.0, 30000000.0, 40000000.0, 50200000.0, 24000000.0, 15000000.0, 175000000.0, 2900000.0, 80000000.0, 75000000.0, 18000000.0, 20000000.0, 45000000.0, 70000000.0, 36000000.0, 13800000.0, 180000000.0, 85000000.0, 42000000.0, 2000000.0, 35000000.0, 12000000.0, 100000000.0, 10000000.0, 0.0, 4000000.0, 39000000.0, 90000000.0, 48000000.0, 14000000.0, 52000000.0, 500000.0, 67000000.0, 0.0, 58000000.0, 0.0, 8000000.0, 12000000.0, 3600000.0, 10000000.0, 100000000.0, 11000000.0, 55000000.0, 55000000.0, 135000000.0, 110000000.0, 14000000.0, 120000000.0, 0.0, 2380000.0, 110000000.0, 45000000.0, 0.0, 180000000.0, 23000000.0, 40000000.0, 110000000.0, 23000000.0, 80000000.0, 852510.0, 18500000.0, 24000000.0, 44000000.0, 100000000.0, 10000000.0, 1100000.0, 35000000.0, 6000000.0, 22000000.0, 15000000.0, 19800000.0, 50000000.0, 4700000.0, 35000000.0, 22000000.0, 5000000.0, 15500000.0, 40000000.0, 6000000.0, 42000000.0, 10000000.0, 28000000.0, 50000000.0, 1987650.0, 78000000.0, 47000000.0, 20000000.0, 120000000.0, 50000000.0, 40000000.0, 200000000.0, 25000000.0, 0.0, 27000000.0, 25000000.0, 7000000.0, 14000000.0, 55000000.0, 21000000.0, 3000000.0, 2000000.0, 30000000.0, 35000000.0, 150000000.0, 14000000.0, 25000000.0, 30000000.0, 15000000.0, 0.0, 24000000.0, 38000000.0, 45000000.0, 75000000.0, 15000000.0, 0.0, 100000000.0, 50000000.0, 127500000.0, 16000000.0, 0.0, 79000000.0, 3000000.0, 0.0, 55000000.0, 45000000.0, 56000000.0, 40000000.0, 27000000.0, 51000000.0, 175000000.0, 1500000.0, 40000000.0, 100000000.0, 24000000.0, 4000000.0, 70000000.0, 82000000.0, 25000000.0, 19000000.0, 135000000.0, 24000000.0, 4000000.0, 20000000.0, 26000000.0, 40000000.0, 50000000.0, 24000000.0, 30000000.0, 90000000.0, 33000000.0, 12000000.0, 30000000.0, 0.0, 26000000.0, 60000000.0, 11500000.0, 3000000.0, 14800000.0, 200000.0, 2600000.0, 45000000.0, 12000000.0, 23000000.0, 60000000.0, 12000000.0, 0.0, 10000000.0, 20000000.0, 12000000.0, 10000000.0, 50000000.0, 15000000.0, 50000000.0, 44000000.0, 45000000.0, 25000000.0, 53000000.0, 170000000.0, 20000000.0, 23000000.0, 5000000.0, 21000000.0, 15000000.0, 0.0, 65000000.0, 17000000.0, 25000000.0, 15000000.0, 92000000.0, 100000000.0, 10000000.0, 17000000.0, 25000000.0, 8000.0, 13000000.0, 11000000.0, 70000000.0, 65000000.0, 40000000.0, 85000000.0, 132000000.0, 75000000.0, 60000000.0, 40000000.0, 65000000.0, 0.0, 74000000.0, 40000000.0, 10000000.0, 200000.0, 140000000.0, 40000000.0, 69000000.0, 7000000.0, 38000000.0, 50000000.0, 3000000.0, 700000.0, 54000000.0, 50000000.0, 42000000.0, 40000000.0, 250000.0, 19000000.0, 99000000.0, 60000000.0, 75000000.0, 25000000.0, 0.0, 0.0, 60000000.0, 50000000.0, 45000000.0, 50000000.0, 22000000.0, 78000000.0, 55000000.0, 0.0, 50000000.0, 55000000.0, 110000000.0, 31000000.0, 30000000.0, 42000000.0, 70000000.0, 38000000.0, 60000000.0, 65000000.0, 40000000.0, 16000000.0, 71000000.0, 30000000.0, 54000000.0, 50000000.0, 145000000.0, 85000000.0, 19000000.0, 27000000.0, 80000000.0, 61000000.0, 35000000.0, 2200000.0, 60000000.0, 0.0, 100000.0, 6000000.0, 12000000.0, 117000000.0, 40000000.0, 3500000.0, 25000000.0, 85000000.0, 11000000.0, 25000000.0, 0.0, 7500000.0, 40000000.0, 14000000.0, 6000000.0, 50000000.0, 90000000.0, 40000000.0, 19800000.0, 27500000.0, 48000000.0, 20000000.0, 68000000.0, 40000000.0, 15000000.0, 30000000.0, 18000000.0, 50000000.0, 150000000.0, 70000000.0, 55000000.0, 175000000.0, 30000000.0, 135000000.0, 40000000.0, 0.0, 25000000.0, 85000000.0, 45000000.0, 25000000.0, 9000000.0, 0.0, 40000000.0, 30000000.0, 69000000.0, 30000000.0, 13000000.0, 5000000.0, 60000000.0, 45000000.0, 75000000.0, 28000000.0, 38000000.0, 80000000.0, 65000000.0, 26000000.0, 0.0, 500000.0, 107000000.0, 28000000.0, 0.0, 209000000.0, 0.0, 48000000.0, 75000000.0, 15000000.0, 13000000.0, 13500000.0, 20000000.0, 1500000.0, 115000000.0, 28000000.0, 73000000.0, 15000000.0, 12000000.0, 46000000.0, 6000000.0, 20000000.0, 57000000.0, 20000000.0, 50000000.0, 8000000.0, 0.0, 11500000.0, 20000000.0, 35000000.0, 22000000.0, 100000000.0, 15000000.0, 40000000.0, 95000000.0, 73000000.0, 60000000.0, 0.0, 38000000.0, 40000000.0, 140000000.0, 15000000.0, 30000000.0, 90000000.0, 25000000.0, 11000000.0, 33000000.0, 14000000.0, 5000000.0, 4500000.0, 0.0, 9000000.0, 23000000.0, 13000000.0, 70000000.0, 0.0, 130000000.0, 100000000.0, 90000000.0, 88000000.0, 75000000.0, 48000000.0, 27000000.0, 85000000.0, 20000000.0, 33000000.0, 0.0, 47000000.0, 0.0, 25000000.0, 70000000.0, 7000000.0, 18000000.0, 22000000.0, 30000000.0, 55000000.0, 145000000.0, 0.0, 100000000.0, 24000000.0, 3500000.0, 65000000.0, 48000000.0, 5000000.0, 40000000.0, 31000000.0, 500000.0, 30000000.0, 23000000.0, 29000000.0, 45000000.0, 10000000.0, 6400000.0, 22000000.0, 30000000.0, 75000000.0, 1500000.0, 30000000.0, 135000000.0, 0.0, 0.0, 68000000.0, 14000000.0, 5000000.0, 70000000.0, 60000000.0, 0.0, 50000000.0, 130000000.0, 80000000.0, 21000000.0, 22000000.0, 39000000.0, 3860000.0, 52000000.0, 53000000.0, 29000000.0, 0.0, 0.0, 17000000.0, 0.0, 100000000.0, 35000000.0, 12600000.0, 20000000.0, 32000000.0, 24000000.0, 20000000.0, 175000000.0, 84000000.0, 60000000.0, 0.0, 1000000.0, 860000.0, 120000000.0, 16000000.0, 88000000.0, 28000000.0, 0.0, 13000000.0, 63000000.0, 70000000.0, 25000000.0, 112000000.0, 0.0, 85000000.0, 52000000.0, 12000000.0, 22000000.0, 20000000.0, 35000000.0, 13000000.0, 70000000.0, 4000000.0, 73000000.0, 140000000.0, 300000.0, 0.0, 61000000.0, 11000000.0, 15000000.0, 30000000.0, 17000000.0, 70000000.0, 3500000.0, 105000000.0, 35000000.0, 3705538.0, 10000000.0, 38000000.0, 150000000.0, 100000000.0, 12000000.0, 13000000.0, 44000000.0, 0.0, 10000000.0, 38000000.0, 30000000.0, 15000000.0, 80000000.0, 103000000.0, 8000000.0, 15000000.0, 37000000.0, 60000000.0, 35000000.0, 5000000.0, 25000000.0, 1500000.0, 10000000.0, 66000000.0, 85000000.0, 90000000.0, 26000000.0, 220000.0, 10000000.0, 110000000.0, 30000000.0, 150000000.0, 4000000.0, 85000000.0, 6900000.0, 35000000.0, 90000000.0, 35000000.0, 20000000.0, 46000000.0, 31000000.0, 10000000.0, 15000000.0, 75000000.0, 55000000.0, 45000000.0, 25000000.0, 140000000.0, 26000000.0, 60000000.0, 20000000.0, 79000000.0, 8000000.0, 60000000.0, 19000000.0, 80000000.0, 70000000.0, 30250000.0, 60000000.0, 195000000.0, 40000000.0, 120000000.0, 150000000.0, 70000000.0, 79000000.0, 80000000.0, 18000000.0, 25000000.0, 5500000.0, 3500000.0, 20000000.0, 50000000.0, 60000000.0, 225000.0, 10000000.0, 3000000.0, 102000000.0, 80000000.0, 36000000.0, 12000000.0, 1000000.0, 65000000.0, 5000000.0, 5000000.0, 35000000.0, 68000000.0, 75000000.0, 26000000.0, 45000000.0, 6500000.0, 0.0, 48000000.0, 40000000.0, 30000000.0, 16000000.0, 12000000.0, 0.0, 58000000.0, 22000000.0, 2000000.0, 50000000.0, 0.0, 60000000.0, 11000000.0, 10000000.0, 19000000.0, 20000000.0, 100000000.0, 15000000.0, 0.0, 25000000.0, 18000000.0, 19000000.0, 92000000.0, 0.0, 15000000.0, 12000000.0, 28000000.0, 0.0, 25000000.0, 60000000.0, 60000000.0, 32000000.0, 37000000.0, 45000000.0, 17000000.0, 60000000.0, 55000000.0, 42000000.0, 75000000.0, 60000000.0, 55000000.0, 0.0, 35000000.0, 40000000.0, 27000000.0, 0.0, 10000000.0, 0.0, 17000000.0, 27000000.0, 57000000.0, 3000000.0, 20000000.0, 21000000.0, 65000000.0, 50000000.0, 100000000.0, 130000000.0, 8000000.0, 6000000.0, 33000000.0, 17000000.0, 50000000.0, 8000000.0, 25000000.0, 30000000.0, 0.0, 90000000.0, 45000000.0, 43000000.0, 80000000.0, 180000.0, 30000000.0, 0.0, 55000000.0, 16500000.0, 7000000.0, 2000000.0, 10200000.0, 55000000.0, 56000000.0, 0.0, 2000000.0, 11000000.0, 12000000.0, 35000000.0, 10000000.0, 130000000.0, 39000000.0, 62000000.0, 100000000.0, 63000000.0, 0.0, 40000000.0, 28000000.0, 80000000.0, 30000000.0, 4000000.0, 0.0, 500000.0, 13500000.0, 30000000.0, 100000000.0, 80000000.0, 45000000.0, 0.0, 1000000.0, 66000000.0, 0.0, 4000000.0, 25000000.0, 5000000.0, 150000000.0, 1500000.0, 75000000.0, 32000000.0, 15000000.0, 40000000.0, 155000000.0, 4200000.0, 75000000.0, 25000000.0, 15000000.0, 75000000.0, 44000000.0, 40000000.0, 20000000.0, 60000000.0, 40000000.0, 30000000.0, 16000000.0, 7500000.0, 40000000.0, 4500000.0, 116000000.0, 15000000.0, 60000000.0, 62000000.0, 0.0, 11000000.0, 0.0, 0.0, 36000000.0, 2500000.0, 60000000.0, 48000000.0, 50000000.0, 35000000.0, 43000000.0, 35000000.0, 90000000.0, 50000000.0, 5000000.0, 80000000.0, 36000000.0, 0.0, 27000000.0, 75000000.0, 26000000.0, 30000000.0, 800000.0, 20000000.0, 22000000.0, 12000000.0, 55000000.0, 20000000.0, 0.0, 38000000.0, 40000000.0, 100000000.0, 70000000.0, 38000000.0, 15000000.0, 0.0, 30000000.0, 70000000.0, 0.0, 160000000.0, 28000000.0, 110000000.0, 28000000.0, 10000000.0, 130000000.0, 50000000.0, 62000000.0, 8000000.0, 50000000.0, 8000000.0, 40000000.0, 85000000.0, 70000000.0, 35000000.0, 68000000.0, 0.0, 15000000.0, 50000000.0, 6000000.0, 86000000.0, 18000000.0, 28000000.0, 49900000.0, 28000000.0, 65000000.0, 27000000.0, 15000000.0, 3000000.0, 50000000.0, 25000000.0, 32000000.0, 35000000.0, 20000000.0, 40000000.0, 43000000.0, 8500000.0, 0.0, 17000000.0, 34000000.0, 0.0, 21000000.0, 70000000.0, 36000000.0, 50000000.0, 68000000.0, 4000000.0, 4000000.0, 35000000.0, 25000000.0, 80000000.0, 0.0, 17000000.0, 12806000.0, 10000000.0, 0.0, 0.0, 100000000.0, 35000000.0, 5000000.0, 0.0, 20500000.0, 30000000.0, 36000000.0, 5000000.0, 0.0, 12000000.0, 12000000.0, 41300000.0, 25000000.0, 120000000.0, 35000000.0, 26000000.0, 35000000.0, 50000000.0, 17000000.0, 57000000.0, 51000000.0, 22000000.0, 30000000.0, 10000000.0, 90000000.0, 0.0, 11000000.0, 40000000.0, 25000000.0, 28000000.0, 85000000.0, 47000000.0, 50000000.0, 2962051.0, 48000000.0, 5000000.0, 20000000.0, 15000000.0, 28000000.0, 36000000.0, 22000000.0, 60000000.0, 50000000.0, 3000000.0, 57000000.0, 35000000.0, 63000000.0, 17000000.0, 3500000.0, 0.0, 12000000.0, 30000000.0, 60000000.0, 43000000.0, 27000000.0, 20000000.0, 82000000.0, 7800000.0, 50000000.0, 105000000.0, 55000000.0, 10000000.0, 0.0, 42000000.0, 12000000.0, 50000000.0, 84000000.0, 22000000.0, 6000000.0, 46000000.0, 0.0, 45000000.0, 68000000.0, 44000000.0, 4000000.0, 75000000.0, 0.0, 65000000.0, 0.0, 0.0, 0.0, 0.0, 24000000.0, 80000000.0, 0.0, 5000000.0, 25000000.0, 70000000.0, 70000000.0, 31000000.0, 80000000.0, 6000000.0, 75000000.0, 8000000.0, 0.0, 80000000.0, 5000000.0, 160000000.0, 45000000.0, 10000000.0, 31000000.0, 19000000.0, 55000000.0, 20000000.0, 3300000.0, 30000000.0, 100000000.0, 65000000.0, 25000000.0, 50000000.0, 70000000.0, 25000000.0, 20000000.0, 75000000.0, 100000000.0, 4000000.0, 32000000.0, 23000000.0, 20000000.0, 0.0, 30000000.0, 0.0, 0.0, 6000000.0, 20000000.0, 5000000.0, 20000000.0, 13000000.0, 25000000.0, 3000000.0, 0.0, 13000000.0, 130000000.0, 0.0, 35000000.0, 60000000.0, 0.0, 50000000.0, 90000000.0, 44000000.0, 20000000.0, 15000000.0, 50000000.0, 6000000.0, 60000000.0, 17700000.0, 34000000.0, 87000000.0, 50000000.0, 3500000.0, 13000000.0, 25000000.0, 60000000.0, 18000000.0, 28000000.0, 0.0, 0.0, 90000000.0, 0.0, 5000000.0, 80000000.0, 15000000.0, 9000000.0, 17000000.0, 20000000.0, 35000000.0, 18000000.0, 0.0, 47000000.0, 40000000.0, 18000000.0, 50000000.0, 0.0, 1250000.0, 7000000.0, 35000000.0, 30000000.0, 16000000.0, 0.0, 160000000.0, 50000000.0, 64000000.0, 2000000.0, 35000000.0, 0.0, 35000000.0, 50000000.0, 66000000.0, 25000000.0, 35000000.0, 11000000.0, 32000000.0, 54000000.0, 70000000.0, 75000000.0, 0.0, 26000000.0, 8000000.0, 55000000.0, 0.0, 50000000.0, 26000000.0, 21500000.0, 35000000.0, 5000000.0, 30000000.0, 0.0, 15000000.0, 0.0, 9000000.0, 1700000.0, 27000000.0, 3000000.0, 125000.0, 4000000.0, 43000000.0, 0.0, 14000000.0, 55000000.0, 28000000.0, 32000000.0, 62000000.0, 5500000.0, 22000000.0, 50000000.0, 0.0, 20000000.0, 0.0, 32000000.0, 70000000.0, 13500000.0, 30000000.0, 49000000.0, 0.0, 12000000.0, 27000000.0, 6500000.0, 14000000.0, 50000000.0, 35000000.0, 70000000.0, 0.0, 0.0, 65000000.0, 16000000.0, 50000000.0, 20000000.0, 80000000.0, 12000000.0, 16000000.0, 65000000.0, 105000000.0, 7300000.0, 35000000.0, 0.0, 0.0, 137000000.0, 2000000.0, 10000000.0, 4000000.0, 10000000.0, 90000000.0, 500000.0, 25000000.0, 24000000.0, 22000000.0, 95000000.0, 5000000.0, 60000000.0, 28000000.0, 70000000.0, 80341000.0, 30000000.0, 19000000.0, 0.0, 17000000.0, 0.0, 25000000.0, 15000000.0, 1500000.0, 80000000.0, 22000000.0, 60000000.0, 40000000.0, 8000000.0, 40000000.0, 45000000.0, 0.0, 70000000.0, 25000000.0, 72000000.0, 40000000.0, 25000000.0, 14200000.0, 30000000.0, 10000000.0, 100000000.0, 45000000.0, 7000000.0, 66000000.0, 9000000.0, 50000000.0, 21000000.0, 45000000.0, 0.0, 0.0, 27000000.0, 0.0, 2000000.0, 40000000.0, 40000000.0, 29000000.0, 19400000.0, 20000000.0, 25000000.0, 35000000.0, 52000000.0, 56000000.0, 18000000.0, 0.0, 33000000.0, 33000000.0, 4000000.0, 12000000.0, 3000000.0, 17000000.0, 55000000.0, 40000000.0, 16500000.0, 40000000.0, 0.0, 19000000.0, 27000000.0, 6500000.0, 30000000.0, 35000000.0, 40000000.0, 15000000.0, 24000000.0, 10000000.0, 0.0, 12000000.0, 9000000.0, 45000000.0, 60000000.0, 26000000.0, 8500000.0, 0.0, 0.0, 5000000.0, 12000000.0, 0.0]}, {\"axis\": {\"matches\": true}, \"label\": \"tmdb_revenue\", \"values\": [213928762.0, 825532764.0, 100853753.0, 1004558444.0, 174600318.0, 675120017.0, 319131050.0, 44017374.0, 392000694.0, 13092000.0, 369330363.0, 47351251.0, 274925095.0, 378858340.0, 72258126.0, 773328629.0, 425368238.0, 224920315.0, 272742922.0, 180949000.0, 47664559.0, 264118201.0, 677945399.0, 463517383.0, 327311859.0, 783112979.0, 327803731.0, 857611174.0, 1519557910.0, 871368364.0, 78054825.0, 28341469.0, 381109762.0, 294804195.0, 34266564.0, 623722818.0, 1153304495.0, 38697217.0, 171600000.0, 735099082.0, 33139618.0, 521311860.0, 714766572.0, 585174222.0, 14661007.0, 920100000.0, 84785914.0, 1270522.0, 373554033.0, 630161890.0, 39723096.0, 631442092.0, 33400000.0, 1118888979.0, 1084939099.0, 1845034188.0, 789804554.0, 532950503.0, 1405403694.0, 119723856.0, 46189568.0, 926287400.0, 46471023.0, 940335536.0, 68263166.0, 225933435.0, 155760117.0, 519311965.0, 235860116.0, 788241776.0, 356296601.0, 562816256.0, 77208711.0, 374218673.0, 109676311.0, 289847354.0, 173921954.0, 321365567.0, 7390108.0, 352114312.0, 152159461.0, 2787965087.0, 745000000.0, 53478166.0, 83258226.0, 122126687.0, 484409218.0, 876688482.0, 100523181.0, 895921036.0, 1215439994.0, 1066969703.0, 234710455.0, 35401758.0, 86758912.0, 850000000.0, 449326618.0, 481840909.0, 121463226.0, 821708551.0, 14980005.0, 30039392.0, 716392705.0, 5535405.0, 924317558.0, 476684675.0, 623933331.0, 691210692.0, 16491080.0, 159375308.0, 938212738.0, 129042871.0, 19629760.0, 783766341.0, 497366869.0, 351040419.0, 933959197.0, 44349000.0, 231411584.0, 140767956.0, 649398328.0, 53000000.0, 652105443.0, 80573774.0, 233555708.0, 792910554.0, 187000000.0, 124596398.0, 1274219009.0, 65884703.0, 178043761.0, 644571402.0, 0.0, 71441250.0, 205738714.0, 69959751.0, 133346506.0, 102391382.0, 162091208.0, 1513528810.0, 672806292.0, 591794936.0, 84025816.0, 873260194.0, 450717150.0, 173046663.0, 919838758.0, 326551094.0, 1108561013.0, 88346473.0, 131282949.0, 847423452.0, 318000141.0, 457640427.0, 392616625.0, 469160692.0, 747862775.0, 121147947.0, 151119219.0, 70906973.0, 333932083.0, 30857814.0, 120072577.0, 520000000.0, 73326666.0, 108286421.0, 28258060.0, 474968763.0, 609016565.0, 183316455.0, 304320254.0, 15992615.0, 30641770.0, 78371200.0, 32935319.0, 48451803.0, 22863596.0, 17000000.0, 609841637.0, 553171.0, 332000000.0, 459270619.0, 43101594.0, 494878759.0, 87100449.0, 1021103568.0, 471222889.0, 232617430.0, 23341568.0, 284600000.0, 752215857.0, 662845518.0, 201585328.0, 599045960.0, 74952305.0, 31556061.0, 890871626.0, 52287414.0, 55198285.0, 370541256.0, 538983207.0, 504050219.0, 123726688.0, 474171806.0, 39673162.0, 37295445.0, 261572744.0, 117698894.0, 185258983.0, 461983149.0, 353624124.0, 23875127.0, 377910544.0, 743559607.0, 92823546.0, 7993039.0, 10409377.0, 96188903.0, 54674226.0, 752100229.0, 23000000.0, 47383689.0, 1065659812.0, 589390539.0, 56255142.0, 958400000.0, 142851197.0, 117195061.0, 47042000.0, 631744560.0, 333000000.0, 23159305.0, 11176469.0, 6038942.0, 25504513.0, 414211549.0, 248000000.0, 122919055.0, 116112375.0, 163712074.0, 34808403.0, 531865000.0, 705717432.0, 251171807.0, 187479518.0, 115603229.0, 169327687.0, 34533783.0, 407602906.0, 141774679.0, 1025491110.0, 173398518.0, 244931766.0, 17096053.0, 543934787.0, 0.0, 232324128.0, 429632142.0, 653428261.0, 83557872.0, 441809770.0, 248118121.0, 956019788.0, 313542341.0, 110206216.0, 403170142.0, 210819611.0, 363258859.0, 115350426.0, 244527583.0, 163720069.0, 185770160.0, 585349010.0, 46089287.0, 1333124.0, 126041322.0, 21817298.0, 543513985.0, 145771527.0, 16800000.0, 524028679.0, 173567581.0, 71868327.0, 880674609.0, 9760104.0, 29400000.0, 296339527.0, 126546825.0, 188441614.0, 411348924.0, 51973029.0, 103911669.0, 11110975.0, 83453539.0, 129266061.0, 109423648.0, 193772504.0, 358372926.0, 358991681.0, 710644566.0, 32801173.0, 110197.0, 383257136.0, 252276927.0, 738599701.0, 188072649.0, 574480841.0, 482860185.0, 549368315.0, 147298761.0, 16566240.0, 10680275.0, 748806957.0, 288383523.0, 137551594.0, 63647656.0, 0.0, 351583407.0, 179213434.0, 263920180.0, 245724603.0, 532680671.0, 320170008.0, 422610419.0, 188133322.0, 348319861.0, 457696359.0, 307166834.0, 758539785.0, 124272124.0, 96455697.0, 153083102.0, 250200000.0, 280000000.0, 363889678.0, 88489643.0, 682330139.0, 62076141.0, 321887208.0, 211817906.0, 210000000.0, 46118097.0, 60474340.0, 165335153.0, 90574188.0, 345141403.0, 709827462.0, 307077295.0, 542307423.0, 0.0, 158733820.0, 527068851.0, 102000000.0, 35692920.0, 786636033.0, 478207520.0, 463000000.0, 966550600.0, 2120439.0, 415440673.0, 216763646.0, 694713380.0, 98235548.0, 412800000.0, 217764291.0, 385680446.0, 305875730.0, 34441873.0, 214034224.0, 609123048.0, 108145109.0, 269958228.0, 356830601.0, 816969268.0, 140752617.0, 170764026.0, 709709780.0, 229074524.0, 260095987.0, 267045765.0, 798958165.0, 754249.0, 269994119.0, 219417255.0, 5659286.0, 424988211.0, 362744280.0, 97009150.0, 5923044.0, 207283925.0, 126216940.0, 89328627.0, 13008928.0, 17693675.0, 31430334.0, 12342632.0, 7103838.0, 95000000.0, 196397415.0, 261317921.0, 698491347.0, 136766062.0, 467365246.0, 0.0, 196482882.0, 408247917.0, 0.0, 122200000.0, 550000000.0, 42000000.0, 25836616.0, 275650703.0, 373062864.0, 215862692.0, 30000000.0, 0.0, 235926552.0, 8203235.0, 350448145.0, 829000000.0, 334901337.0, 39187783.0, 242988466.0, 159157447.0, 128107642.0, 165478348.0, 334615000.0, 156822020.0, 275293450.0, 101624843.0, 229147509.0, 288747895.0, 346079773.0, 484572835.0, 0.0, 201634991.0, 586090727.0, 237681299.0, 132820716.0, 441286195.0, 60780981.0, 287594577.0, 110230332.0, 306776732.0, 104876233.0, 226830568.0, 1506249360.0, 19422261.0, 281929795.0, 268157400.0, 12281551.0, 213525736.0, 113714830.0, 970761885.0, 128798265.0, 39514713.0, 767820459.0, 182300000.0, 40485039.0, 0.0, 224834564.0, 98126565.0, 207945075.0, 792.0, 151668774.0, 347451894.0, 371940071.0, 340487652.0, 559852396.0, 191502426.0, 138530565.0, 343471816.0, 130482868.0, 10337387.0, 6854611.0, 147332697.0, 90815558.0, 247275374.0, 254455986.0, 77712439.0, 50244700.0, 14711793.0, 0.0, 24769466.0, 133432856.0, 442824138.0, 14564027.0, 235483004.0, 626137675.0, 12532777.0, 41037742.0, 76270454.0, 121214377.0, 12827813.0, 215000000.0, 400062763.0, 140161792.0, 90247624.0, 560069.0, 769653595.0, 311312624.0, 397850012.0, 96060858.0, 115229890.0, 367275019.0, 194168700.0, 665692281.0, 591739379.0, 300854823.0, 0.0, 44703995.0, 624026776.0, 347234916.0, 140175006.0, 3151130.0, 245676146.0, 309208309.0, 63464861.0, 83707310.0, 424760.0, 19839492.0, 154026136.0, 30925690.0, 67683989.0, 441818803.0, 99318987.0, 93617009.0, 317375031.0, 624029371.0, 544272402.0, 752600867.0, 100138851.0, 93525586.0, 40031879.0, 368780809.0, 135330182.0, 358375603.0, 158468292.0, 117000000.0, 12077441.0, 107217396.0, 238207122.0, 11000000.0, 309979994.0, 172363301.0, 150483765.0, 256697520.0, 32222567.0, 543514353.0, 546388105.0, 105173115.0, 186438883.0, 193355800.0, 3897569.0, 170877916.0, 225990978.0, 0.0, 236350661.0, 355237933.0, 170432927.0, 218613188.0, 115505027.0, 57096190.0, 875958308.0, 99206215.0, 53302314.0, 109578115.0, 331926147.0, 288500217.0, 98450062.0, 287506194.0, 286168572.0, 131183530.0, 5887457.0, 15785148.0, 384335608.0, 286140700.0, 0.0, 12000000.0, 194564672.0, 336529144.0, 497409852.0, 0.0, 11293663.0, 47126295.0, 1156730962.0, 314432665.0, 97542952.0, 100086793.0, 90450008.0, 264105545.0, 14334401.0, 48169908.0, 15304890.0, 145000000.0, 2375097.0, 250821495.0, 101371017.0, 184376254.0, 11098131.0, 116980662.0, 41596251.0, 173930596.0, 181000000.0, 113086475.0, 330444045.0, 66787908.0, 212902372.0, 125212904.0, 57504069.0, 260696994.0, 70000000.0, 163670000.0, 110000000.0, 60700000.0, 3221152.0, 60740827.0, 58978653.0, 32017803.0, 368875760.0, 603900354.0, 186053725.0, 553799566.0, 501818.0, 152925093.0, 226497209.0, 41205099.0, 219076518.0, 75902208.0, 44196684.0, 171120329.0, 121697323.0, 179379533.0, 38119483.0, 53653224.0, 177371441.0, 38748395.0, 7267585.0, 89792502.0, 273552592.0, 152944660.0, 2260712.0, 180274123.0, 245527149.0, 147934180.0, 243240178.0, 0.0, 571006128.0, 139804348.0, 300135367.0, 0.0, 836297228.0, 17164377.0, 212000000.0, 206678440.0, 7412216.0, 23057115.0, 75225693.0, 136267476.0, 456758981.0, 135560026.0, 413106170.0, 10700000.0, 17986781.0, 271430189.0, 165184237.0, 17385830.0, 7938872.0, 90810892.0, 137587063.0, 100000000.0, 0.0, 0.0, 104399548.0, 3964682.0, 17654912.0, 1123746996.0, 107139399.0, 256271286.0, 3099314.0, 266465037.0, 19271312.0, 33889159.0, 219851172.0, 369884651.0, 141407024.0, 40100000.0, 172989651.0, 27635305.0, 311256926.0, 203388341.0, 102356381.0, 55112356.0, 314178011.0, 33697647.0, 149022650.0, 8371085.0, 48126384.0, 0.0, 35287788.0, 240031094.0, 119100758.0, 140795793.0, 91709827.0, 9455232.0, 26673242.0, 48572000.0, 343397247.0, 255273813.0, 505000000.0, 258270008.0, 306941670.0, 97138686.0, 433013274.0, 32255440.0, 181001478.0, 102820008.0, 28883511.0, 362637473.0, 101134059.0, 97552050.0, 43884652.0, 102984862.0, 352194034.0, 209196298.0, 296655431.0, 129540499.0, 120175290.0, 521170825.0, 161772375.0, 112544580.0, 2807390.0, 214104620.0, 161834276.0, 20158808.0, 94000000.0, 21378361.0, 95149435.0, 192330738.0, 245360480.0, 886686817.0, 27092880.0, 484635760.0, 8373585.0, 167977596.0, 109502303.0, 54586584.0, 318502923.0, 177243185.0, 117487473.0, 98410061.0, 23198652.0, 76432727.0, 64459316.0, 419651413.0, 0.0, 41954997.0, 7022209.0, 153962963.0, 254134910.0, 316360478.0, 104478416.0, 6212282.0, 209154322.0, 0.0, 19294144.0, 90683916.0, 585178928.0, 163876815.0, 108782847.0, 44107032.0, 224012234.0, 167221571.0, 415484914.0, 234801895.0, 183987723.0, 77000000.0, 368100420.0, 59389433.0, 93945766.0, 4601043.0, 5332926.0, 96408652.0, 86369815.0, 254700832.0, 68929150.0, 64088552.0, 125586134.0, 181466833.0, 61548707.0, 1091405097.0, 218340595.0, 287928194.0, 378882411.0, 60378584.0, 123922370.0, 228738393.0, 230685453.0, 0.0, 20710513.0, 26781723.0, 130358911.0, 0.0, 63782078.0, 177200000.0, 13831503.0, 746921274.0, 335062621.0, 27281507.0, 85512300.0, 116700000.0, 4007792.0, 435000000.0, 424208848.0, 64321501.0, 1477002.0, 361366633.0, 41597830.0, 12007070.0, 177394432.0, 92180910.0, 214918407.0, 37930465.0, 100914445.0, 144056873.0, 85306374.0, 189833357.0, 0.0, 146292009.0, 57469467.0, 52501541.0, 75505856.0, 155010032.0, 495303.0, 21107746.0, 396600000.0, 440603537.0, 13060843.0, 85000000.0, 203427584.0, 64238440.0, 205405498.0, 85582407.0, 274470394.0, 63372757.0, 211780824.0, 118587880.0, 65663276.0, 96889998.0, 70016220.0, 516642939.0, 44030246.0, 470490832.0, 157107755.0, 325233863.0, 108758521.0, 0.0, 82394288.0, 2357852.0, 494471524.0, 243637091.0, 47434430.0, 136706683.0, 216972543.0, 273339556.0, 217022588.0, 289317794.0, 50907422.0, 27200316.0, 163403799.0, 176070171.0, 244082376.0, 0.0, 299268508.0, 99000.0, 7659918.0, 0.0, 177584879.0, 27603069.0, 10725228.0, 42972994.0, 38000000.0, 117760134.0, 50907234.0, 132180323.0, 41482207.0, 44000000.0, 171757863.0, 127730736.0, 24127895.0, 71664962.0, 86175291.0, 33965843.0, 20350754.0, 16829545.0, 449220945.0, 44793222.0, 97607453.0, 149044513.0, 114908830.0, 299288605.0, 146497771.0, 356613439.0, 1826705.0, 60289912.0, 141220678.0, 36230219.0, 80578934.0, 21722776.0, 14400000.0, 147780440.0, 125537191.0, 293329073.0, 6491240.0, 371353001.0, 117719158.0, 391081192.0, 130293714.0, 129000000.0, 89289910.0, 7011317.0, 102825796.0, 80035402.0, 2300000.0, 135000000.0, 26096852.0, 76578641.0, 70067909.0, 129832389.0, 274703340.0, 299370084.0, 75993061.0, 0.0, 473226958.0, 103166989.0, 158674180.0, 0.0, 86915017.0, 43528634.0, 30652890.0, 90426405.0, 0.0, 80197993.0, 183345589.0, 94679598.0, 98837872.0, 183936074.0, 49084830.0, 60427839.0, 433677183.0, 90000098.0, 16633035.0, 91636986.0, 139352633.0, 2856712.0, 48428063.0, 41227069.0, 107458785.0, 336472.0, 216197492.0, 31899000.0, 383531464.0, 389681935.0, 122563539.0, 877244782.0, 183293131.0, 0.0, 56505065.0, 199200000.0, 9636289.0, 0.0, 1755212.0, 431971116.0, 349424282.0, 0.0, 347325802.0, 287553595.0, 56298474.0, 34000000.0, 20766616.0, 32973937.0, 0.0, 201596308.0, 97571250.0, 90400000.0, 75700498.0, 97837138.0, 276572938.0, 24793509.0, 212385533.0, 38413606.0, 207515725.0, 142940100.0, 23936908.0, 200804534.0, 222231186.0, 554987477.0, 83282296.0, 12021272.0, 113019290.0, 0.0, 34705850.0, 64188367.0, 4270000.0, 66468332.0, 39846344.0, 611899420.0, 368744044.0, 27388767.0, 177259441.0, 42931041.0, 231976425.0, 30471.0, 44000000.0, 0.0, 14237000.0, 246984278.0, 161025640.0, 250288523.0, 52223306.0, 0.0, 30536013.0, 113020255.0, 222809600.0, 211643158.0, 163442937.0, 8801940.0, 105200903.0, 333011068.0, 232713139.0, 0.0, 324138.0, 11850214.0, 5359645.0, 477200000.0, 92991835.0, 190212113.0, 220673217.0, 197011982.0, 242688965.0, 0.0, 113857533.0, 0.0, 84460846.0, 137298489.0, 162949164.0, 3049135.0, 284139100.0, 90259536.0, 69823199.0, 0.0, 243843127.0, 25147786.0, 57500000.0, 278731369.0, 28215918.0, 160259319.0, 68766121.0, 127869379.0, 155721132.0, 43848069.0, 173000000.0, 5596708.0, 177977226.0, 46683377.0, 122195920.0, 21284514.0, 376141306.0, 154648887.0, 64572262.0, 52293982.0, 356743061.0, 315156409.0, 0.0, 11540607.0, 61181942.0, 96800000.0, 312573423.0, 59217789.0, 60328000.0, 36690067.0, 38869464.0, 174578751.0, 77745568.0, 19777647.0, 216485654.0, 171760.0, 25037897.0, 0.0, 158162788.0, 1053788.0, 21028755.0, 22939027.0, 49800000.0, 47536959.0, 362211740.0, 68233629.0, 152263880.0, 89519773.0, 361832400.0, 215294342.0, 18090181.0, 227817248.0, 229094.0, 8176544.0, 337580051.0, 175372502.0, 3538446.0, 372234864.0, 185991646.0, 149295601.0, 179246868.0, 43984230.0, 212874442.0, 1185783.0, 31912793.0, 41895491.0, 165615285.0, 93820758.0, 183474602.0, 0.0, 88058786.0, 0.0, 77737889.0, 40283321.0, 87754044.0, 242786137.0, 8025872.0, 155545279.0, 95708457.0, 42365581.0, 0.0, 126248813.0, 2122561.0, 107670357.0, 33583175.0, 92380927.0, 97437106.0, 19152480.0, 248384621.0, 157887643.0, 31327899.0, 259175788.0, 155446362.0, 92913171.0, 310669540.0, 229736344.0, 0.0, 38122105.0, 152500343.0, 25405445.0, 320145693.0, 168167691.0, 72417394.0, 20966644.0, 11125849.0, 0.0, 57120318.0, 205366737.0, 154864401.0, 116766556.0, 0.0, 27462041.0, 76586316.0, 42105111.0, 112343513.0, 129394835.0, 108000000.0, 69623713.0, 0.0, 167805466.0, 40203020.0, 354248063.0, 5900000.0, 0.0, 149673788.0, 19472057.0, 0.0, 41610884.0, 136885767.0, 113006880.0, 186167139.0, 56308881.0, 149270999.0, 264218220.0, 3566225.0, 90029656.0, 82102379.0, 87055349.0, 9304609.0, 154984035.0, 190320568.0, 70442940.0, 29922472.0, 368871007.0, 68729358.0, 4300000.0, 67200000.0, 43318349.0, 85412898.0, 120081841.0, 182016617.0, 114663461.0, 250649836.0, 62022014.0, 100129872.0, 75505973.0, 55447968.0, 57891803.0, 204594016.0, 94073028.0, 177512032.0, 122513057.0, 0.0, 553198.0, 101702060.0, 68706993.0, 76488889.0, 73648228.0, 23006849.0, 8159508.0, 3665069.0, 24145613.0, 79567667.0, 104303851.0, 83719388.0, 61399552.0, 224803475.0, 300400432.0, 148412065.0, 50671850.0, 126690726.0, 222104681.0, 79114085.0, 53187659.0, 17768757.0, 43928932.0, 20566327.0, 0.0, 128905366.0, 24922237.0, 20796847.0, 201957688.0, 304654182.0, 103039258.0, 2995811.0, 55534455.0, 30411183.0, 469947.0, 35763605.0, 16951798.0, 17752940.0, 156974557.0, 54682547.0, 162242962.0, 373552094.0, 200276000.0, 205754447.0, 145896422.0, 240159255.0, 876302.0, 311594032.0, 141069860.0, 10571408.0, 4505922.0, 258022233.0, 160583018.0, 86387857.0, 72500000.0, 58401898.0, 66002004.0, 3076820.0, 4911725.0, 190458706.0, 202292902.0, 270248367.0, 152266007.0, 3542353.0, 68673228.0, 246233113.0, 119940815.0, 61458982.0, 122489822.0, 0.0, 34585416.0, 122233971.0, 171269535.0, 60222298.0, 234989584.0, 33788161.0, 179265204.0, 231449203.0, 0.0, 42277365.0, 0.0, 563749323.0, 104384188.0, 64352607.0, 171963386.0, 374111707.0, 109906372.0, 300228084.0, 143695338.0, 123494610.0, 5867686.0, 294456605.0, 77566815.0, 128769345.0, 122915111.0, 401128639.0, 197309027.0, 144216468.0, 93282604.0, 90874570.0, 95696996.0, 173965010.0, 21930418.0, 93354918.0, 28084357.0, 1776935.0, 32438988.0, 22921898.0, 261930431.0, 196781193.0, 0.0, 39053061.0, 0.0, 78874843.0, 66980456.0, 0.0, 145793296.0, 95020213.0, 161001698.0, 48027970.0, 55969000.0, 206172544.0, 31670620.0, 41296320.0, 187500000.0, 325771424.0, 34560577.0, 96976270.0, 124731534.0, 39421467.0, 152427960.0, 26828365.0, 80383290.0, 215283742.0, 195735876.0, 187361754.0, 302469017.0, 156835339.0, 282570682.0, 111811453.0, 42776760.0, 74188937.0, 183018522.0, 178262620.0, 114977104.0, 6108720.0, 0.0, 191185897.0, 76669806.0, 112265139.0, 160638883.0, 10652035.0, 14000000.0, 170268750.0, 113916474.0, 140464664.0, 195312802.0, 205298907.0, 266728738.0, 0.0, 0.0, 3983997.0, 98017.0, 87713825.0, 40547440.0, 2455831.0, 303025485.0, 0.0, 390493908.0, 152930623.0, 29331068.0, 54837234.0, 29027914.0, 7563728.0, 373967.0, 164602163.0, 16374328.0, 349779543.0, 76286096.0, 114194847.0, 341631208.0, 31081.0, 24261569.0, 149217355.0, 36606743.0, 189859560.0, 1477676.0, 0.0, 23237911.0, 54956140.0, 84606030.0, 0.0, 93700000.0, 30050028.0, 114830111.0, 190213455.0, 103891409.0, 164433867.0, 0.0, 34416893.0, 55247881.0, 268031828.0, 216614388.0, 33013805.0, 182290266.0, 411006740.0, 34872033.0, 104155843.0, 34670720.0, 11642254.0, 146198896.0, 92863945.0, 46.0, 33372606.0, 7820688.0, 113280098.0, 0.0, 61648500.0, 310650585.0, 162839667.0, 108539911.0, 42285169.0, 20915465.0, 21500000.0, 71485043.0, 0.0, 54700105.0, 0.0, 103738726.0, 0.0, 71009334.0, 215529201.0, 54600000.0, 8038061.0, 92542418.0, 82150642.0, 56932305.0, 272912430.0, 25288872.0, 155464351.0, 83188165.0, 19504039.0, 172855065.0, 85498534.0, 26888376.0, 96618699.0, 128499205.0, 4242978.0, 196114570.0, 86930411.0, 98185582.0, 160078586.0, 50752337.0, 35057696.0, 15400000.0, 180622424.0, 119000410.0, 11806119.0, 105834556.0, 245623848.0, 0.0, 104907746.0, 68267862.0, 72527595.0, 15116634.0, 154937680.0, 93375151.0, 0.0, 144492830.0, 371876278.0, 68514844.0, 41170784.0, 35424826.0, 101229792.0, 64076736.0, 204999686.0, 157387195.0, 48902953.0, 3094813.0, 0.0, 374743.0, 0.0, 202026112.0, 321731527.0, 28650575.0, 5530764.0, 18552460.0, 133000000.0, 299965036.0, 150962475.0, 0.0, 62357900.0, 0.0, 17985893.0, 2451545.0, 169956806.0, 53977250.0, 105316267.0, 77516304.0, 0.0, 37664855.0, 189015611.0, 277448382.0, 80936232.0, 237382724.0, 0.0, 144000000.0, 75450437.0, 24829644.0, 147880543.0, 49779728.0, 0.0, 114956699.0, 58058367.0, 0.0, 151493655.0, 150680864.0, 0.0, 0.0, 131940411.0, 13110448.0, 31554855.0, 130786397.0, 73244881.0, 131457682.0, 257850122.0, 115772733.0, 31083599.0, 62548947.0, 3193102.0, 98337295.0, 292817841.0, 249288105.0, 3148182.0, 68572378.0, 63327201.0, 0.0, 21786738.0, 114156230.0, 53909751.0, 44862187.0, 176885658.0, 500188435.0, 26049082.0, 123384128.0, 26250020.0, 129181830.0, 94728529.0, 142817992.0, 82466670.0, 1165882.0, 85300000.0, 203277636.0, 208076205.0, 102000000.0, 116400000.0, 2040920.0, 29450919.0, 103951461.0, 14460000.0, 301000000.0, 92921203.0, 219103655.0, 44287131.0, 170000000.0, 69131860.0, 74558115.0, 17425000.0, 150000000.0, 53208180.0, 52882018.0, 46770602.0, 13596911.0, 223387299.0, 178051587.0, 66122026.0, 285444603.0, 14821658.0, 55987321.0, 0.0, 355692760.0, 69821334.0, 0.0, 108047131.0, 96105964.0, 309457509.0, 115101622.0, 90565421.0, 197687603.0, 45916769.0, 325756637.0, 128388320.0, 255000211.0, 173013509.0, 178066569.0, 87000000.0, 0.0, 58972904.0, 27900000.0, 30426096.0, 40828540.0, 43061982.0, 0.0, 17273593.0, 18492362.0, 147080413.0, 233093859.0, 74000000.0, 0.0, 24475416.0, 89456761.0, 328203506.0, 103590271.0, 68349884.0, 29762011.0, 0.0, 61489265.0, 82966152.0, 28451622.0, 0.0, 90383208.0, 126069509.0, 0.0, 119754278.0, 0.0, 0.0, 102854431.0, 77112176.0, 22179430.0, 111340801.0, 0.0, 26288320.0, 0.0, 25605015.0, 49830607.0, 12639297.0, 243400000.0, 64256513.0, 24007324.0, 13411957.0, 0.0, 0.0, 143049560.0, 0.0, 52970014.0, 43493123.0, 38159905.0, 319285.0, 21567853.0, 157920733.0, 165333180.0, 85167639.0, 37962774.0, 73762516.0, 136621271.0, 87784194.0, 63408614.0, 89162162.0, 59418613.0, 50549107.0, 100230832.0, 0.0, 75395048.0, 141591324.0, 25023434.0, 0.0, 6110000.0, 0.0, 14899417.0, 96900000.0, 52034889.0, 18637690.0, 51416464.0, 54926886.0, 40002112.0, 88715192.0, 268426634.0, 117831631.0, 0.0, 19560274.0, 20645327.0, 57103895.0, 88323487.0, 8279017.0, 23580000.0, 95714875.0, 0.0, 65900249.0, 92374674.0, 56681566.0, 55041367.0, 900000.0, 63833449.0, 6003587.0, 154906693.0, 37311672.0, 39462438.0, 5048693.0, 35619521.0, 0.0, 142044638.0, 31466789.0, 572809.0, 39363635.0, 15008161.0, 50363790.0, 40055439.0, 49554002.0, 75850624.0, 215887717.0, 68688831.0, 183953723.0, 33472850.0, 136000000.0, 53181600.0, 163733697.0, 173959438.0, 1104682.0, 0.0, 8679814.0, 19255873.0, 33333531.0, 288347692.0, 169852759.0, 195268056.0, 0.0, 4235151.0, 189198313.0, 141702264.0, 31584901.0, 153997819.0, 3263585.0, 0.0, 0.0, 142400065.0, 40382659.0, 35097815.0, 58785180.0, 167298192.0, 38376497.0, 132274484.0, 78000000.0, 3533227.0, 342695435.0, 3484331.0, 34227298.0, 10686841.0, 60052138.0, 79700000.0, 51148651.0, 0.0, 32392047.0, 87840042.0, 58853106.0, 178127760.0, 49469904.0, 30418560.0, 107879496.0, 0.0, 49797148.0, 0.0, 0.0, 160000000.0, 3325038.0, 0.0, 50315140.0, 94000000.0, 99423521.0, 91974818.0, 113374103.0, 146936910.0, 49111202.0, 0.0, 116643346.0, 83160734.0, 0.0, 29000000.0, 226904017.0, 67918658.0, 100491683.0, 1984662.0, 65464324.0, 15447154.0, 40855419.0, 198685114.0, 27728118.0, 0.0, 120000000.0, 84601681.0, 0.0, 104945765.0, 107597242.0, 0.0, 253625427.0, 70200000.0, 160112671.0, 25966555.0, 181674817.0, 64445708.0, 72178895.0, 97594140.0, 7177143.0, 150406466.0, 44547681.0, 52304001.0, 0.0, 161451538.0, 0.0, 55707411.0, 80916492.0, 177841558.0, 0.0, 71069884.0, 0.0, 8459458.0, 38955598.0, 11122090.0, 107944236.0, 41382841.0, 5684789.0, 26121638.0, 14010832.0, 133821816.0, 56870414.0, 32721635.0, 748453.0, 82169884.0, 4064495.0, 55157539.0, 16838910.0, 86865564.0, 51070807.0, 68696770.0, 4440055.0, 41410568.0, 19300000.0, 95608995.0, 0.0, 26193068.0, 171844840.0, 102244770.0, 106303988.0, 75715436.0, 600896.0, 0.0, 91353501.0, 8784318.0, 91188905.0, 188126.0, 63102666.0, 38535221.0, 136836156.0, 0.0, 480811.0, 94882889.0, 24159934.0, 0.0, 17671101.0, 10089373.0, 51376861.0, 156844753.0, 16174377.0, 0.0, 32248241.0, 21133087.0, 106371651.0, 100000000.0, 48668907.0, 45479110.0, 30523226.0, 25871834.0, 71561644.0, 30331165.0, 147845033.0, 72779000.0, 88880821.0, 45892212.0, 42333295.0, 161626121.0, 0.0, 31672907.0, 67347013.0, 4152230.0, 134402450.0, 183611771.0, 0.0, 28931401.0, 3011195.0, 124305181.0, 54418872.0, 60000000.0, 100734718.0, 100654149.0, 50159144.0, 43058898.0, 67312826.0, 22944502.0, 11947954.0, 115267375.0, 82087155.0, 162945894.0, 43165571.0, 14000000.0, 0.0, 23.0, 27437881.0, 74208267.0, 154749918.0, 101646581.0, 149281606.0, 96085477.0, 22441323.0, 150270147.0, 347434178.0, 74237563.0, 0.0, 0.0, 46221189.0, 37170057.0, 16671505.0, 0.0, 110627965.0, 18750246.0, 107196498.0, 0.0, 38058335.0, 193000000.0, 48190704.0, 44909486.0, 114660784.0, 0.0, 128884132.0, 0.0, 0.0, 18112929.0, 0.0, 99965753.0, 309492681.0, 0.0, 0.0, 28831145.0, 57958696.0, 134748021.0, 68106245.0, 52099090.0, 58000000.0, 98159963.0, 17460020.0, 0.0, 122444772.0, 13269963.0, 164508066.0, 56070433.0, 295750.0, 41512007.0, 40846082.0, 14375181.0, 64822796.0, 64110728.0, 0.0, 211989043.0, 44091067.0, 39171130.0, 119208989.0, 118000000.0, 34942188.0, 12482775.0, 13100000.0, 242295562.0, 187112.0, 97918663.0, 36642838.0, 22222308.0, 0.0, 45554533.0, 0.0, 0.0, 2944752.0, 100525432.0, 5129058.0, 32204030.0, 27500000.0, 27645491.0, 0.0, 0.0, 48065672.0, 119269486.0, 0.0, 27409889.0, 96269812.0, 0.0, 119137784.0, 60874615.0, 21400000.0, 0.0, 66966987.0, 25035950.0, 12000000.0, 57490374.0, 30987695.0, 63013281.0, 148336445.0, 55181129.0, 0.0, 91038276.0, 56422687.0, 105178561.0, 100000000.0, 58795814.0, 31911598.0, 0.0, 0.0, 0.0, 742898.0, 123729176.0, 10903846.0, 41590886.0, 65535067.0, 32005248.0, 59901913.0, 47088990.0, 0.0, 10539000.0, 60965854.0, 101564935.0, 152022101.0, 0.0, 3412497.0, 382946.0, 36098382.0, 55583804.0, 40492759.0, 0.0, 61698899.0, 48169156.0, 101595121.0, 5179037.0, 29400000.0, 0.0, 46216641.0, 73956241.0, 212404396.0, 122644820.0, 72436439.0, 61619773.0, 48814909.0, 130431368.0, 39041505.0, 136982834.0, 0.0, 51164106.0, 16856124.0, 65664721.0, 73100172.0, 69834815.0, 35926213.0, 0.0, 0.0, 0.0, 40346186.0, 25434291.0, 17080167.0, 0.0, 21510851.0, 0.0, 60527873.0, 23144499.0, 3200000.0, 52425855.0, 80049764.0, 43312294.0, 27515786.0, 127906624.0, 45236543.0, 18409891.0, 41819064.0, 5483299.0, 84772742.0, 160602194.0, 6842058.0, 80547866.0, 0.0, 36733909.0, 111231041.0, 7060876.0, 36160375.0, 72700000.0, 0.0, 30400000.0, 44352417.0, 54215416.0, 22852638.0, 3324330.0, 17508518.0, 85632458.0, 0.0, 14796236.0, 117758500.0, 3442853.0, 105197635.0, 16974459.0, 136159423.0, 61141030.0, 18564088.0, 71154592.0, 133718711.0, 10329747.0, 42064105.0, 0.0, 0.0, 85131830.0, 5364858.0, 3727746.0, 125728258.0, 16153593.0, 140807547.0, 603943.0, 59192128.0, 16290976.0, 10696210.0, 114178613.0, 25562924.0, 50877145.0, 8555008.0, 176104344.0, 127814609.0, 84646831.0, 18755936.0, 0.0, 24000000.0, 0.0, 79817939.0, 15608545.0, 416925.0, 162944923.0, 68296293.0, 55003135.0, 65754228.0, 10848783.0, 124827316.0, 0.0, 233755553.0, 86658558.0, 63100000.0, 37317558.0, 19322135.0, 36993168.0, 674918.0, 68369434.0, 6451628.0, 108103450.0, 0.0, 0.0, 57777106.0, 4777465.0, 38502340.0, 970816.0, 11203026.0, 0.0, 0.0, 16519460.0, 0.0, 0.0, 138259062.0, 91753202.0, 50041732.0, 0.0, 41627431.0, 91036760.0, 19294901.0, 52826594.0, 57223890.0, 88923251.0, 0.0, 0.0, 140470746.0, 3468572.0, 6814789.0, 7282851.0, 9500000.0, 141047179.0, 14358033.0, 16942795.0, 120455994.0, 0.0, 110879513.0, 0.0, 2401510.0, 42886719.0, 21819348.0, 49627779.0, 17507368.0, 23081726.0, 66821036.0, 0.0, 31155435.0, 0.0, 57881056.0, 71073932.0, 29657751.0, 19125401.0, 0.0, 0.0, 2450846.0, 42345360.0, 106269971.0]}], \"hoverlabel\": {\"namelength\": 0}, \"hovertemplate\": \"%{xaxis.title.text}=%{x}<br>%{yaxis.title.text}=%{y}<br>ebert_rating=%{marker.color}\", \"legendgroup\": \"\", \"marker\": {\"color\": [4.0, 4.0, 2.0, 4.0, null, null, 4.0, 4.0, null, null, null, null, 4.0, null, 4.0, null, null, 4.0, 4.0, 4.0, null, 4.0, 4.0, 3.0, 4.0, null, 3.5, null, 3.0, 3.0, 3.5, 4.0, 3.5, 3.5, 3.0, 4.0, null, null, 4.0, 4.0, 4.0, 3.5, null, 4.0, 2.5, 3.0, 4.0, 2.5, 4.0, null, 3.0, 3.5, 3.5, 3.5, 3.0, 4.0, 3.5, null, null, 4.0, 4.0, 3.0, 3.5, 4.0, 3.5, 3.0, null, null, 2.0, 3.5, 4.0, 3.0, 3.5, 4.0, 3.0, 4.0, 3.5, 4.0, 3.5, 3.0, 3.5, 4.0, null, 2.5, 4.0, null, 4.0, 4.0, 3.5, 3.5, null, 3.0, 2.5, null, null, 3.5, 1.5, 4.0, 3.5, 2.5, 4.0, 3.0, null, 3.0, 3.5, 2.5, 3.0, 3.0, 3.0, 4.0, 2.5, 3.0, 2.5, 4.0, 3.5, null, 3.0, null, 4.0, 2.0, 2.0, 2.0, null, null, null, 4.0, null, 3.0, null, 4.0, 4.0, null, 3.5, 3.5, 3.5, 4.0, null, 3.0, 3.5, null, 3.0, null, null, null, 3.0, 3.0, 3.0, 2.0, 4.0, null, 3.5, null, null, 2.0, 2.5, null, null, 4.0, 3.5, 4.0, 2.5, 3.5, 3.5, 3.5, 2.0, null, 2.5, 3.0, 4.0, 3.5, 3.5, 3.5, 4.0, null, null, 4.0, 4.0, 3.5, 2.0, null, 3.0, 3.5, 4.0, 3.0, null, null, 3.0, 3.5, 1.5, 3.5, 3.5, null, 3.0, 4.0, 3.5, 3.0, 2.0, null, null, null, 3.0, 3.0, null, 3.5, 4.0, 4.0, null, null, 4.0, 3.0, 2.5, 3.0, 4.0, null, 3.0, 3.0, 3.5, 1.0, 4.0, null, 4.0, 4.0, null, 3.0, 4.0, null, 3.0, 3.0, 3.5, 3.0, 4.0, 3.5, null, 4.0, null, 4.0, 4.0, 2.5, 4.0, 2.5, 2.5, null, null, null, 4.0, 3.5, 3.0, 4.0, null, 3.0, 3.0, 3.0, 3.5, 2.5, null, 4.0, 4.0, 3.0, null, 2.0, null, 3.0, null, 4.0, 4.0, 4.0, 3.0, 3.5, 2.0, 2.5, 3.0, 4.0, 3.0, null, null, null, 3.5, 3.0, 3.5, null, 3.0, null, 2.5, null, 3.5, null, 2.5, null, null, 2.0, 4.0, 2.0, null, 3.0, 4.0, 3.5, 3.5, 4.0, 2.0, null, 4.0, 3.0, 3.0, 3.5, 3.5, 3.5, null, 3.0, 3.5, 2.0, 3.5, 1.0, 3.0, 3.5, 3.0, null, 2.5, 3.0, 3.5, 3.0, 4.0, 2.5, null, 2.0, null, null, 3.0, null, null, 3.0, 2.0, 3.0, 3.5, 2.0, 3.0, null, null, null, 3.0, null, 3.5, 1.5, 4.0, 1.5, 3.0, 2.0, 1.0, null, null, 2.0, 4.0, 3.0, 4.0, 4.0, 3.5, 3.0, 3.5, null, null, null, 4.0, 3.5, 3.0, 3.5, 3.5, 2.5, 4.0, null, 3.0, null, null, 3.0, 2.5, 2.5, null, 3.0, 3.0, 2.0, 3.5, 3.0, 2.5, null, null, 3.5, null, 3.0, 3.0, 2.5, 3.0, 3.0, 4.0, null, null, 4.0, 4.0, null, 3.5, null, 3.0, 3.5, 2.0, 3.5, null, 3.5, 3.0, 4.0, 4.0, 3.0, 4.0, 4.0, 3.0, 1.0, 2.0, 3.0, 4.0, 3.0, 4.0, 3.0, 4.0, 2.5, null, 3.5, 2.5, 4.0, 1.5, null, 3.5, 4.0, 4.0, 3.5, null, null, 3.0, 3.0, 2.5, null, 2.0, 2.0, 3.0, 2.5, 1.0, 2.0, 3.0, 3.5, 3.0, 2.5, null, 3.5, 3.5, null, 3.0, 4.0, 3.5, null, 4.0, 1.0, 3.0, 3.0, null, 4.0, 3.5, 3.0, null, 3.0, null, 2.0, 3.5, 3.0, 3.5, 2.0, 4.0, null, 4.0, null, 4.0, 3.5, 4.0, 2.0, 2.0, 3.0, null, 3.5, 4.0, 2.0, 4.0, 3.5, 0.5, 3.0, 3.0, 3.5, null, 2.5, 2.0, 3.0, 3.0, 3.0, 3.0, null, 2.0, 3.5, 2.5, 2.5, 2.5, 2.5, 2.0, null, 3.5, 2.0, 2.0, 4.0, 4.0, 3.0, 2.0, null, 3.0, 3.0, null, null, null, 3.5, 4.0, 3.0, 1.0, 2.5, 1.5, 3.5, 2.5, 3.0, 2.5, 3.0, null, 4.0, 1.5, 3.5, null, 4.0, null, 3.0, 3.5, null, 1.0, 2.0, 2.0, null, 3.0, 3.0, 1.0, 2.5, null, 3.0, null, 3.5, 3.5, 3.0, null, 2.0, 2.0, 3.0, 4.0, null, 3.5, 4.0, 2.0, null, null, 3.0, 2.5, null, 3.0, null, null, null, 3.0, 3.5, 2.5, 2.5, null, 3.5, 4.0, null, 2.5, 2.0, 4.0, 3.5, 4.0, null, 2.5, null, 3.0, 3.5, 0.5, 3.0, 4.0, 2.5, 3.5, 3.0, 3.0, 2.0, 2.5, 3.5, null, 3.5, 3.0, 3.0, 1.5, 3.0, null, null, 3.0, 4.0, 3.5, 4.0, 4.0, 3.0, null, 3.5, 3.5, null, 3.0, 4.0, 3.0, 3.5, 1.0, null, null, 3.0, 1.5, null, 3.0, 3.0, 4.0, 3.0, 3.0, 2.5, 3.5, 1.5, 3.5, 3.0, null, 3.0, 2.5, 3.0, 4.0, 2.5, 3.5, 2.5, 3.0, null, 3.5, 2.0, null, 1.0, 3.0, 2.0, 3.5, 3.5, 3.0, 4.0, 3.0, 3.5, 2.5, 1.5, null, null, 2.0, 3.0, null, null, 3.0, null, null, 3.0, 3.5, null, 3.0, null, 1.0, null, 2.0, 4.0, 4.0, 2.5, 3.0, 2.5, 3.0, 2.0, null, 4.0, 3.5, null, 3.0, 3.0, 4.0, 3.0, 2.5, null, null, 4.0, null, 3.0, 3.5, null, null, null, 4.0, 2.0, null, 3.0, null, 2.5, 3.0, 3.0, 2.0, 2.0, 4.0, 3.0, 2.5, null, null, null, 2.5, null, 1.0, 3.0, 3.5, 2.0, 2.5, null, null, 4.0, null, 4.0, 3.5, 2.0, 3.0, 3.5, 2.0, 1.5, null, 3.0, 3.5, 1.0, null, 4.0, null, 4.0, 4.0, 0.5, 4.0, 3.0, 4.0, null, 3.0, null, 3.0, 2.0, 3.5, 3.5, null, 3.0, 3.0, 2.0, null, null, 2.5, 4.0, 3.0, null, null, null, null, 3.0, 3.0, null, 1.5, null, null, 2.5, 3.0, null, 3.5, 3.5, 3.0, null, 3.5, 2.5, 2.5, 1.0, 2.0, null, null, null, 3.0, 3.0, 4.0, 4.0, null, 3.5, 4.0, 4.0, 3.0, 4.0, 4.0, 3.5, 4.0, 4.0, null, 3.5, 3.0, null, 4.0, 3.5, 2.5, 4.0, 3.0, null, 2.0, 3.5, null, 3.5, 4.0, 1.0, 2.0, 3.0, 2.0, 4.0, 2.5, 4.0, 4.0, null, null, 3.0, 3.5, null, 4.0, 3.5, null, 4.0, 4.0, null, null, 4.0, 4.0, null, 3.5, 2.5, null, null, 3.5, 4.0, 2.0, null, null, 3.0, 4.0, null, 3.5, null, 4.0, 2.5, null, 3.5, 3.0, null, 1.0, null, 4.0, 1.0, 4.0, 3.0, 3.0, 3.0, null, 3.0, null, null, 3.0, 3.5, 3.0, 3.5, null, 4.0, null, 4.0, 4.0, 2.5, 3.5, 3.5, 3.0, 3.5, 2.0, null, 4.0, 2.0, null, 1.5, 1.5, 1.5, null, null, 3.0, null, 3.0, null, 3.5, null, 4.0, null, 0.5, 1.5, 2.0, null, 4.0, null, 2.0, 2.0, 2.0, 2.5, 3.5, null, 4.0, 2.0, 1.5, 3.0, 2.5, 4.0, 3.5, 1.0, 2.5, 3.0, null, 3.0, 4.0, null, 2.5, null, 3.0, 3.5, null, 3.5, 1.5, 3.5, 1.5, null, null, null, null, 4.0, 3.0, null, null, 3.5, 3.5, null, 3.0, 3.0, 3.0, 3.0, null, 2.0, 3.0, null, null, 3.0, 2.0, 3.0, 4.0, null, 3.5, 3.0, 3.5, 3.5, 3.0, null, 3.5, 1.5, 3.0, 3.5, 1.5, 3.5, 2.0, 3.0, 3.0, null, 3.5, 3.5, 3.0, 2.5, 3.5, null, 3.5, 4.0, 3.0, 3.0, 3.0, null, null, 2.5, 3.5, 3.5, 3.0, 3.5, null, 3.0, 2.0, 2.5, 4.0, 3.0, 3.5, 2.0, null, 4.0, null, null, null, 3.0, null, null, 3.0, 3.5, 3.0, 4.0, 3.5, null, 3.5, null, 3.5, 2.0, 3.0, 3.0, 3.0, 2.0, 3.5, 3.0, null, 4.0, 3.0, 2.0, 1.5, null, null, null, null, 3.0, 2.5, 3.0, 3.5, 2.5, 3.0, null, 3.5, null, 3.0, null, 2.0, null, null, 2.0, 3.0, null, 3.5, null, 3.0, 1.0, 2.0, null, 3.5, 3.0, 3.0, 3.0, 2.5, null, 2.5, 3.5, 4.0, null, 3.0, null, null, 1.0, null, 3.0, null, 3.5, 4.0, 2.0, 3.0, 2.5, 4.0, null, 2.0, 3.0, 3.5, 4.0, 4.0, 2.5, null, 3.5, 2.0, 3.5, 3.0, 3.0, 1.0, null, 3.5, null, 1.0, 3.5, 4.0, 1.0, null, null, 4.0, 2.5, 4.0, 3.5, 2.0, 3.0, null, 1.0, null, null, 4.0, 4.0, null, 4.0, null, 1.0, null, 2.0, 3.0, 2.0, 2.0, 1.5, null, null, 3.0, null, 3.5, null, 2.0, null, 2.5, 4.0, 3.0, 2.0, null, 3.0, 2.5, 3.0, 2.0, 2.5, 3.0, null, 4.0, 3.5, 3.0, 2.0, null, 2.5, 3.5, 2.0, 3.5, null, 3.0, null, 0.5, 4.0, 1.5, 3.0, 3.5, 3.0, 3.0, null, 3.0, null, null, 0.5, 3.0, 3.5, 2.0, null, 2.0, 1.5, 2.5, null, 3.0, 1.0, 1.0, 3.0, null, 3.0, null, 3.0, null, 3.5, 2.0, 3.0, 3.5, 3.0, 2.5, 3.5, 2.0, 3.0, null, null, 2.5, null, 3.0, 2.0, null, 1.5, null, 3.5, 3.0, 2.0, 4.0, 3.5, 3.0, 2.0, 3.0, 3.0, 3.5, 4.0, null, null, null, null, null, null, null, 3.0, 1.0, 3.0, 2.0, null, 2.5, null, 4.0, 1.5, 3.0, null, 3.0, null, null, 3.0, 2.0, 1.5, 3.0, null, 0.5, null, 1.5, 2.5, 2.5, null, 3.0, null, null, null, 3.5, null, 3.0, 2.0, 3.0, 2.0, 1.5, 3.0, null, 2.0, 2.0, 1.5, 4.0, 4.0, 1.5, 3.0, 3.0, 3.0, 4.0, null, 2.5, 3.5, 3.0, 2.5, 3.0, 3.5, 1.5, 4.0, 2.5, 3.0, 1.0, 3.0, 1.5, 3.5, 3.0, null, null, 3.0, 2.0, 3.0, null, null, null, null, null, 3.0, null, 3.0, null, 3.0, null, 3.0, null, 3.0, null, null, null, 3.0, 2.5, 3.5, null, 3.0, 3.0, null, 1.5, 3.0, 2.5, null, null, 4.0, 4.0, null, 4.0, null, null, null, 2.5, null, null, null, null, 3.0, 4.0, null, null, 3.5, null, 2.5, 3.0, 1.5, 1.5, null, null, null, 3.0, null, 2.5, null, 2.0, null, 2.5, 2.0, 3.0, 3.0, 3.0, 3.5, null, 3.0, 2.0, 2.5, 2.0, 2.0, 3.5, 3.0, 3.0, null, null, 2.0, 2.0, 2.0, 2.5, 4.0, 2.0, 2.5, null, null, 4.0, 3.0, null, null, null, null, 4.0, null, 2.5, null, null, null, null, 3.5, 3.5, 2.5, 3.5, 2.5, 3.5, 0.5, 2.0, 2.5, 3.5, 2.0, 1.0, 1.0, 1.0, 2.5, 2.5, null, 3.0, 3.5, 2.5, 3.0, null, 4.0, 3.0, null, 0.5, 4.0, 3.0, 3.0, 2.0, 3.0, 3.0, null, null, 3.5, 3.5, null, null, 4.0, 3.5, 3.5, 2.0, 1.0, 4.0, 4.0, null, null, 4.0, 4.0, 2.0, 3.5, 3.0, null, null, 2.0, null, 3.5, 3.0, null, null, 3.0, 4.0, 3.5, 2.5, 3.0, 3.0, null, 2.0, 3.5, null, 3.0, 3.0, null, 3.5, null, null, 3.0, 2.0, 2.0, null, null, 3.0, 2.0, 1.5, null, 3.0, null, 4.0, 2.5, null, 2.0, 3.5, null, 3.5, 2.5, 1.0, 0.5, 2.5, 3.0, null, 2.5, 2.0, 3.5, 1.0, null, null, 1.0, null, 2.0, 3.0, 3.0, 4.0, 2.0, 1.5, 4.0, null, null, 3.5, 3.0, 3.0, 3.5, null, 1.5, 2.0, null, 3.0, 2.5, 2.0, null, null, 2.0, null, 4.0, 3.0, null, 4.0, null, 2.0, 3.0, 2.5, 3.0, 2.0, 3.5, 4.0, 3.0, null, 2.5, null, 3.5, null, 2.5, 2.5, 2.5, 3.0, null, 2.0, 3.0, null, null, 4.0, null, 3.0, 2.0, null, 4.0, null, 3.5, null, null, 3.0, 2.0, 3.0, 2.0, 2.5, 3.0, 2.0, 1.5, 2.5, null, null, 4.0, 3.0, 2.0, 3.5, 3.0, null, 3.0, 3.0, 3.5, 2.5, 3.0, 2.0, 2.5, 1.0, 2.0, 2.5, 1.5, 1.0, null, 3.0, 2.0, 3.5, null, null, 3.0, 3.5, null, 3.0, 3.0, 2.0, 3.0, null, 4.0, 4.0, null, null, 1.0, 3.5, 3.0, 2.5, 2.5, 2.0, 3.0, 3.0, 3.5, 2.5, 2.0, null, 2.0, 2.0, 1.5, 3.0, 3.5, 3.0, 3.5, 2.0, null, null, 2.0, 3.0, 3.5, 3.0, null, null, null, 3.5, 3.5, null, 3.5, null, null, null, 4.0, null, 2.0, 3.0, 3.5, 2.5, 2.5, 3.0, null, 2.0, 3.0, 3.5, 3.0, 3.0, 3.0, null, 0.5, null, 3.0, null, 1.0, 3.0, null, 3.0, 3.5, 3.0, 3.0, 3.5, 2.0, null, 4.0, 3.5, 3.0, 3.0, 1.5, 2.5, 3.0, 1.0, 1.0, null, null, 3.0, 3.5, null, null, 3.0, 3.5, 3.5, 3.5, 3.0, 4.0, 3.0, 1.5, 3.0, 4.0, null, 4.0, 3.0, 3.0, 4.0, 4.0, null, 3.5, 1.0, 4.0, 0.5, 4.0, null, null, null, 3.0, 2.5, null, 3.0, null, null, 1.5, null, 2.0, 2.0, null, 2.5, 3.5, null, 3.0, 1.0, 3.0, 3.0, 4.0, null, 3.0, 3.0, 2.0, null, 4.0, 2.5, 3.0, 1.5, 3.5, 3.0, 3.5, 2.0, null, null, 1.0, null, null, 1.5, null, 3.5, null, 2.5, 2.5, 4.0, 3.0, 3.5, 1.5, 2.5, null, null, 4.0, null, null, null, 4.0, 3.5, 2.5, 2.5, 3.0, 4.0, null, 2.5, 2.0, null, null, 1.0, 3.0, 2.5, 2.0, null, 1.5, null, 2.0, 2.5, 4.0, null, null, 3.0, 3.0, 3.5, 2.0, null, null, 2.5, null, 2.5, null, 2.0, null, 4.0, 2.0, 2.0, 3.0, null, 3.5, 2.5, 3.5, null, 3.0, 2.5, null, 2.5, 3.5, 2.5, 4.0, 3.5, 3.5, 3.5, 0.5, null, null, 4.0, 3.0, 1.0, 3.0, null, 1.0, 2.5, null, null, 2.0, 2.0, 4.0, null, 2.0, 1.5, 3.5, 4.0, null, null, 3.5, null, 2.0, 1.5, 2.5, 1.5, null, 2.0, null, 2.0, 3.0, null, 1.0, 3.0, 3.5, null, 4.0, 4.0, null, 3.0, null, 2.0, null, null, 2.0, 3.0, null, 3.0, 3.0, 0.5, 2.0, 2.0, null, null, null, 1.0, 3.0, null, null, 2.0, 1.5, 3.0, null, 2.0, null, 2.5, null, 2.5, 3.5, 2.0, 3.5, 2.5, null, 3.5, null, null, 3.0, null, 2.0, 3.0, null, 3.0, null, 3.0, null, null, 1.5, 2.5, null, 2.5, 1.0, 2.0, null, 3.0, 3.0, 2.0, null, 2.5, 1.5, 3.5, 2.0, null, 1.5, 1.5, 3.0, 2.5, 2.5, 3.5, 3.0, 3.5, null, 4.0, 3.5, 1.5, 3.0, 1.0, 3.0, null, 3.5, 3.0, 3.0, 3.5, 4.0, null, 4.0, 3.0, 3.5, null, 2.0, null, null, 3.0, 2.5, 4.0, 3.0, 3.0, 3.0, 3.0, null, 0.5, null, null, null, 2.0, 3.0, null, null, 2.0, 1.0, 3.5, 1.5, 3.0, null, 2.0, 3.5, null, 3.0, null, null, 3.5, 3.5, null, 3.5, 2.5, 3.5, 3.0, 3.5, null, null, 3.0, 2.0, 3.0, 2.0, 4.0, 3.0, 2.5, 0.5, 4.0, null, null, null, 2.0, 1.5, null, 3.5, null, 3.0, 3.0, 3.5, 2.0, 3.0, 2.5, null, 4.0, 1.5, 1.0, 3.0, 1.5, 3.0, 3.5, 1.5, 2.0, 2.0, 2.5, 3.5, 2.0, null, 1.5, 3.0, 3.0, null, 2.5, 3.5, 1.5, null, null, 1.5, 3.5, null, null, 4.0, 3.5, null, 3.5, 3.0, 2.0, null, null, 3.0, null, 3.0, 2.5, null, null, 3.5, 3.0, null, 3.0, null, 2.0, 3.0, null, null, null, 2.0, 2.0, null, 4.0, 3.5, 3.0, 3.0, null, 3.0, 3.0, 3.0, null, 1.5, 2.0, 1.0, null, null, null, null, null, 3.0, 2.5, null, 3.5, 2.0, 1.5, 3.5, 3.5, 3.0, 3.0, 3.0, null, null, 3.0, 3.0, null, 3.0, null, 4.0, 2.5, 1.5, null, null, null, null, 3.0, null, 3.0, 1.0, 3.5, null, null, 1.5, 3.0, 2.5, 3.0, 1.0, 2.0, 1.5, null, null, 3.0, null, 3.0, null, null, 2.0, 3.5, null, null, 3.0, null, 3.0, 3.0, 3.5, 2.0, 1.5, 2.5, null, 2.0, null, null, 2.0, 3.5, 2.0, 3.5, 3.0, 3.5, 3.0, 3.0, 2.0, 3.5, 3.0, 3.5, null, 2.5, 1.5, 4.0, 3.0, null, 3.0, 3.0, null, 1.5, 2.0, null, null, 1.5, null, 2.0, 2.0, null, 3.5, null, 2.0, 4.0, 2.5, 1.0, 3.0, 3.5, 2.5, 4.0, 3.0, 2.0, 3.0, 2.5, null, 1.0, null, null, 2.0, 2.5, null, 2.0, null, 3.5, null, 2.5, 2.0, 2.5, 3.5, 3.5, null, null, 3.5], \"coloraxis\": \"coloraxis\", \"symbol\": \"circle\"}, \"name\": \"\", \"showlegend\": false, \"type\": \"splom\"}],\n",
              "                        {\"coloraxis\": {\"colorbar\": {\"title\": {\"text\": \"ebert_rating\"}}, \"colorscale\": [[0.0, \"#0d0887\"], [0.1111111111111111, \"#46039f\"], [0.2222222222222222, \"#7201a8\"], [0.3333333333333333, \"#9c179e\"], [0.4444444444444444, \"#bd3786\"], [0.5555555555555556, \"#d8576b\"], [0.6666666666666666, \"#ed7953\"], [0.7777777777777778, \"#fb9f3a\"], [0.8888888888888888, \"#fdca26\"], [1.0, \"#f0f921\"]]}, \"dragmode\": \"select\", \"legend\": {\"tracegroupgap\": 0}, \"margin\": {\"t\": 60}, \"template\": {\"data\": {\"bar\": [{\"error_x\": {\"color\": \"#2a3f5f\"}, \"error_y\": {\"color\": \"#2a3f5f\"}, \"marker\": {\"line\": {\"color\": \"#E5ECF6\", \"width\": 0.5}}, \"type\": \"bar\"}], \"barpolar\": [{\"marker\": {\"line\": {\"color\": \"#E5ECF6\", \"width\": 0.5}}, \"type\": \"barpolar\"}], \"carpet\": [{\"aaxis\": {\"endlinecolor\": \"#2a3f5f\", \"gridcolor\": \"white\", \"linecolor\": \"white\", \"minorgridcolor\": \"white\", \"startlinecolor\": \"#2a3f5f\"}, \"baxis\": {\"endlinecolor\": \"#2a3f5f\", \"gridcolor\": \"white\", \"linecolor\": \"white\", \"minorgridcolor\": \"white\", \"startlinecolor\": \"#2a3f5f\"}, \"type\": \"carpet\"}], \"choropleth\": [{\"colorbar\": {\"outlinewidth\": 0, \"ticks\": \"\"}, \"type\": \"choropleth\"}], \"contour\": [{\"colorbar\": {\"outlinewidth\": 0, \"ticks\": \"\"}, \"colorscale\": [[0.0, \"#0d0887\"], [0.1111111111111111, \"#46039f\"], [0.2222222222222222, \"#7201a8\"], [0.3333333333333333, \"#9c179e\"], [0.4444444444444444, \"#bd3786\"], [0.5555555555555556, \"#d8576b\"], [0.6666666666666666, \"#ed7953\"], [0.7777777777777778, \"#fb9f3a\"], [0.8888888888888888, \"#fdca26\"], [1.0, \"#f0f921\"]], \"type\": \"contour\"}], \"contourcarpet\": [{\"colorbar\": {\"outlinewidth\": 0, \"ticks\": \"\"}, \"type\": \"contourcarpet\"}], \"heatmap\": [{\"colorbar\": {\"outlinewidth\": 0, \"ticks\": \"\"}, \"colorscale\": [[0.0, \"#0d0887\"], [0.1111111111111111, \"#46039f\"], [0.2222222222222222, \"#7201a8\"], [0.3333333333333333, \"#9c179e\"], [0.4444444444444444, \"#bd3786\"], [0.5555555555555556, \"#d8576b\"], [0.6666666666666666, \"#ed7953\"], [0.7777777777777778, \"#fb9f3a\"], [0.8888888888888888, \"#fdca26\"], [1.0, \"#f0f921\"]], \"type\": \"heatmap\"}], \"heatmapgl\": [{\"colorbar\": {\"outlinewidth\": 0, \"ticks\": \"\"}, \"colorscale\": [[0.0, \"#0d0887\"], [0.1111111111111111, \"#46039f\"], [0.2222222222222222, \"#7201a8\"], [0.3333333333333333, \"#9c179e\"], [0.4444444444444444, \"#bd3786\"], [0.5555555555555556, \"#d8576b\"], [0.6666666666666666, \"#ed7953\"], [0.7777777777777778, \"#fb9f3a\"], [0.8888888888888888, \"#fdca26\"], [1.0, \"#f0f921\"]], \"type\": \"heatmapgl\"}], \"histogram\": [{\"marker\": {\"colorbar\": {\"outlinewidth\": 0, \"ticks\": \"\"}}, \"type\": \"histogram\"}], \"histogram2d\": [{\"colorbar\": {\"outlinewidth\": 0, \"ticks\": \"\"}, \"colorscale\": [[0.0, \"#0d0887\"], [0.1111111111111111, \"#46039f\"], [0.2222222222222222, \"#7201a8\"], [0.3333333333333333, \"#9c179e\"], [0.4444444444444444, \"#bd3786\"], [0.5555555555555556, \"#d8576b\"], [0.6666666666666666, \"#ed7953\"], [0.7777777777777778, \"#fb9f3a\"], [0.8888888888888888, \"#fdca26\"], [1.0, \"#f0f921\"]], \"type\": \"histogram2d\"}], \"histogram2dcontour\": [{\"colorbar\": {\"outlinewidth\": 0, \"ticks\": \"\"}, \"colorscale\": [[0.0, \"#0d0887\"], [0.1111111111111111, \"#46039f\"], [0.2222222222222222, \"#7201a8\"], [0.3333333333333333, \"#9c179e\"], [0.4444444444444444, \"#bd3786\"], [0.5555555555555556, \"#d8576b\"], [0.6666666666666666, \"#ed7953\"], [0.7777777777777778, \"#fb9f3a\"], [0.8888888888888888, \"#fdca26\"], [1.0, \"#f0f921\"]], \"type\": \"histogram2dcontour\"}], \"mesh3d\": [{\"colorbar\": {\"outlinewidth\": 0, \"ticks\": \"\"}, \"type\": \"mesh3d\"}], \"parcoords\": [{\"line\": {\"colorbar\": {\"outlinewidth\": 0, \"ticks\": \"\"}}, \"type\": \"parcoords\"}], \"pie\": [{\"automargin\": true, \"type\": \"pie\"}], \"scatter\": [{\"marker\": {\"colorbar\": {\"outlinewidth\": 0, \"ticks\": \"\"}}, \"type\": \"scatter\"}], \"scatter3d\": [{\"line\": {\"colorbar\": {\"outlinewidth\": 0, \"ticks\": \"\"}}, \"marker\": {\"colorbar\": {\"outlinewidth\": 0, \"ticks\": \"\"}}, \"type\": \"scatter3d\"}], \"scattercarpet\": [{\"marker\": {\"colorbar\": {\"outlinewidth\": 0, \"ticks\": \"\"}}, \"type\": \"scattercarpet\"}], \"scattergeo\": [{\"marker\": {\"colorbar\": {\"outlinewidth\": 0, \"ticks\": \"\"}}, \"type\": \"scattergeo\"}], \"scattergl\": [{\"marker\": {\"colorbar\": {\"outlinewidth\": 0, \"ticks\": \"\"}}, \"type\": \"scattergl\"}], \"scattermapbox\": [{\"marker\": {\"colorbar\": {\"outlinewidth\": 0, \"ticks\": \"\"}}, \"type\": \"scattermapbox\"}], \"scatterpolar\": [{\"marker\": {\"colorbar\": {\"outlinewidth\": 0, \"ticks\": \"\"}}, \"type\": \"scatterpolar\"}], \"scatterpolargl\": [{\"marker\": {\"colorbar\": {\"outlinewidth\": 0, \"ticks\": \"\"}}, \"type\": \"scatterpolargl\"}], \"scatterternary\": [{\"marker\": {\"colorbar\": {\"outlinewidth\": 0, \"ticks\": \"\"}}, \"type\": \"scatterternary\"}], \"surface\": [{\"colorbar\": {\"outlinewidth\": 0, \"ticks\": \"\"}, \"colorscale\": [[0.0, \"#0d0887\"], [0.1111111111111111, \"#46039f\"], [0.2222222222222222, \"#7201a8\"], [0.3333333333333333, \"#9c179e\"], [0.4444444444444444, \"#bd3786\"], [0.5555555555555556, \"#d8576b\"], [0.6666666666666666, \"#ed7953\"], [0.7777777777777778, \"#fb9f3a\"], [0.8888888888888888, \"#fdca26\"], [1.0, \"#f0f921\"]], \"type\": \"surface\"}], \"table\": [{\"cells\": {\"fill\": {\"color\": \"#EBF0F8\"}, \"line\": {\"color\": \"white\"}}, \"header\": {\"fill\": {\"color\": \"#C8D4E3\"}, \"line\": {\"color\": \"white\"}}, \"type\": \"table\"}]}, \"layout\": {\"annotationdefaults\": {\"arrowcolor\": \"#2a3f5f\", \"arrowhead\": 0, \"arrowwidth\": 1}, \"coloraxis\": {\"colorbar\": {\"outlinewidth\": 0, \"ticks\": \"\"}}, \"colorscale\": {\"diverging\": [[0, \"#8e0152\"], [0.1, \"#c51b7d\"], [0.2, \"#de77ae\"], [0.3, \"#f1b6da\"], [0.4, \"#fde0ef\"], [0.5, \"#f7f7f7\"], [0.6, \"#e6f5d0\"], [0.7, \"#b8e186\"], [0.8, \"#7fbc41\"], [0.9, \"#4d9221\"], [1, \"#276419\"]], \"sequential\": [[0.0, \"#0d0887\"], [0.1111111111111111, \"#46039f\"], [0.2222222222222222, \"#7201a8\"], [0.3333333333333333, \"#9c179e\"], [0.4444444444444444, \"#bd3786\"], [0.5555555555555556, \"#d8576b\"], [0.6666666666666666, \"#ed7953\"], [0.7777777777777778, \"#fb9f3a\"], [0.8888888888888888, \"#fdca26\"], [1.0, \"#f0f921\"]], \"sequentialminus\": [[0.0, \"#0d0887\"], [0.1111111111111111, \"#46039f\"], [0.2222222222222222, \"#7201a8\"], [0.3333333333333333, \"#9c179e\"], [0.4444444444444444, \"#bd3786\"], [0.5555555555555556, \"#d8576b\"], [0.6666666666666666, \"#ed7953\"], [0.7777777777777778, \"#fb9f3a\"], [0.8888888888888888, \"#fdca26\"], [1.0, \"#f0f921\"]]}, \"colorway\": [\"#636efa\", \"#EF553B\", \"#00cc96\", \"#ab63fa\", \"#FFA15A\", \"#19d3f3\", \"#FF6692\", \"#B6E880\", \"#FF97FF\", \"#FECB52\"], \"font\": {\"color\": \"#2a3f5f\"}, \"geo\": {\"bgcolor\": \"white\", \"lakecolor\": \"white\", \"landcolor\": \"#E5ECF6\", \"showlakes\": true, \"showland\": true, \"subunitcolor\": \"white\"}, \"hoverlabel\": {\"align\": \"left\"}, \"hovermode\": \"closest\", \"mapbox\": {\"style\": \"light\"}, \"paper_bgcolor\": \"white\", \"plot_bgcolor\": \"#E5ECF6\", \"polar\": {\"angularaxis\": {\"gridcolor\": \"white\", \"linecolor\": \"white\", \"ticks\": \"\"}, \"bgcolor\": \"#E5ECF6\", \"radialaxis\": {\"gridcolor\": \"white\", \"linecolor\": \"white\", \"ticks\": \"\"}}, \"scene\": {\"xaxis\": {\"backgroundcolor\": \"#E5ECF6\", \"gridcolor\": \"white\", \"gridwidth\": 2, \"linecolor\": \"white\", \"showbackground\": true, \"ticks\": \"\", \"zerolinecolor\": \"white\"}, \"yaxis\": {\"backgroundcolor\": \"#E5ECF6\", \"gridcolor\": \"white\", \"gridwidth\": 2, \"linecolor\": \"white\", \"showbackground\": true, \"ticks\": \"\", \"zerolinecolor\": \"white\"}, \"zaxis\": {\"backgroundcolor\": \"#E5ECF6\", \"gridcolor\": \"white\", \"gridwidth\": 2, \"linecolor\": \"white\", \"showbackground\": true, \"ticks\": \"\", \"zerolinecolor\": \"white\"}}, \"shapedefaults\": {\"line\": {\"color\": \"#2a3f5f\"}}, \"ternary\": {\"aaxis\": {\"gridcolor\": \"white\", \"linecolor\": \"white\", \"ticks\": \"\"}, \"baxis\": {\"gridcolor\": \"white\", \"linecolor\": \"white\", \"ticks\": \"\"}, \"bgcolor\": \"#E5ECF6\", \"caxis\": {\"gridcolor\": \"white\", \"linecolor\": \"white\", \"ticks\": \"\"}}, \"title\": {\"x\": 0.05}, \"xaxis\": {\"automargin\": true, \"gridcolor\": \"white\", \"linecolor\": \"white\", \"ticks\": \"\", \"title\": {\"standoff\": 15}, \"zerolinecolor\": \"white\", \"zerolinewidth\": 2}, \"yaxis\": {\"automargin\": true, \"gridcolor\": \"white\", \"linecolor\": \"white\", \"ticks\": \"\", \"title\": {\"standoff\": 15}, \"zerolinecolor\": \"white\", \"zerolinewidth\": 2}}}},\n",
              "                        {\"responsive\": true}\n",
              "                    ).then(function(){\n",
              "                            \n",
              "var gd = document.getElementById('a9c749fd-c3de-4272-8104-a90d8129674e');\n",
              "var x = new MutationObserver(function (mutations, observer) {{\n",
              "        var display = window.getComputedStyle(gd).display;\n",
              "        if (!display || display === 'none') {{\n",
              "            console.log([gd, 'removed!']);\n",
              "            Plotly.purge(gd);\n",
              "            observer.disconnect();\n",
              "        }}\n",
              "}});\n",
              "\n",
              "// Listen for the removal of the full notebook cells\n",
              "var notebookContainer = gd.closest('#notebook-container');\n",
              "if (notebookContainer) {{\n",
              "    x.observe(notebookContainer, {childList: true});\n",
              "}}\n",
              "\n",
              "// Listen for the clearing of the current output cell\n",
              "var outputEl = gd.closest('.output');\n",
              "if (outputEl) {{\n",
              "    x.observe(outputEl, {childList: true});\n",
              "}}\n",
              "\n",
              "                        })\n",
              "                };\n",
              "                \n",
              "            </script>\n",
              "        </div>\n",
              "</body>\n",
              "</html>"
            ]
          },
          "metadata": {}
        }
      ]
    },
    {
      "cell_type": "code",
      "metadata": {
        "colab": {
          "base_uri": "https://localhost:8080/",
          "height": 542
        },
        "id": "mkcD07lQdW_t",
        "outputId": "a5fbf606-03e3-436f-c6bb-004f4441d65b"
      },
      "source": [
        "import plotly.express as px\n",
        "\n",
        "# features = ['imdb_budget', 'imdb_revenue']\n",
        "features = ['tmdb_budget', 'tmdb_revenue']\n",
        "\n",
        "fig = px.scatter_matrix(\n",
        "    movies_full_df,\n",
        "    dimensions=features,\n",
        "    color=movies_full_df['tm_rating']\n",
        ")\n",
        "fig.update_traces(diagonal_visible=False)\n",
        "fig.show()"
      ],
      "execution_count": null,
      "outputs": [
        {
          "output_type": "display_data",
          "data": {
            "text/html": [
              "<html>\n",
              "<head><meta charset=\"utf-8\" /></head>\n",
              "<body>\n",
              "    <div>\n",
              "            <script src=\"https://cdnjs.cloudflare.com/ajax/libs/mathjax/2.7.5/MathJax.js?config=TeX-AMS-MML_SVG\"></script><script type=\"text/javascript\">if (window.MathJax) {MathJax.Hub.Config({SVG: {font: \"STIX-Web\"}});}</script>\n",
              "                <script type=\"text/javascript\">window.PlotlyConfig = {MathJaxConfig: 'local'};</script>\n",
              "        <script src=\"https://cdn.plot.ly/plotly-latest.min.js\"></script>    \n",
              "            <div id=\"61a63e41-8c8d-4d73-895e-d56eb9d1298b\" class=\"plotly-graph-div\" style=\"height:525px; width:100%;\"></div>\n",
              "            <script type=\"text/javascript\">\n",
              "                \n",
              "                    window.PLOTLYENV=window.PLOTLYENV || {};\n",
              "                    \n",
              "                if (document.getElementById(\"61a63e41-8c8d-4d73-895e-d56eb9d1298b\")) {\n",
              "                    Plotly.newPlot(\n",
              "                        '61a63e41-8c8d-4d73-895e-d56eb9d1298b',\n",
              "                        [{\"diagonal\": {\"visible\": false}, \"dimensions\": [{\"axis\": {\"matches\": true}, \"label\": \"tmdb_budget\", \"values\": [8000000.0, 160000000.0, 63000000.0, 185000000.0, 30000000.0, 165000000.0, 70000000.0, 19000000.0, 100000000.0, 3300000.0, 61000000.0, 23000000.0, 15000000.0, 150000000.0, 20000000.0, 170000000.0, 100000000.0, 40000000.0, 19000000.0, 30000000.0, 60000000.0, 60000000.0, 55000000.0, 63000000.0, 33000000.0, 58000000.0, 13000000.0, 175000000.0, 220000000.0, 93000000.0, 15000000.0, 25000000.0, 19000000.0, 80000000.0, 7000000.0, 150000000.0, 250000000.0, 8500000.0, 25000000.0, 175000000.0, 28000000.0, 180000000.0, 170000000.0, 140000000.0, 1200000.0, 63000000.0, 65000000.0, 6000000.0, 30000000.0, 108000000.0, 9000000.0, 92000000.0, 13000000.0, 94000000.0, 250000000.0, 200000000.0, 130000000.0, 135000000.0, 280000000.0, 4000000.0, 15000000.0, 79000000.0, 40000000.0, 94000000.0, 16000000.0, 10000000.0, 44000000.0, 130000000.0, 16400000.0, 45000000.0, 15000000.0, 115000000.0, 25000000.0, 150000000.0, 40000000.0, 90000000.0, 10000000.0, 22000000.0, 4500000.0, 52000000.0, 30000000.0, 237000000.0, 175000000.0, 16000000.0, 19000000.0, 46000000.0, 60000000.0, 100000000.0, 8000000.0, 150000000.0, 200000000.0, 200000000.0, 24000000.0, 6000000.0, 39200000.0, 113000000.0, 150000000.0, 70000000.0, 20000000.0, 139000000.0, 3000000.0, 4000000.0, 105000000.0, 2500000.0, 115000000.0, 18000000.0, 200000000.0, 75000000.0, 4000000.0, 26500000.0, 150000000.0, 17000000.0, 15000000.0, 200000000.0, 90000000.0, 105000000.0, 250000000.0, 4000000.0, 7500000.0, 28000000.0, 120000000.0, 20000000.0, 165000000.0, 12000000.0, 14000000.0, 10500000.0, 20000000.0, 60000000.0, 150000000.0, 25000000.0, 14000000.0, 170000000.0, 12000000.0, 21000000.0, 21000000.0, 76000000.0, 28000000.0, 23600000.0, 65000000.0, 150000000.0, 40000000.0, 260000000.0, 30000000.0, 250000000.0, 85000000.0, 14000000.0, 150000000.0, 35000000.0, 200000000.0, 20000000.0, 35000000.0, 130000000.0, 13000000.0, 103000000.0, 37000000.0, 60000000.0, 250000000.0, 28000000.0, 30000000.0, 14600000.0, 150000000.0, 16000000.0, 35000000.0, 100000000.0, 15000000.0, 15000000.0, 32000000.0, 150000000.0, 120000000.0, 18500000.0, 90000000.0, 2700000.0, 3300000.0, 6400000.0, 11000000.0, 37000000.0, 13000000.0, 25000000.0, 52000000.0, 8000000.0, 40000000.0, 35000000.0, 15000000.0, 165000000.0, 0.0, 250000000.0, 165000000.0, 90000000.0, 6000000.0, 60000000.0, 215000000.0, 225000000.0, 42000000.0, 150000000.0, 8000000.0, 16000000.0, 258000000.0, 8000000.0, 5000000.0, 178000000.0, 185000000.0, 28000000.0, 15000000.0, 48000000.0, 12000000.0, 6500000.0, 18000000.0, 75000000.0, 130000000.0, 120000000.0, 160000000.0, 20000000.0, 15000000.0, 200000000.0, 16000000.0, 6900000.0, 6000000.0, 28000000.0, 32000000.0, 125000000.0, 18000000.0, 60000000.0, 200000000.0, 90000000.0, 15000000.0, 250000000.0, 50000000.0, 40000000.0, 30000000.0, 130000000.0, 28000000.0, 70000000.0, 3000000.0, 7000000.0, 1800000.0, 15000000.0, 60000.0, 70000000.0, 52000000.0, 150000000.0, 50000000.0, 200000000.0, 200000000.0, 40000000.0, 41677699.0, 29000000.0, 100000000.0, 15000000.0, 180000000.0, 18000000.0, 200000000.0, 32000000.0, 40000000.0, 9000000.0, 178000000.0, 21000000.0, 44500000.0, 90000000.0, 160000000.0, 10000000.0, 61000000.0, 75000000.0, 250000000.0, 60000000.0, 50000000.0, 130000000.0, 30000000.0, 120000000.0, 17000000.0, 40000000.0, 37000000.0, 170000000.0, 150000000.0, 20000000.0, 7000000.0, 32000000.0, 7400000.0, 69000000.0, 80000000.0, 3800000.0, 90000000.0, 37000000.0, 26000000.0, 245000000.0, 5000000.0, 350000.0, 75000000.0, 40000000.0, 50000000.0, 35000000.0, 18000000.0, 1200000.0, 20000000.0, 3500000.0, 30000000.0, 50000000.0, 100000000.0, 102000000.0, 18000000.0, 170000000.0, 19000000.0, 0.0, 59000000.0, 38000000.0, 150000000.0, 92000000.0, 110000000.0, 93000000.0, 50000000.0, 14500000.0, 3500000.0, 18500000.0, 180000000.0, 32500000.0, 60000000.0, 22000000.0, 40000000.0, 23000000.0, 52500000.0, 90000000.0, 135000000.0, 75000000.0, 40000000.0, 65000000.0, 90000000.0, 34000000.0, 80000000.0, 12000000.0, 180000000.0, 25000000.0, 37000000.0, 11000000.0, 80000000.0, 80000000.0, 42000000.0, 11000000.0, 150000000.0, 11000000.0, 130000000.0, 68000000.0, 72000000.0, 400000.0, 40000000.0, 37000000.0, 26000000.0, 123000000.0, 50000000.0, 55000000.0, 58800000.0, 15000000.0, 40000000.0, 75000000.0, 116000000.0, 18000000.0, 185000000.0, 110000000.0, 14000000.0, 175000000.0, 5952000.0, 120000000.0, 30000000.0, 145000000.0, 18000000.0, 25000000.0, 65000000.0, 150000000.0, 165000000.0, 30000000.0, 60000000.0, 145000000.0, 75000000.0, 33000000.0, 15000000.0, 75000000.0, 19000000.0, 25000000.0, 150000000.0, 73000000.0, 50000000.0, 105000000.0, 160000000.0, 13000000.0, 37000000.0, 60000000.0, 8000000.0, 150000000.0, 110000000.0, 1500000.0, 3600000.0, 38000000.0, 35000000.0, 3000000.0, 4000000.0, 6500000.0, 7000000.0, 44000000.0, 6800000.0, 55000000.0, 48000000.0, 65000000.0, 68000000.0, 54000000.0, 190000000.0, 2500000.0, 75000000.0, 72000000.0, 30000000.0, 10700000.0, 207000000.0, 15000000.0, 19000000.0, 84000000.0, 150000000.0, 40000000.0, 11000000.0, 0.0, 100000000.0, 5000000.0, 30000000.0, 120000000.0, 90000000.0, 8000000.0, 100000000.0, 14000000.0, 65000000.0, 40000000.0, 125000000.0, 25000000.0, 65000000.0, 27000000.0, 144000000.0, 85000000.0, 55000000.0, 80000000.0, 0.0, 28000000.0, 200000000.0, 82500000.0, 40000000.0, 25000000.0, 28000000.0, 150000000.0, 26000000.0, 45000000.0, 45000000.0, 25000000.0, 190000000.0, 15000000.0, 25000000.0, 18000000.0, 12500000.0, 17000000.0, 46000000.0, 76000000.0, 40000000.0, 28000000.0, 125000000.0, 35000000.0, 10000000.0, 7000000.0, 45000000.0, 52000000.0, 20000000.0, 0.0, 18000000.0, 100000000.0, 130000000.0, 85000000.0, 200000000.0, 30000000.0, 6000000.0, 185000000.0, 102000000.0, 4800000.0, 2500000.0, 32000000.0, 8000000.0, 16000000.0, 80000000.0, 3000000.0, 6000000.0, 30000000.0, 0.0, 15000000.0, 15000000.0, 70000000.0, 1000000.0, 11000000.0, 125000000.0, 36000000.0, 50000000.0, 25000000.0, 105000000.0, 10000000.0, 41000000.0, 170000000.0, 30000000.0, 38000000.0, 7000000.0, 200000000.0, 85000000.0, 150000000.0, 13000000.0, 27000000.0, 75000000.0, 85000000.0, 150000000.0, 132000000.0, 70000000.0, 800000.0, 6000000.0, 225000000.0, 120000000.0, 75000000.0, 27000.0, 80000000.0, 29000000.0, 8000000.0, 20000000.0, 7000.0, 8900000.0, 37000000.0, 40000000.0, 16500000.0, 140000000.0, 66000000.0, 25000000.0, 40000000.0, 150000000.0, 125000000.0, 165000000.0, 100000000.0, 65000000.0, 12800000.0, 93000000.0, 25000000.0, 85000000.0, 85000000.0, 35000000.0, 12000000.0, 15000000.0, 125000000.0, 25000000.0, 150000000.0, 24000000.0, 35000000.0, 60000000.0, 8500000.0, 95000000.0, 125000000.0, 30000000.0, 28000000.0, 15000.0, 1350000.0, 100000000.0, 70000000.0, 11000000.0, 76000000.0, 52000000.0, 100000000.0, 70000000.0, 27000000.0, 18000000.0, 75000000.0, 18000000.0, 23000000.0, 140000000.0, 175000000.0, 75000000.0, 5000000.0, 29000000.0, 120000000.0, 45000000.0, 18000000.0, 15000000.0, 100000000.0, 115000000.0, 0.0, 18000000.0, 35000000.0, 100000000.0, 175000000.0, 7300000.0, 12000000.0, 30000000.0, 74000000.0, 150000000.0, 17000000.0, 100000000.0, 50000000.0, 92000000.0, 0.0, 34000000.0, 35000000.0, 15000000.0, 1500000.0, 65000000.0, 70000000.0, 45000000.0, 1500000.0, 35000000.0, 20000000.0, 40000000.0, 45000000.0, 37000000.0, 55000000.0, 20000000.0, 50000000.0, 15000000.0, 6500000.0, 75000000.0, 2000000.0, 25000000.0, 5000000.0, 28000000.0, 60000.0, 32000000.0, 5000000.0, 50000000.0, 44000000.0, 150000000.0, 120000000.0, 140000000.0, 250000.0, 4000000.0, 95000000.0, 12000000.0, 30000000.0, 10500000.0, 9000000.0, 90000000.0, 20000000.0, 65000000.0, 22700000.0, 30000000.0, 50000000.0, 25000000.0, 1530000.0, 82000000.0, 50000000.0, 57000000.0, 230000.0, 42000000.0, 150000000.0, 35000000.0, 40000000.0, 30000000.0, 40000000.0, 53000000.0, 133000000.0, 6000000.0, 150000000.0, 9500000.0, 45000000.0, 26000000.0, 1500000.0, 25000000.0, 35000000.0, 20000000.0, 140000000.0, 70000000.0, 150000000.0, 2159280.0, 700000.0, 80000000.0, 45000000.0, 0.0, 15000000.0, 30000000.0, 60000000.0, 12000000.0, 7000000.0, 20000000.0, 49000000.0, 14350531.0, 12000000.0, 195000000.0, 60000000.0, 52000000.0, 5000000.0, 100000000.0, 12000000.0, 20000000.0, 200000000.0, 23000000.0, 19000000.0, 5000000.0, 92000000.0, 32000000.0, 61000000.0, 68000000.0, 28000000.0, 51500000.0, 50000000.0, 10000000.0, 55000000.0, 12400000.0, 7000000.0, 0.0, 39000000.0, 70000000.0, 17000000.0, 35000000.0, 30000000.0, 15000000.0, 60000000.0, 11000000.0, 80000000.0, 6500000.0, 22000000.0, 75000000.0, 145000000.0, 40000000.0, 98000000.0, 34000000.0, 80000000.0, 30000000.0, 10000000.0, 125000000.0, 60000000.0, 40000000.0, 5000000.0, 33000000.0, 58000000.0, 78000000.0, 63000000.0, 40000000.0, 40000000.0, 145000000.0, 31000000.0, 35000000.0, 3000000.0, 80000000.0, 40000000.0, 27000000.0, 15000000.0, 1000000.0, 40000000.0, 55000000.0, 137000000.0, 90000000.0, 4500000.0, 90000000.0, 7000000.0, 120000000.0, 16000000.0, 20000000.0, 150000000.0, 20000000.0, 65000000.0, 6500000.0, 4600000.0, 95000000.0, 149000000.0, 225000000.0, 0.0, 35000000.0, 950000.0, 50100000.0, 30000000.0, 15000000.0, 50000000.0, 18000000.0, 190000000.0, 21000000.0, 0.0, 45000000.0, 135000000.0, 10000000.0, 9000000.0, 4900000.0, 75000000.0, 7000000.0, 120000000.0, 34200000.0, 176000003.0, 15000000.0, 70000000.0, 15000000.0, 120000000.0, 2000000.0, 3200000.0, 15000000.0, 35000000.0, 6000000.0, 0.0, 11000000.0, 17000000.0, 0.0, 15000000.0, 210000000.0, 60000000.0, 50000000.0, 115000000.0, 8000000.0, 13000000.0, 110000000.0, 80000000.0, 0.0, 160000.0, 2500000.0, 70000000.0, 10000000.0, 30000000.0, 21000000.0, 2000000.0, 145000000.0, 75000000.0, 0.0, 12000000.0, 7000000.0, 750000.0, 200000000.0, 22000000.0, 65000000.0, 2000000.0, 60000000.0, 25000000.0, 20000000.0, 31000000.0, 18339750.0, 80000000.0, 15000000.0, 20000000.0, 40000000.0, 15000000.0, 22000000.0, 15238800.0, 15000000.0, 11500000.0, 15000000.0, 40000000.0, 54000000.0, 30000000.0, 1800000.0, 170000000.0, 155000000.0, 15000000.0, 14000000.0, 55000000.0, 15000000.0, 40000000.0, 12899867.0, 80000000.0, 30000000.0, 65000000.0, 10000000.0, 25000000.0, 72000000.0, 55000000.0, 80000000.0, 5000000.0, 110000000.0, 80000000.0, 200000000.0, 35000000.0, 1200000.0, 30000000.0, 3000000.0, 92000000.0, 88000000.0, 82000000.0, 30000000.0, 50000000.0, 130000000.0, 68000000.0, 25000000.0, 32000000.0, 27000000.0, 60000000.0, 60000000.0, 60000000.0, 5000000.0, 110000000.0, 20000.0, 8700000.0, 0.0, 66000000.0, 25000000.0, 12500000.0, 25000000.0, 17500000.0, 20000000.0, 20000000.0, 50000000.0, 50000000.0, 0.0, 60000000.0, 17000000.0, 42000000.0, 58000000.0, 25000000.0, 2000000.0, 45000000.0, 7000000.0, 140000000.0, 5000000.0, 50000000.0, 85000000.0, 30000000.0, 38000000.0, 15000000.0, 150000000.0, 2800000.0, 90000000.0, 45000000.0, 12305523.0, 4800000.0, 1250000.0, 2500000.0, 25000000.0, 110000000.0, 110000000.0, 8000000.0, 200000000.0, 25000000.0, 270000000.0, 70000000.0, 27000000.0, 255000000.0, 4500000.0, 47000000.0, 8200000.0, 1500000.0, 16500000.0, 7500000.0, 3500159.0, 19000000.0, 60000000.0, 115000000.0, 170000000.0, 12500000.0, 32000000.0, 80000000.0, 10000000.0, 43000000.0, 0.0, 40000000.0, 8500000.0, 10000000.0, 26000000.0, 18000000.0, 32000000.0, 140000000.0, 25000000.0, 53000000.0, 20000000.0, 7000000.0, 20000000.0, 160000000.0, 70000000.0, 15000000.0, 41000000.0, 10000000.0, 15000000.0, 30000000.0, 11000000.0, 40000000.0, 0.0, 20000000.0, 6500000.0, 110000000.0, 165000000.0, 80000000.0, 95000000.0, 26000000.0, 8000000.0, 25000000.0, 30000000.0, 10000000.0, 16500000.0, 14000000.0, 140000000.0, 127000000.0, 0.0, 90000000.0, 30000000.0, 12000000.0, 3500000.0, 10000000.0, 9000000.0, 1300000.0, 90000000.0, 64000000.0, 40600000.0, 15000000.0, 13000000.0, 130000000.0, 6500000.0, 30000000.0, 30000000.0, 48000000.0, 90000000.0, 9000000.0, 50000000.0, 85000000.0, 130000000.0, 53000000.0, 250000.0, 32000000.0, 20000000.0, 3500000.0, 10000000.0, 967686.0, 16000000.0, 6000000.0, 30000000.0, 5000000.0, 31000000.0, 40000000.0, 12000000.0, 27000000.0, 6000000.0, 58000000.0, 0.0, 4000000.0, 80000000.0, 70000000.0, 95000000.0, 12000000.0, 0.0, 30000000.0, 55000000.0, 50000000.0, 130000000.0, 65000000.0, 10000000.0, 60000000.0, 110000000.0, 125000000.0, 0.0, 2500000.0, 6500000.0, 20000000.0, 125000000.0, 25000000.0, 40000000.0, 48000000.0, 38000000.0, 120000000.0, 0.0, 10800000.0, 53000000.0, 12300000.0, 85000000.0, 126000000.0, 5000000.0, 260000000.0, 30000000.0, 35000000.0, 5000000.0, 130000000.0, 0.0, 10000000.0, 100000000.0, 3500000.0, 30000000.0, 40000000.0, 50200000.0, 24000000.0, 15000000.0, 175000000.0, 2900000.0, 80000000.0, 75000000.0, 18000000.0, 20000000.0, 45000000.0, 70000000.0, 36000000.0, 13800000.0, 180000000.0, 85000000.0, 42000000.0, 2000000.0, 35000000.0, 12000000.0, 100000000.0, 10000000.0, 0.0, 4000000.0, 39000000.0, 90000000.0, 48000000.0, 14000000.0, 52000000.0, 500000.0, 67000000.0, 0.0, 58000000.0, 0.0, 8000000.0, 12000000.0, 3600000.0, 10000000.0, 100000000.0, 11000000.0, 55000000.0, 55000000.0, 135000000.0, 110000000.0, 14000000.0, 120000000.0, 0.0, 2380000.0, 110000000.0, 45000000.0, 0.0, 180000000.0, 23000000.0, 40000000.0, 110000000.0, 23000000.0, 80000000.0, 852510.0, 18500000.0, 24000000.0, 44000000.0, 100000000.0, 10000000.0, 1100000.0, 35000000.0, 6000000.0, 22000000.0, 15000000.0, 19800000.0, 50000000.0, 4700000.0, 35000000.0, 22000000.0, 5000000.0, 15500000.0, 40000000.0, 6000000.0, 42000000.0, 10000000.0, 28000000.0, 50000000.0, 1987650.0, 78000000.0, 47000000.0, 20000000.0, 120000000.0, 50000000.0, 40000000.0, 200000000.0, 25000000.0, 0.0, 27000000.0, 25000000.0, 7000000.0, 14000000.0, 55000000.0, 21000000.0, 3000000.0, 2000000.0, 30000000.0, 35000000.0, 150000000.0, 14000000.0, 25000000.0, 30000000.0, 15000000.0, 0.0, 24000000.0, 38000000.0, 45000000.0, 75000000.0, 15000000.0, 0.0, 100000000.0, 50000000.0, 127500000.0, 16000000.0, 0.0, 79000000.0, 3000000.0, 0.0, 55000000.0, 45000000.0, 56000000.0, 40000000.0, 27000000.0, 51000000.0, 175000000.0, 1500000.0, 40000000.0, 100000000.0, 24000000.0, 4000000.0, 70000000.0, 82000000.0, 25000000.0, 19000000.0, 135000000.0, 24000000.0, 4000000.0, 20000000.0, 26000000.0, 40000000.0, 50000000.0, 24000000.0, 30000000.0, 90000000.0, 33000000.0, 12000000.0, 30000000.0, 0.0, 26000000.0, 60000000.0, 11500000.0, 3000000.0, 14800000.0, 200000.0, 2600000.0, 45000000.0, 12000000.0, 23000000.0, 60000000.0, 12000000.0, 0.0, 10000000.0, 20000000.0, 12000000.0, 10000000.0, 50000000.0, 15000000.0, 50000000.0, 44000000.0, 45000000.0, 25000000.0, 53000000.0, 170000000.0, 20000000.0, 23000000.0, 5000000.0, 21000000.0, 15000000.0, 0.0, 65000000.0, 17000000.0, 25000000.0, 15000000.0, 92000000.0, 100000000.0, 10000000.0, 17000000.0, 25000000.0, 8000.0, 13000000.0, 11000000.0, 70000000.0, 65000000.0, 40000000.0, 85000000.0, 132000000.0, 75000000.0, 60000000.0, 40000000.0, 65000000.0, 0.0, 74000000.0, 40000000.0, 10000000.0, 200000.0, 140000000.0, 40000000.0, 69000000.0, 7000000.0, 38000000.0, 50000000.0, 3000000.0, 700000.0, 54000000.0, 50000000.0, 42000000.0, 40000000.0, 250000.0, 19000000.0, 99000000.0, 60000000.0, 75000000.0, 25000000.0, 0.0, 0.0, 60000000.0, 50000000.0, 45000000.0, 50000000.0, 22000000.0, 78000000.0, 55000000.0, 0.0, 50000000.0, 55000000.0, 110000000.0, 31000000.0, 30000000.0, 42000000.0, 70000000.0, 38000000.0, 60000000.0, 65000000.0, 40000000.0, 16000000.0, 71000000.0, 30000000.0, 54000000.0, 50000000.0, 145000000.0, 85000000.0, 19000000.0, 27000000.0, 80000000.0, 61000000.0, 35000000.0, 2200000.0, 60000000.0, 0.0, 100000.0, 6000000.0, 12000000.0, 117000000.0, 40000000.0, 3500000.0, 25000000.0, 85000000.0, 11000000.0, 25000000.0, 0.0, 7500000.0, 40000000.0, 14000000.0, 6000000.0, 50000000.0, 90000000.0, 40000000.0, 19800000.0, 27500000.0, 48000000.0, 20000000.0, 68000000.0, 40000000.0, 15000000.0, 30000000.0, 18000000.0, 50000000.0, 150000000.0, 70000000.0, 55000000.0, 175000000.0, 30000000.0, 135000000.0, 40000000.0, 0.0, 25000000.0, 85000000.0, 45000000.0, 25000000.0, 9000000.0, 0.0, 40000000.0, 30000000.0, 69000000.0, 30000000.0, 13000000.0, 5000000.0, 60000000.0, 45000000.0, 75000000.0, 28000000.0, 38000000.0, 80000000.0, 65000000.0, 26000000.0, 0.0, 500000.0, 107000000.0, 28000000.0, 0.0, 209000000.0, 0.0, 48000000.0, 75000000.0, 15000000.0, 13000000.0, 13500000.0, 20000000.0, 1500000.0, 115000000.0, 28000000.0, 73000000.0, 15000000.0, 12000000.0, 46000000.0, 6000000.0, 20000000.0, 57000000.0, 20000000.0, 50000000.0, 8000000.0, 0.0, 11500000.0, 20000000.0, 35000000.0, 22000000.0, 100000000.0, 15000000.0, 40000000.0, 95000000.0, 73000000.0, 60000000.0, 0.0, 38000000.0, 40000000.0, 140000000.0, 15000000.0, 30000000.0, 90000000.0, 25000000.0, 11000000.0, 33000000.0, 14000000.0, 5000000.0, 4500000.0, 0.0, 9000000.0, 23000000.0, 13000000.0, 70000000.0, 0.0, 130000000.0, 100000000.0, 90000000.0, 88000000.0, 75000000.0, 48000000.0, 27000000.0, 85000000.0, 20000000.0, 33000000.0, 0.0, 47000000.0, 0.0, 25000000.0, 70000000.0, 7000000.0, 18000000.0, 22000000.0, 30000000.0, 55000000.0, 145000000.0, 0.0, 100000000.0, 24000000.0, 3500000.0, 65000000.0, 48000000.0, 5000000.0, 40000000.0, 31000000.0, 500000.0, 30000000.0, 23000000.0, 29000000.0, 45000000.0, 10000000.0, 6400000.0, 22000000.0, 30000000.0, 75000000.0, 1500000.0, 30000000.0, 135000000.0, 0.0, 0.0, 68000000.0, 14000000.0, 5000000.0, 70000000.0, 60000000.0, 0.0, 50000000.0, 130000000.0, 80000000.0, 21000000.0, 22000000.0, 39000000.0, 3860000.0, 52000000.0, 53000000.0, 29000000.0, 0.0, 0.0, 17000000.0, 0.0, 100000000.0, 35000000.0, 12600000.0, 20000000.0, 32000000.0, 24000000.0, 20000000.0, 175000000.0, 84000000.0, 60000000.0, 0.0, 1000000.0, 860000.0, 120000000.0, 16000000.0, 88000000.0, 28000000.0, 0.0, 13000000.0, 63000000.0, 70000000.0, 25000000.0, 112000000.0, 0.0, 85000000.0, 52000000.0, 12000000.0, 22000000.0, 20000000.0, 35000000.0, 13000000.0, 70000000.0, 4000000.0, 73000000.0, 140000000.0, 300000.0, 0.0, 61000000.0, 11000000.0, 15000000.0, 30000000.0, 17000000.0, 70000000.0, 3500000.0, 105000000.0, 35000000.0, 3705538.0, 10000000.0, 38000000.0, 150000000.0, 100000000.0, 12000000.0, 13000000.0, 44000000.0, 0.0, 10000000.0, 38000000.0, 30000000.0, 15000000.0, 80000000.0, 103000000.0, 8000000.0, 15000000.0, 37000000.0, 60000000.0, 35000000.0, 5000000.0, 25000000.0, 1500000.0, 10000000.0, 66000000.0, 85000000.0, 90000000.0, 26000000.0, 220000.0, 10000000.0, 110000000.0, 30000000.0, 150000000.0, 4000000.0, 85000000.0, 6900000.0, 35000000.0, 90000000.0, 35000000.0, 20000000.0, 46000000.0, 31000000.0, 10000000.0, 15000000.0, 75000000.0, 55000000.0, 45000000.0, 25000000.0, 140000000.0, 26000000.0, 60000000.0, 20000000.0, 79000000.0, 8000000.0, 60000000.0, 19000000.0, 80000000.0, 70000000.0, 30250000.0, 60000000.0, 195000000.0, 40000000.0, 120000000.0, 150000000.0, 70000000.0, 79000000.0, 80000000.0, 18000000.0, 25000000.0, 5500000.0, 3500000.0, 20000000.0, 50000000.0, 60000000.0, 225000.0, 10000000.0, 3000000.0, 102000000.0, 80000000.0, 36000000.0, 12000000.0, 1000000.0, 65000000.0, 5000000.0, 5000000.0, 35000000.0, 68000000.0, 75000000.0, 26000000.0, 45000000.0, 6500000.0, 0.0, 48000000.0, 40000000.0, 30000000.0, 16000000.0, 12000000.0, 0.0, 58000000.0, 22000000.0, 2000000.0, 50000000.0, 0.0, 60000000.0, 11000000.0, 10000000.0, 19000000.0, 20000000.0, 100000000.0, 15000000.0, 0.0, 25000000.0, 18000000.0, 19000000.0, 92000000.0, 0.0, 15000000.0, 12000000.0, 28000000.0, 0.0, 25000000.0, 60000000.0, 60000000.0, 32000000.0, 37000000.0, 45000000.0, 17000000.0, 60000000.0, 55000000.0, 42000000.0, 75000000.0, 60000000.0, 55000000.0, 0.0, 35000000.0, 40000000.0, 27000000.0, 0.0, 10000000.0, 0.0, 17000000.0, 27000000.0, 57000000.0, 3000000.0, 20000000.0, 21000000.0, 65000000.0, 50000000.0, 100000000.0, 130000000.0, 8000000.0, 6000000.0, 33000000.0, 17000000.0, 50000000.0, 8000000.0, 25000000.0, 30000000.0, 0.0, 90000000.0, 45000000.0, 43000000.0, 80000000.0, 180000.0, 30000000.0, 0.0, 55000000.0, 16500000.0, 7000000.0, 2000000.0, 10200000.0, 55000000.0, 56000000.0, 0.0, 2000000.0, 11000000.0, 12000000.0, 35000000.0, 10000000.0, 130000000.0, 39000000.0, 62000000.0, 100000000.0, 63000000.0, 0.0, 40000000.0, 28000000.0, 80000000.0, 30000000.0, 4000000.0, 0.0, 500000.0, 13500000.0, 30000000.0, 100000000.0, 80000000.0, 45000000.0, 0.0, 1000000.0, 66000000.0, 0.0, 4000000.0, 25000000.0, 5000000.0, 150000000.0, 1500000.0, 75000000.0, 32000000.0, 15000000.0, 40000000.0, 155000000.0, 4200000.0, 75000000.0, 25000000.0, 15000000.0, 75000000.0, 44000000.0, 40000000.0, 20000000.0, 60000000.0, 40000000.0, 30000000.0, 16000000.0, 7500000.0, 40000000.0, 4500000.0, 116000000.0, 15000000.0, 60000000.0, 62000000.0, 0.0, 11000000.0, 0.0, 0.0, 36000000.0, 2500000.0, 60000000.0, 48000000.0, 50000000.0, 35000000.0, 43000000.0, 35000000.0, 90000000.0, 50000000.0, 5000000.0, 80000000.0, 36000000.0, 0.0, 27000000.0, 75000000.0, 26000000.0, 30000000.0, 800000.0, 20000000.0, 22000000.0, 12000000.0, 55000000.0, 20000000.0, 0.0, 38000000.0, 40000000.0, 100000000.0, 70000000.0, 38000000.0, 15000000.0, 0.0, 30000000.0, 70000000.0, 0.0, 160000000.0, 28000000.0, 110000000.0, 28000000.0, 10000000.0, 130000000.0, 50000000.0, 62000000.0, 8000000.0, 50000000.0, 8000000.0, 40000000.0, 85000000.0, 70000000.0, 35000000.0, 68000000.0, 0.0, 15000000.0, 50000000.0, 6000000.0, 86000000.0, 18000000.0, 28000000.0, 49900000.0, 28000000.0, 65000000.0, 27000000.0, 15000000.0, 3000000.0, 50000000.0, 25000000.0, 32000000.0, 35000000.0, 20000000.0, 40000000.0, 43000000.0, 8500000.0, 0.0, 17000000.0, 34000000.0, 0.0, 21000000.0, 70000000.0, 36000000.0, 50000000.0, 68000000.0, 4000000.0, 4000000.0, 35000000.0, 25000000.0, 80000000.0, 0.0, 17000000.0, 12806000.0, 10000000.0, 0.0, 0.0, 100000000.0, 35000000.0, 5000000.0, 0.0, 20500000.0, 30000000.0, 36000000.0, 5000000.0, 0.0, 12000000.0, 12000000.0, 41300000.0, 25000000.0, 120000000.0, 35000000.0, 26000000.0, 35000000.0, 50000000.0, 17000000.0, 57000000.0, 51000000.0, 22000000.0, 30000000.0, 10000000.0, 90000000.0, 0.0, 11000000.0, 40000000.0, 25000000.0, 28000000.0, 85000000.0, 47000000.0, 50000000.0, 2962051.0, 48000000.0, 5000000.0, 20000000.0, 15000000.0, 28000000.0, 36000000.0, 22000000.0, 60000000.0, 50000000.0, 3000000.0, 57000000.0, 35000000.0, 63000000.0, 17000000.0, 3500000.0, 0.0, 12000000.0, 30000000.0, 60000000.0, 43000000.0, 27000000.0, 20000000.0, 82000000.0, 7800000.0, 50000000.0, 105000000.0, 55000000.0, 10000000.0, 0.0, 42000000.0, 12000000.0, 50000000.0, 84000000.0, 22000000.0, 6000000.0, 46000000.0, 0.0, 45000000.0, 68000000.0, 44000000.0, 4000000.0, 75000000.0, 0.0, 65000000.0, 0.0, 0.0, 0.0, 0.0, 24000000.0, 80000000.0, 0.0, 5000000.0, 25000000.0, 70000000.0, 70000000.0, 31000000.0, 80000000.0, 6000000.0, 75000000.0, 8000000.0, 0.0, 80000000.0, 5000000.0, 160000000.0, 45000000.0, 10000000.0, 31000000.0, 19000000.0, 55000000.0, 20000000.0, 3300000.0, 30000000.0, 100000000.0, 65000000.0, 25000000.0, 50000000.0, 70000000.0, 25000000.0, 20000000.0, 75000000.0, 100000000.0, 4000000.0, 32000000.0, 23000000.0, 20000000.0, 0.0, 30000000.0, 0.0, 0.0, 6000000.0, 20000000.0, 5000000.0, 20000000.0, 13000000.0, 25000000.0, 3000000.0, 0.0, 13000000.0, 130000000.0, 0.0, 35000000.0, 60000000.0, 0.0, 50000000.0, 90000000.0, 44000000.0, 20000000.0, 15000000.0, 50000000.0, 6000000.0, 60000000.0, 17700000.0, 34000000.0, 87000000.0, 50000000.0, 3500000.0, 13000000.0, 25000000.0, 60000000.0, 18000000.0, 28000000.0, 0.0, 0.0, 90000000.0, 0.0, 5000000.0, 80000000.0, 15000000.0, 9000000.0, 17000000.0, 20000000.0, 35000000.0, 18000000.0, 0.0, 47000000.0, 40000000.0, 18000000.0, 50000000.0, 0.0, 1250000.0, 7000000.0, 35000000.0, 30000000.0, 16000000.0, 0.0, 160000000.0, 50000000.0, 64000000.0, 2000000.0, 35000000.0, 0.0, 35000000.0, 50000000.0, 66000000.0, 25000000.0, 35000000.0, 11000000.0, 32000000.0, 54000000.0, 70000000.0, 75000000.0, 0.0, 26000000.0, 8000000.0, 55000000.0, 0.0, 50000000.0, 26000000.0, 21500000.0, 35000000.0, 5000000.0, 30000000.0, 0.0, 15000000.0, 0.0, 9000000.0, 1700000.0, 27000000.0, 3000000.0, 125000.0, 4000000.0, 43000000.0, 0.0, 14000000.0, 55000000.0, 28000000.0, 32000000.0, 62000000.0, 5500000.0, 22000000.0, 50000000.0, 0.0, 20000000.0, 0.0, 32000000.0, 70000000.0, 13500000.0, 30000000.0, 49000000.0, 0.0, 12000000.0, 27000000.0, 6500000.0, 14000000.0, 50000000.0, 35000000.0, 70000000.0, 0.0, 0.0, 65000000.0, 16000000.0, 50000000.0, 20000000.0, 80000000.0, 12000000.0, 16000000.0, 65000000.0, 105000000.0, 7300000.0, 35000000.0, 0.0, 0.0, 137000000.0, 2000000.0, 10000000.0, 4000000.0, 10000000.0, 90000000.0, 500000.0, 25000000.0, 24000000.0, 22000000.0, 95000000.0, 5000000.0, 60000000.0, 28000000.0, 70000000.0, 80341000.0, 30000000.0, 19000000.0, 0.0, 17000000.0, 0.0, 25000000.0, 15000000.0, 1500000.0, 80000000.0, 22000000.0, 60000000.0, 40000000.0, 8000000.0, 40000000.0, 45000000.0, 0.0, 70000000.0, 25000000.0, 72000000.0, 40000000.0, 25000000.0, 14200000.0, 30000000.0, 10000000.0, 100000000.0, 45000000.0, 7000000.0, 66000000.0, 9000000.0, 50000000.0, 21000000.0, 45000000.0, 0.0, 0.0, 27000000.0, 0.0, 2000000.0, 40000000.0, 40000000.0, 29000000.0, 19400000.0, 20000000.0, 25000000.0, 35000000.0, 52000000.0, 56000000.0, 18000000.0, 0.0, 33000000.0, 33000000.0, 4000000.0, 12000000.0, 3000000.0, 17000000.0, 55000000.0, 40000000.0, 16500000.0, 40000000.0, 0.0, 19000000.0, 27000000.0, 6500000.0, 30000000.0, 35000000.0, 40000000.0, 15000000.0, 24000000.0, 10000000.0, 0.0, 12000000.0, 9000000.0, 45000000.0, 60000000.0, 26000000.0, 8500000.0, 0.0, 0.0, 5000000.0, 12000000.0, 0.0]}, {\"axis\": {\"matches\": true}, \"label\": \"tmdb_revenue\", \"values\": [213928762.0, 825532764.0, 100853753.0, 1004558444.0, 174600318.0, 675120017.0, 319131050.0, 44017374.0, 392000694.0, 13092000.0, 369330363.0, 47351251.0, 274925095.0, 378858340.0, 72258126.0, 773328629.0, 425368238.0, 224920315.0, 272742922.0, 180949000.0, 47664559.0, 264118201.0, 677945399.0, 463517383.0, 327311859.0, 783112979.0, 327803731.0, 857611174.0, 1519557910.0, 871368364.0, 78054825.0, 28341469.0, 381109762.0, 294804195.0, 34266564.0, 623722818.0, 1153304495.0, 38697217.0, 171600000.0, 735099082.0, 33139618.0, 521311860.0, 714766572.0, 585174222.0, 14661007.0, 920100000.0, 84785914.0, 1270522.0, 373554033.0, 630161890.0, 39723096.0, 631442092.0, 33400000.0, 1118888979.0, 1084939099.0, 1845034188.0, 789804554.0, 532950503.0, 1405403694.0, 119723856.0, 46189568.0, 926287400.0, 46471023.0, 940335536.0, 68263166.0, 225933435.0, 155760117.0, 519311965.0, 235860116.0, 788241776.0, 356296601.0, 562816256.0, 77208711.0, 374218673.0, 109676311.0, 289847354.0, 173921954.0, 321365567.0, 7390108.0, 352114312.0, 152159461.0, 2787965087.0, 745000000.0, 53478166.0, 83258226.0, 122126687.0, 484409218.0, 876688482.0, 100523181.0, 895921036.0, 1215439994.0, 1066969703.0, 234710455.0, 35401758.0, 86758912.0, 850000000.0, 449326618.0, 481840909.0, 121463226.0, 821708551.0, 14980005.0, 30039392.0, 716392705.0, 5535405.0, 924317558.0, 476684675.0, 623933331.0, 691210692.0, 16491080.0, 159375308.0, 938212738.0, 129042871.0, 19629760.0, 783766341.0, 497366869.0, 351040419.0, 933959197.0, 44349000.0, 231411584.0, 140767956.0, 649398328.0, 53000000.0, 652105443.0, 80573774.0, 233555708.0, 792910554.0, 187000000.0, 124596398.0, 1274219009.0, 65884703.0, 178043761.0, 644571402.0, 0.0, 71441250.0, 205738714.0, 69959751.0, 133346506.0, 102391382.0, 162091208.0, 1513528810.0, 672806292.0, 591794936.0, 84025816.0, 873260194.0, 450717150.0, 173046663.0, 919838758.0, 326551094.0, 1108561013.0, 88346473.0, 131282949.0, 847423452.0, 318000141.0, 457640427.0, 392616625.0, 469160692.0, 747862775.0, 121147947.0, 151119219.0, 70906973.0, 333932083.0, 30857814.0, 120072577.0, 520000000.0, 73326666.0, 108286421.0, 28258060.0, 474968763.0, 609016565.0, 183316455.0, 304320254.0, 15992615.0, 30641770.0, 78371200.0, 32935319.0, 48451803.0, 22863596.0, 17000000.0, 609841637.0, 553171.0, 332000000.0, 459270619.0, 43101594.0, 494878759.0, 87100449.0, 1021103568.0, 471222889.0, 232617430.0, 23341568.0, 284600000.0, 752215857.0, 662845518.0, 201585328.0, 599045960.0, 74952305.0, 31556061.0, 890871626.0, 52287414.0, 55198285.0, 370541256.0, 538983207.0, 504050219.0, 123726688.0, 474171806.0, 39673162.0, 37295445.0, 261572744.0, 117698894.0, 185258983.0, 461983149.0, 353624124.0, 23875127.0, 377910544.0, 743559607.0, 92823546.0, 7993039.0, 10409377.0, 96188903.0, 54674226.0, 752100229.0, 23000000.0, 47383689.0, 1065659812.0, 589390539.0, 56255142.0, 958400000.0, 142851197.0, 117195061.0, 47042000.0, 631744560.0, 333000000.0, 23159305.0, 11176469.0, 6038942.0, 25504513.0, 414211549.0, 248000000.0, 122919055.0, 116112375.0, 163712074.0, 34808403.0, 531865000.0, 705717432.0, 251171807.0, 187479518.0, 115603229.0, 169327687.0, 34533783.0, 407602906.0, 141774679.0, 1025491110.0, 173398518.0, 244931766.0, 17096053.0, 543934787.0, 0.0, 232324128.0, 429632142.0, 653428261.0, 83557872.0, 441809770.0, 248118121.0, 956019788.0, 313542341.0, 110206216.0, 403170142.0, 210819611.0, 363258859.0, 115350426.0, 244527583.0, 163720069.0, 185770160.0, 585349010.0, 46089287.0, 1333124.0, 126041322.0, 21817298.0, 543513985.0, 145771527.0, 16800000.0, 524028679.0, 173567581.0, 71868327.0, 880674609.0, 9760104.0, 29400000.0, 296339527.0, 126546825.0, 188441614.0, 411348924.0, 51973029.0, 103911669.0, 11110975.0, 83453539.0, 129266061.0, 109423648.0, 193772504.0, 358372926.0, 358991681.0, 710644566.0, 32801173.0, 110197.0, 383257136.0, 252276927.0, 738599701.0, 188072649.0, 574480841.0, 482860185.0, 549368315.0, 147298761.0, 16566240.0, 10680275.0, 748806957.0, 288383523.0, 137551594.0, 63647656.0, 0.0, 351583407.0, 179213434.0, 263920180.0, 245724603.0, 532680671.0, 320170008.0, 422610419.0, 188133322.0, 348319861.0, 457696359.0, 307166834.0, 758539785.0, 124272124.0, 96455697.0, 153083102.0, 250200000.0, 280000000.0, 363889678.0, 88489643.0, 682330139.0, 62076141.0, 321887208.0, 211817906.0, 210000000.0, 46118097.0, 60474340.0, 165335153.0, 90574188.0, 345141403.0, 709827462.0, 307077295.0, 542307423.0, 0.0, 158733820.0, 527068851.0, 102000000.0, 35692920.0, 786636033.0, 478207520.0, 463000000.0, 966550600.0, 2120439.0, 415440673.0, 216763646.0, 694713380.0, 98235548.0, 412800000.0, 217764291.0, 385680446.0, 305875730.0, 34441873.0, 214034224.0, 609123048.0, 108145109.0, 269958228.0, 356830601.0, 816969268.0, 140752617.0, 170764026.0, 709709780.0, 229074524.0, 260095987.0, 267045765.0, 798958165.0, 754249.0, 269994119.0, 219417255.0, 5659286.0, 424988211.0, 362744280.0, 97009150.0, 5923044.0, 207283925.0, 126216940.0, 89328627.0, 13008928.0, 17693675.0, 31430334.0, 12342632.0, 7103838.0, 95000000.0, 196397415.0, 261317921.0, 698491347.0, 136766062.0, 467365246.0, 0.0, 196482882.0, 408247917.0, 0.0, 122200000.0, 550000000.0, 42000000.0, 25836616.0, 275650703.0, 373062864.0, 215862692.0, 30000000.0, 0.0, 235926552.0, 8203235.0, 350448145.0, 829000000.0, 334901337.0, 39187783.0, 242988466.0, 159157447.0, 128107642.0, 165478348.0, 334615000.0, 156822020.0, 275293450.0, 101624843.0, 229147509.0, 288747895.0, 346079773.0, 484572835.0, 0.0, 201634991.0, 586090727.0, 237681299.0, 132820716.0, 441286195.0, 60780981.0, 287594577.0, 110230332.0, 306776732.0, 104876233.0, 226830568.0, 1506249360.0, 19422261.0, 281929795.0, 268157400.0, 12281551.0, 213525736.0, 113714830.0, 970761885.0, 128798265.0, 39514713.0, 767820459.0, 182300000.0, 40485039.0, 0.0, 224834564.0, 98126565.0, 207945075.0, 792.0, 151668774.0, 347451894.0, 371940071.0, 340487652.0, 559852396.0, 191502426.0, 138530565.0, 343471816.0, 130482868.0, 10337387.0, 6854611.0, 147332697.0, 90815558.0, 247275374.0, 254455986.0, 77712439.0, 50244700.0, 14711793.0, 0.0, 24769466.0, 133432856.0, 442824138.0, 14564027.0, 235483004.0, 626137675.0, 12532777.0, 41037742.0, 76270454.0, 121214377.0, 12827813.0, 215000000.0, 400062763.0, 140161792.0, 90247624.0, 560069.0, 769653595.0, 311312624.0, 397850012.0, 96060858.0, 115229890.0, 367275019.0, 194168700.0, 665692281.0, 591739379.0, 300854823.0, 0.0, 44703995.0, 624026776.0, 347234916.0, 140175006.0, 3151130.0, 245676146.0, 309208309.0, 63464861.0, 83707310.0, 424760.0, 19839492.0, 154026136.0, 30925690.0, 67683989.0, 441818803.0, 99318987.0, 93617009.0, 317375031.0, 624029371.0, 544272402.0, 752600867.0, 100138851.0, 93525586.0, 40031879.0, 368780809.0, 135330182.0, 358375603.0, 158468292.0, 117000000.0, 12077441.0, 107217396.0, 238207122.0, 11000000.0, 309979994.0, 172363301.0, 150483765.0, 256697520.0, 32222567.0, 543514353.0, 546388105.0, 105173115.0, 186438883.0, 193355800.0, 3897569.0, 170877916.0, 225990978.0, 0.0, 236350661.0, 355237933.0, 170432927.0, 218613188.0, 115505027.0, 57096190.0, 875958308.0, 99206215.0, 53302314.0, 109578115.0, 331926147.0, 288500217.0, 98450062.0, 287506194.0, 286168572.0, 131183530.0, 5887457.0, 15785148.0, 384335608.0, 286140700.0, 0.0, 12000000.0, 194564672.0, 336529144.0, 497409852.0, 0.0, 11293663.0, 47126295.0, 1156730962.0, 314432665.0, 97542952.0, 100086793.0, 90450008.0, 264105545.0, 14334401.0, 48169908.0, 15304890.0, 145000000.0, 2375097.0, 250821495.0, 101371017.0, 184376254.0, 11098131.0, 116980662.0, 41596251.0, 173930596.0, 181000000.0, 113086475.0, 330444045.0, 66787908.0, 212902372.0, 125212904.0, 57504069.0, 260696994.0, 70000000.0, 163670000.0, 110000000.0, 60700000.0, 3221152.0, 60740827.0, 58978653.0, 32017803.0, 368875760.0, 603900354.0, 186053725.0, 553799566.0, 501818.0, 152925093.0, 226497209.0, 41205099.0, 219076518.0, 75902208.0, 44196684.0, 171120329.0, 121697323.0, 179379533.0, 38119483.0, 53653224.0, 177371441.0, 38748395.0, 7267585.0, 89792502.0, 273552592.0, 152944660.0, 2260712.0, 180274123.0, 245527149.0, 147934180.0, 243240178.0, 0.0, 571006128.0, 139804348.0, 300135367.0, 0.0, 836297228.0, 17164377.0, 212000000.0, 206678440.0, 7412216.0, 23057115.0, 75225693.0, 136267476.0, 456758981.0, 135560026.0, 413106170.0, 10700000.0, 17986781.0, 271430189.0, 165184237.0, 17385830.0, 7938872.0, 90810892.0, 137587063.0, 100000000.0, 0.0, 0.0, 104399548.0, 3964682.0, 17654912.0, 1123746996.0, 107139399.0, 256271286.0, 3099314.0, 266465037.0, 19271312.0, 33889159.0, 219851172.0, 369884651.0, 141407024.0, 40100000.0, 172989651.0, 27635305.0, 311256926.0, 203388341.0, 102356381.0, 55112356.0, 314178011.0, 33697647.0, 149022650.0, 8371085.0, 48126384.0, 0.0, 35287788.0, 240031094.0, 119100758.0, 140795793.0, 91709827.0, 9455232.0, 26673242.0, 48572000.0, 343397247.0, 255273813.0, 505000000.0, 258270008.0, 306941670.0, 97138686.0, 433013274.0, 32255440.0, 181001478.0, 102820008.0, 28883511.0, 362637473.0, 101134059.0, 97552050.0, 43884652.0, 102984862.0, 352194034.0, 209196298.0, 296655431.0, 129540499.0, 120175290.0, 521170825.0, 161772375.0, 112544580.0, 2807390.0, 214104620.0, 161834276.0, 20158808.0, 94000000.0, 21378361.0, 95149435.0, 192330738.0, 245360480.0, 886686817.0, 27092880.0, 484635760.0, 8373585.0, 167977596.0, 109502303.0, 54586584.0, 318502923.0, 177243185.0, 117487473.0, 98410061.0, 23198652.0, 76432727.0, 64459316.0, 419651413.0, 0.0, 41954997.0, 7022209.0, 153962963.0, 254134910.0, 316360478.0, 104478416.0, 6212282.0, 209154322.0, 0.0, 19294144.0, 90683916.0, 585178928.0, 163876815.0, 108782847.0, 44107032.0, 224012234.0, 167221571.0, 415484914.0, 234801895.0, 183987723.0, 77000000.0, 368100420.0, 59389433.0, 93945766.0, 4601043.0, 5332926.0, 96408652.0, 86369815.0, 254700832.0, 68929150.0, 64088552.0, 125586134.0, 181466833.0, 61548707.0, 1091405097.0, 218340595.0, 287928194.0, 378882411.0, 60378584.0, 123922370.0, 228738393.0, 230685453.0, 0.0, 20710513.0, 26781723.0, 130358911.0, 0.0, 63782078.0, 177200000.0, 13831503.0, 746921274.0, 335062621.0, 27281507.0, 85512300.0, 116700000.0, 4007792.0, 435000000.0, 424208848.0, 64321501.0, 1477002.0, 361366633.0, 41597830.0, 12007070.0, 177394432.0, 92180910.0, 214918407.0, 37930465.0, 100914445.0, 144056873.0, 85306374.0, 189833357.0, 0.0, 146292009.0, 57469467.0, 52501541.0, 75505856.0, 155010032.0, 495303.0, 21107746.0, 396600000.0, 440603537.0, 13060843.0, 85000000.0, 203427584.0, 64238440.0, 205405498.0, 85582407.0, 274470394.0, 63372757.0, 211780824.0, 118587880.0, 65663276.0, 96889998.0, 70016220.0, 516642939.0, 44030246.0, 470490832.0, 157107755.0, 325233863.0, 108758521.0, 0.0, 82394288.0, 2357852.0, 494471524.0, 243637091.0, 47434430.0, 136706683.0, 216972543.0, 273339556.0, 217022588.0, 289317794.0, 50907422.0, 27200316.0, 163403799.0, 176070171.0, 244082376.0, 0.0, 299268508.0, 99000.0, 7659918.0, 0.0, 177584879.0, 27603069.0, 10725228.0, 42972994.0, 38000000.0, 117760134.0, 50907234.0, 132180323.0, 41482207.0, 44000000.0, 171757863.0, 127730736.0, 24127895.0, 71664962.0, 86175291.0, 33965843.0, 20350754.0, 16829545.0, 449220945.0, 44793222.0, 97607453.0, 149044513.0, 114908830.0, 299288605.0, 146497771.0, 356613439.0, 1826705.0, 60289912.0, 141220678.0, 36230219.0, 80578934.0, 21722776.0, 14400000.0, 147780440.0, 125537191.0, 293329073.0, 6491240.0, 371353001.0, 117719158.0, 391081192.0, 130293714.0, 129000000.0, 89289910.0, 7011317.0, 102825796.0, 80035402.0, 2300000.0, 135000000.0, 26096852.0, 76578641.0, 70067909.0, 129832389.0, 274703340.0, 299370084.0, 75993061.0, 0.0, 473226958.0, 103166989.0, 158674180.0, 0.0, 86915017.0, 43528634.0, 30652890.0, 90426405.0, 0.0, 80197993.0, 183345589.0, 94679598.0, 98837872.0, 183936074.0, 49084830.0, 60427839.0, 433677183.0, 90000098.0, 16633035.0, 91636986.0, 139352633.0, 2856712.0, 48428063.0, 41227069.0, 107458785.0, 336472.0, 216197492.0, 31899000.0, 383531464.0, 389681935.0, 122563539.0, 877244782.0, 183293131.0, 0.0, 56505065.0, 199200000.0, 9636289.0, 0.0, 1755212.0, 431971116.0, 349424282.0, 0.0, 347325802.0, 287553595.0, 56298474.0, 34000000.0, 20766616.0, 32973937.0, 0.0, 201596308.0, 97571250.0, 90400000.0, 75700498.0, 97837138.0, 276572938.0, 24793509.0, 212385533.0, 38413606.0, 207515725.0, 142940100.0, 23936908.0, 200804534.0, 222231186.0, 554987477.0, 83282296.0, 12021272.0, 113019290.0, 0.0, 34705850.0, 64188367.0, 4270000.0, 66468332.0, 39846344.0, 611899420.0, 368744044.0, 27388767.0, 177259441.0, 42931041.0, 231976425.0, 30471.0, 44000000.0, 0.0, 14237000.0, 246984278.0, 161025640.0, 250288523.0, 52223306.0, 0.0, 30536013.0, 113020255.0, 222809600.0, 211643158.0, 163442937.0, 8801940.0, 105200903.0, 333011068.0, 232713139.0, 0.0, 324138.0, 11850214.0, 5359645.0, 477200000.0, 92991835.0, 190212113.0, 220673217.0, 197011982.0, 242688965.0, 0.0, 113857533.0, 0.0, 84460846.0, 137298489.0, 162949164.0, 3049135.0, 284139100.0, 90259536.0, 69823199.0, 0.0, 243843127.0, 25147786.0, 57500000.0, 278731369.0, 28215918.0, 160259319.0, 68766121.0, 127869379.0, 155721132.0, 43848069.0, 173000000.0, 5596708.0, 177977226.0, 46683377.0, 122195920.0, 21284514.0, 376141306.0, 154648887.0, 64572262.0, 52293982.0, 356743061.0, 315156409.0, 0.0, 11540607.0, 61181942.0, 96800000.0, 312573423.0, 59217789.0, 60328000.0, 36690067.0, 38869464.0, 174578751.0, 77745568.0, 19777647.0, 216485654.0, 171760.0, 25037897.0, 0.0, 158162788.0, 1053788.0, 21028755.0, 22939027.0, 49800000.0, 47536959.0, 362211740.0, 68233629.0, 152263880.0, 89519773.0, 361832400.0, 215294342.0, 18090181.0, 227817248.0, 229094.0, 8176544.0, 337580051.0, 175372502.0, 3538446.0, 372234864.0, 185991646.0, 149295601.0, 179246868.0, 43984230.0, 212874442.0, 1185783.0, 31912793.0, 41895491.0, 165615285.0, 93820758.0, 183474602.0, 0.0, 88058786.0, 0.0, 77737889.0, 40283321.0, 87754044.0, 242786137.0, 8025872.0, 155545279.0, 95708457.0, 42365581.0, 0.0, 126248813.0, 2122561.0, 107670357.0, 33583175.0, 92380927.0, 97437106.0, 19152480.0, 248384621.0, 157887643.0, 31327899.0, 259175788.0, 155446362.0, 92913171.0, 310669540.0, 229736344.0, 0.0, 38122105.0, 152500343.0, 25405445.0, 320145693.0, 168167691.0, 72417394.0, 20966644.0, 11125849.0, 0.0, 57120318.0, 205366737.0, 154864401.0, 116766556.0, 0.0, 27462041.0, 76586316.0, 42105111.0, 112343513.0, 129394835.0, 108000000.0, 69623713.0, 0.0, 167805466.0, 40203020.0, 354248063.0, 5900000.0, 0.0, 149673788.0, 19472057.0, 0.0, 41610884.0, 136885767.0, 113006880.0, 186167139.0, 56308881.0, 149270999.0, 264218220.0, 3566225.0, 90029656.0, 82102379.0, 87055349.0, 9304609.0, 154984035.0, 190320568.0, 70442940.0, 29922472.0, 368871007.0, 68729358.0, 4300000.0, 67200000.0, 43318349.0, 85412898.0, 120081841.0, 182016617.0, 114663461.0, 250649836.0, 62022014.0, 100129872.0, 75505973.0, 55447968.0, 57891803.0, 204594016.0, 94073028.0, 177512032.0, 122513057.0, 0.0, 553198.0, 101702060.0, 68706993.0, 76488889.0, 73648228.0, 23006849.0, 8159508.0, 3665069.0, 24145613.0, 79567667.0, 104303851.0, 83719388.0, 61399552.0, 224803475.0, 300400432.0, 148412065.0, 50671850.0, 126690726.0, 222104681.0, 79114085.0, 53187659.0, 17768757.0, 43928932.0, 20566327.0, 0.0, 128905366.0, 24922237.0, 20796847.0, 201957688.0, 304654182.0, 103039258.0, 2995811.0, 55534455.0, 30411183.0, 469947.0, 35763605.0, 16951798.0, 17752940.0, 156974557.0, 54682547.0, 162242962.0, 373552094.0, 200276000.0, 205754447.0, 145896422.0, 240159255.0, 876302.0, 311594032.0, 141069860.0, 10571408.0, 4505922.0, 258022233.0, 160583018.0, 86387857.0, 72500000.0, 58401898.0, 66002004.0, 3076820.0, 4911725.0, 190458706.0, 202292902.0, 270248367.0, 152266007.0, 3542353.0, 68673228.0, 246233113.0, 119940815.0, 61458982.0, 122489822.0, 0.0, 34585416.0, 122233971.0, 171269535.0, 60222298.0, 234989584.0, 33788161.0, 179265204.0, 231449203.0, 0.0, 42277365.0, 0.0, 563749323.0, 104384188.0, 64352607.0, 171963386.0, 374111707.0, 109906372.0, 300228084.0, 143695338.0, 123494610.0, 5867686.0, 294456605.0, 77566815.0, 128769345.0, 122915111.0, 401128639.0, 197309027.0, 144216468.0, 93282604.0, 90874570.0, 95696996.0, 173965010.0, 21930418.0, 93354918.0, 28084357.0, 1776935.0, 32438988.0, 22921898.0, 261930431.0, 196781193.0, 0.0, 39053061.0, 0.0, 78874843.0, 66980456.0, 0.0, 145793296.0, 95020213.0, 161001698.0, 48027970.0, 55969000.0, 206172544.0, 31670620.0, 41296320.0, 187500000.0, 325771424.0, 34560577.0, 96976270.0, 124731534.0, 39421467.0, 152427960.0, 26828365.0, 80383290.0, 215283742.0, 195735876.0, 187361754.0, 302469017.0, 156835339.0, 282570682.0, 111811453.0, 42776760.0, 74188937.0, 183018522.0, 178262620.0, 114977104.0, 6108720.0, 0.0, 191185897.0, 76669806.0, 112265139.0, 160638883.0, 10652035.0, 14000000.0, 170268750.0, 113916474.0, 140464664.0, 195312802.0, 205298907.0, 266728738.0, 0.0, 0.0, 3983997.0, 98017.0, 87713825.0, 40547440.0, 2455831.0, 303025485.0, 0.0, 390493908.0, 152930623.0, 29331068.0, 54837234.0, 29027914.0, 7563728.0, 373967.0, 164602163.0, 16374328.0, 349779543.0, 76286096.0, 114194847.0, 341631208.0, 31081.0, 24261569.0, 149217355.0, 36606743.0, 189859560.0, 1477676.0, 0.0, 23237911.0, 54956140.0, 84606030.0, 0.0, 93700000.0, 30050028.0, 114830111.0, 190213455.0, 103891409.0, 164433867.0, 0.0, 34416893.0, 55247881.0, 268031828.0, 216614388.0, 33013805.0, 182290266.0, 411006740.0, 34872033.0, 104155843.0, 34670720.0, 11642254.0, 146198896.0, 92863945.0, 46.0, 33372606.0, 7820688.0, 113280098.0, 0.0, 61648500.0, 310650585.0, 162839667.0, 108539911.0, 42285169.0, 20915465.0, 21500000.0, 71485043.0, 0.0, 54700105.0, 0.0, 103738726.0, 0.0, 71009334.0, 215529201.0, 54600000.0, 8038061.0, 92542418.0, 82150642.0, 56932305.0, 272912430.0, 25288872.0, 155464351.0, 83188165.0, 19504039.0, 172855065.0, 85498534.0, 26888376.0, 96618699.0, 128499205.0, 4242978.0, 196114570.0, 86930411.0, 98185582.0, 160078586.0, 50752337.0, 35057696.0, 15400000.0, 180622424.0, 119000410.0, 11806119.0, 105834556.0, 245623848.0, 0.0, 104907746.0, 68267862.0, 72527595.0, 15116634.0, 154937680.0, 93375151.0, 0.0, 144492830.0, 371876278.0, 68514844.0, 41170784.0, 35424826.0, 101229792.0, 64076736.0, 204999686.0, 157387195.0, 48902953.0, 3094813.0, 0.0, 374743.0, 0.0, 202026112.0, 321731527.0, 28650575.0, 5530764.0, 18552460.0, 133000000.0, 299965036.0, 150962475.0, 0.0, 62357900.0, 0.0, 17985893.0, 2451545.0, 169956806.0, 53977250.0, 105316267.0, 77516304.0, 0.0, 37664855.0, 189015611.0, 277448382.0, 80936232.0, 237382724.0, 0.0, 144000000.0, 75450437.0, 24829644.0, 147880543.0, 49779728.0, 0.0, 114956699.0, 58058367.0, 0.0, 151493655.0, 150680864.0, 0.0, 0.0, 131940411.0, 13110448.0, 31554855.0, 130786397.0, 73244881.0, 131457682.0, 257850122.0, 115772733.0, 31083599.0, 62548947.0, 3193102.0, 98337295.0, 292817841.0, 249288105.0, 3148182.0, 68572378.0, 63327201.0, 0.0, 21786738.0, 114156230.0, 53909751.0, 44862187.0, 176885658.0, 500188435.0, 26049082.0, 123384128.0, 26250020.0, 129181830.0, 94728529.0, 142817992.0, 82466670.0, 1165882.0, 85300000.0, 203277636.0, 208076205.0, 102000000.0, 116400000.0, 2040920.0, 29450919.0, 103951461.0, 14460000.0, 301000000.0, 92921203.0, 219103655.0, 44287131.0, 170000000.0, 69131860.0, 74558115.0, 17425000.0, 150000000.0, 53208180.0, 52882018.0, 46770602.0, 13596911.0, 223387299.0, 178051587.0, 66122026.0, 285444603.0, 14821658.0, 55987321.0, 0.0, 355692760.0, 69821334.0, 0.0, 108047131.0, 96105964.0, 309457509.0, 115101622.0, 90565421.0, 197687603.0, 45916769.0, 325756637.0, 128388320.0, 255000211.0, 173013509.0, 178066569.0, 87000000.0, 0.0, 58972904.0, 27900000.0, 30426096.0, 40828540.0, 43061982.0, 0.0, 17273593.0, 18492362.0, 147080413.0, 233093859.0, 74000000.0, 0.0, 24475416.0, 89456761.0, 328203506.0, 103590271.0, 68349884.0, 29762011.0, 0.0, 61489265.0, 82966152.0, 28451622.0, 0.0, 90383208.0, 126069509.0, 0.0, 119754278.0, 0.0, 0.0, 102854431.0, 77112176.0, 22179430.0, 111340801.0, 0.0, 26288320.0, 0.0, 25605015.0, 49830607.0, 12639297.0, 243400000.0, 64256513.0, 24007324.0, 13411957.0, 0.0, 0.0, 143049560.0, 0.0, 52970014.0, 43493123.0, 38159905.0, 319285.0, 21567853.0, 157920733.0, 165333180.0, 85167639.0, 37962774.0, 73762516.0, 136621271.0, 87784194.0, 63408614.0, 89162162.0, 59418613.0, 50549107.0, 100230832.0, 0.0, 75395048.0, 141591324.0, 25023434.0, 0.0, 6110000.0, 0.0, 14899417.0, 96900000.0, 52034889.0, 18637690.0, 51416464.0, 54926886.0, 40002112.0, 88715192.0, 268426634.0, 117831631.0, 0.0, 19560274.0, 20645327.0, 57103895.0, 88323487.0, 8279017.0, 23580000.0, 95714875.0, 0.0, 65900249.0, 92374674.0, 56681566.0, 55041367.0, 900000.0, 63833449.0, 6003587.0, 154906693.0, 37311672.0, 39462438.0, 5048693.0, 35619521.0, 0.0, 142044638.0, 31466789.0, 572809.0, 39363635.0, 15008161.0, 50363790.0, 40055439.0, 49554002.0, 75850624.0, 215887717.0, 68688831.0, 183953723.0, 33472850.0, 136000000.0, 53181600.0, 163733697.0, 173959438.0, 1104682.0, 0.0, 8679814.0, 19255873.0, 33333531.0, 288347692.0, 169852759.0, 195268056.0, 0.0, 4235151.0, 189198313.0, 141702264.0, 31584901.0, 153997819.0, 3263585.0, 0.0, 0.0, 142400065.0, 40382659.0, 35097815.0, 58785180.0, 167298192.0, 38376497.0, 132274484.0, 78000000.0, 3533227.0, 342695435.0, 3484331.0, 34227298.0, 10686841.0, 60052138.0, 79700000.0, 51148651.0, 0.0, 32392047.0, 87840042.0, 58853106.0, 178127760.0, 49469904.0, 30418560.0, 107879496.0, 0.0, 49797148.0, 0.0, 0.0, 160000000.0, 3325038.0, 0.0, 50315140.0, 94000000.0, 99423521.0, 91974818.0, 113374103.0, 146936910.0, 49111202.0, 0.0, 116643346.0, 83160734.0, 0.0, 29000000.0, 226904017.0, 67918658.0, 100491683.0, 1984662.0, 65464324.0, 15447154.0, 40855419.0, 198685114.0, 27728118.0, 0.0, 120000000.0, 84601681.0, 0.0, 104945765.0, 107597242.0, 0.0, 253625427.0, 70200000.0, 160112671.0, 25966555.0, 181674817.0, 64445708.0, 72178895.0, 97594140.0, 7177143.0, 150406466.0, 44547681.0, 52304001.0, 0.0, 161451538.0, 0.0, 55707411.0, 80916492.0, 177841558.0, 0.0, 71069884.0, 0.0, 8459458.0, 38955598.0, 11122090.0, 107944236.0, 41382841.0, 5684789.0, 26121638.0, 14010832.0, 133821816.0, 56870414.0, 32721635.0, 748453.0, 82169884.0, 4064495.0, 55157539.0, 16838910.0, 86865564.0, 51070807.0, 68696770.0, 4440055.0, 41410568.0, 19300000.0, 95608995.0, 0.0, 26193068.0, 171844840.0, 102244770.0, 106303988.0, 75715436.0, 600896.0, 0.0, 91353501.0, 8784318.0, 91188905.0, 188126.0, 63102666.0, 38535221.0, 136836156.0, 0.0, 480811.0, 94882889.0, 24159934.0, 0.0, 17671101.0, 10089373.0, 51376861.0, 156844753.0, 16174377.0, 0.0, 32248241.0, 21133087.0, 106371651.0, 100000000.0, 48668907.0, 45479110.0, 30523226.0, 25871834.0, 71561644.0, 30331165.0, 147845033.0, 72779000.0, 88880821.0, 45892212.0, 42333295.0, 161626121.0, 0.0, 31672907.0, 67347013.0, 4152230.0, 134402450.0, 183611771.0, 0.0, 28931401.0, 3011195.0, 124305181.0, 54418872.0, 60000000.0, 100734718.0, 100654149.0, 50159144.0, 43058898.0, 67312826.0, 22944502.0, 11947954.0, 115267375.0, 82087155.0, 162945894.0, 43165571.0, 14000000.0, 0.0, 23.0, 27437881.0, 74208267.0, 154749918.0, 101646581.0, 149281606.0, 96085477.0, 22441323.0, 150270147.0, 347434178.0, 74237563.0, 0.0, 0.0, 46221189.0, 37170057.0, 16671505.0, 0.0, 110627965.0, 18750246.0, 107196498.0, 0.0, 38058335.0, 193000000.0, 48190704.0, 44909486.0, 114660784.0, 0.0, 128884132.0, 0.0, 0.0, 18112929.0, 0.0, 99965753.0, 309492681.0, 0.0, 0.0, 28831145.0, 57958696.0, 134748021.0, 68106245.0, 52099090.0, 58000000.0, 98159963.0, 17460020.0, 0.0, 122444772.0, 13269963.0, 164508066.0, 56070433.0, 295750.0, 41512007.0, 40846082.0, 14375181.0, 64822796.0, 64110728.0, 0.0, 211989043.0, 44091067.0, 39171130.0, 119208989.0, 118000000.0, 34942188.0, 12482775.0, 13100000.0, 242295562.0, 187112.0, 97918663.0, 36642838.0, 22222308.0, 0.0, 45554533.0, 0.0, 0.0, 2944752.0, 100525432.0, 5129058.0, 32204030.0, 27500000.0, 27645491.0, 0.0, 0.0, 48065672.0, 119269486.0, 0.0, 27409889.0, 96269812.0, 0.0, 119137784.0, 60874615.0, 21400000.0, 0.0, 66966987.0, 25035950.0, 12000000.0, 57490374.0, 30987695.0, 63013281.0, 148336445.0, 55181129.0, 0.0, 91038276.0, 56422687.0, 105178561.0, 100000000.0, 58795814.0, 31911598.0, 0.0, 0.0, 0.0, 742898.0, 123729176.0, 10903846.0, 41590886.0, 65535067.0, 32005248.0, 59901913.0, 47088990.0, 0.0, 10539000.0, 60965854.0, 101564935.0, 152022101.0, 0.0, 3412497.0, 382946.0, 36098382.0, 55583804.0, 40492759.0, 0.0, 61698899.0, 48169156.0, 101595121.0, 5179037.0, 29400000.0, 0.0, 46216641.0, 73956241.0, 212404396.0, 122644820.0, 72436439.0, 61619773.0, 48814909.0, 130431368.0, 39041505.0, 136982834.0, 0.0, 51164106.0, 16856124.0, 65664721.0, 73100172.0, 69834815.0, 35926213.0, 0.0, 0.0, 0.0, 40346186.0, 25434291.0, 17080167.0, 0.0, 21510851.0, 0.0, 60527873.0, 23144499.0, 3200000.0, 52425855.0, 80049764.0, 43312294.0, 27515786.0, 127906624.0, 45236543.0, 18409891.0, 41819064.0, 5483299.0, 84772742.0, 160602194.0, 6842058.0, 80547866.0, 0.0, 36733909.0, 111231041.0, 7060876.0, 36160375.0, 72700000.0, 0.0, 30400000.0, 44352417.0, 54215416.0, 22852638.0, 3324330.0, 17508518.0, 85632458.0, 0.0, 14796236.0, 117758500.0, 3442853.0, 105197635.0, 16974459.0, 136159423.0, 61141030.0, 18564088.0, 71154592.0, 133718711.0, 10329747.0, 42064105.0, 0.0, 0.0, 85131830.0, 5364858.0, 3727746.0, 125728258.0, 16153593.0, 140807547.0, 603943.0, 59192128.0, 16290976.0, 10696210.0, 114178613.0, 25562924.0, 50877145.0, 8555008.0, 176104344.0, 127814609.0, 84646831.0, 18755936.0, 0.0, 24000000.0, 0.0, 79817939.0, 15608545.0, 416925.0, 162944923.0, 68296293.0, 55003135.0, 65754228.0, 10848783.0, 124827316.0, 0.0, 233755553.0, 86658558.0, 63100000.0, 37317558.0, 19322135.0, 36993168.0, 674918.0, 68369434.0, 6451628.0, 108103450.0, 0.0, 0.0, 57777106.0, 4777465.0, 38502340.0, 970816.0, 11203026.0, 0.0, 0.0, 16519460.0, 0.0, 0.0, 138259062.0, 91753202.0, 50041732.0, 0.0, 41627431.0, 91036760.0, 19294901.0, 52826594.0, 57223890.0, 88923251.0, 0.0, 0.0, 140470746.0, 3468572.0, 6814789.0, 7282851.0, 9500000.0, 141047179.0, 14358033.0, 16942795.0, 120455994.0, 0.0, 110879513.0, 0.0, 2401510.0, 42886719.0, 21819348.0, 49627779.0, 17507368.0, 23081726.0, 66821036.0, 0.0, 31155435.0, 0.0, 57881056.0, 71073932.0, 29657751.0, 19125401.0, 0.0, 0.0, 2450846.0, 42345360.0, 106269971.0]}], \"hoverlabel\": {\"namelength\": 0}, \"hovertemplate\": \"%{xaxis.title.text}=%{x}<br>%{yaxis.title.text}=%{y}<br>tm_rating=%{marker.color}\", \"legendgroup\": \"\", \"marker\": {\"color\": [92.0, 87.0, 79.0, 94.0, 91.0, 72.0, 89.0, 84.0, 80.0, 94.0, 87.0, 95.0, null, 97.0, 93.0, 91.0, 87.0, 96.0, 96.0, null, 82.0, 95.0, 71.0, 88.0, null, 85.0, 85.0, 98.0, null, 91.0, 92.0, 91.0, 96.0, 68.0, 69.0, 96.0, 91.0, 95.0, 93.0, 98.0, 90.0, null, 90.0, 94.0, 92.0, 91.0, 89.0, 86.0, 100.0, 91.0, 93.0, 97.0, 86.0, 93.0, 87.0, 89.0, 90.0, 78.0, 76.0, null, 83.0, 95.0, 93.0, 99.0, 94.0, 97.0, 75.0, 83.0, 84.0, 93.0, 87.0, 96.0, 92.0, 84.0, 76.0, 91.0, 89.0, 97.0, 79.0, 96.0, null, 82.0, 26.0, 69.0, 95.0, 81.0, 88.0, 82.0, 91.0, 88.0, 79.0, 98.0, null, 93.0, null, 80.0, 77.0, 93.0, 88.0, 90.0, null, 91.0, 96.0, 100.0, 52.0, 65.0, 72.0, 84.0, 91.0, null, 78.0, 84.0, 85.0, 93.0, 100.0, 48.0, 84.0, 97.0, 94.0, 94.0, 65.0, 90.0, 89.0, 91.0, 89.0, null, 95.0, 90.0, 90.0, 82.0, 87.0, 66.0, 82.0, null, 92.0, 92.0, 88.0, 89.0, 75.0, 70.0, 86.0, 89.0, 92.0, 28.0, 82.0, 78.0, 89.0, 75.0, 92.0, 97.0, 91.0, 90.0, 86.0, 77.0, 49.0, null, 90.0, null, 93.0, 96.0, 72.0, 97.0, 95.0, 93.0, 85.0, 90.0, 85.0, 83.0, 87.0, 97.0, 86.0, 95.0, null, 100.0, 92.0, 83.0, 93.0, 79.0, 55.0, null, 66.0, 78.0, 93.0, 99.0, 68.0, 64.0, null, 86.0, 89.0, 78.0, 73.0, 56.0, 84.0, 95.0, 85.0, 45.0, 62.0, 91.0, 93.0, null, 78.0, 95.0, 80.0, 88.0, 87.0, 93.0, 91.0, 51.0, 65.0, 75.0, 86.0, 83.0, 91.0, 80.0, null, 92.0, null, 76.0, 85.0, 69.0, 93.0, 89.0, 53.0, 92.0, 83.0, 74.0, 79.0, null, 93.0, 87.0, 84.0, 96.0, 98.0, null, 94.0, 94.0, 86.0, 75.0, 80.0, 67.0, 56.0, 66.0, 51.0, 92.0, null, 53.0, 85.0, 84.0, 72.0, 70.0, 51.0, 84.0, 64.0, 89.0, 47.0, 69.0, 96.0, 88.0, 69.0, null, 69.0, 70.0, 59.0, 74.0, 94.0, 73.0, 90.0, 92.0, 80.0, 80.0, 78.0, 93.0, 68.0, 89.0, 59.0, 83.0, 79.0, 81.0, 86.0, 83.0, 69.0, 95.0, 77.0, 63.0, 90.0, 95.0, 81.0, 67.0, 85.0, null, 93.0, 49.0, null, 97.0, 83.0, 74.0, 73.0, 90.0, 33.0, null, null, null, 77.0, 96.0, 73.0, 82.0, 43.0, 82.0, 69.0, 72.0, 87.0, 49.0, null, 90.0, 85.0, 85.0, 53.0, 77.0, 76.0, 70.0, 88.0, 54.0, 80.0, null, null, 65.0, 64.0, null, 54.0, 76.0, 65.0, 85.0, 43.0, 80.0, 83.0, null, null, 97.0, 72.0, 76.0, 78.0, 71.0, 57.0, 48.0, null, null, 28.0, 67.0, null, null, 77.0, 88.0, 86.0, 93.0, 78.0, 60.0, 63.0, 94.0, 80.0, 71.0, 91.0, null, 81.0, 89.0, 86.0, 94.0, 56.0, 85.0, 83.0, 91.0, null, null, 54.0, 67.0, 82.0, 77.0, 58.0, null, 81.0, 85.0, 41.0, null, null, 61.0, 92.0, 35.0, 55.0, null, null, 53.0, 99.0, 40.0, 86.0, 79.0, 90.0, 52.0, null, 93.0, 75.0, 82.0, 48.0, null, 84.0, 80.0, 45.0, 74.0, 87.0, 86.0, 84.0, null, 62.0, 30.0, null, null, 90.0, null, 74.0, 77.0, 94.0, null, 33.0, 93.0, null, 96.0, 55.0, 90.0, 59.0, 88.0, 89.0, 68.0, 74.0, 41.0, 55.0, 48.0, 83.0, 89.0, 65.0, 34.0, null, 71.0, 64.0, 50.0, 88.0, 86.0, 73.0, null, 82.0, 83.0, 80.0, 73.0, 93.0, null, 92.0, 75.0, 83.0, 37.0, 26.0, 74.0, null, 93.0, 97.0, 80.0, 54.0, null, 97.0, 46.0, 74.0, 93.0, 39.0, 64.0, 88.0, 86.0, 67.0, 41.0, 91.0, 92.0, 89.0, 68.0, 33.0, 63.0, 86.0, 77.0, null, 56.0, 95.0, 92.0, 72.0, 61.0, 77.0, 82.0, 79.0, 82.0, 65.0, 80.0, 75.0, null, 68.0, 88.0, 85.0, 39.0, 70.0, 71.0, 33.0, 84.0, 36.0, 49.0, 81.0, 75.0, 29.0, 99.0, 98.0, null, 56.0, 75.0, 89.0, 92.0, 66.0, null, 67.0, 73.0, 93.0, 93.0, 53.0, 71.0, 39.0, 81.0, 90.0, 45.0, 41.0, 44.0, 58.0, 71.0, 32.0, 69.0, 49.0, 69.0, 45.0, 37.0, 69.0, 70.0, null, 11.0, 78.0, 89.0, 81.0, null, 43.0, 76.0, 84.0, null, 83.0, 82.0, null, null, 63.0, 46.0, null, 36.0, 96.0, 78.0, 80.0, 68.0, 72.0, 73.0, 91.0, 35.0, 69.0, 76.0, 82.0, 68.0, 65.0, 53.0, 56.0, 92.0, null, 76.0, 65.0, 92.0, 83.0, 60.0, 39.0, 54.0, 96.0, 81.0, 91.0, 55.0, 37.0, 62.0, 73.0, 91.0, 68.0, 39.0, 88.0, 52.0, 85.0, 76.0, 70.0, 54.0, 86.0, 92.0, 81.0, 56.0, 37.0, null, 15.0, 84.0, 99.0, 71.0, 85.0, 96.0, 64.0, 93.0, 91.0, 85.0, 32.0, 88.0, 87.0, 91.0, 76.0, 96.0, 64.0, null, 38.0, null, 37.0, 49.0, 61.0, 90.0, 54.0, 71.0, 66.0, 84.0, 57.0, 58.0, 73.0, 42.0, 90.0, null, 22.0, null, 63.0, null, 81.0, 36.0, 93.0, 83.0, 83.0, 25.0, 86.0, 67.0, 79.0, 20.0, 88.0, 41.0, 80.0, null, 83.0, 67.0, 56.0, 66.0, 76.0, null, null, 89.0, 11.0, 95.0, 94.0, null, 92.0, 85.0, 28.0, 85.0, 78.0, 33.0, 90.0, 91.0, 35.0, 89.0, 84.0, 92.0, 80.0, null, 43.0, 26.0, 83.0, 42.0, 26.0, 76.0, 73.0, 46.0, 42.0, 75.0, 89.0, 85.0, 63.0, 54.0, 91.0, 85.0, 63.0, 87.0, 69.0, 78.0, 85.0, 59.0, 70.0, 28.0, 86.0, 75.0, 29.0, 74.0, 71.0, 75.0, 60.0, 47.0, 84.0, 81.0, null, 72.0, 76.0, 61.0, 70.0, null, 36.0, 78.0, 68.0, 53.0, 77.0, 66.0, 87.0, 78.0, 79.0, 81.0, 68.0, 39.0, null, 83.0, 74.0, null, 59.0, 62.0, null, null, 72.0, 81.0, 9.0, 97.0, 93.0, 5.0, 88.0, 59.0, 74.0, 84.0, 48.0, 73.0, 67.0, null, 88.0, null, 56.0, 97.0, 82.0, 60.0, 84.0, 50.0, 80.0, 89.0, 90.0, 71.0, 28.0, 57.0, 76.0, 56.0, 79.0, 54.0, 39.0, 27.0, null, 69.0, 36.0, 40.0, 81.0, null, 81.0, 73.0, 96.0, 63.0, 86.0, 43.0, 22.0, 66.0, 18.0, 64.0, 51.0, null, null, 90.0, 26.0, 50.0, 53.0, 97.0, 86.0, 78.0, 95.0, 71.0, 90.0, 94.0, 78.0, 66.0, 76.0, 58.0, 92.0, 91.0, null, null, 76.0, null, 28.0, 80.0, null, null, null, 19.0, 73.0, null, 20.0, 77.0, null, null, 81.0, 51.0, 88.0, 93.0, 57.0, 76.0, 87.0, 49.0, 27.0, null, null, 73.0, null, 84.0, 91.0, 42.0, 82.0, 39.0, 56.0, 54.0, 61.0, 89.0, 39.0, null, 50.0, 47.0, null, 64.0, 96.0, 50.0, null, 58.0, 17.0, 63.0, 73.0, 71.0, 23.0, 45.0, 92.0, 77.0, 76.0, 17.0, 73.0, 62.0, 39.0, 60.0, null, 68.0, 57.0, 75.0, 70.0, 95.0, 61.0, 91.0, 69.0, 80.0, 59.0, 71.0, 87.0, 92.0, 67.0, 61.0, null, 50.0, null, 21.0, 20.0, 24.0, 72.0, 31.0, 79.0, 41.0, 73.0, 64.0, 37.0, 45.0, 96.0, 15.0, 80.0, null, 27.0, 41.0, 49.0, 62.0, 62.0, 57.0, 33.0, 43.0, 75.0, 38.0, 93.0, 30.0, 89.0, 54.0, 52.0, 98.0, null, 94.0, null, 12.0, 15.0, null, 29.0, 84.0, 72.0, 56.0, 41.0, 66.0, 89.0, 74.0, 73.0, null, 48.0, 92.0, 40.0, 74.0, 80.0, 73.0, 58.0, 90.0, 80.0, 28.0, null, 84.0, 83.0, 19.0, null, 57.0, 27.0, 78.0, 52.0, 44.0, 80.0, 82.0, 30.0, null, 37.0, 34.0, 71.0, null, 89.0, 55.0, 53.0, 54.0, 57.0, 47.0, 94.0, 52.0, 52.0, 75.0, 81.0, 89.0, 75.0, null, null, null, 87.0, 54.0, null, 55.0, null, null, 94.0, 93.0, 45.0, 74.0, null, 15.0, 86.0, 55.0, 87.0, 63.0, 27.0, 92.0, 30.0, 82.0, 29.0, 73.0, 49.0, 76.0, 50.0, 42.0, 61.0, 85.0, 28.0, 35.0, 33.0, 91.0, 8.0, 49.0, 82.0, 82.0, 85.0, 63.0, 62.0, 62.0, 39.0, 50.0, 76.0, 31.0, 57.0, 27.0, null, null, null, 41.0, 21.0, 91.0, 24.0, 35.0, null, 48.0, 91.0, 13.0, 70.0, null, 38.0, null, 92.0, 52.0, 62.0, 35.0, 87.0, 11.0, 66.0, 71.0, 20.0, 78.0, 41.0, 26.0, 71.0, 77.0, 79.0, 23.0, null, 24.0, 22.0, 48.0, 88.0, 22.0, null, 64.0, 89.0, 36.0, 78.0, null, 88.0, 83.0, 88.0, 68.0, 46.0, 71.0, null, 82.0, 42.0, 93.0, 94.0, 18.0, null, null, 90.0, 78.0, 57.0, 73.0, 80.0, 91.0, null, 44.0, 39.0, 66.0, 37.0, 52.0, 61.0, null, 45.0, 92.0, null, 45.0, 41.0, 90.0, 42.0, 34.0, null, null, 89.0, 27.0, 96.0, 56.0, 84.0, null, 43.0, 40.0, null, 51.0, 89.0, 85.0, 52.0, 86.0, 31.0, 47.0, 43.0, 31.0, 90.0, 86.0, 64.0, 56.0, 34.0, 50.0, 77.0, 82.0, 87.0, 70.0, 62.0, 72.0, null, 33.0, 46.0, 43.0, 52.0, 92.0, 64.0, 62.0, null, 76.0, 26.0, null, null, 96.0, 42.0, 31.0, 52.0, 76.0, 83.0, 59.0, 78.0, 47.0, 66.0, null, 20.0, 94.0, 52.0, null, 87.0, 27.0, 64.0, 69.0, 54.0, 3.0, null, null, 68.0, 38.0, 21.0, 28.0, 52.0, 47.0, 46.0, 55.0, 72.0, 9.0, 60.0, 76.0, 30.0, 31.0, 44.0, 23.0, 51.0, 50.0, null, 62.0, 64.0, 83.0, 65.0, 90.0, 11.0, 72.0, 69.0, 90.0, 51.0, 70.0, 79.0, 36.0, 11.0, 58.0, 65.0, 85.0, null, 61.0, 93.0, 79.0, 59.0, 51.0, 88.0, null, 88.0, null, 57.0, 48.0, 93.0, null, 35.0, 24.0, 46.0, 26.0, 17.0, 64.0, 59.0, 29.0, 54.0, 77.0, 82.0, 26.0, 72.0, null, 51.0, null, 19.0, 69.0, 41.0, 56.0, 95.0, 44.0, null, 32.0, 26.0, 48.0, 35.0, null, 62.0, 28.0, 63.0, 29.0, null, 81.0, 50.0, 45.0, 87.0, 18.0, 33.0, 42.0, 53.0, 43.0, null, 11.0, 90.0, null, 22.0, 75.0, 67.0, 72.0, 91.0, 87.0, 75.0, 69.0, null, 65.0, 93.0, 77.0, 22.0, 84.0, 45.0, 52.0, 17.0, 54.0, 21.0, null, 56.0, 21.0, 27.0, 64.0, 27.0, null, 15.0, 22.0, 88.0, 14.0, null, null, 8.0, null, 50.0, 12.0, 48.0, 44.0, 59.0, null, 47.0, 19.0, null, 42.0, 80.0, 66.0, 4.0, 65.0, null, 25.0, 39.0, 77.0, 22.0, 35.0, 35.0, 93.0, null, 80.0, 85.0, 87.0, 22.0, 32.0, 46.0, 44.0, 43.0, null, null, 53.0, 80.0, null, 38.0, 93.0, 80.0, 40.0, 71.0, 47.0, 34.0, 25.0, 66.0, 28.0, null, 67.0, 50.0, 35.0, 29.0, 94.0, 54.0, 73.0, 64.0, 34.0, 58.0, null, null, 62.0, 23.0, 45.0, 71.0, 14.0, 72.0, 34.0, null, 79.0, null, 68.0, 45.0, null, 34.0, 84.0, 51.0, 67.0, 14.0, 77.0, null, 33.0, 64.0, 19.0, 45.0, 43.0, 90.0, 21.0, 22.0, null, 68.0, null, 28.0, 60.0, 94.0, 32.0, 95.0, 70.0, null, 53.0, 36.0, 39.0, 35.0, 27.0, 41.0, 27.0, null, 57.0, null, 30.0, 43.0, null, 14.0, 33.0, 19.0, 45.0, 93.0, 13.0, 54.0, 87.0, 62.0, null, 63.0, 55.0, null, 13.0, 9.0, 80.0, 80.0, 25.0, null, null, 54.0, 38.0, 29.0, null, 63.0, 90.0, 33.0, 24.0, null, 85.0, 35.0, 82.0, 79.0, 81.0, 95.0, 46.0, null, 87.0, 56.0, 44.0, 64.0, 21.0, 59.0, 73.0, 31.0, null, null, 38.0, 23.0, 83.0, 54.0, 38.0, 82.0, 40.0, 85.0, 37.0, 80.0, 66.0, 17.0, 21.0, null, 78.0, 54.0, 35.0, 33.0, 28.0, 56.0, 70.0, 79.0, 38.0, 78.0, 34.0, 88.0, 87.0, null, 21.0, null, 10.0, null, 60.0, 40.0, null, 59.0, null, 47.0, 16.0, null, 14.0, null, 69.0, 97.0, 81.0, 88.0, 38.0, 58.0, null, 12.0, 39.0, null, null, 20.0, null, 78.0, 25.0, 33.0, 28.0, 58.0, 43.0, null, 20.0, null, 29.0, null, 85.0, 91.0, 64.0, null, 87.0, 54.0, 46.0, 60.0, 96.0, 29.0, 74.0, 94.0, null, 57.0, 22.0, 16.0, 82.0, 44.0, 9.0, null, 46.0, 60.0, 63.0, 75.0, 69.0, 48.0, 22.0, 96.0, 20.0, 6.0, 17.0, 23.0, 83.0, null, 86.0, null, 53.0, 26.0, 50.0, null, 58.0, 53.0, 91.0, 27.0, 36.0, 58.0, 13.0, 26.0, 65.0, 57.0, 40.0, 92.0, 92.0, 16.0, 74.0, 55.0, 37.0, 73.0, 37.0, 54.0, 80.0, 19.0, null, 45.0, null, null, 23.0, 80.0, 46.0, 88.0, 13.0, 52.0, 82.0, 47.0, 27.0, 69.0, 71.0, 26.0, null, 58.0, 82.0, 84.0, 24.0, 30.0, 42.0, 93.0, 70.0, null, 25.0, 21.0, 77.0, null, 96.0, 70.0, 88.0, 6.0, 16.0, 61.0, 21.0, 48.0, 50.0, 91.0, 75.0, null, 16.0, 61.0, 58.0, 48.0, 62.0, 55.0, 52.0, 89.0, 17.0, null, 45.0, 17.0, 40.0, 52.0, 54.0, 58.0, 85.0, 51.0, 55.0, null, null, 66.0, null, 44.0, 52.0, 14.0, 89.0, 81.0, 38.0, 41.0, 52.0, 14.0, 42.0, 18.0, 84.0, 30.0, 10.0, 43.0, 54.0, 52.0, null, 73.0, 15.0, 50.0, null, 48.0, null, 68.0, null, 28.0, null, null, 57.0, 7.0, 23.0, 65.0, 28.0, 90.0, 94.0, 30.0, null, 66.0, 82.0, 48.0, 48.0, 53.0, 73.0, 52.0, 11.0, 53.0, null, 64.0, 94.0, 38.0, 58.0, 90.0, 85.0, null, 81.0, 7.0, null, null, 95.0, 29.0, 59.0, 10.0, 55.0, 29.0, 80.0, 26.0, 24.0, 22.0, 12.0, 68.0, 25.0, 30.0, 60.0, null, 94.0, null, 44.0, 16.0, 14.0, 53.0, null, null, null, 11.0, 41.0, 18.0, 98.0, 34.0, null, null, 89.0, 50.0, 55.0, 16.0, 46.0, 26.0, null, 73.0, 12.0, 58.0, 26.0, null, 47.0, 22.0, 50.0, 90.0, 80.0, 17.0, 8.0, 26.0, 87.0, 12.0, 91.0, 8.0, 83.0, null, 95.0, 67.0, 86.0, 53.0, 42.0, 73.0, 10.0, 38.0, 43.0, 18.0, 32.0, 64.0, 48.0, 33.0, 45.0, null, 46.0, 19.0, 59.0, null, 65.0, 37.0, 56.0, 58.0, null, 61.0, null, 15.0, 15.0, 23.0, 5.0, 75.0, 14.0, null, 26.0, 94.0, 33.0, 81.0, 32.0, 13.0, null, 45.0, 74.0, null, null, 20.0, 48.0, 39.0, 69.0, 27.0, 82.0, 73.0, 51.0, null, 19.0, 38.0, null, 86.0, null, 28.0, null, 28.0, null, 42.0, null, 16.0, 40.0, 52.0, 49.0, 2.0, 53.0, 27.0, 83.0, 93.0, 11.0, 35.0, 61.0, null, 10.0, 23.0, 43.0, 28.0, 61.0, 43.0, null, 44.0, 16.0, 40.0, 24.0, null, null, 13.0, 55.0, 53.0, 59.0, 81.0, null, 29.0, 2.0, null, null, null, 36.0, 67.0, 45.0, null, 31.0, 17.0, null, 17.0, 59.0, 11.0, 54.0, 21.0, 67.0, null, 18.0, 55.0, null, null, 51.0, 15.0, 46.0, 31.0, 78.0, 47.0, 68.0, 70.0, 47.0, 64.0, null, 61.0, 81.0, 43.0, null, 18.0, 56.0, null, 5.0, 67.0, 21.0, 30.0, 21.0, 32.0, 38.0, 40.0, 18.0, 45.0, 40.0, 40.0, 83.0, 52.0, 14.0, 34.0, 53.0, 77.0, 32.0, 58.0, 20.0, 6.0, 41.0, 87.0, 67.0, 89.0, 51.0, 60.0, 28.0, null, 63.0, 11.0, 78.0, 15.0, 50.0, 19.0, 35.0, 15.0, 75.0, 93.0, 87.0, 59.0, 70.0, 55.0, 70.0, 63.0, 64.0, 10.0, 29.0, 48.0, 37.0, 94.0, null, 41.0, 88.0, 61.0, 30.0, 37.0, 79.0, 16.0, 29.0, 11.0, null, 43.0, 9.0, 54.0, 22.0, 59.0, 11.0, 38.0, 60.0, 12.0, null, 64.0, 62.0, 62.0, 31.0, null, 92.0, 24.0, 87.0, 38.0, 71.0, 52.0, 76.0, 55.0, null, 38.0, null, 76.0, 27.0, 91.0, 50.0, 24.0, 3.0, null, 9.0, 47.0, null, null, 10.0, 31.0, 78.0, 62.0, null, 53.0, 55.0, 32.0, 25.0, 38.0, null, null, 50.0, 49.0, 29.0, 29.0, null, 68.0, 22.0, 19.0, 15.0, 45.0, 84.0, 12.0, 28.0, null, 22.0, 60.0, null, null, 42.0, 19.0, 3.0, null, 33.0, 51.0, 12.0, null, 78.0, 78.0, 41.0, 83.0, 39.0, 13.0, 15.0, null, 42.0, 20.0, null, 57.0, 17.0, 39.0, null, 56.0, 41.0, 70.0, null, 63.0, 71.0, 50.0, 58.0, 85.0, 37.0, 31.0, 14.0, 93.0, null, 45.0, null, 12.0, 74.0, 64.0, 34.0, 64.0, 12.0, 22.0, 14.0, 47.0, 30.0, null, 36.0, 4.0, null, 59.0, 11.0, 75.0, 37.0, 14.0, null, 65.0, 66.0, 91.0, 62.0, 27.0, 22.0, 33.0, 90.0, 7.0, 36.0, 81.0, 47.0, 20.0, 28.0, 14.0, 30.0, 5.0, 11.0, null, 25.0, 85.0, 1.0, 45.0, 62.0, null, null, null, 35.0, 89.0, 5.0, null, 6.0, null, 23.0, 57.0, 36.0, 42.0, null, 2.0, 45.0, 64.0, 18.0, null, 26.0, null, null, 57.0, 79.0, 27.0, 15.0, 62.0, 13.0, 56.0, 15.0, 51.0, 52.0, 42.0, 35.0, null, null, null, 95.0, 46.0, 73.0, 80.0, 27.0, 76.0, 6.0, 62.0, 28.0, null, 60.0, 32.0, 51.0, null, 5.0, 37.0, 22.0, 74.0, 23.0, 32.0, 17.0, 38.0, 26.0, 27.0, null, 25.0, 41.0, 82.0, 61.0, 38.0, 41.0, 63.0, 24.0, 74.0, 73.0, 41.0, 76.0, null, 76.0, 41.0, 7.0, 24.0, 34.0, 42.0, 16.0, 60.0, 26.0, 100.0, 33.0, 17.0, 22.0, 45.0, 56.0, 81.0, 77.0, 85.0, 75.0], \"coloraxis\": \"coloraxis\", \"symbol\": \"circle\"}, \"name\": \"\", \"showlegend\": false, \"type\": \"splom\"}],\n",
              "                        {\"coloraxis\": {\"colorbar\": {\"title\": {\"text\": \"tm_rating\"}}, \"colorscale\": [[0.0, \"#0d0887\"], [0.1111111111111111, \"#46039f\"], [0.2222222222222222, \"#7201a8\"], [0.3333333333333333, \"#9c179e\"], [0.4444444444444444, \"#bd3786\"], [0.5555555555555556, \"#d8576b\"], [0.6666666666666666, \"#ed7953\"], [0.7777777777777778, \"#fb9f3a\"], [0.8888888888888888, \"#fdca26\"], [1.0, \"#f0f921\"]]}, \"dragmode\": \"select\", \"legend\": {\"tracegroupgap\": 0}, \"margin\": {\"t\": 60}, \"template\": {\"data\": {\"bar\": [{\"error_x\": {\"color\": \"#2a3f5f\"}, \"error_y\": {\"color\": \"#2a3f5f\"}, \"marker\": {\"line\": {\"color\": \"#E5ECF6\", \"width\": 0.5}}, \"type\": \"bar\"}], \"barpolar\": [{\"marker\": {\"line\": {\"color\": \"#E5ECF6\", \"width\": 0.5}}, \"type\": \"barpolar\"}], \"carpet\": [{\"aaxis\": {\"endlinecolor\": \"#2a3f5f\", \"gridcolor\": \"white\", \"linecolor\": \"white\", \"minorgridcolor\": \"white\", \"startlinecolor\": \"#2a3f5f\"}, \"baxis\": {\"endlinecolor\": \"#2a3f5f\", \"gridcolor\": \"white\", \"linecolor\": \"white\", \"minorgridcolor\": \"white\", \"startlinecolor\": \"#2a3f5f\"}, \"type\": \"carpet\"}], \"choropleth\": [{\"colorbar\": {\"outlinewidth\": 0, \"ticks\": \"\"}, \"type\": \"choropleth\"}], \"contour\": [{\"colorbar\": {\"outlinewidth\": 0, \"ticks\": \"\"}, \"colorscale\": [[0.0, \"#0d0887\"], [0.1111111111111111, \"#46039f\"], [0.2222222222222222, \"#7201a8\"], [0.3333333333333333, \"#9c179e\"], [0.4444444444444444, \"#bd3786\"], [0.5555555555555556, \"#d8576b\"], [0.6666666666666666, \"#ed7953\"], [0.7777777777777778, \"#fb9f3a\"], [0.8888888888888888, \"#fdca26\"], [1.0, \"#f0f921\"]], \"type\": \"contour\"}], \"contourcarpet\": [{\"colorbar\": {\"outlinewidth\": 0, \"ticks\": \"\"}, \"type\": \"contourcarpet\"}], \"heatmap\": [{\"colorbar\": {\"outlinewidth\": 0, \"ticks\": \"\"}, \"colorscale\": [[0.0, \"#0d0887\"], [0.1111111111111111, \"#46039f\"], [0.2222222222222222, \"#7201a8\"], [0.3333333333333333, \"#9c179e\"], [0.4444444444444444, \"#bd3786\"], [0.5555555555555556, \"#d8576b\"], [0.6666666666666666, \"#ed7953\"], [0.7777777777777778, \"#fb9f3a\"], [0.8888888888888888, \"#fdca26\"], [1.0, \"#f0f921\"]], \"type\": \"heatmap\"}], \"heatmapgl\": [{\"colorbar\": {\"outlinewidth\": 0, \"ticks\": \"\"}, \"colorscale\": [[0.0, \"#0d0887\"], [0.1111111111111111, \"#46039f\"], [0.2222222222222222, \"#7201a8\"], [0.3333333333333333, \"#9c179e\"], [0.4444444444444444, \"#bd3786\"], [0.5555555555555556, \"#d8576b\"], [0.6666666666666666, \"#ed7953\"], [0.7777777777777778, \"#fb9f3a\"], [0.8888888888888888, \"#fdca26\"], [1.0, \"#f0f921\"]], \"type\": \"heatmapgl\"}], \"histogram\": [{\"marker\": {\"colorbar\": {\"outlinewidth\": 0, \"ticks\": \"\"}}, \"type\": \"histogram\"}], \"histogram2d\": [{\"colorbar\": {\"outlinewidth\": 0, \"ticks\": \"\"}, \"colorscale\": [[0.0, \"#0d0887\"], [0.1111111111111111, \"#46039f\"], [0.2222222222222222, \"#7201a8\"], [0.3333333333333333, \"#9c179e\"], [0.4444444444444444, \"#bd3786\"], [0.5555555555555556, \"#d8576b\"], [0.6666666666666666, \"#ed7953\"], [0.7777777777777778, \"#fb9f3a\"], [0.8888888888888888, \"#fdca26\"], [1.0, \"#f0f921\"]], \"type\": \"histogram2d\"}], \"histogram2dcontour\": [{\"colorbar\": {\"outlinewidth\": 0, \"ticks\": \"\"}, \"colorscale\": [[0.0, \"#0d0887\"], [0.1111111111111111, \"#46039f\"], [0.2222222222222222, \"#7201a8\"], [0.3333333333333333, \"#9c179e\"], [0.4444444444444444, \"#bd3786\"], [0.5555555555555556, \"#d8576b\"], [0.6666666666666666, \"#ed7953\"], [0.7777777777777778, \"#fb9f3a\"], [0.8888888888888888, \"#fdca26\"], [1.0, \"#f0f921\"]], \"type\": \"histogram2dcontour\"}], \"mesh3d\": [{\"colorbar\": {\"outlinewidth\": 0, \"ticks\": \"\"}, \"type\": \"mesh3d\"}], \"parcoords\": [{\"line\": {\"colorbar\": {\"outlinewidth\": 0, \"ticks\": \"\"}}, \"type\": \"parcoords\"}], \"pie\": [{\"automargin\": true, \"type\": \"pie\"}], \"scatter\": [{\"marker\": {\"colorbar\": {\"outlinewidth\": 0, \"ticks\": \"\"}}, \"type\": \"scatter\"}], \"scatter3d\": [{\"line\": {\"colorbar\": {\"outlinewidth\": 0, \"ticks\": \"\"}}, \"marker\": {\"colorbar\": {\"outlinewidth\": 0, \"ticks\": \"\"}}, \"type\": \"scatter3d\"}], \"scattercarpet\": [{\"marker\": {\"colorbar\": {\"outlinewidth\": 0, \"ticks\": \"\"}}, \"type\": \"scattercarpet\"}], \"scattergeo\": [{\"marker\": {\"colorbar\": {\"outlinewidth\": 0, \"ticks\": \"\"}}, \"type\": \"scattergeo\"}], \"scattergl\": [{\"marker\": {\"colorbar\": {\"outlinewidth\": 0, \"ticks\": \"\"}}, \"type\": \"scattergl\"}], \"scattermapbox\": [{\"marker\": {\"colorbar\": {\"outlinewidth\": 0, \"ticks\": \"\"}}, \"type\": \"scattermapbox\"}], \"scatterpolar\": [{\"marker\": {\"colorbar\": {\"outlinewidth\": 0, \"ticks\": \"\"}}, \"type\": \"scatterpolar\"}], \"scatterpolargl\": [{\"marker\": {\"colorbar\": {\"outlinewidth\": 0, \"ticks\": \"\"}}, \"type\": \"scatterpolargl\"}], \"scatterternary\": [{\"marker\": {\"colorbar\": {\"outlinewidth\": 0, \"ticks\": \"\"}}, \"type\": \"scatterternary\"}], \"surface\": [{\"colorbar\": {\"outlinewidth\": 0, \"ticks\": \"\"}, \"colorscale\": [[0.0, \"#0d0887\"], [0.1111111111111111, \"#46039f\"], [0.2222222222222222, \"#7201a8\"], [0.3333333333333333, \"#9c179e\"], [0.4444444444444444, \"#bd3786\"], [0.5555555555555556, \"#d8576b\"], [0.6666666666666666, \"#ed7953\"], [0.7777777777777778, \"#fb9f3a\"], [0.8888888888888888, \"#fdca26\"], [1.0, \"#f0f921\"]], \"type\": \"surface\"}], \"table\": [{\"cells\": {\"fill\": {\"color\": \"#EBF0F8\"}, \"line\": {\"color\": \"white\"}}, \"header\": {\"fill\": {\"color\": \"#C8D4E3\"}, \"line\": {\"color\": \"white\"}}, \"type\": \"table\"}]}, \"layout\": {\"annotationdefaults\": {\"arrowcolor\": \"#2a3f5f\", \"arrowhead\": 0, \"arrowwidth\": 1}, \"coloraxis\": {\"colorbar\": {\"outlinewidth\": 0, \"ticks\": \"\"}}, \"colorscale\": {\"diverging\": [[0, \"#8e0152\"], [0.1, \"#c51b7d\"], [0.2, \"#de77ae\"], [0.3, \"#f1b6da\"], [0.4, \"#fde0ef\"], [0.5, \"#f7f7f7\"], [0.6, \"#e6f5d0\"], [0.7, \"#b8e186\"], [0.8, \"#7fbc41\"], [0.9, \"#4d9221\"], [1, \"#276419\"]], \"sequential\": [[0.0, \"#0d0887\"], [0.1111111111111111, \"#46039f\"], [0.2222222222222222, \"#7201a8\"], [0.3333333333333333, \"#9c179e\"], [0.4444444444444444, \"#bd3786\"], [0.5555555555555556, \"#d8576b\"], [0.6666666666666666, \"#ed7953\"], [0.7777777777777778, \"#fb9f3a\"], [0.8888888888888888, \"#fdca26\"], [1.0, \"#f0f921\"]], \"sequentialminus\": [[0.0, \"#0d0887\"], [0.1111111111111111, \"#46039f\"], [0.2222222222222222, \"#7201a8\"], [0.3333333333333333, \"#9c179e\"], [0.4444444444444444, \"#bd3786\"], [0.5555555555555556, \"#d8576b\"], [0.6666666666666666, \"#ed7953\"], [0.7777777777777778, \"#fb9f3a\"], [0.8888888888888888, \"#fdca26\"], [1.0, \"#f0f921\"]]}, \"colorway\": [\"#636efa\", \"#EF553B\", \"#00cc96\", \"#ab63fa\", \"#FFA15A\", \"#19d3f3\", \"#FF6692\", \"#B6E880\", \"#FF97FF\", \"#FECB52\"], \"font\": {\"color\": \"#2a3f5f\"}, \"geo\": {\"bgcolor\": \"white\", \"lakecolor\": \"white\", \"landcolor\": \"#E5ECF6\", \"showlakes\": true, \"showland\": true, \"subunitcolor\": \"white\"}, \"hoverlabel\": {\"align\": \"left\"}, \"hovermode\": \"closest\", \"mapbox\": {\"style\": \"light\"}, \"paper_bgcolor\": \"white\", \"plot_bgcolor\": \"#E5ECF6\", \"polar\": {\"angularaxis\": {\"gridcolor\": \"white\", \"linecolor\": \"white\", \"ticks\": \"\"}, \"bgcolor\": \"#E5ECF6\", \"radialaxis\": {\"gridcolor\": \"white\", \"linecolor\": \"white\", \"ticks\": \"\"}}, \"scene\": {\"xaxis\": {\"backgroundcolor\": \"#E5ECF6\", \"gridcolor\": \"white\", \"gridwidth\": 2, \"linecolor\": \"white\", \"showbackground\": true, \"ticks\": \"\", \"zerolinecolor\": \"white\"}, \"yaxis\": {\"backgroundcolor\": \"#E5ECF6\", \"gridcolor\": \"white\", \"gridwidth\": 2, \"linecolor\": \"white\", \"showbackground\": true, \"ticks\": \"\", \"zerolinecolor\": \"white\"}, \"zaxis\": {\"backgroundcolor\": \"#E5ECF6\", \"gridcolor\": \"white\", \"gridwidth\": 2, \"linecolor\": \"white\", \"showbackground\": true, \"ticks\": \"\", \"zerolinecolor\": \"white\"}}, \"shapedefaults\": {\"line\": {\"color\": \"#2a3f5f\"}}, \"ternary\": {\"aaxis\": {\"gridcolor\": \"white\", \"linecolor\": \"white\", \"ticks\": \"\"}, \"baxis\": {\"gridcolor\": \"white\", \"linecolor\": \"white\", \"ticks\": \"\"}, \"bgcolor\": \"#E5ECF6\", \"caxis\": {\"gridcolor\": \"white\", \"linecolor\": \"white\", \"ticks\": \"\"}}, \"title\": {\"x\": 0.05}, \"xaxis\": {\"automargin\": true, \"gridcolor\": \"white\", \"linecolor\": \"white\", \"ticks\": \"\", \"title\": {\"standoff\": 15}, \"zerolinecolor\": \"white\", \"zerolinewidth\": 2}, \"yaxis\": {\"automargin\": true, \"gridcolor\": \"white\", \"linecolor\": \"white\", \"ticks\": \"\", \"title\": {\"standoff\": 15}, \"zerolinecolor\": \"white\", \"zerolinewidth\": 2}}}},\n",
              "                        {\"responsive\": true}\n",
              "                    ).then(function(){\n",
              "                            \n",
              "var gd = document.getElementById('61a63e41-8c8d-4d73-895e-d56eb9d1298b');\n",
              "var x = new MutationObserver(function (mutations, observer) {{\n",
              "        var display = window.getComputedStyle(gd).display;\n",
              "        if (!display || display === 'none') {{\n",
              "            console.log([gd, 'removed!']);\n",
              "            Plotly.purge(gd);\n",
              "            observer.disconnect();\n",
              "        }}\n",
              "}});\n",
              "\n",
              "// Listen for the removal of the full notebook cells\n",
              "var notebookContainer = gd.closest('#notebook-container');\n",
              "if (notebookContainer) {{\n",
              "    x.observe(notebookContainer, {childList: true});\n",
              "}}\n",
              "\n",
              "// Listen for the clearing of the current output cell\n",
              "var outputEl = gd.closest('.output');\n",
              "if (outputEl) {{\n",
              "    x.observe(outputEl, {childList: true});\n",
              "}}\n",
              "\n",
              "                        })\n",
              "                };\n",
              "                \n",
              "            </script>\n",
              "        </div>\n",
              "</body>\n",
              "</html>"
            ]
          },
          "metadata": {}
        }
      ]
    },
    {
      "cell_type": "code",
      "metadata": {
        "colab": {
          "base_uri": "https://localhost:8080/",
          "height": 542
        },
        "id": "Qp_J-sctdDd1",
        "outputId": "18c35273-0089-4a85-f039-6095d7a2413e"
      },
      "source": [
        "import plotly.express as px\n",
        "\n",
        "features = ['imdb_budget', 'imdb_revenue']\n",
        "# features = ['tmdb_budget', 'tmdb_revenue']\n",
        "\n",
        "fig = px.scatter_matrix(\n",
        "    movies_full_df,\n",
        "    dimensions=features,\n",
        "    color=movies_full_df['boxd_vote_average']\n",
        ")\n",
        "fig.update_traces(diagonal_visible=False)\n",
        "fig.show()"
      ],
      "execution_count": null,
      "outputs": [
        {
          "output_type": "display_data",
          "data": {
            "text/html": [
              "<html>\n",
              "<head><meta charset=\"utf-8\" /></head>\n",
              "<body>\n",
              "    <div>\n",
              "            <script src=\"https://cdnjs.cloudflare.com/ajax/libs/mathjax/2.7.5/MathJax.js?config=TeX-AMS-MML_SVG\"></script><script type=\"text/javascript\">if (window.MathJax) {MathJax.Hub.Config({SVG: {font: \"STIX-Web\"}});}</script>\n",
              "                <script type=\"text/javascript\">window.PlotlyConfig = {MathJaxConfig: 'local'};</script>\n",
              "        <script src=\"https://cdn.plot.ly/plotly-latest.min.js\"></script>    \n",
              "            <div id=\"23c3b701-d321-4039-a560-32df7a4d9179\" class=\"plotly-graph-div\" style=\"height:525px; width:100%;\"></div>\n",
              "            <script type=\"text/javascript\">\n",
              "                \n",
              "                    window.PLOTLYENV=window.PLOTLYENV || {};\n",
              "                    \n",
              "                if (document.getElementById(\"23c3b701-d321-4039-a560-32df7a4d9179\")) {\n",
              "                    Plotly.newPlot(\n",
              "                        '23c3b701-d321-4039-a560-32df7a4d9179',\n",
              "                        [{\"diagonal\": {\"visible\": false}, \"dimensions\": [{\"axis\": {\"matches\": true}, \"label\": \"imdb_budget\", \"values\": [8000000.0, 160000000.0, 63000000.0, 185000000.0, 25000000.0, 165000000.0, 70000000.0, 19000000.0, 100000000.0, 3300000.0, 61000000.0, 23000000.0, 19000000.0, 150000000.0, 20000000.0, 170000000.0, 100000000.0, 40000000.0, 19000000.0, 30000000.0, 60000000.0, 60000000.0, 55000000.0, 63000000.0, 33000000.0, 58000000.0, 13000000.0, 175000000.0, 220000000.0, 93000000.0, 15000000.0, 25000000.0, 19000000.0, 80000000.0, 7000000.0, 150000000.0, 250000000.0, 8500000.0, 25000000.0, 175000000.0, 28000000.0, 180000000.0, 170000000.0, 140000000.0, 1200000.0, 63000000.0, 65000000.0, 6000000.0, 30000000.0, 108000000.0, 9000000.0, 92000000.0, 13000000.0, 94000000.0, 250000000.0, 200000000.0, 130000000.0, 135000000.0, 250000000.0, 4000000.0, 15000000.0, 94000000.0, 40000000.0, 94000000.0, 16000000.0, 10000000.0, 44000000.0, 130000000.0, 16400000.0, 45000000.0, 15000000.0, 115000000.0, 25000000.0, 150000000.0, 40000000.0, 90000000.0, 10000000.0, 22000000.0, 4500000.0, 52000000.0, 30000000.0, 237000000.0, 175000000.0, 30000000.0, 19000000.0, 46000000.0, 60000000.0, 100000000.0, 8000000.0, 150000000.0, 200000000.0, 200000000.0, 24000000.0, 13000000.0, 39200000.0, 113000000.0, 150000000.0, 70000000.0, 20000000.0, 139000000.0, 3000000.0, null, 100000000.0, 2500000.0, 115000000.0, 18000000.0, 200000000.0, 78000000.0, null, null, 150000000.0, 17000000.0, 15000000.0, 200000000.0, 90000000.0, 105000000.0, 250000000.0, 4000000.0, 7500000.0, 28000000.0, 115000000.0, 20000000.0, 165000000.0, null, 14000000.0, 10500000.0, 20000000.0, 60000000.0, 150000000.0, 25000000.0, 14000000.0, 170000000.0, 12000000.0, 21000000.0, 21000000.0, 76000000.0, 28000000.0, 23600000.0, 65000000.0, 150000000.0, 40000000.0, 260000000.0, 30000000.0, 250000000.0, 85000000.0, 14000000.0, 150000000.0, 35000000.0, 200000000.0, 20000000.0, 35000000.0, 130000000.0, 20000000.0, 103000000.0, 37000000.0, 60000000.0, 200000000.0, 28000000.0, 17000000.0, 14600000.0, 150000000.0, 16000000.0, 35000000.0, 102000000.0, 15000000.0, 15000000.0, 32000000.0, 150000000.0, 120000000.0, 18500000.0, 90000000.0, 2700000.0, null, 6400000.0, 11000000.0, 37000000.0, 13000000.0, 25000000.0, 52000000.0, null, 40000000.0, 35000000.0, 15000000.0, 165000000.0, 12000000.0, 180000000.0, 165000000.0, 90000000.0, 6000000.0, 60000000.0, 230000000.0, 225000000.0, 42000000.0, 150000000.0, 8000000.0, 16000000.0, 258000000.0, 8000000.0, 5000000.0, 178000000.0, 185000000.0, 28000000.0, 15000000.0, 48000000.0, 12000000.0, 6500000.0, 18000000.0, 75000000.0, 130000000.0, 120000000.0, 160000000.0, 20000000.0, 15000000.0, 200000000.0, 16000000.0, 6900000.0, 9000000.0, 30000000.0, 32000000.0, 125000000.0, 18000000.0, 60000000.0, 225000000.0, 90000000.0, 15000000.0, 225000000.0, 50000000.0, 40000000.0, 30000000.0, 130000000.0, 28000000.0, 70000000.0, 3000000.0, 7000000.0, 1800000.0, 15000000.0, 60000.0, 70000000.0, 52000000.0, 150000000.0, 50000000.0, 190000000.0, 200000000.0, 40000000.0, 34000000.0, 29000000.0, 100000000.0, 15000000.0, 190000000.0, 18000000.0, 200000000.0, 33000000.0, 40000000.0, 9000000.0, 178000000.0, 20000000.0, 44500000.0, 90000000.0, 160000000.0, null, 61000000.0, 75000000.0, 250000000.0, 58000000.0, 50000000.0, 130000000.0, 30000000.0, 120000000.0, 17000000.0, 40000000.0, 37000000.0, 150000000.0, 150000000.0, 20000000.0, 7000000.0, 32000000.0, 7400000.0, 69000000.0, 80000000.0, 3800000.0, 90000000.0, 35000000.0, 26000000.0, 245000000.0, 5000000.0, 350000.0, 75000000.0, 40000000.0, 50000000.0, 35000000.0, 18000000.0, 1200000.0, 20000000.0, 3500000.0, 30000000.0, 50000000.0, 100000000.0, 102000000.0, 28000000.0, 170000000.0, 19000000.0, null, 59000000.0, 38000000.0, 150000000.0, 92000000.0, 110000000.0, 93000000.0, 50000000.0, 14500000.0, 1000000.0, 18500000.0, 180000000.0, 32500000.0, 60000000.0, 22000000.0, 40000000.0, 23000000.0, 50000000.0, 93000000.0, 135000000.0, 75000000.0, 40000000.0, 65000000.0, 90000000.0, 34000000.0, 80000000.0, 12000000.0, 180000000.0, 25000000.0, 37000000.0, 11000000.0, 80000000.0, 80000000.0, 42000000.0, null, 150000000.0, 11000000.0, 130000000.0, 68000000.0, 72000000.0, 400000.0, 40000000.0, 26000000.0, 26000000.0, 123000000.0, 50000000.0, 55000000.0, 58800000.0, 15000000.0, 40000000.0, 75000000.0, 110000000.0, 18000000.0, 185000000.0, 110000000.0, 14000000.0, 175000000.0, 5952000.0, 120000000.0, 30000000.0, 145000000.0, 15000000.0, 25000000.0, 65000000.0, 150000000.0, 165000000.0, 30000000.0, 60000000.0, 145000000.0, 75000000.0, 33000000.0, 15000000.0, 75000000.0, 19000000.0, 25000000.0, 150000000.0, 73000000.0, 50000000.0, 105000000.0, 160000000.0, 16000000.0, 37000000.0, 60000000.0, 8000000.0, 150000000.0, 110000000.0, 1500000.0, 3600000.0, 38000000.0, 35000000.0, 3000000.0, 4000000.0, 6500000.0, 7000000.0, 44000000.0, 6800000.0, 55000000.0, 48000000.0, 65000000.0, 68000000.0, 54000000.0, 190000000.0, 2500000.0, 75000000.0, 72000000.0, 30000000.0, 10700000.0, 207000000.0, 15000000.0, 19000000.0, 84000000.0, 150000000.0, 40000000.0, 11000000.0, 1200000.0, 100000000.0, 5000000.0, 30000000.0, 120000000.0, 90000000.0, 8000000.0, 100000000.0, 14400000.0, 65000000.0, 40000000.0, 125000000.0, 25000000.0, 65000000.0, 27000000.0, 144000000.0, 85000000.0, 55000000.0, 81000000.0, 17000000.0, 28000000.0, 200000000.0, 82500000.0, 40000000.0, 25000000.0, 28000000.0, 150000000.0, 20000000.0, 45000000.0, 45000000.0, 25000000.0, 190000000.0, 15000000.0, 25000000.0, 18000000.0, 13000000.0, 17000000.0, 46000000.0, 76000000.0, 40000000.0, 28000000.0, 125000000.0, 35000000.0, 10000000.0, 7000000.0, 45000000.0, 52000000.0, 20000000.0, null, 18000000.0, 100000000.0, 135000000.0, 85000000.0, 200000000.0, 30000000.0, 6000000.0, 185000000.0, 102000000.0, 4800000.0, 2500000.0, 32000000.0, 8000000.0, 17000000.0, 80000000.0, 3000000.0, 6000000.0, 30000000.0, null, 15000000.0, 15000000.0, 110000000.0, null, 11000000.0, 125000000.0, 36000000.0, 50000000.0, 25000000.0, 105000000.0, 10000000.0, 41000000.0, 170000000.0, 30000000.0, 38000000.0, 7000000.0, 200000000.0, 85000000.0, 150000000.0, 13000000.0, 27000000.0, 75000000.0, 85000000.0, 150000000.0, 132000000.0, 70000000.0, 500000.0, 6000000.0, 225000000.0, 120000000.0, 75000000.0, 27000.0, 80000000.0, 29000000.0, 8000000.0, 19000000.0, 7000.0, 8900000.0, 37000000.0, 40000000.0, 16500000.0, 140000000.0, 66000000.0, 25000000.0, 40000000.0, 150000000.0, 125000000.0, 165000000.0, 100000000.0, 65000000.0, 12800000.0, 93000000.0, 25000000.0, 85000000.0, 85000000.0, 35000000.0, 12000000.0, 15000000.0, 125000000.0, 25000000.0, 150000000.0, 24000000.0, 35000000.0, 60000000.0, null, 95000000.0, 125000000.0, 30000000.0, 28000000.0, 15000.0, null, 100000000.0, 70000000.0, 11000000.0, 76000000.0, 52000000.0, 100000000.0, 70000000.0, 27000000.0, 18000000.0, 75000000.0, 18000000.0, 23000000.0, 140000000.0, 200000000.0, 75000000.0, 5000000.0, 29000000.0, 120000000.0, 45000000.0, 18000000.0, 15000000.0, 100000000.0, 115000000.0, 25000000.0, 18000000.0, 35000000.0, 100000000.0, 175000000.0, 7300000.0, 12000000.0, 30000000.0, 74000000.0, 150000000.0, 17000000.0, 100000000.0, 75000000.0, 93000000.0, null, 33000000.0, 35000000.0, 12000000.0, 1500000.0, 65000000.0, 70000000.0, 45000000.0, 1500000.0, 35000000.0, null, 40000000.0, 45000000.0, 37000000.0, 55000000.0, 20000000.0, 50000000.0, 15000000.0, 6500000.0, 75000000.0, 2000000.0, 25000000.0, 5000000.0, 28000000.0, 60000.0, 32000000.0, 5000000.0, null, 44000000.0, 150000000.0, 120000000.0, 140000000.0, null, 4000000.0, 95000000.0, 12000000.0, 30000000.0, 10500000.0, 9000000.0, 90000000.0, 20000000.0, 65000000.0, 22700000.0, 30000000.0, 50000000.0, 25000000.0, null, 82000000.0, 50000000.0, 57000000.0, 230000.0, 45000000.0, 150000000.0, 35000000.0, 41000000.0, null, 40000000.0, 50000000.0, 133000000.0, 3000000.0, 200000000.0, null, 45000000.0, 26000000.0, 1500000.0, 25000000.0, 35000000.0, 20000000.0, 140000000.0, 70000000.0, 150000000.0, null, 7000000.0, 80000000.0, 45000000.0, 900000.0, 15000000.0, 30000000.0, 17000000.0, 12000000.0, 7000000.0, 20000000.0, 49000000.0, 13000000.0, 12000000.0, 195000000.0, 60000000.0, 52000000.0, 5000000.0, 100000000.0, 12000000.0, 20000000.0, 200000000.0, 23000000.0, 19000000.0, 5000000.0, 92000000.0, 25000000.0, 61000000.0, 68000000.0, 26000000.0, null, 50000000.0, 10000000.0, 55000000.0, null, 7000000.0, 11000000.0, 39000000.0, 70000000.0, 17000000.0, 35000000.0, 30000000.0, 15000000.0, 60000000.0, 11000000.0, 80000000.0, 6500000.0, 22000000.0, 75000000.0, 145000000.0, 40000000.0, 98000000.0, 34000000.0, 80000000.0, 30000000.0, 10000000.0, 125000000.0, 60000000.0, 40000000.0, 5000000.0, 33000000.0, 60000000.0, 78000000.0, 63000000.0, 40000000.0, 40000000.0, 145000000.0, 31000000.0, 35000000.0, 2200000.0, 100000000.0, 40000000.0, 27000000.0, 23000000.0, 1000000.0, 40000000.0, 55000000.0, 137000000.0, 90000000.0, 4500000.0, 90000000.0, 7000000.0, 120000000.0, 16000000.0, 20000000.0, 150000000.0, 20000000.0, 65000000.0, 6500000.0, 5000000.0, 95000000.0, 149000000.0, 225000000.0, 109000000.0, 35000000.0, 950000.0, 50100000.0, 30000000.0, 14000000.0, 50000000.0, 18000000.0, 190000000.0, 21000000.0, 3300000.0, 45000000.0, 135000000.0, 10000000.0, 9000000.0, 4900000.0, 75000000.0, 7000000.0, 120000000.0, 34200000.0, 176000000.0, null, 70000000.0, 15000000.0, 120000000.0, 2000000.0, 3200000.0, 15500000.0, 35000000.0, 4400000.0, 40600000.0, 11000000.0, 17000000.0, 80000000.0, 15000000.0, 210000000.0, 60000000.0, 50000000.0, 115000000.0, 8000000.0, 13000000.0, 110000000.0, 80000000.0, 45000000.0, 150000.0, 2500000.0, 70000000.0, 10000000.0, 30000000.0, 21000000.0, 2000000.0, 145000000.0, 75000000.0, 12000000.0, 12000000.0, 7000000.0, 750000.0, 200000000.0, 22000000.0, 65000000.0, 2000000.0, 60000000.0, 25000000.0, 20000000.0, 31000000.0, null, 80000000.0, 15000000.0, 20000000.0, 50000000.0, 15000000.0, 22000000.0, 18000000.0, 15000000.0, 11500000.0, 15000000.0, 40000000.0, 54000000.0, null, 1800000.0, 170000000.0, 155000000.0, 5000000.0, null, 55000000.0, 15000000.0, 40000000.0, null, 80000000.0, 30000000.0, 65000000.0, 10000000.0, 25000000.0, 72000000.0, 55000000.0, 80000000.0, 5000000.0, 110000000.0, 80000000.0, 200000000.0, 35000000.0, 1200000.0, 30000000.0, 3000000.0, 92000000.0, 88000000.0, 82000000.0, 30000000.0, 50000000.0, 130000000.0, 68000000.0, 25000000.0, 32000000.0, 27000000.0, 48000000.0, 60000000.0, 60000000.0, 5000000.0, 110000000.0, null, 8700000.0, 20000000.0, 66000000.0, 25000000.0, 12500000.0, 30000000.0, 17500000.0, 20000000.0, 20000000.0, 60000000.0, 50000000.0, null, 105000000.0, 17000000.0, 50000000.0, 58000000.0, 26000000.0, 2000000.0, 45000000.0, 7000000.0, 140000000.0, 4500000.0, 50000000.0, 100000000.0, 30000000.0, 38000000.0, 15000000.0, 150000000.0, 3000000.0, 90000000.0, 45000000.0, 10000000.0, 4800000.0, 1250000.0, 2500000.0, 25000000.0, 110000000.0, 110000000.0, 8000000.0, 200000000.0, 25000000.0, 270000000.0, 70000000.0, 30000000.0, 215000000.0, 4500000.0, 47000000.0, 8200000.0, 1500000.0, 16000000.0, 7500000.0, null, 19000000.0, 60000000.0, 115000000.0, 170000000.0, 12500000.0, 55000000.0, 80000000.0, 10000000.0, 43000000.0, null, 16500000.0, 8500000.0, 10000000.0, 26000000.0, 18000000.0, 35000000.0, 140000000.0, 25000000.0, 53000000.0, 20000000.0, 7000000.0, 20000000.0, 160000000.0, 70000000.0, 15000000.0, 40000000.0, 10000000.0, 15000000.0, 30000000.0, 11800000.0, 40000000.0, 1000000.0, 20000000.0, 6500000.0, 110000000.0, 165000000.0, 80000000.0, 95000000.0, 26000000.0, 7000000.0, 25000000.0, 30000000.0, 10000000.0, 17000000.0, 14000000.0, 142000000.0, 127000000.0, 10000000.0, 90000000.0, 30000000.0, 12000000.0, 3500000.0, 10000000.0, 10000000.0, 1300000.0, 90000000.0, 81200000.0, 15000000.0, 15000000.0, 13000000.0, 125000000.0, 6500000.0, 30000000.0, 30000000.0, 48000000.0, 90000000.0, 9000000.0, 50000000.0, 85000000.0, 130000000.0, 53000000.0, 250000.0, 32000000.0, 16000000.0, 4000000.0, 10000000.0, null, 15000000.0, 6000000.0, 30000000.0, 5000000.0, 31000000.0, 40000000.0, 12000000.0, 27000000.0, 6000000.0, 58000000.0, 40000000.0, 4000000.0, 80000000.0, 70000000.0, 95000000.0, 12000000.0, 900000.0, 30000000.0, 55000000.0, 50000000.0, 130000000.0, 65000000.0, 10000000.0, 60000000.0, 110000000.0, 125000000.0, null, 2500000.0, null, 20000000.0, 125000000.0, 25000000.0, 40000000.0, 48000000.0, 38000000.0, 100000000.0, 175000.0, 10800000.0, 61000000.0, 12500000.0, 85000000.0, 126000000.0, 5000000.0, 250000000.0, 28000000.0, 35000000.0, null, 130000000.0, null, 10000000.0, 100000000.0, 3500000.0, 30000000.0, 40000000.0, 50200000.0, 24000000.0, 15000000.0, 175000000.0, 2900000.0, 80000000.0, 75000000.0, 18000000.0, 20000000.0, 45000000.0, 70000000.0, 36000000.0, 13800000.0, 180000000.0, 85000000.0, 42000000.0, 2000000.0, 35000000.0, 11200000.0, 100000000.0, 10000000.0, 32000000.0, 2300000.0, 39000000.0, 90000000.0, 48000000.0, null, 52000000.0, null, 67000000.0, 800000.0, 58000000.0, null, 8000000.0, 12000000.0, 3600000.0, 10000000.0, 100000000.0, 11000000.0, 55000000.0, 55000000.0, 135000000.0, 110000000.0, 8000000.0, 120000000.0, 2000000.0, null, 110000000.0, 45000000.0, null, 180000000.0, 23000000.0, 40000000.0, 110000000.0, null, 80000000.0, null, 18500000.0, 24000000.0, 44000000.0, 100000000.0, 10000000.0, null, 35000000.0, 6000000.0, 22000000.0, 15000000.0, 19800000.0, 50000000.0, 4700000.0, 30000000.0, 22000000.0, 5000000.0, 15000000.0, 40000000.0, 8000000.0, 42000000.0, 10000000.0, 28000000.0, 50000000.0, 3000000.0, 78000000.0, 40000000.0, 10500000.0, 120000000.0, 50000000.0, 40000000.0, 200000000.0, 25000000.0, 6000000.0, 27000000.0, 25000000.0, 7000000.0, 14000000.0, 55000000.0, 21000000.0, 3000000.0, 1500000.0, 30000000.0, 35000000.0, 150000000.0, 14000000.0, 25000000.0, 40000000.0, null, 19000000.0, 24000000.0, 38000000.0, 45000000.0, 75000000.0, 15000000.0, 23000.0, 100000000.0, 40000000.0, 127500000.0, 16000000.0, 7000000.0, 79000000.0, 3000000.0, 400000.0, 55000000.0, 45000000.0, 56000000.0, 40000000.0, 27000000.0, 51000000.0, 175000000.0, 1500000.0, 40000000.0, 100000000.0, 24000000.0, 4000000.0, 70000000.0, 82000000.0, 25000000.0, 19000000.0, 135000000.0, 25000000.0, 4000000.0, 20000000.0, 26000000.0, 40000000.0, 50000000.0, 24000000.0, 30000000.0, 90000000.0, 33000000.0, 12000000.0, 30000000.0, null, 26000000.0, 60000000.0, 25000000.0, 3000000.0, 14800000.0, 200000.0, 2600000.0, 60000000.0, 12000000.0, 23000000.0, 60000000.0, 12000000.0, null, 11000000.0, 20000000.0, 12000000.0, 10000000.0, 50000000.0, 15000000.0, 50000000.0, 44000000.0, 45000000.0, 25000000.0, 50000000.0, 170000000.0, 20000000.0, 23000000.0, 5000000.0, 21000000.0, 15000000.0, 800000.0, 65000000.0, 30000000.0, 25000000.0, 15000000.0, 92000000.0, 100000000.0, 10000000.0, 17000000.0, 25000000.0, null, 13000000.0, 11000000.0, 70000000.0, 65000000.0, 40000000.0, 85000000.0, 132000000.0, 75000000.0, 60000000.0, 40000000.0, 65000000.0, 2000000.0, 74000000.0, 40000000.0, 15000000.0, 200000.0, 140000000.0, 40000000.0, 69000000.0, 13000000.0, 38000000.0, 50000000.0, 3500000.0, 700000.0, 54000000.0, 90000000.0, 42000000.0, 40000000.0, 250000.0, 19000000.0, 99000000.0, 60000000.0, 75000000.0, 25000000.0, 20000000.0, 26000000.0, 60000000.0, 50000000.0, 45000000.0, 50000000.0, 22000000.0, 78000000.0, 55000000.0, 80000000.0, 50000000.0, 55000000.0, 110000000.0, 31000000.0, 30000000.0, 42000000.0, 70000000.0, 38000000.0, 60000000.0, 65000000.0, 40000000.0, 16000000.0, 71500000.0, 30000000.0, 54000000.0, 50000000.0, 145000000.0, 85000000.0, 19000000.0, 27000000.0, 80000000.0, 61000000.0, 35000000.0, 2200000.0, 60000000.0, 15000000.0, 100000.0, 6000000.0, 12000000.0, 117000000.0, 40000000.0, 3500000.0, 25000000.0, 85000000.0, 11000000.0, 25000000.0, 25000000.0, 7500000.0, 40000000.0, 14000000.0, 6000000.0, 50000000.0, 80000000.0, 40000000.0, 19800000.0, 27500000.0, 48000000.0, 20000000.0, 68000000.0, 40000000.0, 15000000.0, 30000000.0, 18000000.0, 50000000.0, 150000000.0, 150000000.0, 55000000.0, 175000000.0, 30000000.0, 135000000.0, 40000000.0, 10000000.0, 25000000.0, 85000000.0, 45000000.0, 25000000.0, 9000000.0, 35000000.0, 40000000.0, 30000000.0, 69000000.0, 30000000.0, 13000000.0, 5000000.0, 60000000.0, 45000000.0, 75000000.0, 28000000.0, 38000000.0, 80000000.0, 65000000.0, 30000000.0, null, 500000.0, 107000000.0, 28000000.0, 7900000.0, 209000000.0, null, 48000000.0, 75000000.0, 15000000.0, 13000000.0, 13500000.0, 20000000.0, 1500000.0, 115000000.0, 28000000.0, 73000000.0, 15000000.0, 12000000.0, 46000000.0, 6000000.0, 20000000.0, 57000000.0, 20000000.0, 50000000.0, 9500000.0, 35000000.0, 15000000.0, 20000000.0, 35000000.0, 39000000.0, 100000000.0, 17000000.0, 40000000.0, 95000000.0, 73000000.0, 60000000.0, null, 38000000.0, 40000000.0, 140000000.0, 15000000.0, 30000000.0, 90000000.0, 25000000.0, 11000000.0, 33000000.0, 14000000.0, 5000000.0, 4500000.0, null, 9000000.0, 23000000.0, 13000000.0, 70000000.0, 8000000.0, 130000000.0, 100000000.0, 90000000.0, 88000000.0, 70000000.0, 48000000.0, 27000000.0, 85000000.0, 20000000.0, 33000000.0, 42000000.0, 47000000.0, 30000000.0, 25000000.0, 70000000.0, 7000000.0, 18000000.0, 22000000.0, 30000000.0, 55000000.0, 145000000.0, 8000000.0, 100000000.0, 24000000.0, 3500000.0, 65000000.0, 48000000.0, 5000000.0, 40000000.0, 31000000.0, 500000.0, 30000000.0, 23000000.0, 29000000.0, 45000000.0, 10000000.0, null, 22000000.0, 30000000.0, 75000000.0, 1100000.0, 30000000.0, 135000000.0, null, 95000000.0, 68000000.0, 14000000.0, 5000000.0, 70000000.0, 60000000.0, 25000000.0, 60000000.0, 130000000.0, 80000000.0, 21000000.0, 22000000.0, 39000000.0, 38600000.0, 52000000.0, 53000000.0, 29000000.0, null, 20000000.0, 17000000.0, 14000000.0, 100000000.0, 35000000.0, 12600000.0, 20000000.0, 32000000.0, 25000000.0, 28000000.0, 175000000.0, 84000000.0, 60000000.0, null, 1000000.0, null, 120000000.0, 16000000.0, 88000000.0, 28000000.0, null, 13000000.0, 63000000.0, 70000000.0, 30000000.0, 112000000.0, null, 85000000.0, 52000000.0, 12000000.0, 22000000.0, 20000000.0, 35000000.0, 13000000.0, 70000000.0, 4000000.0, 73000000.0, 140000000.0, 300000.0, 4000000.0, 61000000.0, 11000000.0, 15000000.0, 30000000.0, null, 70000000.0, 3500000.0, 105000000.0, 35000000.0, null, 10000000.0, 38000000.0, 150000000.0, 100000000.0, 9800000.0, 13000000.0, 40000000.0, null, 10000000.0, 38000000.0, 30000000.0, 15000000.0, 80000000.0, 103000000.0, 8000000.0, null, 37000000.0, 60000000.0, 35000000.0, 5000000.0, 25000000.0, 1500000.0, 10000000.0, 66000000.0, 85000000.0, 90000000.0, 26000000.0, 7000.0, 10000000.0, 110000000.0, 30000000.0, 150000000.0, 4000000.0, 85000000.0, 10000000.0, 35000000.0, 90000000.0, 35000000.0, 20000000.0, 45000000.0, 22000000.0, 10000000.0, 15000000.0, 70000000.0, 55000000.0, 45000000.0, 30000000.0, 140000000.0, 26000000.0, 60000000.0, 20000000.0, 79000000.0, 8000000.0, 60000000.0, 19000000.0, 80000000.0, 70000000.0, 30250000.0, 60000000.0, 195000000.0, 40000000.0, 140000000.0, 150000000.0, 70000000.0, 79000000.0, 80000000.0, 17000000.0, 25000000.0, 5500000.0, 3500000.0, 20000000.0, 50000000.0, 60000000.0, 230000.0, 5000000.0, 3000000.0, 102000000.0, 80000000.0, 36000000.0, 12000000.0, 1000000.0, 65000000.0, 8800000.0, 5000000.0, 20000000.0, 68000000.0, 90000000.0, 26000000.0, 45000000.0, 20000000.0, 6000000.0, 48000000.0, 40000000.0, 45000000.0, 16000000.0, 12000000.0, null, 58000000.0, 22000000.0, 1500000.0, 50000000.0, 10000000.0, 60000000.0, 11000000.0, 10000000.0, 19000000.0, 20000000.0, 100000000.0, 15000000.0, 18000000.0, 25000000.0, 18000000.0, 1900000.0, 115000000.0, null, 15000000.0, 12000000.0, 28000000.0, 270000.0, 25000000.0, 60000000.0, 60000000.0, 32000000.0, 37000000.0, 45000000.0, 17000000.0, null, 55000000.0, 42000000.0, 75000000.0, 60000000.0, 55000000.0, null, 35000000.0, 40000000.0, 27000000.0, 10000000.0, 10000000.0, null, 17000000.0, 30000000.0, 45000000.0, 3000000.0, 20000000.0, 21000000.0, 65000000.0, 50000000.0, 100000000.0, 100000000.0, 11000000.0, 6000000.0, 33000000.0, 17000000.0, 50000000.0, 8000000.0, 25000000.0, 30000000.0, 18000000.0, 90000000.0, 45000000.0, 43000000.0, 80000000.0, 180000.0, 30000000.0, null, 55000000.0, 16500000.0, 7000000.0, 20000000.0, 10200000.0, 55000000.0, 56000000.0, 12000000.0, 2000000.0, 11000000.0, 20000000.0, 35000000.0, 10000000.0, 130000000.0, 39000000.0, 62000000.0, 100000000.0, 63000000.0, 55000000.0, 40000000.0, 28000000.0, 80000000.0, 30000000.0, 4000000.0, 1000000.0, 500000.0, null, 30000000.0, 100000000.0, 80000000.0, 45000000.0, 1200000.0, 1000000.0, 66000000.0, 60000000.0, 17300000.0, 25000000.0, null, null, 1500000.0, 75000000.0, 32000000.0, 15000000.0, 40000000.0, 155000000.0, 17000000.0, 75000000.0, 25000000.0, 15000000.0, 75000000.0, 44000000.0, 65000000.0, 20000000.0, 60000000.0, 40000000.0, 30000000.0, 16000000.0, 7500000.0, 40000000.0, 4500000.0, 116000000.0, 15000000.0, 60000000.0, 62000000.0, 60000000.0, 11000000.0, null, 18000000.0, 36000000.0, 2500000.0, 60000000.0, 68000000.0, 50000000.0, 35000000.0, 43000000.0, 35000000.0, 90000000.0, 50000000.0, 5000000.0, 80000000.0, 36000000.0, 50000000.0, 26000000.0, 75000000.0, 26000000.0, 24000000.0, 800000.0, 20000000.0, 22000000.0, 12000000.0, 55000000.0, 20000000.0, 18000000.0, 35000000.0, 40000000.0, 30000000.0, 70000000.0, 30000000.0, 15000000.0, null, 27800000.0, 70000000.0, null, 160000000.0, 28000000.0, 110000000.0, 28000000.0, 10000000.0, 135000000.0, 50000000.0, 62000000.0, null, 50000000.0, 8000000.0, 40000000.0, 85000000.0, 70000000.0, 55000000.0, 68000000.0, 22000000.0, 14000000.0, 38000000.0, 2000000.0, 86000000.0, 18000000.0, 28000000.0, 49900000.0, 28000000.0, 65000000.0, 35000000.0, 15000000.0, 3000000.0, 50000000.0, 25000000.0, 32000000.0, 35000000.0, 20000000.0, 40000000.0, 43000000.0, 8500000.0, 6900000.0, 17000000.0, 34000000.0, 5000000.0, 21000000.0, 70000000.0, 36000000.0, 65000000.0, 68000000.0, 4000000.0, 4000000.0, 35000000.0, 25000000.0, 80000000.0, 8500000.0, 17000000.0, null, 10000000.0, 33000000.0, null, 100000000.0, null, 5000000.0, null, 35000000.0, 30000000.0, 36000000.0, 8000000.0, 10000000.0, 12000000.0, 12000000.0, 41300000.0, 25000000.0, 120000000.0, 35000000.0, 26000000.0, 35000000.0, 50000000.0, 17000000.0, 57000000.0, 51000000.0, 22000000.0, 30000000.0, 10000000.0, 90000000.0, 10000000.0, 11000000.0, 40000000.0, 25000000.0, 28000000.0, 85000000.0, 56600000.0, 50000000.0, 3300000.0, 48000000.0, 16200000.0, 20000000.0, 15000000.0, 28000000.0, 36000000.0, 22000000.0, 60000000.0, 50000000.0, 3000000.0, 57000000.0, 35000000.0, 65000000.0, 17000000.0, 3500000.0, 60000000.0, 12000000.0, 30000000.0, 60000000.0, 43000000.0, 27000000.0, 20000000.0, 82000000.0, null, 50000000.0, 105000000.0, 55000000.0, 10000000.0, 14000000.0, 42000000.0, 12000000.0, 48000000.0, 84000000.0, 22000000.0, null, 46000000.0, null, 45000000.0, 68000000.0, 44000000.0, 4000000.0, 75000000.0, 30000000.0, 65000000.0, 10000000.0, 48000000.0, 1000000.0, null, 24000000.0, 80000000.0, 5000000.0, 5000000.0, 25000000.0, 70000000.0, 70000000.0, 31000000.0, 80000000.0, 6000000.0, 75000000.0, 8000000.0, 30000000.0, 80000000.0, 5000000.0, 160000000.0, 45000000.0, null, 31000000.0, 37000000.0, 55000000.0, 20000000.0, 3300000.0, 30000000.0, 100000000.0, 65000000.0, 25000000.0, 50000000.0, 58000000.0, 25000000.0, 22000000.0, 80000000.0, 100000000.0, null, 32000000.0, 23000000.0, 20000000.0, 18000000.0, 30000000.0, 13000000.0, 20000000.0, 6000000.0, 20000000.0, 5000000.0, 20000000.0, 13000000.0, null, 3000000.0, 1500000.0, 13000000.0, 130000000.0, 15000000.0, 35000000.0, 60000000.0, 5500000.0, 50000000.0, 100000000.0, 73000000.0, 20000000.0, 15000000.0, 50000000.0, 6000000.0, 60000000.0, 17700000.0, 34000000.0, 87000000.0, 50000000.0, 3500000.0, 13000000.0, 25000000.0, 60000000.0, 18000000.0, 28000000.0, 30000000.0, 6000000.0, 90000000.0, 5000000.0, 5000000.0, 80000000.0, 15000000.0, 9000000.0, 17000000.0, 20000000.0, 35000000.0, 18000000.0, 23000000.0, 47000000.0, 40000000.0, 18000000.0, 50000000.0, 70000000.0, 1250000.0, 7000000.0, 35000000.0, 30000000.0, 16000000.0, 13000000.0, 160000000.0, 50000000.0, 64000000.0, 2000000.0, 35000000.0, 20000000.0, 35000000.0, 50000000.0, 66000000.0, 30000000.0, 35000000.0, 11000000.0, 32000000.0, 54000000.0, 70000000.0, 75000000.0, 13000000.0, 26000000.0, 8000000.0, 52000000.0, 42000000.0, 50000000.0, 26000000.0, 31000000.0, 35000000.0, 5000000.0, 30000000.0, 12000000.0, 15000000.0, null, 9000000.0, 1700000.0, 27000000.0, 3000000.0, 125000.0, 4000000.0, 43000000.0, 30000000.0, 14000000.0, 55000000.0, 28000000.0, 32000000.0, 62000000.0, 6000000.0, 47000000.0, 50000000.0, 7500000.0, 20000000.0, 135000.0, 32000000.0, 70000000.0, 13500000.0, 30000000.0, 49000000.0, null, 12000000.0, 27000000.0, 6500000.0, 14000000.0, 50000000.0, 35000000.0, 75000000.0, null, 20000000.0, 65000000.0, 16000000.0, 50000000.0, 20000000.0, 80000000.0, 12000000.0, 16000000.0, 65000000.0, 105000000.0, 7300000.0, 35000000.0, 20000000.0, 16000000.0, 137000000.0, 2000000.0, 10000000.0, 2500000.0, 10000000.0, 90000000.0, 500000.0, 25000000.0, 24000000.0, 22000000.0, 95000000.0, 5000000.0, 60000000.0, 28000000.0, 70000000.0, null, 30000000.0, 19000000.0, 23000000.0, 17000000.0, 8500000.0, 25000000.0, 15000000.0, 1500000.0, 80000000.0, 22000000.0, 60000000.0, 40000000.0, 8000000.0, 40000000.0, 45000000.0, 90000000.0, 70000000.0, 25000000.0, 72000000.0, 40000000.0, 25000000.0, 14200000.0, 30000000.0, 10000000.0, 100000000.0, 45000000.0, 7000000.0, 70000000.0, 9000000.0, 50000000.0, 21000000.0, 45000000.0, null, 30000000.0, 47000000.0, 30000000.0, 2000000.0, 40000000.0, 40000000.0, 29000000.0, 19400000.0, 20000000.0, 25000000.0, 38000000.0, 52000000.0, 46000000.0, 18000000.0, 10000000.0, 33000000.0, 33000000.0, 4000000.0, 12000000.0, 3000000.0, 15000000.0, 55000000.0, 40000000.0, 16500000.0, 40000000.0, 50000000.0, 19000000.0, null, 6500000.0, 30000000.0, 35000000.0, 40000000.0, 15000000.0, 24000000.0, 10000000.0, 15000000.0, 20000000.0, 9000000.0, 45000000.0, 113000000.0, 26000000.0, 8500000.0, 6500000.0, 1300000.0, null, 12000000.0, 23000000.0]}, {\"axis\": {\"matches\": true}, \"label\": \"imdb_revenue\", \"values\": [213928762.0, 836836967.0, 101209702.0, 1005973645.0, 172945750.0, 701729206.0, 321457747.0, 46998772.0, 392000694.0, 49396747.0, 369330363.0, 48517427.0, 355475245.0, 375658750.0, 74036715.0, 773350147.0, 426074373.0, 224920375.0, 272742922.0, 180906076.0, 48917974.0, 264118201.0, 678226133.0, 466364845.0, 327333559.0, 782836791.0, 329398046.0, 858848019.0, 1518815515.0, 897690072.0, 77187281.0, 28817291.0, 381906762.0, 294805697.0, 34266564.0, 623726085.0, 1153337496.0, 47398992.0, 171627166.0, 735099102.0, 41676878.0, 521311890.0, 714421503.0, 585796247.0, 2913644.0, 1033928303.0, 84785914.0, 6981586.0, 394436586.0, 630162448.0, 40047078.0, 631607053.0, 33384127.0, 1146030912.0, 1081142612.0, 2201647264.0, 797361618.0, 532950503.0, 1402809540.0, 118686937.0, 46748721.0, 947495095.0, 46474181.0, 940352645.0, 68264022.0, 225933435.0, 156480177.0, 519311965.0, 235860116.0, 1083720877.0, 356296601.0, 579707738.0, 76182388.0, 373661946.0, 109676311.0, 291465373.0, 173997108.0, 322161245.0, 7390108.0, 352114312.0, 154118820.0, 2847246203.0, 746846894.0, 53478579.0, 83850267.0, 122126687.0, 487853320.0, 879602366.0, 101058954.0, 896678241.0, 1214811252.0, 1066970811.0, 236214446.0, 35401758.0, 86758912.0, 868390560.0, 449326618.0, 482349603.0, 170812526.0, 825025036.0, 15189934.0, 30097092.0, 723192705.0, 5987386.0, 1027082707.0, 476684675.0, 623933331.0, 694394724.0, 16607872.0, 169785704.0, 942172396.0, 130126277.0, 19632053.0, 788976453.0, 497375381.0, 353642274.0, 934454096.0, 48137666.0, 232372681.0, 141603197.0, 653779970.0, 86024005.0, 657869686.0, 80743363.0, 233555708.0, 792910554.0, 187733202.0, 124596837.0, 1281508100.0, 65884703.0, 178062759.0, 644783140.0, 56631572.0, 71444482.0, 236412453.0, 70595464.0, 133440870.0, 102392080.0, 162242684.0, 1670516444.0, 672806292.0, 592462816.0, 84872444.0, 873637528.0, 450717150.0, 173046663.0, 928760770.0, 326706115.0, 1108569499.0, 98690254.0, 131095990.0, 865011746.0, 320290989.0, 465380802.0, 408430415.0, 468060692.0, 746045700.0, 121616555.0, 151653750.0, 71074049.0, 335802786.0, 30902642.0, 120072577.0, 520881154.0, 74270074.0, 110216998.0, 28258060.0, 474968763.0, 609016565.0, 131060248.0, 304320254.0, 15936507.0, 30680793.0, 78371200.0, 32960249.0, 48451803.0, 23106667.0, 24675714.0, 611257819.0, 2562351.0, 332500002.0, 469310836.0, 43101594.0, 494879471.0, 87100449.0, 1017003568.0, 471222889.0, 232617430.0, 23341568.0, 286801374.0, 757930663.0, 668045518.0, 201585328.0, 616502912.0, 75026327.0, 31556061.0, 894983373.0, 52287414.0, 55736588.0, 370541256.0, 538983207.0, 504050219.0, 123726688.0, 474171806.0, 39673807.0, 37295445.0, 262552893.0, 351723989.0, 185382813.0, 461991867.0, 352616690.0, 23875127.0, 378410542.0, 743559645.0, 93232006.0, 7993039.0, 10410044.0, 96188903.0, 58409247.0, 755356711.0, 23402427.0, 47386287.0, 1066179747.0, 589390539.0, 56675895.0, 959007513.0, 145051197.0, 118090836.0, 176506819.0, 631746197.0, 333107271.0, 23180087.0, 20994648.0, 9232318.0, 25507137.0, 427374317.0, 248639099.0, 123218424.0, 116112375.0, 264770996.0, 34809623.0, 540455876.0, 708982323.0, 251171807.0, 204826668.0, 117815157.0, 169661687.0, 34085749.0, 411002906.0, 141774679.0, 1025468216.0, 223853736.0, 245203167.0, 17196103.0, 543934105.0, 4658401.0, 232325503.0, 429632142.0, 658344137.0, 83557872.0, 441809770.0, 248118121.0, 962182865.0, 316791257.0, 110206216.0, 403354469.0, 210888950.0, 363258859.0, 115350426.0, 245077583.0, 163728902.0, 185770310.0, 585410052.0, 46091271.0, 3377430.0, 126041322.0, 17039814.0, 543113985.0, 273144151.0, 15843274.0, 524028679.0, 173567581.0, 71870729.0, 880681519.0, 9760107.0, 2956630.0, 296339528.0, 458863600.0, 331333876.0, 411508343.0, 52066791.0, 103911669.0, 14710975.0, 83453539.0, 131016624.0, 109423648.0, 193772504.0, 358372926.0, 358994850.0, 710644566.0, 32801173.0, 676126.0, 383257136.0, 252276927.0, 741847937.0, 195702963.0, 574481229.0, 481800873.0, 549368315.0, 147554998.0, 15440333.0, 10680275.0, 745013115.0, 288383523.0, 136515867.0, 63945241.0, 48350205.0, 351583407.0, 184935320.0, 263920180.0, 245724603.0, 542063846.0, 321788219.0, 456068181.0, 188133322.0, 348319861.0, 457696391.0, 307166834.0, 758411779.0, 216639112.0, 96455697.0, 153633143.0, 230418342.0, 266892996.0, 363889678.0, 89433436.0, 682716636.0, 62402155.0, 321885765.0, 211822697.0, 213216216.0, 46138887.0, 60917189.0, 165335153.0, 90709367.0, 363597184.0, 711025481.0, 307127625.0, 547426372.0, 9949953.0, 158733820.0, 536414293.0, 213719942.0, 60738797.0, 790653942.0, 487287646.0, 463406268.0, 966554929.0, 2120439.0, 414828246.0, 216763646.0, 694713380.0, 98268458.0, 354825435.0, 220239925.0, 385680446.0, 314215454.0, 34441873.0, 214034224.0, 621537519.0, 107045109.0, 269958228.0, 357288178.0, 817400891.0, 140705322.0, 172394180.0, 709709780.0, 618638999.0, 260095986.0, 267045765.0, 813367380.0, 775385.0, 269994119.0, 219100084.0, 5659286.0, 427344325.0, 362744280.0, 99557032.0, 5923798.0, 207305509.0, 126216940.0, 89328627.0, 13008928.0, 19123767.0, 31430334.0, 11782625.0, 7099598.0, 218791811.0, 197079546.0, 261317921.0, 698491347.0, 136861392.0, 467365246.0, 6401336.0, 198520934.0, 408247917.0, 5473212.0, 77142388.0, 562363449.0, 49259766.0, 25837111.0, 275650703.0, 373062864.0, 215862692.0, 10032765.0, 2595216.0, 235926552.0, 8203235.0, 350448145.0, 829747654.0, 334897606.0, 41097853.0, 243006126.0, 159157447.0, 128108211.0, 165478348.0, 543848418.0, 156595191.0, 275293450.0, 101624843.0, 229147509.0, 288885818.0, 346079773.0, 484592874.0, 209947037.0, 201634991.0, 589580482.0, 240685326.0, 132820716.0, 441286195.0, 60780981.0, 293514336.0, 160846332.0, 306776732.0, 104876233.0, 226837760.0, 1515341399.0, 32226382.0, 281995610.0, 270665134.0, 13088850.0, 213525736.0, 113758770.0, 970766005.0, 128799509.0, 44947705.0, 760006945.0, 182291969.0, 40508994.0, 8764007.0, 224834564.0, 98126565.0, 208314186.0, 6479328.0, 151927281.0, 347512318.0, 373993951.0, 340487836.0, 559852396.0, 191502426.0, 138545632.0, 343471816.0, 130482868.0, 10639616.0, 6918591.0, 147332697.0, 91119319.0, 247275374.0, 586764305.0, 82515113.0, 25244626.0, 15001776.0, 57130027.0, 24819936.0, 133432856.0, 444100035.0, 14575193.0, 235483004.0, 626137675.0, 12532777.0, 41037742.0, 76270454.0, 121214377.0, 10828256.0, 242875078.0, 400063852.0, 141067127.0, 96983009.0, 560069.0, 791217826.0, 311312624.0, 398479497.0, 96822421.0, 115229890.0, 374583879.0, 205850134.0, 665692281.0, 603873119.0, 300854823.0, 22926076.0, 44734660.0, 624026776.0, 353133898.0, 141861243.0, 3151130.0, 245676146.0, 309208309.0, 65652908.0, 85251425.0, 545436.0, 29664140.0, 154026136.0, 30925690.0, 67683989.0, 445135288.0, 99378985.0, 129190869.0, 317375031.0, 629443428.0, 552639571.0, 752600867.0, 325338851.0, 93621340.0, 40059672.0, 368780809.0, 135330182.0, 358375603.0, 158964610.0, 209838559.0, 12077441.0, 107217396.0, 238235719.0, 11100577.0, 309979994.0, 172363301.0, 149542245.0, 256697520.0, 32388898.0, 542358331.0, 546388108.0, 105833257.0, 186797986.0, 193355800.0, 3753929.0, 171720398.0, 223241637.0, 11502976.0, 236350661.0, 355237933.0, 170458922.0, 218613188.0, 115505027.0, 57470220.0, 875458631.0, 99104804.0, 112880294.0, 110041363.0, 332207671.0, 290835269.0, 98450062.0, 287144079.0, 286168572.0, 131183530.0, 5887457.0, 15785148.0, 384336108.0, 286140700.0, 14902041.0, 12000000.0, 194564672.0, 336567158.0, 497409852.0, 22783978.0, 11293663.0, 47126295.0, 1159444662.0, 314432837.0, 97542952.0, 100140916.0, 203553311.0, 264105545.0, 14353654.0, 48169910.0, 16468343.0, 126636097.0, 2375097.0, 250821495.0, 101371017.0, 186003591.0, 11098131.0, 116980662.0, 77912251.0, 173930596.0, 302710615.0, 113100873.0, 330444045.0, 66787908.0, 212902372.0, 125212904.0, 57529070.0, 262511490.0, 77356942.0, 166842739.0, 109283018.0, 60795985.0, 3221152.0, 61385065.0, 58980521.0, 34806812.0, 368875760.0, 603900354.0, 186053725.0, 553709788.0, 565727.0, 147748505.0, 226497209.0, 41205099.0, 219922417.0, 76347426.0, 44196684.0, 171120329.0, 183097323.0, 179379533.0, 38119483.0, 53653224.0, 177502387.0, 38983045.0, 7267585.0, 89792502.0, 273552592.0, 152944660.0, 2260712.0, 198087212.0, 245527149.0, 147934180.0, 243240178.0, 81529126.0, 569651467.0, 139804348.0, 300135367.0, 39439355.0, 836303693.0, 17164820.0, 212742720.0, 206678440.0, 7412216.0, 23308615.0, 75981180.0, 136316880.0, 454627263.0, 137515140.0, 413106170.0, 11156836.0, 17986781.0, 271457301.0, 165184237.0, 17385830.0, 7938872.0, 90842646.0, 137587063.0, 102731865.0, 24964890.0, 71406573.0, 102811889.0, 6206022.0, 27682872.0, 1123794079.0, 107139399.0, 256271286.0, 3741098.0, 269755430.0, 20205757.0, 57194667.0, 219851172.0, 369884651.0, 141407024.0, 41898409.0, 172989651.0, 27639579.0, 312296056.0, 203388341.0, 102278712.0, 56107312.0, 314178011.0, 25697647.0, 149022650.0, 24665023.0, 55078146.0, 252909177.0, 81493846.0, 240031274.0, 119100758.0, 140795793.0, 91970827.0, 9918093.0, 26673829.0, 16667084.0, 339795890.0, 257579282.0, 505703557.0, 342463063.0, 306941670.0, 97231420.0, 443280904.0, 32255440.0, 181001478.0, 102820008.0, 29253166.0, 359200044.0, 101134059.0, 97984015.0, 44779195.0, 102984862.0, 352194034.0, 209196298.0, 296938801.0, 129540522.0, 120673227.0, 521170825.0, 161772375.0, 117867984.0, 2982011.0, 214104620.0, 161834276.0, 20251411.0, 50693129.0, 21448782.0, 134734481.0, 192330738.0, 245285165.0, 886686817.0, 27092880.0, 483866518.0, 8865702.0, 167882881.0, 109706931.0, 54589558.0, 319713881.0, 177243185.0, 117487473.0, 98410061.0, 26474920.0, 76432727.0, 178281554.0, 419665568.0, 133960541.0, 124909762.0, 7022209.0, 158762963.0, 254134910.0, 316360478.0, 104478416.0, 6740647.0, 209035668.0, 83137603.0, 20653717.0, 90683916.0, 587205319.0, 164874275.0, 111928365.0, 148868835.0, 224012234.0, 167739961.0, 415484914.0, 234801895.0, 183887723.0, 78053145.0, 371594210.0, 59389433.0, 93945766.0, 10128960.0, 14311701.0, 96409300.0, 86369815.0, 245700832.0, 68929150.0, 64088552.0, 125586134.0, 181216833.0, 61548707.0, 1104054072.0, 218340595.0, 287928194.0, 378882411.0, 58469210.0, 123922370.0, 228738393.0, 230685453.0, 29625761.0, 20936722.0, 35825316.0, 130982129.0, 6416569.0, 63782078.0, 177200000.0, 13796834.0, 746921274.0, 335062621.0, 32574382.0, 85512300.0, 40185556.0, 4424699.0, 433371112.0, 424208848.0, 65079104.0, 1775133.0, 365352546.0, 108846072.0, 12007070.0, 177395557.0, 92181574.0, 214945591.0, 37930465.0, 104882445.0, 144056873.0, 85638656.0, 190539357.0, 19319671.0, 98467863.0, 57470138.0, 52501541.0, 75505856.0, 155010032.0, 495303.0, 21107746.0, 396592829.0, 440603537.0, 23932055.0, 11487676.0, 203427584.0, 65048678.0, 205405498.0, 85585177.0, 274470394.0, 63414135.0, 211780824.0, 118587880.0, 65663276.0, 97076152.0, 70016220.0, 522657936.0, 44459951.0, 473990832.0, 157107755.0, 325286646.0, 108007109.0, 24741667.0, 84790678.0, 2404300.0, 494471524.0, 244874809.0, 47434430.0, 136771683.0, 216972543.0, 273339556.0, 215863606.0, 289317794.0, 50826898.0, 27200316.0, 163403799.0, 176070171.0, 255743093.0, 161919318.0, 299268508.0, null, 7659918.0, 38039850.0, 177584879.0, 30722632.0, 10725228.0, 42972994.0, 33882243.0, 118114220.0, 51699984.0, 135039924.0, 41482207.0, 78638987.0, 171757863.0, 128955898.0, 72617068.0, 199006387.0, 87305549.0, 35079650.0, 20358624.0, 16829545.0, 449220945.0, 44793222.0, 100605135.0, 152005713.0, 116632628.0, 299288605.0, 146428180.0, 485930816.0, 1882074.0, 60289912.0, 141220678.0, 36230219.0, 81979826.0, 21722776.0, 14400000.0, 149228077.0, 125544024.0, 293503354.0, 6491240.0, 371353001.0, 118890272.0, 391081192.0, 130834852.0, 130549455.0, 260502115.0, 3802260.0, 102825796.0, 80039064.0, 129000.0, 134582776.0, 26096852.0, 76585828.0, 70067909.0, 129832389.0, 274703340.0, 299820798.0, 76338111.0, 16797191.0, 474800000.0, 103166989.0, 229930771.0, 2642567.0, 87892388.0, 43709744.0, 31429330.0, 90941129.0, 50083616.0, 99255460.0, 195243411.0, 132963417.0, 99775678.0, 183936074.0, 49327405.0, 60427839.0, 439048914.0, 90000098.0, 16691303.0, 91980359.0, 139352633.0, 2856712.0, 48428063.0, 47494916.0, 132440069.0, 481234.0, 216197492.0, 31899000.0, 388156011.0, 389681935.0, 122563539.0, 877244782.0, 183348429.0, 14788642.0, 56505065.0, 200512643.0, 11681781.0, 59489799.0, 4324817.0, 431971116.0, 363204635.0, 20789556.0, 347325802.0, 287553595.0, 56298474.0, 5000000.0, 20766616.0, 33556631.0, 1657778.0, 204313400.0, 97571250.0, 90404800.0, 76196538.0, 97837138.0, 276144750.0, 39323027.0, 212385533.0, 81613606.0, 207515725.0, 142940100.0, 23936908.0, 203172417.0, 225132113.0, 554987477.0, 83282296.0, 12021272.0, 108902486.0, 56032889.0, 34758951.0, 73929392.0, 6149356.0, 66468985.0, 39846344.0, 612054506.0, 368744044.0, 27388767.0, 178866158.0, 42931041.0, 231976425.0, 30471.0, 93492844.0, 87189756.0, 14237880.0, 246984278.0, 170270201.0, 250288523.0, 52223306.0, 101215.0, 49334775.0, 113398237.0, 222809600.0, 218122627.0, 161459297.0, 8801940.0, 105200903.0, 333011068.0, 493214993.0, 9380473.0, 422618.0, 11850214.0, 5368217.0, 485004754.0, 92991835.0, 190538630.0, 220673217.0, 197101678.0, 242688965.0, 7137502.0, 113864059.0, 145710347.0, 84460846.0, 137298489.0, 162949164.0, 3049135.0, 284139100.0, 90259536.0, 159808370.0, 10045677.0, 243611982.0, 25147786.0, 57491000.0, 278780441.0, 28215918.0, 162655351.0, 68766121.0, 127869379.0, 155929020.0, 43848069.0, 174440724.0, 5971073.0, 177977226.0, 46733235.0, 122195920.0, 21284514.0, 376152455.0, 154649125.0, 64780213.0, 52293982.0, 356700357.0, 315156409.0, 138805831.0, 11540607.0, 61181942.0, 78912963.0, 314975955.0, 59371303.0, 60329001.0, 36690067.0, 40445129.0, 199850315.0, 77745966.0, 19780116.0, 216485654.0, 450275.0, 25422088.0, 4569019.0, 158261424.0, 1053788.0, 21028755.0, 22939027.0, 32029928.0, 63649529.0, 362211740.0, 68234154.0, 152263880.0, 89520336.0, 361832400.0, 215294342.0, 19721741.0, 227817248.0, 1295574.0, 8481254.0, 337580051.0, 175372502.0, 4778439.0, 372234864.0, 185991646.0, 154802912.0, 179246868.0, 43993869.0, 212874864.0, 10174839.0, 32406507.0, 41895491.0, 165615285.0, 93920758.0, 187281115.0, 56491.0, 88215156.0, 54766923.0, 52767889.0, 40283321.0, 87754044.0, 242786137.0, 8025872.0, 155545279.0, 95708457.0, 42368025.0, 12834936.0, 127233108.0, 2122561.0, 107645357.0, 62695489.0, 92649419.0, 99783556.0, 19439764.0, 274325949.0, 157887643.0, 45491656.0, 259175788.0, 183658498.0, 92913171.0, 321669741.0, 232225908.0, 3645107.0, 38122105.0, 152699976.0, 25405445.0, 320145693.0, 169748929.0, 72526996.0, 21041453.0, 11179372.0, 79628830.0, 57120318.0, 205366737.0, 154856263.0, 116650613.0, 2816518.0, 30519436.0, 76586316.0, 42784344.0, 112343513.0, 129342769.0, 107752036.0, 70009308.0, 1228108.0, 167805466.0, 265126918.0, 349822765.0, 5900712.0, 20901859.0, 149673788.0, 19472057.0, 123843.0, 41616262.0, 136885767.0, 198636868.0, 186167139.0, 56308881.0, 149270999.0, 264218220.0, 3909596.0, 91720255.0, 82102379.0, 87135520.0, 9304609.0, 156706638.0, 191466556.0, 70439696.0, 32686500.0, 386041607.0, 69095771.0, 4257354.0, 30166293.0, 43474578.0, 86752352.0, 120081841.0, 182016617.0, 115375850.0, 250849789.0, 62022014.0, 100129872.0, 75513170.0, 55990299.0, 96258201.0, 204594016.0, 94073028.0, 177512032.0, 117813057.0, 1192995.0, 553198.0, 244232688.0, 68706993.0, 76490720.0, 164648142.0, 22989957.0, 8159508.0, 4633668.0, 27093592.0, 79567667.0, 112983889.0, 84419388.0, 61399552.0, 226349749.0, 300400432.0, 147717833.0, 50688658.0, 127944208.0, 222104681.0, 68851475.0, 53187659.0, 17768757.0, 43928932.0, 20651333.0, 8012838.0, 131977904.0, 41002607.0, 22605153.0, 201957688.0, 304654182.0, 103039258.0, 4681651.0, 55534455.0, 30381722.0, 1192003.0, 35763605.0, 17077882.0, 19652057.0, 156491279.0, 54682547.0, 162242962.0, 373515621.0, 201545517.0, 205754447.0, 145896422.0, 240159255.0, 1205257.0, 325186032.0, 141069860.0, 10571408.0, 4555020.0, 258097122.0, 160466000.0, 86855739.0, 49369899.0, 58401898.0, 144146816.0, 3117085.0, 4660481.0, 108185706.0, 202292902.0, 270248367.0, 152266007.0, 3852409.0, 68673228.0, 246233113.0, 120801243.0, 71585235.0, 123276807.0, 30579406.0, 34585416.0, 122426792.0, 171269535.0, 60331447.0, 234989584.0, 33788161.0, 179265204.0, 232722935.0, 164115897.0, 25477365.0, 174463257.0, 563749323.0, 107228221.0, 61808775.0, 178311729.0, 374111707.0, 109906372.0, 300228084.0, 143695338.0, 127994610.0, 5952884.0, 294456605.0, 77677553.0, 273961019.0, 137328301.0, 403449830.0, 200811689.0, 145166804.0, 93282604.0, 90874570.0, 95696996.0, 173965010.0, 21930418.0, 199043471.0, 28084357.0, 1938783.0, 32443111.0, 22912409.0, 261989769.0, 196710396.0, 97446.0, 42013878.0, 58292295.0, 78274843.0, 66980456.0, 27426335.0, 145793296.0, 97470701.0, 161001698.0, 48618191.0, 56722693.0, 214657577.0, 31670620.0, 41296320.0, 67893619.0, 326479141.0, 34572541.0, 96976270.0, 123971376.0, 39421467.0, 50327960.0, 26979166.0, 80383113.0, 215283742.0, 196393745.0, 187361754.0, 302469017.0, 156835339.0, 282570682.0, 111711453.0, 42776760.0, 74188937.0, 183018522.0, 178262620.0, 114984666.0, 13627519.0, 76665191.0, 51186259.0, 76669554.0, 116471580.0, 160638883.0, 20768906.0, 14343976.0, 170268750.0, 113916474.0, 349464664.0, 54813222.0, 321682600.0, 265328738.0, 141337989.0, 27127620.0, 3984669.0, 101729.0, 87812729.0, 40662632.0, 2635305.0, 303025485.0, 16937968.0, 390493908.0, 152930623.0, 33251890.0, 54837234.0, 29027914.0, 7563728.0, 1612259.0, 164989338.0, 16457494.0, 352333929.0, 76700659.0, 114197742.0, 341631208.0, 2631275.0, 24261569.0, 132563930.0, 36606743.0, 189859560.0, 14776760.0, 182968902.0, 23237911.0, 54806823.0, 84920539.0, 14866015.0, 87423861.0, 30050028.0, 114830111.0, 190213455.0, 103891409.0, 164433867.0, 6291958.0, 34416893.0, 55247881.0, 268175631.0, 216614388.0, 33013805.0, 182290266.0, 411006740.0, 34872033.0, 104155843.0, 34670720.0, 11642254.0, 81198894.0, 92863945.0, 46789413.0, 34513760.0, 7820688.0, 115900897.0, 1803412.0, 78324220.0, 310650585.0, 164170327.0, 108539911.0, 72785169.0, 20915465.0, 21192315.0, 55382927.0, 23925492.0, 54700105.0, 68467960.0, 162738726.0, 16316273.0, 71009334.0, 217124280.0, 54641191.0, 8038061.0, 97818139.0, 82150642.0, 99274467.0, 275698039.0, 25288872.0, 291420351.0, 83188165.0, 19504039.0, 172855065.0, 85498534.0, 26986174.0, 96618699.0, 227514205.0, 5060438.0, 196114570.0, 86930411.0, 98769390.0, 160078586.0, 50752337.0, 35057696.0, 15661554.0, 180622424.0, 119483446.0, 11806119.0, 105834556.0, 245623848.0, 2340110.0, 104907746.0, 68267862.0, 72527595.0, 15116634.0, 155430335.0, 200687492.0, 50732139.0, 149878437.0, 375740705.0, 68514844.0, 43095175.0, 41771168.0, 101344412.0, 73906736.0, 205668210.0, 157387195.0, 49052787.0, 3640975.0, 89137047.0, 374743.0, 14343028.0, 204681899.0, 321731527.0, 28650575.0, 5530764.0, 18636537.0, 109713132.0, 299965036.0, 151783839.0, 148075565.0, 62357900.0, 1236518.0, 17985893.0, 2455535.0, 169956806.0, 53993738.0, 105316267.0, 77516304.0, 12014663.0, 37664855.0, 189015611.0, 277448382.0, 102992536.0, 237382724.0, 772336.0, 148963822.0, 75450437.0, 24829644.0, 147880543.0, 49779728.0, 78201830.0, 115890699.0, 57719093.0, 14759148.0, 151493655.0, 150680864.0, 301047.0, 2923982.0, 131940411.0, 17423030.0, 36233517.0, 135710029.0, 73244881.0, 131457682.0, 257938649.0, 115900534.0, 31083599.0, 62548947.0, 3325736.0, 98337295.0, 292817898.0, 250425512.0, 16303643.0, 68572631.0, 63365859.0, 8482993.0, 22007671.0, 117094902.0, 54169363.0, 44862187.0, 176885658.0, 498781117.0, 45640143.0, 123384128.0, 26250020.0, 130154568.0, 94728529.0, 142802657.0, 82468097.0, 1544989.0, 85297000.0, 203277636.0, 208076205.0, 103370127.0, 181489203.0, 2040920.0, 29450919.0, 145358062.0, 49871429.0, 301970083.0, 92921203.0, 219103655.0, 44287131.0, 219375562.0, 69131860.0, 74558115.0, 39782683.0, 146027888.0, 53208180.0, 53329150.0, 47074133.0, 14026418.0, 223387299.0, 178051587.0, 66122026.0, 285444603.0, 14821658.0, 58072119.0, 20308772.0, 335260290.0, 69821334.0, 96593018.0, 107516369.0, 96105910.0, 309460292.0, 115101622.0, 95396573.0, 197687603.0, 45916769.0, 328718434.0, 128388320.0, 255000211.0, 173013509.0, 178767383.0, 76471046.0, 11603545.0, 59303359.0, 27912072.0, 30426096.0, 40828540.0, 82150183.0, 2960492.0, 25804448.0, 23182223.0, 147080413.0, 233093859.0, 44229441.0, 63118386.0, 24444121.0, 89456761.0, 328203506.0, 103687316.0, 68349884.0, 33461011.0, 134403112.0, 61489265.0, 82966152.0, 28451622.0, 12793213.0, 90383208.0, 126069509.0, 48330757.0, 119754278.0, 2062405.0, 43343384.0, 102854431.0, 77229695.0, 22240529.0, 111476513.0, 11555430.0, 80773077.0, 10578643.0, 25605015.0, 49843011.0, 23177948.0, 244819862.0, 64256513.0, 26973554.0, 13411957.0, 19651093.0, 4600000.0, 143049560.0, 88385944.0, 52970014.0, 43495888.0, 38159905.0, 592116.0, 21567853.0, 157920733.0, 180630907.0, 89083229.0, 37962774.0, 76014335.0, 138224951.0, 87812371.0, 63408614.0, 90260376.0, 59418613.0, 135503748.0, 100230832.0, 6577779.0, 75395048.0, 141591324.0, 25023434.0, 2463650.0, 9322895.0, 4221036.0, 15779455.0, 96888996.0, 52164016.0, 18637690.0, 51417188.0, 55033767.0, 40002112.0, 130224158.0, 268426634.0, 117831631.0, 22549338.0, 19561904.0, 20648328.0, 57232879.0, 88323487.0, 11155214.0, 29397654.0, 95714875.0, 92884429.0, 65900249.0, 92374674.0, 56995646.0, 55470154.0, 933933.0, 64444713.0, 7986084.0, 154906693.0, 37407812.0, 47405566.0, 5048693.0, 35728183.0, 98625775.0, 142044638.0, 33030115.0, 1278650.0, 39363635.0, 17496820.0, 48623572.0, 39712000.0, 211787511.0, 59950623.0, 215887717.0, 68777554.0, 183954145.0, 44004502.0, 136333522.0, 58834384.0, 164112721.0, 173959438.0, 1874460.0, 454026.0, 8701337.0, 20919703.0, 33334176.0, 290745055.0, 169852759.0, 195268056.0, 11242521.0, 11621777.0, 189176423.0, 143325970.0, 39220946.0, 154468902.0, 3263585.0, null, 12413888.0, 142400065.0, 40382659.0, 36020534.0, 60040976.0, 167298192.0, 38376497.0, 132274484.0, 78656813.0, 3534313.0, 342695435.0, 3484523.0, 34227298.0, 10686841.0, 60052138.0, 84384002.0, 67448651.0, 14792779.0, 32392047.0, 87840042.0, 58853106.0, 178127760.0, 49814392.0, 47275717.0, 107879496.0, 88929111.0, 49797148.0, 203450.0, 4770222.0, 55432841.0, 4806423.0, 124745083.0, 65001485.0, 93974620.0, 99431786.0, 93983911.0, 113374103.0, 146936910.0, 49332692.0, 6157157.0, 207725639.0, 86157237.0, 159710793.0, 28190603.0, 226904017.0, 67918658.0, 140894675.0, 2166797.0, 67876281.0, 17669776.0, 41319906.0, 198685114.0, 27728118.0, 7000000.0, 118071125.0, 106407672.0, 55720772.0, 105647102.0, 107588225.0, 10763469.0, 253625427.0, 52210049.0, 160112671.0, 26341736.0, 181674817.0, 64445708.0, 72178895.0, 97594140.0, 7177143.0, 159197038.0, 44547681.0, 53321673.0, 42426583.0, 163995949.0, 22818256.0, 55707411.0, 80981914.0, 177841558.0, 33426588.0, 114252154.0, 19288130.0, 13657649.0, 38955598.0, 11122090.0, 108605609.0, 41488348.0, 5684789.0, 28013733.0, 14010832.0, 136853506.0, 56870414.0, 45995223.0, 748453.0, 82169884.0, 4064495.0, 55305279.0, 16838910.0, 87238158.0, 76130093.0, 69319426.0, 14374652.0, 41410568.0, 15681020.0, 95802916.0, 10275509.0, 26768563.0, 171844840.0, 102244770.0, 106387141.0, 81240406.0, 2595622.0, 11832822.0, 92158961.0, 9617377.0, 177311151.0, 188126.0, 63102666.0, 43731621.0, 136836272.0, 64962629.0, 704808.0, 154711438.0, 23812816.0, 5502773.0, 17671101.0, 10161493.0, 51376861.0, 157029618.0, 16580250.0, 5808941.0, 33213241.0, 21142914.0, 106371651.0, 29342592.0, 48668907.0, 45479110.0, 31807156.0, 71571300.0, 71561644.0, 30331165.0, 147845033.0, 116755080.0, 89514453.0, 134212055.0, 47719794.0, 161626121.0, 16994625.0, 31672907.0, 67647013.0, 4152230.0, 134409025.0, 183611771.0, 69424389.0, 40909909.0, 3011195.0, 124305181.0, 54418872.0, 35281794.0, 100734718.0, 100654149.0, 50159144.0, 48449416.0, 67336470.0, 22984628.0, 12128575.0, 115267375.0, 82087155.0, 163247198.0, 43202283.0, 14000000.0, 104391623.0, 23726793.0, 27437881.0, 73498611.0, 155457327.0, 101646581.0, 149292488.0, 96085477.0, 22441497.0, 150270147.0, 347545360.0, 75782758.0, 1961544.0, 13642861.0, 47636031.0, 37170057.0, 16827402.0, 59981548.0, 110627965.0, 18750246.0, 107626125.0, 10653221.0, 38075318.0, 193921372.0, 48190704.0, 45011434.0, 115374915.0, 21289826.0, 128884132.0, 10143022.0, 76019048.0, 38390020.0, 1754389.0, 101276318.0, 309492681.0, 14099953.0, 1055987.0, 29824199.0, 57947036.0, 134748021.0, 68106245.0, 52099090.0, 11841544.0, 98159963.0, 17460020.0, 45867333.0, 122444772.0, 12408986.0, 164508066.0, 56070433.0, 221805.0, 41682237.0, 42593455.0, 14375181.0, 64828421.0, 38356892.0, 87937815.0, 211989043.0, 39886986.0, 39280992.0, 119208989.0, 112587658.0, 34942188.0, 19126398.0, 37020277.0, 242295562.0, 1663165.0, 97918663.0, 36642838.0, 22242388.0, 58878723.0, 96159800.0, 5007898.0, 13383747.0, 2944752.0, 100375432.0, 5144717.0, 32948113.0, 6262878.0, 27645491.0, 295493.0, 208550.0, 48065672.0, 119240351.0, 47737094.0, 29196409.0, 117248958.0, 35999081.0, 119137784.0, 110983407.0, 29725663.0, 9759200.0, 67062123.0, 25035950.0, 11837928.0, 62803180.0, 30987695.0, 62944815.0, 148336445.0, 55181129.0, 254683.0, 131706809.0, 57678321.0, 105178561.0, 31042035.0, 58795814.0, 33448971.0, 14842388.0, 122823468.0, 19032261.0, 782606.0, 123729176.0, 10907485.0, 41590886.0, 92938755.0, 32054369.0, 65100369.0, 47120948.0, 12803305.0, 10903312.0, 71508440.0, 101564935.0, 152022101.0, 131002597.0, 4654423.0, 449702.0, 35492921.0, 55611001.0, 40492652.0, 21089146.0, 61698899.0, 48169156.0, 104003322.0, 5526675.0, 29419291.0, 32051917.0, 46922566.0, 73956241.0, 212404396.0, 127369981.0, 78094714.0, 61619773.0, 82343495.0, 130628903.0, 39457342.0, 136982834.0, 10023282.0, 53120346.0, 16860964.0, 65664721.0, 73100172.0, 69865924.0, 38609668.0, 41067311.0, 63856929.0, 12947763.0, 41564670.0, 26117471.0, 17080167.0, 31976848.0, 21510851.0, 44763181.0, 60527873.0, 23144499.0, 3242802.0, 52425855.0, 80049764.0, 43312294.0, 27515786.0, 128792411.0, 66166000.0, 18409891.0, 40877556.0, 5670776.0, 85191134.0, 161502194.0, 9929706.0, 80547866.0, 424088.0, 36733909.0, 111231041.0, 17989227.0, 75055070.0, 74005691.0, 30787356.0, 40218899.0, 44352417.0, 54215416.0, 22955544.0, 12951093.0, 22126842.0, 86468162.0, 2766976.0, 57197876.0, 117758500.0, 3819421.0, 106956330.0, 16974459.0, 136159423.0, 61141030.0, 18564088.0, 76801179.0, 133718711.0, 10371451.0, 42269923.0, 27090159.0, 43411001.0, 85131830.0, 5540941.0, 3334927.0, 111289673.0, 16153593.0, 140807547.0, 802948.0, 59768495.0, 22323612.0, 10696210.0, 114178613.0, 26236153.0, 86957280.0, 9058564.0, 176104344.0, 129710514.0, 85897593.0, 18755936.0, 50812934.0, 42426912.0, 15315484.0, 79817937.0, 20546518.0, 1309316.0, 162944923.0, 68296293.0, 55003135.0, 65754228.0, 10848783.0, 124608438.0, 94216343.0, 234798636.0, 87019158.0, 96262212.0, 37317673.0, 19322135.0, 38269529.0, 674918.0, 69363381.0, 6451628.0, 108040622.0, 35656131.0, 9933873.0, 57084522.0, 6919198.0, 39984400.0, 7294800.0, 11203026.0, 6208548.0, 48260279.0, 16916617.0, 48963137.0, 685608.0, 141522961.0, 91753202.0, 89446268.0, 26910847.0, 41627431.0, 91036760.0, 29621722.0, 52844496.0, 57223890.0, 90632641.0, 13904766.0, 115035090.0, 140470746.0, 3468572.0, 6890432.0, 7282851.0, 9380029.0, 141047179.0, 14358033.0, 16763804.0, 120455994.0, 50054511.0, 110879513.0, 26937355.0, 2891812.0, 42886719.0, 46522137.0, 49627779.0, 17514980.0, 35626958.0, 66984887.0, 19344615.0, 31283740.0, 10161099.0, 57881056.0, 71022693.0, 29699345.0, 13200972.0, 14545844.0, 749741.0, 5218973.0, 42345360.0, 106269971.0]}], \"hoverlabel\": {\"namelength\": 0}, \"hovertemplate\": \"%{xaxis.title.text}=%{x}<br>%{yaxis.title.text}=%{y}<br>boxd_vote_average=%{marker.color}\", \"legendgroup\": \"\", \"marker\": {\"color\": [8.645801351141731, 8.347947052159073, 8.516627837206553, 8.8456935945827, 8.388881856283998, 8.291161087624104, 8.552465784576555, 8.582213553454013, 8.005497986006006, 8.704214025795533, 8.084131986654132, 8.116461088247688, 8.945312857862673, 8.318546919537164, 8.418245179464762, 7.651456708396146, 8.27510553643716, 7.8840717137159615, 8.630408428487813, 8.281127375314783, 7.761289981268272, 8.27055307564201, 8.212865760364277, 8.270615286387406, 8.522377569972313, 7.329335756691033, 8.136715403575103, 7.79974711402945, 7.363272721632134, 8.616314186661608, 7.9418497501105545, 8.90053509672199, 8.410829185912807, 7.9814783796888085, 7.808901386978478, 8.218410590239854, 7.2337016955581035, 8.053247649743495, 8.537498952543226, 8.134258444662835, 8.205354901091386, 8.259869269899541, 7.561950014777005, 7.437499575535448, 8.254717893619635, 8.220994356227282, 7.96963577932512, 7.881960226066727, 8.348666849917537, 7.433266437776643, 8.236679836481148, 8.174628594239932, 7.743219828336525, 8.774852273591843, 7.336366670684332, 7.5139509103020075, 8.121331423573702, 7.625858852912132, 6.2269821290152825, 7.774119710560087, 8.247366235388018, 8.5886729728596, 8.318984533508624, 8.094308416314282, 7.975224316086236, 8.345453181947715, 7.674791683110264, 6.67749142799646, 8.302012338218969, 8.420298404159096, 7.957525434833858, 8.115621662455391, 8.787025303959824, 7.569183522734635, 8.245322020779017, 8.379948491880793, 8.17762128027484, 8.837193884202097, 8.115759081194568, 7.966621383214798, 7.994067724274165, 6.631857831660143, 4.139952853522861, 7.890490874526022, 8.296468081215847, 8.317720489981614, 7.83835848785396, 7.1934422476342545, 8.070139262336122, 7.482551674174689, 6.228352801368076, 7.986977730156851, 8.507946115519468, 8.034789613888767, 7.360271361099184, 6.838783226154635, 5.879521468717515, 8.318251226986396, 7.67045750582938, 7.274953651642707, 8.611239421423514, 7.982195748365702, 7.027945547075362, 8.623566460970439, 5.323617794839605, 7.452053439809135, 5.829872045161953, 6.829233279720628, 8.244769014218159, 8.650845342248928, 7.256320604184281, 7.565061500434753, 8.61048480650658, 7.472709631260678, 7.8982201237340295, 6.665728865178141, 7.2680774796106284, 7.5460766087269295, 7.368004396779209, 8.168317064750008, 5.119707238623496, 7.736956572305831, 7.526557967390217, 8.085028396503807, 7.476311397577188, 7.7048782135992315, 8.139357256088774, 8.10748409798349, 6.710081493249632, 8.06171280715248, 8.12093958578596, 5.062393291324113, 7.555131017822368, 8.083622999407233, 7.215187493086538, 8.421783764699493, 7.51475999042639, 7.106446375239466, 7.889698857188102, 5.979283426741393, 7.879803394013675, 7.635293235338233, 7.786784610465736, 4.931887230421755, 7.617764723965885, 7.823161017916239, 7.587289288683952, 7.419238100036105, 7.547147757397037, 7.973482837647119, 7.345756258954084, 7.0109197722701495, 7.139500745589403, 7.927707959791331, 5.429770014988573, 7.519867085849468, 7.1437534107818, 8.161306074614233, 7.421450706183826, 7.692782674020192, 7.1584590693119585, 8.14107152635011, 8.467064594097652, 8.41905601331891, 7.65064398566052, 7.1680245817447465, 7.954369924296669, 6.088035479458765, 7.316474718611701, 8.264216489351202, 8.03741505639281, 8.59105104836598, 8.786833587855856, 7.762099585366749, 7.978015543817912, 8.279128025846608, 8.004595267596146, 7.9096715328467155, 7.200097366290055, 8.395792025323159, 7.642310401908623, 6.852423273556087, 8.330556671903352, 7.737700553131549, 7.761641920303843, 6.711950266660183, 7.1534757933987585, 7.595538079244149, 7.9508420196030665, 8.202646603593722, 5.90476895004192, 5.7981372739164705, 7.050000639721593, 7.81224714708916, 6.829876694855199, 6.884407791488445, 5.5197135035495695, 8.2261403467501, 7.714279757747595, 7.442371600520791, 6.6106622708499385, 7.7853137353520445, 7.202279418459951, 8.045107890628127, 7.638088369403897, 8.685638753397624, 7.290075837148644, 6.392523074605306, 7.1263663506417005, 6.6363039703194575, 7.083136227966436, 8.075341290790268, 7.520149435900701, 6.574787701872773, 7.922804924807226, 7.856977808780573, 7.517695777452593, 6.9450818672067545, 7.598283552697863, 6.137513452765317, 8.389236592587041, 7.8948438551525655, 6.768125095603002, 7.12473808568499, 7.525988785233475, 6.6425251277417, 7.064554987482028, 7.408790183738217, 7.054835977580096, 7.127677494592682, 7.183202193223888, 8.32808342414029, 8.16953218712515, 7.721825647969622, 7.538459977680836, 7.4564978883042725, 6.665631103515625, 7.6345597052997025, 8.168887492143305, 5.068040669932393, 7.520952492120929, 6.044436630760678, 5.131631556211889, 6.564602549791434, 7.858953152791523, 6.936106339042463, 7.586939893829556, 8.001552804792949, 6.607301577028456, 7.306656919515464, 5.671517985829041, 6.958505177255177, 6.812029795619895, 7.780688424697406, 5.29629265770424, 8.233110315854987, 7.263157582622206, 7.5657614773607085, 6.1825042178968195, 7.8459543006469294, 7.044065984918105, 7.332926524161413, 6.199615980703824, 7.523831454449584, 7.561438790316422, 6.340877674039159, 7.47842742402148, 6.8577796852646635, 6.648028677953249, 6.969638121844993, 7.07380257441457, 7.009019002300445, 6.501930080684127, 7.128388507950552, 6.450532813623969, 6.35448320136957, 7.538840590571835, 6.6811934540346165, 7.7531724536684825, 8.368596192539854, 6.742820862376042, 7.573332058270377, 7.766875910069461, 6.1263974617825205, 7.6818031716212545, 7.446987788942459, 6.630309935398798, 5.478476985236643, 6.607261375780415, 7.199194977890689, 8.422987785781396, 7.051227977681121, 7.12772934495721, 7.64360808277203, 7.85308632059897, 7.348748999277148, 7.225230142806562, 7.346894172048603, 6.584944497093567, 7.290905662901941, 8.053399773162523, 7.590119046345715, 6.73531963962285, 7.4620497427101204, 6.4471773567324115, 6.90982085015199, 6.139715155091227, 7.112674707449196, 5.739677652524651, 6.6703792649650175, 7.538392816025788, 7.450779693017727, 6.66445355241928, 6.917346119867009, 6.67781717056267, 6.4106792775924015, 7.674028105635881, 6.427145797620489, 7.3828076848574495, 7.3842932257275615, 6.990207176857295, 6.528358952246185, 6.740308170916536, 6.531995098835973, 7.054948904674235, 6.264885373341255, 7.053742994395517, 6.241135837431354, 6.2047041202305095, 7.532681139074022, 6.946028758563577, 7.293537443618235, 6.3588888032133015, 7.18022480058013, 7.090881019323593, 7.439904297241509, 7.2281555798919, 7.521828657413824, 6.9014738704683, 7.161231095937885, 7.560266466444078, 7.167218926407065, 7.206578906094794, 7.101097507885712, 6.997147865768824, 6.337755611674252, 4.852560724020059, 7.509181872547733, 6.33429733270877, 8.089195936933548, 7.230593873756117, 6.620370191409446, 7.364524996505614, 6.966467632978921, 5.043638140130584, 6.0686432298620785, 7.034584498550427, 6.541455753887572, 7.683556493030081, 5.860401415787549, 7.717946913862553, 7.268605061282074, 7.561077666712091, 7.545436524027068, 7.535547159346945, 7.192607541157727, 6.219356994464865, 7.144733203079696, 7.33788061332156, 7.248111910849677, 6.8450372340862256, 7.438746545999383, 6.649813272048262, 6.536441175143283, 4.812026781394254, 6.605977108944468, 5.746354437546495, 6.077279277829391, 6.8361299590439515, 7.310891938250429, 5.276857883838836, 7.442525595306568, 6.226028766908057, 7.006151099171117, 7.586104266790271, 5.841547413358953, 6.341265847442495, 6.416879420589438, 8.046623665391317, 6.339568633739576, 7.96849615168376, 5.326337034739011, 7.487784232189527, 7.526640290141774, 7.66282320837434, 5.66537808446837, 8.534999181624748, 7.345965042168287, 6.808094258531389, 7.479854768037563, 4.962348490631653, 6.882454632664482, 6.543175508479691, 7.712768245669187, 6.253323312508807, 6.687335352720595, 8.399880352106658, 7.137250360045522, 6.651124695650879, 7.356249260752077, 6.9677867309835735, 5.98565504113128, 4.578151623151958, 7.156917383995758, 7.539613763147809, 7.8701987307949235, 6.936540811465734, 7.345592577877522, 7.184965492566543, 5.304299949947673, 5.7743049187909135, 7.113058796349775, 6.489745188311273, 8.184896370090462, 6.857683445735717, 7.060104470524387, 6.456169895798754, 7.560878303088188, 7.011533190812915, 6.5840832756454635, 4.9831316708270785, 5.454772034544069, 6.448463010318127, 6.184643708035521, 7.362981334797271, 7.36981302397941, 5.584409040136392, 5.318450604893398, 7.173705735660848, 7.019787696363053, 6.357266690938091, 5.45895210596421, 6.440684775165487, 7.473067833493226, 7.601722783226144, 6.785864831839392, 6.421170245097163, 7.134282099936749, 6.756965718453683, 5.827546691373677, 7.754085516006268, 7.804291492092708, 6.906821670905064, 5.823822240868786, 7.481627154524351, 6.889642887437442, 5.943515255537093, 7.236064614304109, 7.286334781156031, 7.296965215165391, 6.867311972956248, 7.955150528394615, 6.511111728172234, 7.597281946666275, 7.146841965904231, 6.312053975729035, 6.909170803314469, 6.88004917286974, 4.666339687337063, 7.145653094232711, 7.693694457224495, 6.581766221597563, 6.7831233748501, 6.080882150241213, 6.5572463768115945, 6.841182316851742, 7.28458040762127, 6.5982150130796455, 5.408235787672641, 6.474629822215619, 7.264912760351941, 7.852982137450803, 7.258631584994543, 7.055801178992497, 7.352844068199527, 7.275584119048088, 7.046921792764206, 6.08570828440218, 6.798512596078119, 7.410031894687802, 7.137799216287588, 7.487125459805007, 7.394725817226582, 7.52182178128726, 6.883644013895005, 6.027900472562446, 7.41619618570902, 7.449866846343889, 7.046381025248661, 4.668003869827025, 6.509935020162554, 6.614342173895598, 6.769649880714424, 7.794960511470477, 5.1643526201275956, 6.625213660701147, 6.719581321990154, 6.275696065757231, 6.606774166907544, 8.489072534475033, 7.858345188709697, 5.979842908028131, 6.080584206321421, 6.530548843631343, 7.460365892258023, 6.766652179880141, 6.470413503701259, 7.105590609690054, 5.880669909439633, 7.202746914580026, 8.209781069600261, 7.177719115236412, 5.549330180018982, 6.695333972859653, 5.620442678249619, 6.691006901943036, 7.446951757440684, 6.395946811078576, 5.354216239687364, 5.598944640932045, 5.4633239597731285, 7.141114702982782, 6.421364025052578, 8.146462018730489, 5.312686473490591, 7.162162910460158, 6.250421793138831, 5.721180825980732, 6.066087457399318, 7.158005164622337, 6.238579046715283, 3.6178547971505077, 7.427968223464292, 5.856607875104985, 6.525110893484648, 5.767427394354707, 6.30151136993899, 7.315499356182815, 6.3170069813757035, 5.248391440969624, 6.659862133271171, 7.515535232735373, 5.692356984135187, 7.671733949146054, 7.218121911037891, 5.943108331725937, 7.426228420535821, 5.470921135856719, 7.45134799353957, 6.347663377011113, 7.613180803291438, 7.009999272250928, 6.821745239594942, 5.587523805664735, 7.176080699252687, 6.183331642601923, 7.288821209636485, 5.807397779963468, 7.075665298556864, 6.086646856280364, 5.638070707934337, 6.109976828575176, 6.656667686970717, 8.042804150498299, 7.482300691025435, 5.652593053548639, 5.736562364279362, 7.532330539532809, 8.022810510969668, 6.4832930503213095, 4.815676473178895, 6.329188273891417, 8.14714438266377, 7.347556648848101, 7.271551460233883, 4.89848900119209, 5.19524058235947, 6.6029938458434225, 6.775429100491418, 6.770968649312126, 5.784435718292621, 7.095309104852797, 8.203364116094987, 6.983402421099569, 6.819451401311866, 7.781130625920314, 6.741424953135956, 6.304487591616304, 7.22711596307437, 7.297436325678497, 5.803734349357907, 6.477139128664983, 5.708061289542527, 6.393692444684904, 6.053132416303772, 6.3596946093250075, 7.5440735660214395, 5.501524464608029, 7.455304589489139, 7.913480661225399, 5.946547349653707, 8.263326208347832, 7.075594907290456, 7.822957610207414, 5.404007792321499, 7.221279063636843, 7.36739483938269, 6.724613601236476, 7.221864799659397, 7.611107259238716, 5.769209391257949, 7.054424469789285, 5.864064749506999, 6.433853614183967, 6.005730553994281, 4.79783675774293, 6.589112372734707, 6.2022538969245895, 6.4689827457795435, 6.541065159340138, 7.316078607236094, 7.0758457318593635, 5.409249140504596, 6.822296177354191, 7.039297800338409, 6.321377390165009, 7.580114249886795, 7.452340303250562, 5.222018876310492, 7.024484862953402, 6.893383310660222, 7.223600688048955, 7.07657566735631, 5.140995929345934, 5.592061254718334, 7.671053052348822, 7.110874200426439, 3.5814374474446415, 7.3498257943479945, 5.472316223180043, 5.819363298797746, 4.24887500266587, 6.508589881593111, 6.443689174617474, 7.609050691857371, 7.064420779851804, 7.811057964904119, 7.0643315612033195, 5.461405965377514, 7.0624490761426655, 6.998666415411599, 5.417988673537585, 7.834147756431711, 7.032812721627713, 4.914493033396545, 6.961219869122235, 7.726260257913247, 7.111591875295229, 6.370437643020595, 6.794831743943878, 5.715904590344052, 7.702386020393683, 6.869926274001458, 5.959280796912486, 7.143178531255022, 7.656085147484954, 4.634559152361622, 7.074641926593069, 7.3409923242863595, 7.622455516749675, 7.301179981846433, 7.839604195058364, 6.316790104604108, 3.3387663718795477, 6.421336636482716, 6.28012134628787, 6.163951424127692, 7.1074862788144895, 7.1021969492975145, 5.748932395615536, 6.598980168032717, 6.774128459283915, 7.559180237751666, 7.095142793608438, 7.080712523553293, 7.063846947388165, 7.979040240051951, 7.229070753574025, 6.0180320927448205, 6.679824630079073, 6.513594192336799, 5.929529498792692, 5.627297619883452, 6.772874338725753, 6.97647728950866, 6.477283938017724, 6.973833314500638, 5.898980878335784, 4.610629109953142, 6.742179959812034, 5.825769790908145, 6.7718192993239095, 6.278820126525498, 5.673866321368023, 7.4405410432887775, 7.375303466946118, 6.272996793580717, 6.564985214819969, 5.135623448067716, 6.093542855258384, 6.00485067147725, 7.316266367648122, 5.71457920610463, 6.9361283511421075, 6.592777702733126, 5.7415958625785, 6.674530078405861, 7.336067223508101, 6.267876708378986, 6.671116361488482, 6.883333333333334, 7.784819026656884, 6.179872627937801, 5.563904549833389, 6.949687417451792, 7.229192189892802, 6.968571671918917, 6.503587060256031, 6.528012433980456, 4.676550713923912, 5.804376935874373, 7.03177109651339, 6.0896988303696356, 7.671646562999564, 2.9200582979187097, 7.3402427713029805, 7.349863109574096, 2.198496530454896, 7.02236208049663, 6.785236396074933, 5.818352825713585, 7.17800848742043, 7.001103752759382, 5.9170502909754195, 5.7915768145307185, 4.557868228226406, 7.351102539844262, 6.918859563120122, 5.9947391952309985, 6.568800038975591, 7.164927111187786, 6.455839760486836, 6.6694077010637045, 5.337008592502471, 7.360339648090246, 7.342083732265645, 7.354272868875673, 5.9950096191399185, 5.579020629037051, 5.753561779339465, 5.559828861089151, 6.551671707405755, 5.950045506843199, 5.726584077657358, 5.942521568911767, 4.1755094697589215, 7.572694745211758, 5.777100565955594, 6.755146769570837, 6.415058184794107, 6.912003599422198, 7.663572014772261, 6.752071529745042, 6.0483798882681565, 6.750792148471256, 6.812841562943881, 7.633151663221199, 5.658710914881297, 5.7756398826409034, 5.996438080795613, 3.866053841103086, 6.227876740222326, 5.749226105506279, 7.015928392712408, 7.185998549542199, 7.195748601795701, 4.289673295454546, 5.602039447202468, 6.773386995871043, 7.588011461318051, 6.730767679212554, 7.374595922589544, 7.998497945302536, 6.7039520865233655, 7.315663498768039, 7.023261574026296, 5.578308207705192, 6.899196378439079, 7.7111220472440944, 4.970672110454879, 7.503493516399695, 6.539200809307031, 5.2025288764438224, 7.41795154185022, 5.9203135714731, 7.059653739198039, 4.348722598382592, 7.60493053379296, 7.029691211401425, 7.63681637923084, 7.898691048670563, 5.610369416347302, 6.540677248677249, 7.588034527234845, 6.219334453535944, 7.237679139752547, 6.060956993209454, 8.150288467634565, 7.619821232554493, 6.394846118694244, 7.114826027817998, 7.200161257810925, 6.390765599645966, 6.163903478439655, 7.34647550776583, 5.047741773265864, 4.539457807095165, 7.562606324089326, 8.28616285740165, 6.3142213664339994, 6.276380745308407, 7.7048040937905755, 7.859847592112499, 5.391111508007382, 6.785777195636955, 5.5662123429686545, 5.366722046851637, 6.549010304974095, 6.875476967861217, 7.2685350170436935, 5.489882345694222, 6.324384486960526, 4.979548876801573, 6.25640064536106, 6.036608400013737, 5.1679544793249494, 7.494656981436642, 4.901258169934641, 7.545162537548702, 6.120756616800921, 3.896567465284425, 7.373190348525469, 7.272218690400509, 5.389032438826972, 6.12263224358075, 5.158356290174472, 6.4189510797708245, 6.762685331797899, 7.30314478251991, 3.8846573318322544, 6.213859162597615, 6.351849046440775, 5.903046619411123, 6.10597040578759, 8.113551661248117, 6.969493347668324, 6.578160869753541, 6.4151388888888885, 7.100863677791763, 7.751664276935682, 6.362751318554943, 7.431761680240034, 6.14667501826913, 7.614945033657804, 7.101118184102521, 6.827135951788068, 7.204168257461765, 5.4323435682128585, 5.740748455182948, 6.975965140581253, 6.061393132632491, 5.798913331098841, 8.205748599281424, 5.899597935498589, 6.27700488185006, 5.170450582409151, 7.074951925226958, 5.9709743629463246, 6.399765380604797, 5.339516892958636, 6.369679223844069, 5.426659151754262, 5.977405710257314, 4.989083982514836, 7.847257019438445, 4.90172492439729, 5.978905947619662, 5.449684713256968, 6.14409436733978, 6.071539582321515, 5.36171424233222, 5.465597606790038, 5.665343798168063, 6.535006690551215, 4.968668494616465, 5.65214370222915, 5.086313172298289, 7.072233511915758, 6.789841349997896, 5.092013857724964, 7.684406272765615, 6.020589927201317, 6.462218789705773, 7.513781125215076, 7.600153339391186, 7.003962593120939, 6.541336461799986, 6.131012258584275, 5.458654084926745, 5.0736797274275975, 5.233120919504281, 6.5864784581021025, 7.2099880462212775, 5.726561516464939, 5.717172204272556, 5.992241250373915, 7.848332144131288, 6.6291891673239896, 5.409119359672249, 6.867493402561737, 5.679658302189002, 7.482715609408411, 6.065534357065301, 5.556113401841605, 6.263641232124085, 6.039542570883035, 5.641318715496462, 7.276090352991023, 7.2268731268731266, 5.1505737526327255, 7.171291053227633, 7.064493525421828, 6.661422806694115, 5.128429431492181, 6.935629124068987, 6.438733236525156, 6.513636363636364, 7.498444503031901, 7.295867902602492, 4.645515514620406, 7.241352519929739, 5.761948913735115, 4.141372500143808, 7.186500460062218, 5.137903547229972, 4.298828463484801, 6.5340738296858385, 7.5997711421098515, 7.277640853748706, 6.435476313777712, 7.062655784174772, 7.3860782482357825, 4.792153054688953, 5.360666919287609, 7.696134620920677, 6.2471469740634005, 5.613250009299557, 7.213685200490182, 7.46833557282234, 6.9784422611419625, 6.12341000699959, 8.228151084346534, 4.490803296664426, 7.458191756537155, 7.1660624516628, 5.739825407581616, 6.344417713260479, 5.530396997021502, 7.09454826403979, 5.7919901369651905, 7.521312516233298, 7.22744825670232, 6.484065147212311, 6.455204159918166, 4.271670409723139, 5.0317945132385145, 5.634089564016572, 6.840784004087225, 6.586017320229639, 7.138686686788241, 6.235664160401003, 6.628093062561069, 5.0479357612134, 7.562241692841792, 5.426816786079836, 6.87991464521351, 6.38311482103162, 6.482342380648666, 6.386493827160494, 5.537299558447595, 6.4317217239116165, 6.932908079816814, 6.519493827748915, 5.27035152182029, 4.584885751012029, 7.672692930383162, 4.0982783754359415, 5.404126402743142, 6.333914540478503, 6.780214715610259, 6.93852006381151, 7.416004622273581, 7.2143629837242464, 5.947789973301691, 6.705151871119315, 6.611889084670314, 7.39330256684084, 5.460732274749848, 5.799958130771556, 4.600927565869958, 7.682618670630433, 6.497830914630997, 6.914265914265914, 6.462147725179591, 4.532430724448956, 7.397910809767929, 5.581560283687943, 5.013546507048909, 4.431851282466219, 4.752804337111877, 7.077829634355169, 5.0238886108204035, 5.683937611444733, 7.081932181100883, 6.516766583808549, 5.741322841782191, 7.381660099366113, 5.272077063006449, 6.660877000122145, 5.847874365482234, 7.605724319578577, 3.4390376196195422, 7.396715171848789, 6.7407435111077865, 5.098236199509131, 7.0254080167123645, 5.766837148065627, 5.400800552762622, 6.156318920002673, 6.82339293025795, 6.9538025775385925, 4.5464760928572785, 8.807055289437363, 4.949254752689092, 6.786427788876716, 5.236871957271825, 7.146533988327665, 5.046513893760474, 6.569440491775286, 5.527662777568686, 7.063206827169916, 4.997669902912621, 6.287953259760735, 5.553262505726565, 7.372436974789916, 6.574775964052702, 7.8052595721487945, 5.4530586665588485, 5.986099793893495, 6.757598508776471, 5.613914082441753, 7.298841207181969, 4.189670147655887, 7.373521236020428, 8.004173106646059, 4.902541345361075, 7.018011679448392, 7.241419429901105, 7.498549790525298, 5.600187894242383, 7.426384985949418, 7.17106259899456, 6.427440558649741, 7.335268862612613, 7.006732547387887, 4.43841825228263, 5.42812762598355, 5.565905801135731, 6.279617550314991, 5.533328235324106, 6.400230308613542, 6.6961223636255, 4.730336618246635, 7.033850911244161, 7.91042864283929, 4.965493172795882, 6.379192908794028, 7.261049723756906, 5.0371940770684125, 5.514034516444155, 6.6586229235111745, 4.334749362786746, 7.529106430440565, 5.0065740325713435, 8.206657420249654, 5.407973973835398, 7.539831373586903, 7.139124033860876, 6.040521284037619, 5.490978608556578, 6.493229249641549, 5.742530755711775, 7.813260245366745, 7.251508715147837, 6.4519139920405415, 7.211228243950757, 5.144659882163899, 6.546641036017807, 6.004746918436926, 6.001366915580307, 7.0110818143605025, 6.590828025477707, 5.6165844491425885, 6.617770064582207, 5.4347236585085605, 5.125531576194483, 6.272233616108884, 6.877736119534653, 6.594866993446054, 5.546498198281438, 5.431180852906962, 6.035050071530758, 5.269526099433802, 5.094664729084492, 5.900794752113032, 5.370507688108453, 5.994204200831181, 7.999315849486887, 6.468284798820427, 6.574465643379716, 6.838043043900211, 6.761767294490407, 6.583094699824165, 6.693335445711871, 7.279237844940868, 7.952172231532809, 6.2354639753294085, 5.742848242562691, 5.387648521060914, 6.706045989332108, 6.791415792189919, 7.1409391128595665, 6.125211955979652, 6.879175097707681, 5.609823347976446, 5.556509535210105, 5.084034445214293, 6.934584371792992, 6.062287870971246, 7.305333072865794, 6.412810527729287, 5.816645100900256, 5.578808084477077, 6.541970396307496, 6.715281989084294, 2.5518410524174406, 6.468809934011637, 7.183038526774897, 6.919824150800177, 4.565283793595554, 4.816797850780035, 4.386446978449792, 7.008033284488173, 5.878277615920202, 5.506854510972636, 6.051380998320649, 5.522135015294146, 2.732492356580563, 6.350259489162512, 6.803595326798567, 5.368144902458765, 5.567511028241394, 5.374638051439278, 5.786843203912447, 5.375245085717158, 5.826278611324061, 6.2013372472276584, 6.011611081701076, 6.4850393700787405, 6.825515999445907, 6.071451509312781, 7.827948269238977, 5.4154900389599625, 6.670544361571858, 4.815559208781885, 7.195637573160201, 6.165675567499571, 6.488846687164647, 6.2162818198792555, 5.646022744321421, 4.400671772818646, 5.015878868323378, 6.202976108272338, 7.684414377194795, 7.214101097411127, 4.959590890625373, 7.185488270594654, 6.335618719813468, 5.494467924731472, 6.1594499707431245, 7.631453212940843, 6.95853465060936, 6.5830893908113275, 6.846049497088407, 5.215640377709802, 6.524681268388362, 7.0421876825990415, 4.973228307201436, 6.109130459347986, 5.186531097319424, 5.840604645446724, 6.45602384438402, 4.23358698895852, 6.7611677690528165, 6.555027134270876, 5.694376207788805, 6.066116748057994, 5.9662051511091265, 7.185761893817514, 4.6296642817831595, 5.9776576463971, 5.650434040130923, 5.997997618789912, 3.7233273056057867, 4.8457291056638505, 6.612500496998131, 6.231297530905558, 5.8127805575411005, 7.784234541354172, 6.244645421491644, 4.310272265207679, 5.686949850601631, 5.049415894257665, 6.0716357467301485, 7.032137545794189, 5.6648419662751355, 6.322689888727624, 4.982851648058123, 6.2017905877654265, 4.919572553430821, 7.254516413306896, 5.338876297897012, 4.886895915543484, 7.377416899264146, 7.1458138752942055, 5.461998756605533, 5.735236825917572, 4.98667519454216, 5.557897952948365, 6.130854706376381, 4.563869807000327, 6.543912175648702, 7.088671988088837, 6.668103719554408, 6.31535144588849, 6.564752383166706, 7.057121288374434, 6.559603440038223, 7.58086439850236, 6.920340369824906, 5.808318646457526, 6.04156342913776, 6.0156468678273525, 6.341631692738141, 7.181404496548533, 6.472235266494482, 5.134621977268532, 6.912561196891369, 5.459331668703182, 6.0965747460087085, 4.728381906334914, 5.358429063378986, 5.077047129153343, 5.633339399454049, 5.057997045105594, 4.191811496475737, 5.006970866775904, 6.233315743183817, 5.439363358514504, 5.345774152721137, 4.426107021206461, 4.972336668628605, 6.346965699208443, 5.480432780847146, 6.960643431635389, 4.864809279622673, 5.307978343645883, 4.945406626506024, 5.744663360096457, 4.251766013175649, 5.0977238321799305, 6.068812532509256, 5.987169617654606, 7.016908663357097, 6.2028043135051245, 4.739994606256742, 4.827551569506727, 5.805268012708824, 7.227758281593459, 6.8809971572272035, 2.8698700513750377, 6.915314575203669, 5.34650823775339, 5.372561931640012, 7.204791138395836, 6.440137468030691, 4.497912081710965, 5.688386901152214, 5.219832593607578, 7.224508475817377, 6.454986295593506, 6.997975355185535, 7.129388460403759, 7.156352027860407, 3.8137067368043516, 4.886509397133456, 6.4597353805945765, 6.209553670232387, 5.658017126827108, 4.470856888245287, 5.942629285029829, 6.788665655799848, 7.153683350660923, 4.693056528633062, 5.519211970824874, 7.340388426476417, 5.990474908283128, 5.038164237428335, 5.098285848007956, 4.847035444002831, 4.460535550396804, 6.196108688359611, 4.832544645372091, 4.646369636963696, 7.02817705175304, 6.7877382002223845, 5.277633000699168, 4.22021542813622, 5.48220742150333, 6.992052926701359, 5.517293125625268, 6.4900917937202065, 6.974957957498853, 4.84734626180148, 6.840244468513075, 6.545898283734845, 4.316403992139032, 5.43274231678487, 5.564231073595358, 5.612619430517453, 6.138606417916353, 5.041305775304087, 6.276343964837146, 6.821539948170598, 5.198416625432954, 6.5475111205253125, 5.656750854929752, 6.7511631990167675, 5.098804609033212, 7.553367990266564, 4.180120174593277, 7.133091873692802, 6.241229760986893, 5.215249404779401, 5.937963787474028, 6.561425734438129, 7.493709050849423, 6.245968869419331, 6.289534668149796, 5.064054582187924, 5.2608764687202285, 4.92751713231418, 7.344653691592467, 5.833875106928999, 4.603265181568508, 6.436276969392875, 6.230082389707374, 3.69885100074129, 5.843763410098698, 6.094097795648739, 7.752620130512161, 5.856395500915512, 7.711289903970932, 5.989110334908568, 5.649455254567807, 6.9036593629997745, 6.16542422246108, 6.660458758703173, 6.168409445226054, 5.287253631589715, 6.287095509777449, 5.086403792286145, 6.452544576523032, 6.55034766932784, 5.992372509085101, 4.886148616144447, 5.719821264112972, 6.714185918866324, 4.933611545818119, 6.043038561006678, 4.386035870408955, 6.160058347699244, 7.381178063642519, 4.441521747781448, 6.169229152803558, 7.268984739102622, 6.988332987336516, 6.0353117651828425, 7.270908891086933, 6.098609671539369, 7.517573449401524, 4.173593021142546, 4.567972878042821, 5.9454250422227375, 7.210842427573212, 4.719366993217784, 3.7766116381564205, 7.868350211511345, 6.48751517253338, 7.088930607704074, 5.609549248747913, 5.261071359504931, 6.148925828715855, 7.461736931730224, 5.106564475621374, 5.079164594728991, 7.262744740084889, 7.495245825602969, 6.692712504290127, 7.000688357578817, 5.842777704223487, 5.844920515794501, 7.00416068866571, 6.12480604734434, 4.8542175527821465, 6.951682555202477, 5.078343812517862, 5.827475486811214, 6.399886577109843, 6.056877353200353, 6.599582051430893, 6.379929382737057, 6.023186509667103, 6.574646596397222, 5.852438668224299, 5.543581468954604, 6.329376402998136, 6.423969352662052, 6.442270306821063, 5.648948129115143, 6.391046408886271, 6.565658237801597, 7.01300894650356, 4.701895830522197, 5.545711113167392, 5.064581104047334, 4.826287271665423, 5.487630048332924, 4.262847588877156, 6.848561521881735, 4.261309794249367, 5.710100196815173, 4.620667563585111, 4.531035156886384, 5.748056346701563, 7.1149480415667465, 6.410086121941814, 6.147432917811114, 6.854075187969925, 5.159947078894227, 7.313749942265946, 6.223180684172692, 6.616639852907378, 6.012728091912593, 5.575839753466872, 5.453121822249339, 5.513933655654043, 6.233341918392877, 5.590121350754081, 6.836480186480187, 6.454234783411841, 7.324032754213422, 6.334541199562149, 4.987774361907485, 5.551454981170832, 3.781443495379926, 7.883556254917388, 6.682457229970075, 6.991972021301963, 4.808358921869669, 7.74998334998335, 5.197076975502632, 6.23476148409894, 7.335993436754177, 3.3277242560479556, 5.433397139961716, 4.948899527894142, 5.650139255350338, 3.841936587946109, 7.5056148231330715, 5.332738918407453, 5.0404553355373025, 4.704532600791791, 5.294688350666574, 5.515251073361957, 6.069800255743199, 5.6951103887308685, 4.19574483456148, 7.820666830105418, 6.143105271107084, 3.8427556496107624, 7.416222391469916, 7.686623332192952, 5.714539447976981, 6.935380203698211, 6.655088730471713, 5.7485182950633495, 5.599958822318303, 6.727373021597997, 7.034251573474414, 5.624767086532011, 5.845068313681453, 7.049612112112112, 7.2204831374401985, 5.607763570936376, 3.7588101944081886, 3.386361428617686, 7.387851348802113, 6.158452711175286, 4.687437495191938, 8.096669374492283, 6.217668875782818, 6.147915168943206, 5.650262602870022, 7.002526335859669, 6.318830272350751, 5.239979977832601, 5.1949328027934545, 6.880324152235782, 4.3194938880549, 5.214605684170902, 5.001366541767688, 4.146823789357393, 6.957934714677179, 5.750215749730313, 6.466964570699011, 5.067772912910703, 5.744976989561118, 5.357661927330174, 6.8719693287974515, 6.6578374455732945, 6.258409269884126, 5.0064063077491685, 7.119236329195952, 4.407005838198499, 6.072643574917195, 5.951094922933416, 4.611775207637972, 4.930751571261902, 5.907662535133392, 5.936580077554935, 5.907586581065196, 7.18194173877588, 6.330635891305348, 4.722497834475155, 5.71917380442541, 5.578819358562124, 5.779046443450085, 6.43298102861186, 6.432904928815613, 6.021149257956246, 7.2788613303269445, 4.029695677456871, 5.800020484457418, 4.768391298125089, 6.059574873701267, 4.847529490785441, 5.127918447878987, 6.294106100014722, 5.396080051409162, 6.76631803215185, 4.787951617351562, 4.820968572900567, 6.717732793522267, 5.925737744898789, 4.4005677003897645, 6.204233180666104, 6.586903517938, 5.385303024774693, 6.350610187061207, 6.324283662723108, 6.584229137199435, 7.486822245442935, 5.673992673992674, 4.839356749894202, 5.651219725452479, 7.556179331066656, 5.949930523390458, 6.4703652653342525, 5.252412371134021, 4.429040165943805, 6.662351985140469, 6.716290227673924, 7.666256157635468, 6.679274882342688, 5.935536605841029, 3.4880061486185836, 4.757006122273002, 5.960687840997662, 3.806023419955085, 6.126260201632261, 5.330572117791634, 6.99122692156606, 6.381651954602774, 5.366478003601749, 3.9719956916448687, 5.560683185393968, 5.456311856190669, 7.13040901007706, 6.604969290898939, 6.182647551666356, 5.652179332696223, 7.10568991045618, 5.544439234408969, 7.6532517504573265, 6.454143537849388, 4.891562246891229, 6.201507226815139, 5.423893567461029, 5.583872099433669, 4.745089463220676, 6.871791907514451, 5.660673014699085, 6.981984175289106, 5.925763300316553, 7.109310986964618, 6.4276461062858825, 7.689300104462021, 5.399216409310901, 5.582431102362205, 5.455283315578552, 6.373801526717557, 7.085329637695506, 5.895354393416512, 4.355189743183887, 5.413043478260869, 4.221590601483406, 5.327689565780946, 5.042290202563042, 6.524187115844789, 6.141258221939316, 4.594991477645208, 5.18135519231702, 5.32871940599505, 6.4538517821678685, 6.7671096138249425, 7.181489773074183, 5.114603114318268, 6.410017221584385, 7.498910675381263, 6.216604142880444, 7.728743260058067, 6.690549681486832, 7.1830301043544775, 5.640835082543825, 5.669262086513995, 5.792912246865959, 6.762510919755398, 4.546192408689425, 4.726392136279047, 5.358952281687587, 4.408505215462312, 7.0811301715438955, 7.194992778045258, 6.022307481501781, 5.882412014424613, 5.425190583898802, 6.871285650291175, 5.5778534403902835, 6.293321036792545, 6.102090310659429, 6.58576, 6.170737192461656, 3.2188634673432786, 5.476611400449138, 8.134468632018637, 5.549132670222479, 7.370436744988717, 5.182367453803938, 6.697218710493047, 6.8801281684499624, 7.427713367788797, 5.26262721447418, 6.536076847505731, 4.564738565333863, 6.304474774224214, 5.20284932062462, 7.26424649176327, 5.096477721104802, 6.298240116977388, 3.9521003611480707, 5.5746973066468986, 4.472177581357975, 6.518723698929313, 4.5506830831506155, 3.8089298004129386, 5.27057546145494, 4.661167568518763, 5.987017615314123, 4.98540073492899, 4.572644224752847, 6.0028035841899845, 7.038573933372297, 7.48505291005291, 7.549575402635432, 5.06968253968254, 4.386150116173351, 3.781052806376619, 6.227371552809246, 7.730684730867814, 7.788315523059618, 6.710565714896802, 3.9467749012724878, 6.0486821705426355, 5.144719630243307, 7.6525356576862125, 5.118405511811024, 8.181578007854338, 5.261283206177039, 7.5393077873918415, 6.426968659468001, 5.910796324655436, 5.163066476406042, 6.0231824250515835, 4.724286272976144, 5.658417829535187, 5.515506178707224, 3.5552118775131456, 7.29116387699494, 4.988384371700105, 7.272116307776711, 4.960912052117264, 5.2080420499342965, 6.4125860276278654, 7.37305955405024, 6.790026563631973, 4.279336867269515, 5.196920770384039, 5.448771929824561, 7.218550607831284, 4.208038463616228, 6.700051793344556, 3.4818474157617563, 6.939678656807694, 7.649682041374869, 7.427490956922065, 5.303925732661853, 6.863085834649816, 6.142998515586344, 6.413615048211181, 6.501557445788906, 4.047425402693425, 6.041320022185247, 5.269606754054655, 4.77232906536727, 5.115834580329207, 6.923142370958593, 5.190195083706129, 4.483246321784528, 6.6985399192295745, 5.314940402794903, 5.0452677011612375, 4.535814090307398, 5.965005130420694, 5.973854235855323, 6.214269354099862, 5.83269020330588, 5.033846472813974, 5.742037497176417, 7.372891049470975, 6.204805840008111, 5.866462851868944, 5.515324587197466, 1.6693844446341672, 4.3464118817378425, 3.2715131353651974, 6.20617188364119, 4.393505168359877, 4.815767079990275, 5.160727865290603, 7.331050458253601, 4.99949836970153, 7.140219443133554, 5.092180578368423, 5.765852010361527, 6.926013405681456, 4.95243537414966, 6.688805889358017, 4.479014700931433, 7.272044135831827, 4.757874415769153, 5.674282147315855, 5.862482183392282, 5.930689122527281, 5.94564531850238, 7.129324671400513, 6.159261871180066, 6.713868613138686, 5.456132693147097, 6.788765497385275, 5.342974713740458, 5.2713480482537, 6.486074213728683, 6.72337648210595, 4.294992890513914, 4.692618806875632, 4.935989586281058, 5.366864249186425, 5.826827991390844, 6.114679495514237, 5.003868912152936, 5.76821898329186, 5.777865198006819, 6.684638581741753, 2.1617897009508935, 5.686392665842604, 5.224863123993559, 7.131339401820546, 7.044672999921489, 3.209355050414653, 5.325644574299042, 6.658385093167702, 7.370309242529534, 4.580059359122692, 6.415524861878453, 4.478542760111146, 4.706421486165091, 5.604310665180231, 6.548126700008774, 5.470144246897014, 5.60647532650348, 4.364421617835882, 6.105634987384357, 5.206936226166995, 7.444297629862086, 6.59495481438138, 4.735896532635499, 6.70091759789225, 5.931972040288404, 5.3974086014964415, 7.049174486281031, 4.85850649827447, 5.435201283937408, 2.923723410421376, 6.357913777509798, 6.521619388598182, 6.667352134743439, 5.713426256850131, 6.416024247216183, 5.9688410670253305, 5.2814912009879595, 4.546165018327685, 5.059361801970906, 5.466147907603701, 3.8286822486399354, 5.773662306777646, 5.455372747544145, 5.568421717969787, 5.00084923285965, 6.787915086178213, 6.275044077576535, 5.102606171515113, 6.470280580851587, 6.198702185792349, 6.693836978131213, 6.191681187968785, 6.076672610279867, 5.4778349659638055, 4.618008017267962, 7.166029288312657, 4.945170525267613, 6.753300733496332, 6.380887465067139, 6.121282727328469, 7.153185995291259, 4.9024451726745655, 5.152142651711245, 6.930501361996614, 5.599549341345043, 5.12791286727457, 5.42174423726325, 5.122174795325729, 5.811965811965812, 3.910472209670131, 5.237605665981266, 4.265715611227093, 5.998140849260058, 4.5668819668715495, 6.141522029372497, 4.725943970767357, 4.723900462962963, 5.108006750421901, 5.552788078080179, 3.689196962724344, 5.227490615073636, 6.704457444178957, 5.5915137759283775, 3.725575706004361, 6.373653058127181, 7.038134110787172, 7.639500929121317, 5.570743965869908, 6.2902673389782136, 5.345337290263669, 2.2393810364523836, 5.348244734202608, 7.261206062560464, 5.543071895424837, 7.063740856844305, 6.124666522460163, 5.699926497611172, 5.55, 6.466399434095732, 6.495603770004428, 5.539687650941877, 5.8482487636339, 5.402875079610591, 5.646049596309112, 4.164246931067044, 5.622090698232424, 4.6957991576147196, 6.252347847298451, 6.975618092742395, 7.207445373617481, 5.877559003781458, 5.371944739638682, 5.3203649727537705, 6.743949136623076, 6.062036762525941, 5.994723798864817, 4.621732476277931, 6.132623096360035, 4.966996496834859, 5.171522131887985, 7.458088423204702, 3.5611792177466435, 5.190577176591964, 6.776739981922265, 5.620689655172414, 5.258493460948345, 6.279728199320498, 6.327918975730938, 4.179146485142034, 5.137669801462905, 5.132073093887839, 5.107979791831517, 5.406560636182903, 5.066388994067903, 5.394140290846877, 4.758022388059701, 6.155521472392638, 5.403083401249661, 5.5385609929536495, 5.400221554043362, 4.423142638307901, 6.2546133567662565, 6.652757078986587, 6.40009250693802, 6.429699724312645, 5.20098416115639, 7.260677872692201, 6.911287791610001, 4.23991116751269, 6.917978939232924, 5.213980827093975, 6.558027437893956, 5.713661832564272, 6.815205660151097, 5.8321609684279405, 4.846679561573179, 5.217660975765714, 3.684706575362639, 6.830612066707413, 5.218832522585129, 7.158157723223984, 6.212337917485265, 5.275297041236313, 2.145742198891805, 6.577978131594092, 4.710480440694512, 6.177238507127983, 7.090010272213662, 5.276823163306724, 4.937025601440885, 6.1044493291897215, 6.293425076452599, 4.288713262533959, 6.5964247020585045, 5.7788080519892215, 5.729064039408867, 5.663013698630137, 5.520975832193343, 4.536530915978894, 6.524734982332156, 7.553605895771188, 4.948593284065863, 6.490629911739814, 6.631946273373716, 5.036772486772486, 6.311735458921948, 7.212356912239507, 4.420202269363592, 5.538094155105754, 4.93050916496945, 5.732008516678495, 6.4477218526421485, 3.3657894736842104, 5.6590179941414425, 4.755605381165919, 4.839579763057895, 5.701076575794409, 5.5840762373193975, 6.483072800357302, 5.396512059369202, 4.191684017919112, 4.026139308032312, 6.768443893366398, 6.060395065465829, 5.5214690998313145, 3.6980893255379423, 6.5683436165163736, 6.606711284625395, 6.245555740156172, 5.191194968553459, 7.0521968365553604, 5.426020234942622, 5.513296903460838, 5.163656964804193, 6.6637580993520515, 6.64687191074707, 4.574965800273598, 6.729916767979052, 6.009998485078018, 6.3219345383488035, 5.275325046435205, 6.047180913662138, 5.996269669017906, 5.026545217957059, 6.3006681514476615, 5.861222525268731, 6.775835737315459, 6.237571656799173, 6.138927839499515, 5.776147199046484, 6.616324264297613, 5.830999262925134, 6.853531433640093, 4.9310209680580055, 7.48037542662116, 5.95698408891021, 4.841776598235891, 6.754446039986744, 3.634722887717617, 6.496081374020344, 6.620643905890677, 6.552961727806892, 5.598591549295775, 4.2943404165790025, 5.631312738308303, 2.7853672081077328, 6.08439824527942, 3.522792207792208, 4.759591182976127, 5.619817227957353, 2.7572906191639133, 6.731274801587301, 6.525450549450549, 4.768613707165109, 6.769109535066982, 5.312815091884859, 5.290828951438293, 7.3338642879898055, 6.984154929577465, 5.831096530470226, 6.874883979951735, 5.998888508891929, 5.475048072520831, 4.7796297847390905, 5.873095695902973, 6.402204309919394, 3.52902296415558, 5.765492375873206, 6.599631208943183, 5.584471288515406, 6.160878809355068, 4.351429003477998, 4.742294798312966, 6.323301516002246, 3.4334105616361748, 4.280813008130082, 6.552831290134267, 6.054128188717199, 5.67494321297094, 3.2624846248462487, 5.054759507396794, 4.767762070864696, 5.512345679012346, 5.379117164107022, 7.0742725880551305, 5.568394147717258, 7.094994519546949, 4.023661929241004, 6.09953095684803, 3.8621926229508197, 4.00189117166681, 4.210415081579169, 5.080171977744056, 5.295642056272477, 4.104364043267437, 7.171470121628768, 2.3536824236092975, 5.282890146522987, 6.41933318415753, 4.9249397326320405, 5.115059064273091, 5.641481737328383, 5.025894187779434, 6.760426770126092, 5.80228231208137, 7.154615057422373, 5.3151201903355485, 5.948930641615031, 5.527665995975855, 4.787176516029355, 6.309871703492516, 3.5780767708745547, 6.185530440521366, 5.368040729183774, 6.203323454699407, 5.329672915522786, 5.228474455162558, 6.724153037383178, 5.412899860917942, 7.1174472902221595, 6.0545176630434785, 5.412332251556881, 6.164392972813819, 5.4115553348232766, 6.538042099923916, 4.967104675069277, 6.020740740740741, 6.019733656174334, 7.60718954248366, 6.776211203633611, 5.778639542275906, 5.840435344032466, 6.498410504492052, 4.246251874062969, 5.672120255792708, 5.309358218153006, 6.981094527363184, 5.472702529618956, 5.51337885218675, 4.863650513645325, 5.251908396946565, 5.4422652804032765, 5.251840219844931, 6.940982706560527, 4.0854877628404, 5.577459584295612, 7.349013902360168, 5.683835256590674, 6.468686384864088, 6.673815620998719, 5.931607166208971, 5.489363999568082, 6.956678700361011, 6.065460252977564, 6.0146350500185255, 6.49097428288823, 7.006648781056806, 6.335870818915802, 6.335979403561468, 4.706576200417537, 4.083726822526777, 5.4733555370524565, 5.3773503162637555, 3.423372929563326, 5.810639730639731, 5.619426751592357, 7.509260832625318, 4.190748570007461, 4.002981366459627, 5.25495944493306, 6.243546721734641, 6.5154460256855256, 7.0910666456593665, 6.424430128840436, 7.205186131028386, 6.715140566783335], \"coloraxis\": \"coloraxis\", \"symbol\": \"circle\"}, \"name\": \"\", \"showlegend\": false, \"type\": \"splom\"}],\n",
              "                        {\"coloraxis\": {\"colorbar\": {\"title\": {\"text\": \"boxd_vote_average\"}}, \"colorscale\": [[0.0, \"#0d0887\"], [0.1111111111111111, \"#46039f\"], [0.2222222222222222, \"#7201a8\"], [0.3333333333333333, \"#9c179e\"], [0.4444444444444444, \"#bd3786\"], [0.5555555555555556, \"#d8576b\"], [0.6666666666666666, \"#ed7953\"], [0.7777777777777778, \"#fb9f3a\"], [0.8888888888888888, \"#fdca26\"], [1.0, \"#f0f921\"]]}, \"dragmode\": \"select\", \"legend\": {\"tracegroupgap\": 0}, \"margin\": {\"t\": 60}, \"template\": {\"data\": {\"bar\": [{\"error_x\": {\"color\": \"#2a3f5f\"}, \"error_y\": {\"color\": \"#2a3f5f\"}, \"marker\": {\"line\": {\"color\": \"#E5ECF6\", \"width\": 0.5}}, \"type\": \"bar\"}], \"barpolar\": [{\"marker\": {\"line\": {\"color\": \"#E5ECF6\", \"width\": 0.5}}, \"type\": \"barpolar\"}], \"carpet\": [{\"aaxis\": {\"endlinecolor\": \"#2a3f5f\", \"gridcolor\": \"white\", \"linecolor\": \"white\", \"minorgridcolor\": \"white\", \"startlinecolor\": \"#2a3f5f\"}, \"baxis\": {\"endlinecolor\": \"#2a3f5f\", \"gridcolor\": \"white\", \"linecolor\": \"white\", \"minorgridcolor\": \"white\", \"startlinecolor\": \"#2a3f5f\"}, \"type\": \"carpet\"}], \"choropleth\": [{\"colorbar\": {\"outlinewidth\": 0, \"ticks\": \"\"}, \"type\": \"choropleth\"}], \"contour\": [{\"colorbar\": {\"outlinewidth\": 0, \"ticks\": \"\"}, \"colorscale\": [[0.0, \"#0d0887\"], [0.1111111111111111, \"#46039f\"], [0.2222222222222222, \"#7201a8\"], [0.3333333333333333, \"#9c179e\"], [0.4444444444444444, \"#bd3786\"], [0.5555555555555556, \"#d8576b\"], [0.6666666666666666, \"#ed7953\"], [0.7777777777777778, \"#fb9f3a\"], [0.8888888888888888, \"#fdca26\"], [1.0, \"#f0f921\"]], \"type\": \"contour\"}], \"contourcarpet\": [{\"colorbar\": {\"outlinewidth\": 0, \"ticks\": \"\"}, \"type\": \"contourcarpet\"}], \"heatmap\": [{\"colorbar\": {\"outlinewidth\": 0, \"ticks\": \"\"}, \"colorscale\": [[0.0, \"#0d0887\"], [0.1111111111111111, \"#46039f\"], [0.2222222222222222, \"#7201a8\"], [0.3333333333333333, \"#9c179e\"], [0.4444444444444444, \"#bd3786\"], [0.5555555555555556, \"#d8576b\"], [0.6666666666666666, \"#ed7953\"], [0.7777777777777778, \"#fb9f3a\"], [0.8888888888888888, \"#fdca26\"], [1.0, \"#f0f921\"]], \"type\": \"heatmap\"}], \"heatmapgl\": [{\"colorbar\": {\"outlinewidth\": 0, \"ticks\": \"\"}, \"colorscale\": [[0.0, \"#0d0887\"], [0.1111111111111111, \"#46039f\"], [0.2222222222222222, \"#7201a8\"], [0.3333333333333333, \"#9c179e\"], [0.4444444444444444, \"#bd3786\"], [0.5555555555555556, \"#d8576b\"], [0.6666666666666666, \"#ed7953\"], [0.7777777777777778, \"#fb9f3a\"], [0.8888888888888888, \"#fdca26\"], [1.0, \"#f0f921\"]], \"type\": \"heatmapgl\"}], \"histogram\": [{\"marker\": {\"colorbar\": {\"outlinewidth\": 0, \"ticks\": \"\"}}, \"type\": \"histogram\"}], \"histogram2d\": [{\"colorbar\": {\"outlinewidth\": 0, \"ticks\": \"\"}, \"colorscale\": [[0.0, \"#0d0887\"], [0.1111111111111111, \"#46039f\"], [0.2222222222222222, \"#7201a8\"], [0.3333333333333333, \"#9c179e\"], [0.4444444444444444, \"#bd3786\"], [0.5555555555555556, \"#d8576b\"], [0.6666666666666666, \"#ed7953\"], [0.7777777777777778, \"#fb9f3a\"], [0.8888888888888888, \"#fdca26\"], [1.0, \"#f0f921\"]], \"type\": \"histogram2d\"}], \"histogram2dcontour\": [{\"colorbar\": {\"outlinewidth\": 0, \"ticks\": \"\"}, \"colorscale\": [[0.0, \"#0d0887\"], [0.1111111111111111, \"#46039f\"], [0.2222222222222222, \"#7201a8\"], [0.3333333333333333, \"#9c179e\"], [0.4444444444444444, \"#bd3786\"], [0.5555555555555556, \"#d8576b\"], [0.6666666666666666, \"#ed7953\"], [0.7777777777777778, \"#fb9f3a\"], [0.8888888888888888, \"#fdca26\"], [1.0, \"#f0f921\"]], \"type\": \"histogram2dcontour\"}], \"mesh3d\": [{\"colorbar\": {\"outlinewidth\": 0, \"ticks\": \"\"}, \"type\": \"mesh3d\"}], \"parcoords\": [{\"line\": {\"colorbar\": {\"outlinewidth\": 0, \"ticks\": \"\"}}, \"type\": \"parcoords\"}], \"pie\": [{\"automargin\": true, \"type\": \"pie\"}], \"scatter\": [{\"marker\": {\"colorbar\": {\"outlinewidth\": 0, \"ticks\": \"\"}}, \"type\": \"scatter\"}], \"scatter3d\": [{\"line\": {\"colorbar\": {\"outlinewidth\": 0, \"ticks\": \"\"}}, \"marker\": {\"colorbar\": {\"outlinewidth\": 0, \"ticks\": \"\"}}, \"type\": \"scatter3d\"}], \"scattercarpet\": [{\"marker\": {\"colorbar\": {\"outlinewidth\": 0, \"ticks\": \"\"}}, \"type\": \"scattercarpet\"}], \"scattergeo\": [{\"marker\": {\"colorbar\": {\"outlinewidth\": 0, \"ticks\": \"\"}}, \"type\": \"scattergeo\"}], \"scattergl\": [{\"marker\": {\"colorbar\": {\"outlinewidth\": 0, \"ticks\": \"\"}}, \"type\": \"scattergl\"}], \"scattermapbox\": [{\"marker\": {\"colorbar\": {\"outlinewidth\": 0, \"ticks\": \"\"}}, \"type\": \"scattermapbox\"}], \"scatterpolar\": [{\"marker\": {\"colorbar\": {\"outlinewidth\": 0, \"ticks\": \"\"}}, \"type\": \"scatterpolar\"}], \"scatterpolargl\": [{\"marker\": {\"colorbar\": {\"outlinewidth\": 0, \"ticks\": \"\"}}, \"type\": \"scatterpolargl\"}], \"scatterternary\": [{\"marker\": {\"colorbar\": {\"outlinewidth\": 0, \"ticks\": \"\"}}, \"type\": \"scatterternary\"}], \"surface\": [{\"colorbar\": {\"outlinewidth\": 0, \"ticks\": \"\"}, \"colorscale\": [[0.0, \"#0d0887\"], [0.1111111111111111, \"#46039f\"], [0.2222222222222222, \"#7201a8\"], [0.3333333333333333, \"#9c179e\"], [0.4444444444444444, \"#bd3786\"], [0.5555555555555556, \"#d8576b\"], [0.6666666666666666, \"#ed7953\"], [0.7777777777777778, \"#fb9f3a\"], [0.8888888888888888, \"#fdca26\"], [1.0, \"#f0f921\"]], \"type\": \"surface\"}], \"table\": [{\"cells\": {\"fill\": {\"color\": \"#EBF0F8\"}, \"line\": {\"color\": \"white\"}}, \"header\": {\"fill\": {\"color\": \"#C8D4E3\"}, \"line\": {\"color\": \"white\"}}, \"type\": \"table\"}]}, \"layout\": {\"annotationdefaults\": {\"arrowcolor\": \"#2a3f5f\", \"arrowhead\": 0, \"arrowwidth\": 1}, \"coloraxis\": {\"colorbar\": {\"outlinewidth\": 0, \"ticks\": \"\"}}, \"colorscale\": {\"diverging\": [[0, \"#8e0152\"], [0.1, \"#c51b7d\"], [0.2, \"#de77ae\"], [0.3, \"#f1b6da\"], [0.4, \"#fde0ef\"], [0.5, \"#f7f7f7\"], [0.6, \"#e6f5d0\"], [0.7, \"#b8e186\"], [0.8, \"#7fbc41\"], [0.9, \"#4d9221\"], [1, \"#276419\"]], \"sequential\": [[0.0, \"#0d0887\"], [0.1111111111111111, \"#46039f\"], [0.2222222222222222, \"#7201a8\"], [0.3333333333333333, \"#9c179e\"], [0.4444444444444444, \"#bd3786\"], [0.5555555555555556, \"#d8576b\"], [0.6666666666666666, \"#ed7953\"], [0.7777777777777778, \"#fb9f3a\"], [0.8888888888888888, \"#fdca26\"], [1.0, \"#f0f921\"]], \"sequentialminus\": [[0.0, \"#0d0887\"], [0.1111111111111111, \"#46039f\"], [0.2222222222222222, \"#7201a8\"], [0.3333333333333333, \"#9c179e\"], [0.4444444444444444, \"#bd3786\"], [0.5555555555555556, \"#d8576b\"], [0.6666666666666666, \"#ed7953\"], [0.7777777777777778, \"#fb9f3a\"], [0.8888888888888888, \"#fdca26\"], [1.0, \"#f0f921\"]]}, \"colorway\": [\"#636efa\", \"#EF553B\", \"#00cc96\", \"#ab63fa\", \"#FFA15A\", \"#19d3f3\", \"#FF6692\", \"#B6E880\", \"#FF97FF\", \"#FECB52\"], \"font\": {\"color\": \"#2a3f5f\"}, \"geo\": {\"bgcolor\": \"white\", \"lakecolor\": \"white\", \"landcolor\": \"#E5ECF6\", \"showlakes\": true, \"showland\": true, \"subunitcolor\": \"white\"}, \"hoverlabel\": {\"align\": \"left\"}, \"hovermode\": \"closest\", \"mapbox\": {\"style\": \"light\"}, \"paper_bgcolor\": \"white\", \"plot_bgcolor\": \"#E5ECF6\", \"polar\": {\"angularaxis\": {\"gridcolor\": \"white\", \"linecolor\": \"white\", \"ticks\": \"\"}, \"bgcolor\": \"#E5ECF6\", \"radialaxis\": {\"gridcolor\": \"white\", \"linecolor\": \"white\", \"ticks\": \"\"}}, \"scene\": {\"xaxis\": {\"backgroundcolor\": \"#E5ECF6\", \"gridcolor\": \"white\", \"gridwidth\": 2, \"linecolor\": \"white\", \"showbackground\": true, \"ticks\": \"\", \"zerolinecolor\": \"white\"}, \"yaxis\": {\"backgroundcolor\": \"#E5ECF6\", \"gridcolor\": \"white\", \"gridwidth\": 2, \"linecolor\": \"white\", \"showbackground\": true, \"ticks\": \"\", \"zerolinecolor\": \"white\"}, \"zaxis\": {\"backgroundcolor\": \"#E5ECF6\", \"gridcolor\": \"white\", \"gridwidth\": 2, \"linecolor\": \"white\", \"showbackground\": true, \"ticks\": \"\", \"zerolinecolor\": \"white\"}}, \"shapedefaults\": {\"line\": {\"color\": \"#2a3f5f\"}}, \"ternary\": {\"aaxis\": {\"gridcolor\": \"white\", \"linecolor\": \"white\", \"ticks\": \"\"}, \"baxis\": {\"gridcolor\": \"white\", \"linecolor\": \"white\", \"ticks\": \"\"}, \"bgcolor\": \"#E5ECF6\", \"caxis\": {\"gridcolor\": \"white\", \"linecolor\": \"white\", \"ticks\": \"\"}}, \"title\": {\"x\": 0.05}, \"xaxis\": {\"automargin\": true, \"gridcolor\": \"white\", \"linecolor\": \"white\", \"ticks\": \"\", \"title\": {\"standoff\": 15}, \"zerolinecolor\": \"white\", \"zerolinewidth\": 2}, \"yaxis\": {\"automargin\": true, \"gridcolor\": \"white\", \"linecolor\": \"white\", \"ticks\": \"\", \"title\": {\"standoff\": 15}, \"zerolinecolor\": \"white\", \"zerolinewidth\": 2}}}},\n",
              "                        {\"responsive\": true}\n",
              "                    ).then(function(){\n",
              "                            \n",
              "var gd = document.getElementById('23c3b701-d321-4039-a560-32df7a4d9179');\n",
              "var x = new MutationObserver(function (mutations, observer) {{\n",
              "        var display = window.getComputedStyle(gd).display;\n",
              "        if (!display || display === 'none') {{\n",
              "            console.log([gd, 'removed!']);\n",
              "            Plotly.purge(gd);\n",
              "            observer.disconnect();\n",
              "        }}\n",
              "}});\n",
              "\n",
              "// Listen for the removal of the full notebook cells\n",
              "var notebookContainer = gd.closest('#notebook-container');\n",
              "if (notebookContainer) {{\n",
              "    x.observe(notebookContainer, {childList: true});\n",
              "}}\n",
              "\n",
              "// Listen for the clearing of the current output cell\n",
              "var outputEl = gd.closest('.output');\n",
              "if (outputEl) {{\n",
              "    x.observe(outputEl, {childList: true});\n",
              "}}\n",
              "\n",
              "                        })\n",
              "                };\n",
              "                \n",
              "            </script>\n",
              "        </div>\n",
              "</body>\n",
              "</html>"
            ]
          },
          "metadata": {}
        }
      ]
    },
    {
      "cell_type": "markdown",
      "metadata": {
        "id": "we4Oj01BLboV"
      },
      "source": [
        "## Setting up One-Hot Encodings of Classification Features"
      ]
    },
    {
      "cell_type": "code",
      "metadata": {
        "id": "hiA7aUyBNFev"
      },
      "source": [
        "def add_one_hot_encoding(df, col_name):\n",
        "    new_df = df.copy(True)\n",
        "    feature_set = (set((new_df[col_name].tolist())))\n",
        "    # create new columns\n",
        "    print(\"Creating \" + str(len(feature_set)) + \" new features for \" + col_name)\n",
        "    for feature in feature_set:\n",
        "        new_df[feature] = 0\n",
        "    # assign 1 to the exact feature\n",
        "    for feature in feature_set:\n",
        "        new_df.loc[new_df[col_name] == feature, feature] = 1\n",
        "    return new_df, list(feature_set)"
      ],
      "execution_count": null,
      "outputs": []
    },
    {
      "cell_type": "code",
      "metadata": {
        "colab": {
          "base_uri": "https://localhost:8080/"
        },
        "id": "XpSO_ilhO4ax",
        "outputId": "d5b67a59-15d1-4fd5-e5d1-6a57692592c6"
      },
      "source": [
        "classification_features = ['main_genre', 'mpaa_rating', 'country', 'main_prod_company', \n",
        "                           'tm_status', 'audience_status', 'original_language'] # NOTE: don't do audience status (since that hints at user RT rating)\n",
        "all_new_features = []\n",
        "movies_full_new_df = movies_full_df.copy(True)\n",
        "\n",
        "movies_full_new_df, cur_new_features = add_one_hot_encoding(movies_full_new_df, 'main_genre')\n",
        "all_new_features += (cur_new_features)\n",
        "\n",
        "movies_full_new_df, cur_new_features = add_one_hot_encoding(movies_full_new_df, 'mpaa_rating')\n",
        "all_new_features += (cur_new_features)\n",
        "\n",
        "# NOTE: might be redundant since it's just a cutoff for Critical Rating \n",
        "movies_full_new_df, cur_new_features = add_one_hot_encoding(movies_full_new_df, 'tm_status')\n",
        "all_new_features += (cur_new_features)\n",
        "\n",
        "\n",
        "# movies_full_new_df, cur_new_features = add_one_hot_encoding(movies_full_new_df, 'country')\n",
        "# all_new_features += (cur_new_features)\n",
        "\n",
        "# movies_full_new_df, cur_new_features  = add_one_hot_encoding(movies_full_new_df, 'main_prod_company')\n",
        "# all_new_features += (cur_new_features)\n",
        "\n",
        "# movies_full_new_df, cur_new_features  = add_one_hot_encoding(movies_full_new_df, 'original_language')\n",
        "# all_new_features += (cur_new_features)\n",
        "\n",
        "print(all_new_features)"
      ],
      "execution_count": null,
      "outputs": [
        {
          "output_type": "stream",
          "name": "stdout",
          "text": [
            "Creating 14 new features for main_genre\n",
            "Creating 9 new features for mpaa_rating\n",
            "Creating 4 new features for tm_status\n",
            "['Adventure', 'Fantasy', 'Crime', 'Horror', 'Comedy', 'Sci-Fi', 'Mystery', 'Romance', 'Drama', 'Biography', 'Animation', 'Action', 'Family', 'Thriller', nan, 'R', 'PG', 'PG-13', 'Unrated', 'NC-17', 'Not Rated', 'G', 'TV-MA', nan, 'Rotten', 'Fresh', 'Certified-Fresh']\n"
          ]
        }
      ]
    },
    {
      "cell_type": "code",
      "metadata": {
        "id": "3JqJJUK3O85Q"
      },
      "source": [
        "# print(movies_full_new_df.columns)\n",
        "movies_full_new_df"
      ],
      "execution_count": null,
      "outputs": []
    },
    {
      "cell_type": "markdown",
      "metadata": {
        "id": "ssQfxemPZhWa"
      },
      "source": [
        "# Baseline Models"
      ]
    },
    {
      "cell_type": "code",
      "metadata": {
        "id": "MZDUWC2sefww"
      },
      "source": [
        "from sklearn.linear_model import LinearRegression\n",
        "from sklearn.metrics import mean_squared_error\n",
        "from sklearn.utils import shuffle\n",
        "from sklearn.impute import SimpleImputer"
      ],
      "execution_count": null,
      "outputs": []
    },
    {
      "cell_type": "code",
      "metadata": {
        "colab": {
          "base_uri": "https://localhost:8080/"
        },
        "id": "YUvC2gAgZgHU",
        "outputId": "edd9fb7f-7d83-4418-a3e7-53e422a0a729"
      },
      "source": [
        "# All features split up into many categories\n",
        "\n",
        "regression_features = ['year', '1', '2', '3', '4', '5', '6', '7', '8', '9', '10',\n",
        "       'tmdb_budget', 'imdb_budget', 'tmdb_revenue', 'imdb_revenue', 'tmdb_vote_average', 'tmdb_vote_count', 'imdb_vote_average',\n",
        "       'imdb_vote_count', 'tmdb_popularity', 'tmdb_runtime', 'imdb_runtime', 'tm_rating',\n",
        "       'tm_count', 'audience_rating', 'audience_count',\n",
        "       'tm_top_critics_count', 'tm_fresh_critics_count',\n",
        "       'tm_rotten_critics_count', 'ebert_rating', 'boxd_vote_average']\n",
        "\n",
        "classification_features = ['main_genre', 'mpaa_rating', 'country', 'main_prod_company', 'tm_status', 'audience_status', \n",
        "                           'original_language']\n",
        "\n",
        "complex_features = ['genres', 'director', 'writer', 'main_actor', 'overview', 'tagline', 'keywords', 'release_date', \n",
        "                    'production_companies', 'production_countries', 'spoken_languages', 'rt_info', 'critics_consensus', \n",
        "                    'actors']\n",
        "\n",
        "other_features = ['movie_id', 'poster_path', 'title']\n",
        "\n",
        "print(len(regression_features) + len(classification_features) + len(complex_features) + len(other_features))"
      ],
      "execution_count": null,
      "outputs": [
        {
          "output_type": "stream",
          "name": "stdout",
          "text": [
            "55\n"
          ]
        }
      ]
    },
    {
      "cell_type": "markdown",
      "metadata": {
        "id": "zuhECGmNvxex"
      },
      "source": [
        "## Data Preprocessing"
      ]
    },
    {
      "cell_type": "code",
      "metadata": {
        "id": "0MwP_D2ACAY6"
      },
      "source": [
        "# Remove rows that have at least one NaN value (to make LinReg easier)\n",
        "def remove_missing_values(X):\n",
        "    old_len = X.shape[0]\n",
        "    X = X[~np.isnan(X).any(axis=1)]\n",
        "    new_len = X.shape[0]\n",
        "    print(\"Removed \" + str(old_len - new_len) + \" out of \" + str(old_len) + \" elements or \" + str((old_len - new_len)/old_len*100) + \"%\")\n",
        "    print(str(new_len) + \" elements remain\")\n",
        "    return X"
      ],
      "execution_count": null,
      "outputs": []
    },
    {
      "cell_type": "code",
      "metadata": {
        "id": "V4NouGHbsPMi"
      },
      "source": [
        "def get_num_missing(X):\n",
        "    old_len = X.shape[0]\n",
        "    X = X[~np.isnan(X).any(axis=1)]\n",
        "    new_len = X.shape[0]\n",
        "    return old_len - new_len"
      ],
      "execution_count": null,
      "outputs": []
    },
    {
      "cell_type": "code",
      "metadata": {
        "id": "aeuzeCVNCKek"
      },
      "source": [
        "# https://scikit-learn.org/stable/modules/generated/sklearn.impute.SimpleImputer.html\n",
        "# https://stackoverflow.com/questions/33113947/using-scikit-learn-sklearn-how-to-handle-missing-data-for-linear-regression\n",
        "def impute_missing_values(X):\n",
        "    pass"
      ],
      "execution_count": null,
      "outputs": []
    },
    {
      "cell_type": "code",
      "metadata": {
        "id": "RGVq7gUgEjUK"
      },
      "source": [
        "def train_test_split(X, y, frac=0.8, verbose=False):\n",
        "    train_len = int(X.shape[0] * frac)\n",
        "    X_train = X[:train_len, :]\n",
        "    y_train = y[:train_len]\n",
        "    X_test = X[train_len:, :]\n",
        "    y_test = y[train_len:]\n",
        "    if verbose:\n",
        "        print(\"X_train:\", X_train.shape)\n",
        "        print(\"y_train:\", y_train.shape)\n",
        "        print(\"X_test:\", X_test.shape)\n",
        "        print(\"y_test:\", y_test.shape)\n",
        "    return X_train, y_train, X_test, y_test"
      ],
      "execution_count": null,
      "outputs": []
    },
    {
      "cell_type": "code",
      "metadata": {
        "id": "TCGg4lHJJP8s"
      },
      "source": [
        "output_to_best_features = {} # Tuple of (0-3, num-inputs) to List of [Sorted-List-Features, Sorted-Coef-Magnitudes]\n",
        "output_to_rmse = {} # Tuple of (0-3, num-inputs) to List of [Train_RMSE, Test_RMSE]"
      ],
      "execution_count": null,
      "outputs": []
    },
    {
      "cell_type": "code",
      "metadata": {
        "colab": {
          "base_uri": "https://localhost:8080/"
        },
        "id": "0X24S-Bq_jGD",
        "outputId": "d624b7e6-6568-4191-8140-1018a9f0b6f5"
      },
      "source": [
        "avg_boxd_features = ['year', 'tmdb_budget', 'imdb_budget', 'tmdb_revenue', 'imdb_revenue', 'tmdb_runtime', 'imdb_runtime', \n",
        "                     'tm_rating', 'tm_count', 'tm_top_critics_count', 'tm_fresh_critics_count', \n",
        "                     'tm_rotten_critics_count', 'ebert_rating']\n",
        "# avg_boxd_features = ['year', 'tmdb_runtime', 'imdb_runtime', \n",
        "#                      'tm_rating', 'tm_count', 'tm_top_critics_count', 'tm_fresh_critics_count', \n",
        "#                      'tm_rotten_critics_count', 'ebert_rating'] # removed features with small coefficients\n",
        "print(len(avg_boxd_features))\n",
        "# I left out audience vote count (i.e. number of users who rated) since that seems pretty tied to average\n",
        "\n",
        "output_feature_lst = [\"boxd_vote_average\", \"audience_rating\", \"tmdb_vote_average\", \"imdb_vote_average\"]\n",
        "# Predict based on ONE of these 4 user ratings -- our main focus is boxd_vote_average\n",
        "\n",
        "num_possible_outputs = len(output_feature_lst)"
      ],
      "execution_count": null,
      "outputs": [
        {
          "output_type": "stream",
          "name": "stdout",
          "text": [
            "13\n"
          ]
        }
      ]
    },
    {
      "cell_type": "code",
      "metadata": {
        "colab": {
          "base_uri": "https://localhost:8080/"
        },
        "id": "hsSdUgCVsU3K",
        "outputId": "78931a3f-ce15-481d-907d-4adcb09d6c22"
      },
      "source": [
        "for feature in avg_boxd_features:\n",
        "    num_missing = get_num_missing(cur_df[[feature]].values)\n",
        "    print(feature, num_missing)"
      ],
      "execution_count": null,
      "outputs": [
        {
          "output_type": "stream",
          "name": "stdout",
          "text": [
            "year 0\n",
            "tmdb_budget 0\n",
            "imdb_budget 96\n",
            "tmdb_revenue 0\n",
            "imdb_revenue 2\n",
            "tmdb_runtime 0\n",
            "imdb_runtime 1\n",
            "tm_rating 331\n",
            "tm_count 331\n",
            "tm_top_critics_count 329\n",
            "tm_fresh_critics_count 329\n",
            "tm_rotten_critics_count 329\n",
            "ebert_rating 643\n"
          ]
        }
      ]
    },
    {
      "cell_type": "code",
      "metadata": {
        "id": "YDQJio3bS7et"
      },
      "source": [
        "# Attempt 1: just use regression features\n",
        "cur_df = movies_full_df\n",
        "input_features = avg_boxd_features\n",
        "all_features_lst = avg_boxd_features + output_feature_lst\n",
        "\n",
        "# # Attempt 2: add one-hot-encodings\n",
        "# cur_df = movies_full_new_df\n",
        "# input_features = avg_boxd_features + all_new_features\n",
        "# all_features_lst = avg_boxd_features + all_new_features + output_feature_lst"
      ],
      "execution_count": null,
      "outputs": []
    },
    {
      "cell_type": "code",
      "metadata": {
        "colab": {
          "base_uri": "https://localhost:8080/"
        },
        "id": "CwkkNaKyBjcW",
        "outputId": "8a7f2f82-9f46-44fb-8fba-d158d2cfb23c"
      },
      "source": [
        "# Remove missing elements (TODO: impute missing values -- see above function)\n",
        "X = remove_missing_values(cur_df[all_features_lst].values)\n",
        "y = X[:, -num_possible_outputs:]\n",
        "X = X[:, :-num_possible_outputs]\n",
        "\n",
        "# TODO: change to 0, 1, 2, 3 for some fun\n",
        "output_feature_idx = 0 # choose 0-3 for which output feature to try\n",
        "print(\"Predicting on\", output_feature_lst[output_feature_idx])\n",
        "y = y[:,output_feature_idx]\n",
        "\n",
        "# very important to shuffle\n",
        "X, y = shuffle(X, y, random_state=5)\n",
        "\n",
        "# Train-Test split\n",
        "X_train, y_train, X_test, y_test = train_test_split(X, y, 0.8, True)"
      ],
      "execution_count": null,
      "outputs": [
        {
          "output_type": "stream",
          "name": "stdout",
          "text": [
            "Removed 930 out of 2220 elements or 41.891891891891895%\n",
            "1290 elements remain\n",
            "Predicting on boxd_vote_average\n",
            "X_train: (1032, 13)\n",
            "y_train: (1032,)\n",
            "X_test: (258, 13)\n",
            "y_test: (258,)\n"
          ]
        }
      ]
    },
    {
      "cell_type": "markdown",
      "metadata": {
        "id": "AUUyxg84_pIf"
      },
      "source": [
        "## Linear Regression - Predict Average User Rating (Letterboxd and Rotten Tomatoes)"
      ]
    },
    {
      "cell_type": "code",
      "metadata": {
        "colab": {
          "base_uri": "https://localhost:8080/"
        },
        "id": "vZ6TBevyFEo3",
        "outputId": "7f29ff1d-a79b-40ff-948e-be717cd2834b"
      },
      "source": [
        "reg = LinearRegression().fit(X_train, y_train)\n",
        "print(reg.score(X_train, y_train))\n",
        "print(reg.coef_)\n",
        "print(reg.intercept_)\n",
        "y_train_pred = reg.predict(X_train)\n",
        "mse_train = mean_squared_error(y_train, y_train_pred)\n",
        "print(mse_train)"
      ],
      "execution_count": null,
      "outputs": [
        {
          "output_type": "stream",
          "name": "stdout",
          "text": [
            "0.7323013610387186\n",
            "[-3.43147432e-02  6.25971570e-10 -5.07299197e-09 -2.15555682e-10\n",
            "  2.98790717e-10  1.30073684e-03  9.09192093e-03  2.34490041e-02\n",
            " -2.24493585e-02  1.39971289e-02  2.37209207e-02  1.91272047e-02]\n",
            "72.25893451268944\n",
            "0.34594790219357363\n"
          ]
        }
      ]
    },
    {
      "cell_type": "code",
      "metadata": {
        "colab": {
          "base_uri": "https://localhost:8080/"
        },
        "id": "ppX-eSeuHLmo",
        "outputId": "5fab5f66-918d-4743-df62-64331df100a9"
      },
      "source": [
        "# Sort by Magnitude\n",
        "zipped_lists = zip(input_features, reg.coef_)\n",
        "sorted_pairs = sorted(zipped_lists, key=lambda tup: abs(tup[1]))\n",
        "\n",
        "tuples = zip(*sorted_pairs)\n",
        "sorted_features, sorted_coefs = [ list(tuple) for tuple in  tuples]\n",
        "sorted_features.reverse()\n",
        "sorted_coefs.reverse()\n",
        "\n",
        "output_to_best_features[(output_feature_idx, len(input_features))] = [(sorted_features), (sorted_coefs)]\n",
        "\n",
        "for i, feature in enumerate(sorted_features):\n",
        "    if len(str(feature)) > 13:\n",
        "        print(str(feature) + \"\\t\", sorted_coefs[i])\n",
        "    elif len(str(feature)) > 11:\n",
        "        print(str(feature) + \"\\t\\t\", sorted_coefs[i])\n",
        "    elif len(str(feature)) > 10:\n",
        "        print(str(feature) + \"\\t\\t\\t\\t\", sorted_coefs[i])\n",
        "    elif len(str(feature)) > 7:\n",
        "        print(str(feature) + \"\\t\\t\", sorted_coefs[i])\n",
        "    else:\n",
        "        print(str(feature) + \"\\t\\t\\t\", sorted_coefs[i])"
      ],
      "execution_count": null,
      "outputs": [
        {
          "output_type": "stream",
          "name": "stdout",
          "text": [
            "year\t\t\t -0.03431474315774369\n",
            "tm_fresh_critics_count\t 0.023720920676260568\n",
            "tm_rating\t\t 0.023449004123776113\n",
            "tm_count\t\t -0.022449358455771666\n",
            "tm_rotten_critics_count\t 0.01912720465274934\n",
            "tm_top_critics_count\t 0.013997128876171782\n",
            "imdb_runtime\t\t 0.009091920928088233\n",
            "tmdb_runtime\t\t 0.001300736843759884\n",
            "imdb_budget\t\t\t\t -5.072991969857959e-09\n",
            "tmdb_budget\t\t\t\t 6.259715699621852e-10\n",
            "imdb_revenue\t\t 2.9879071721619666e-10\n",
            "tmdb_revenue\t\t -2.155556822522948e-10\n"
          ]
        }
      ]
    },
    {
      "cell_type": "code",
      "metadata": {
        "colab": {
          "base_uri": "https://localhost:8080/"
        },
        "id": "SQCdxIcNFXLE",
        "outputId": "ceb371b0-5789-401e-b23a-5383f25ef5d2"
      },
      "source": [
        "y_pred = reg.predict(X_test)\n",
        "mse_test = mean_squared_error(y_test, y_pred)\n",
        "print(mse_test)\n",
        "print(\"\\n\")\n",
        "print(mse_test - mse_train)\n",
        "# Test error is less\n",
        "\n",
        "output_to_rmse[(output_feature_idx, len(input_features))] = [mse_train, mse_test]"
      ],
      "execution_count": null,
      "outputs": [
        {
          "output_type": "stream",
          "name": "stdout",
          "text": [
            "0.3481552219906999\n",
            "\n",
            "\n",
            "0.0022073197971262948\n"
          ]
        }
      ]
    },
    {
      "cell_type": "code",
      "metadata": {
        "colab": {
          "base_uri": "https://localhost:8080/"
        },
        "id": "Vnr5SRNCFlG3",
        "outputId": "7aace15f-3c5c-44f9-8f83-56bc418e01b1"
      },
      "source": [
        "# True Value, Predicted Value\n",
        "\n",
        "for i, cur_y in enumerate(y_pred):\n",
        "    print(y_test[i], cur_y)"
      ],
      "execution_count": null,
      "outputs": [
        {
          "output_type": "stream",
          "name": "stdout",
          "text": [
            "6.717732793522267 7.101083540760499\n",
            "6.5246812683883615 5.9892611406276615\n",
            "6.620643905890678 6.449341760228222\n",
            "6.6910069019430365 7.059686670111475\n",
            "7.074641926593069 6.68236809130218\n",
            "7.1680245817447465 7.1825094158076155\n",
            "7.642310401908622 6.731905616009271\n",
            "4.739994606256743 4.898238663751641\n",
            "6.578160869753541 6.3015010968801874\n",
            "5.372561931640012 4.907887409949481\n",
            "6.38311482103162 6.368244714585671\n",
            "7.211228243950758 7.506528447169515\n",
            "5.2753250464352055 5.388287202743754\n",
            "4.768391298125088 5.244377204844454\n",
            "5.8449205157945014 5.843950018813445\n",
            "7.495245825602969 7.0746412615103935\n",
            "6.674530078405862 7.139711921144695\n",
            "5.627297619883453 7.163896046616131\n",
            "7.761641920303843 6.575657199122162\n",
            "8.168317064750008 7.816304310324966\n",
            "5.186531097319423 4.788262066681355\n",
            "5.673866321368022 5.9935642712161155\n",
            "7.044672999921489 7.597653058488447\n",
            "5.746354437546495 6.171356812517459\n",
            "5.470921135856719 5.4311634210871205\n",
            "5.736562364279362 6.089715993259588\n",
            "5.026545217957058 5.273484728797342\n",
            "4.5647385653338635 4.500659858854917\n",
            "6.753300733496332 6.55215869191197\n",
            "5.323617794839605 6.545668089478241\n",
            "6.263641232124085 6.928440577172637\n",
            "6.614342173895597 6.459662246768559\n",
            "5.0977238321799305 5.383325848013996\n",
            "8.348666849917537 7.398009497253867\n",
            "6.4823423806486655 6.766245901137921\n",
            "5.539687650941877 4.648324571362338\n",
            "5.431180852906961 5.912824734404651\n",
            "7.237679139752548 7.221412180254376\n",
            "3.8089298004129386 4.651534677689412\n",
            "6.020740740740742 6.241116913493229\n",
            "6.3816519546027735 6.941059344526721\n",
            "3.4334105616361748 3.870377609736167\n",
            "7.486822245442934 6.9796765085527\n",
            "6.2770048818500594 4.896369289151423\n",
            "7.397910809767928 7.55509254172506\n",
            "5.140995929345934 4.902315925637083\n",
            "6.160878809355067 5.13806672027782\n",
            "5.660673014699085 5.828803823661829\n",
            "8.379948491880793 7.8275160424754375\n",
            "6.983402421099568 6.04800475306493\n",
            "6.602993845843423 5.983064599084443\n",
            "7.487784232189528 7.199323406152686\n",
            "6.607301577028456 6.1965943738073435\n",
            "6.318830272350751 6.345542178058025\n",
            "7.65064398566052 7.201824821480955\n",
            "6.072643574917195 6.0595162768226345\n",
            "4.8457291056638505 4.609688108582873\n",
            "5.098285848007956 6.251147310480988\n",
            "6.6291891673239896 6.949102165983277\n",
            "5.195240582359469 4.831083740423509\n",
            "6.652757078986587 6.636628831369293\n",
            "8.2261403467501 7.3256466928934145\n",
            "5.40911935967225 6.317636816417689\n",
            "8.202646603593722 7.741593881496655\n",
            "5.652179332696222 5.616467164224019\n",
            "7.1814897730741825 6.939844288168345\n",
            "4.351429003477998 5.471126192079282\n",
            "4.221590601483406 5.453966960599232\n",
            "4.191684017919112 4.893168824210022\n",
            "7.823161017916238 7.029992746825144\n",
            "8.075341290790266 7.156500714434927\n",
            "7.139500745589403 7.148192624328516\n",
            "5.448771929824562 5.051177055129088\n",
            "4.948593284065863 5.756944786232353\n",
            "7.416222391469916 6.7172692279248025\n",
            "5.272077063006449 5.193863351589272\n",
            "7.894843855152565 7.35294739801688\n",
            "6.2047041202305095 5.224960370869567\n",
            "3.5780767708745547 4.089081097516058\n",
            "8.205354901091388 7.928371356204522\n",
            "7.074951925226957 6.815417784730144\n",
            "7.044065984918106 6.893695393540838\n",
            "2.198496530454896 3.903079742738754\n",
            "8.053247649743495 7.666771385580262\n",
            "5.805268012708824 5.6880110795811305\n",
            "5.948930641615031 5.244421208544139\n",
            "7.377416899264146 5.880514833905096\n",
            "6.519493827748915 5.384464034693295\n",
            "7.526640290141773 6.921313869255329\n",
            "6.341631692738142 6.34877438530296\n",
            "4.386150116173351 4.851971793064465\n",
            "7.12473808568499 7.017214441170296\n",
            "7.449866846343889 7.249257377421799\n",
            "6.102090310659428 6.123817884296287\n",
            "4.085487762840399 5.178205654486007\n",
            "5.947789973301691 6.077597553855625\n",
            "6.25640064536106 5.745861595331306\n",
            "5.4530586665588485 5.842963937373355\n",
            "7.521828657413825 7.572918165218638\n",
            "7.966621383214798 7.934731091506748\n",
            "6.293321036792546 5.88945322216226\n",
            "6.065534357065301 5.456088890039624\n",
            "7.075845731859364 6.944201247331392\n",
            "6.1916811879687845 6.151424016868631\n",
            "7.813260245366745 7.876146198288922\n",
            "4.026139308032312 4.208301448452644\n",
            "4.2887132625339595 6.020146059340618\n",
            "6.490629911739813 6.844990786623256\n",
            "7.295867902602493 5.942720514975335\n",
            "5.995009619139919 5.827066200931455\n",
            "6.848561521881735 7.124195213702492\n",
            "5.102606171515113 4.884169363025109\n",
            "5.218832522585129 5.305070961753643\n",
            "4.9249397326320405 4.780383218035794\n",
            "6.00485067147725 6.470933611530754\n",
            "7.48505291005291 7.345587391649602\n",
            "5.098804609033212 5.497047720990238\n",
            "8.168887492143304 7.564867747780681\n",
            "6.583089390811328 7.312638433188724\n",
            "4.536530915978894 5.5601645138043665\n",
            "6.468686384864088 5.916045166994564\n",
            "7.268535017043693 7.456635420231251\n",
            "4.970672110454879 5.956939774554769\n",
            "7.195637573160202 7.145559725425315\n",
            "5.054759507396794 5.41664247520103\n",
            "6.1996159807038245 5.604655342291338\n",
            "6.803595326798567 6.994328694026777\n",
            "7.952172231532809 7.372264140289161\n",
            "7.569183522734635 7.159286148671669\n",
            "7.799747114029451 7.008123280863032\n",
            "5.640835082543825 5.4513722249338485\n",
            "5.131631556211889 5.561416011886735\n",
            "7.276090352991022 7.485305168865068\n",
            "3.896567465284425 4.329340399073999\n",
            "6.840244468513075 6.685737860680376\n",
            "5.544439234408968 4.75589124531551\n",
            "8.139357256088774 8.012314972983305\n",
            "7.5955380792441485 7.3900594809032185\n",
            "5.67494321297094 7.107255420894077\n",
            "8.16953218712515 7.468410043972014\n",
            "4.988384371700105 4.681300027122518\n",
            "6.930501361996614 6.661106550375621\n",
            "5.739677652524652 6.385886014666738\n",
            "7.96963577932512 7.858763390512792\n",
            "6.280121346287871 6.097945935320595\n",
            "6.327918975730937 6.900463015037786\n",
            "7.544073566021439 7.9431625063229205\n",
            "6.740308170916536 6.81956804370931\n",
            "7.158005164622338 6.505790558319362\n",
            "7.556179331066656 7.418730370801555\n",
            "7.106446375239465 7.107187469598998\n",
            "5.25495944493306 4.872793428888514\n",
            "5.224863123993559 5.072624086191496\n",
            "7.313749942265947 7.080737806271941\n",
            "7.171062598994559 7.2432802599612245\n",
            "6.755146769570838 5.5194371303802825\n",
            "6.743949136623076 6.783318360060548\n",
            "5.19692077038404 5.610491321939321\n",
            "6.196108688359611 5.35843504775562\n",
            "5.581560283687943 5.1455962995053\n",
            "6.0013669155803075 5.630457187430835\n",
            "5.190195083706129 5.946413705390796\n",
            "8.616314186661606 8.121967936722186\n",
            "5.519211970824873 6.305734529736554\n",
            "6.088035479458765 6.7676199959849015\n",
            "4.902541345361075 4.991078499800281\n",
            "6.230082389707374 6.295258558714366\n",
            "5.713426256850131 5.240571944280802\n",
            "7.315663498768039 7.652289319526403\n",
            "5.739825407581617 6.102582149937547\n",
            "7.07782963435517 7.2008394337461255\n",
            "4.77232906536727 4.370770830997401\n",
            "7.095142793608438 7.32720246363111\n",
            "6.670544361571858 6.685969563959759\n",
            "7.1437534107818 6.9422118766932925\n",
            "6.969493347668324 6.624061831824804\n",
            "7.034251573474414 7.129514691101406\n",
            "5.522135015294147 6.592476104486025\n",
            "7.337880613321559 7.1658295676388235\n",
            "7.202279418459951 7.177347268845466\n",
            "4.704532600791791 5.233177569623393\n",
            "8.209781069600261 7.719194095205523\n",
            "5.5746973066468986 6.4686485401313405\n",
            "6.772874338725753 6.290113559229539\n",
            "4.23358698895852 4.638258787678325\n",
            "5.252412371134021 4.989094443505039\n",
            "7.090881019323592 7.211210275552446\n",
            "6.217668875782818 5.881092791522718\n",
            "6.854075187969924 6.803837189002621\n",
            "7.452053439809135 6.704198705443659\n",
            "4.4785427601111465 5.391969753959671\n",
            "6.631946273373716 5.479960459746096\n",
            "6.968571671918918 7.119070579491648\n",
            "6.957934714677179 7.340772846270326\n",
            "6.528358952246184 5.790592802966756\n",
            "6.252347847298451 6.778489679871228\n",
            "6.183331642601923 5.63050505621942\n",
            "6.530548843631343 6.398144684951177\n",
            "6.48751517253338 5.926529340174454\n",
            "6.141258221939317 5.586053555604408\n",
            "6.138927839499514 6.182376131738252\n",
            "4.441521747781448 5.2502202276133545\n",
            "6.6703792649650175 6.9159196868830435\n",
            "7.482715609408411 7.326494156688355\n",
            "4.847346261801481 5.056958201783445\n",
            "7.210842427573213 7.194480770787678\n",
            "7.233701695558103 6.974460633004355\n",
            "5.307978343645883 4.595854285019428\n",
            "6.620370191409446 6.928167903830342\n",
            "5.3395168929586365 5.632159392151152\n",
            "8.116461088247688 7.648931450941731\n",
            "6.780214715610259 7.132533380815161\n",
            "4.886895915543484 6.127550151662106\n",
            "6.838783226154635 7.292903048727311\n",
            "6.144094367339781 5.7938974445419404\n",
            "6.0716357467301485 5.91175173975256\n",
            "6.49097428288823 6.962845622716841\n",
            "6.920340369824906 6.41511015098348\n",
            "4.919572553430822 4.637844580604977\n",
            "5.665343798168062 5.964265409686263\n",
            "4.4721775813579745 6.014164677725148\n",
            "5.819363298797746 6.81037968759054\n",
            "7.456497888304272 7.8266622674292705\n",
            "4.92751713231418 5.015839830997109\n",
            "6.1226322435807505 5.291712489839185\n",
            "7.1021969492975145 6.834877510597025\n",
            "5.979283426741393 6.289092874537076\n",
            "6.120756616800921 6.0793943440056495\n",
            "4.43841825228263 5.718302625949136\n",
            "6.2902673389782136 6.229415038846511\n",
            "7.565061500434752 7.137843205969432\n",
            "5.318450604893398 5.267495960135207\n",
            "7.5872892886839525 6.875749511770138\n",
            "8.136715403575103 7.304676044179246\n",
            "4.546192408689425 4.6267345134785245\n",
            "6.525450549450549 6.4287985475857425\n",
            "7.07657566735631 6.927710037331636\n",
            "4.983131670827079 6.310841354054418\n",
            "6.658385093167702 6.326102555007978\n",
            "7.601722783226143 6.930642938585208\n",
            "6.642525127741701 6.407295265122954\n",
            "6.574775964052702 7.084267087113133\n",
            "7.011533190812916 7.601232951492733\n",
            "7.999315849486887 7.277186958131296\n",
            "5.42174423726325 5.091608951720232\n",
            "5.132073093887839 4.836844911590362\n",
            "5.827546691373677 6.559140854036926\n",
            "6.661422806694115 6.992148401919991\n",
            "4.9307515712619026 5.112965466393632\n",
            "7.446987788942459 7.5344877218218755\n",
            "6.279728199320497 5.892221350740158\n",
            "6.12480604734434 5.9530856278345965\n",
            "6.4401374680306915 6.911017462812069\n",
            "4.208038463616228 4.29178578388435\n",
            "6.646871910747071 6.124619037039579\n",
            "5.90476895004192 6.176930860936551\n",
            "5.55 5.07148711945608\n",
            "7.278861330326944 7.333847233881258\n",
            "7.349825794347994 6.71950342905609\n",
            "6.184643708035521 5.783132977750981\n",
            "5.236871957271825 6.000722901451766\n",
            "6.314221366434 6.523191484887704\n",
            "6.020589927201318 6.113933586800556\n",
            "6.546641036017808 6.245971473326108\n",
            "5.159947078894227 5.417665101957894\n",
            "4.839579763057895 5.31706308231341\n",
            "6.561425734438129 6.7147462066867405\n",
            "4.567972878042822 4.247523449566174\n",
            "7.672692930383162 7.300720164711208\n",
            "5.994204200831182 5.86282035050256\n",
            "5.564231073595358 5.219385330949066\n",
            "6.164392972813818 6.793615525851521\n",
            "5.735236825917572 5.312900961478604\n",
            "6.877736119534652 6.3641400936142105\n",
            "4.9890839825148365 5.576727013233409\n",
            "7.248111910849677 6.545425925954916\n",
            "7.054835977580097 7.5665476040170745\n",
            "7.986977730156852 7.019389799384953\n",
            "7.7848190266568835 7.175227112790637\n",
            "6.786427788876716 5.167994125219366\n",
            "5.552788078080178 5.935468195585202\n",
            "5.898980878335784 6.340897657239083\n",
            "6.511111728172233 5.838085014101694\n",
            "7.027945547075362 7.277324889633334\n",
            "4.251766013175649 4.360465107065764\n",
            "7.046381025248661 6.992450375996299\n",
            "6.071539582321515 6.21990834846666\n",
            "4.646369636963697 4.95927563957369\n",
            "7.532681139074023 7.260636842962555\n",
            "8.094308416314282 7.73034818885391\n",
            "6.584229137199434 7.780327321993028\n",
            "6.630309935398798 6.932388184916391\n",
            "4.752804337111877 5.485692199144566\n",
            "6.054517663043479 5.894105557502229\n",
            "7.373059554050241 7.143450135232115\n",
            "5.338876297897012 6.1887093619502025\n",
            "5.5385609929536495 5.559520257322319\n",
            "7.754085516006267 7.4650987457246885\n",
            "5.841547413358952 5.262316278495831\n",
            "7.112674707449196 6.7791351416081085\n",
            "6.14667501826913 6.665747413537488\n",
            "5.674282147315855 5.518699468954438\n",
            "7.153185995291259 6.639294407452255\n",
            "6.31535144588849 5.1656118218840845\n",
            "5.3151201903355485 5.105990575570658\n",
            "7.617764723965885 6.983573902192319\n",
            "5.992241250373915 6.349373396702589\n",
            "8.410829185912808 7.963252517556342\n",
            "4.719366993217784 5.069752441787756\n",
            "4.6009275658699575 4.743923124105365\n",
            "6.041320022185247 5.49153034908818\n",
            "6.775429100491418 6.464238546363035\n",
            "6.9120035994221976 7.094764797596341\n",
            "8.264216489351202 8.050979408339785\n",
            "6.501930080684128 6.169378252307951\n",
            "7.200161257810925 7.242703738066027\n",
            "6.2022538969245895 7.6962243463550095\n",
            "6.468982745779544 6.335829759864012\n",
            "4.676550713923912 6.384203713816575\n",
            "7.0232615740262965 7.313208133186549\n",
            "3.386361428617686 4.594477871313799\n",
            "4.407005838198499 4.37843301609999\n",
            "7.137799216287588 6.366762092459069\n",
            "7.146533988327666 7.12926717651392\n",
            "5.2608764687202285 5.516427675375823\n",
            "5.337008592502472 5.221028423445347\n",
            "5.233120919504281 4.343838883148493\n",
            "5.251908396946566 5.267868334592734\n",
            "7.270908891086933 6.362357043454935\n",
            "8.61048480650658 7.47196799078516\n",
            "5.6340895640165725 6.20069115124349\n",
            "5.880669909439633 6.087934812436629\n",
            "5.910796324655436 6.0968571376531315\n",
            "6.984154929577465 7.078058132363239\n",
            "7.431761680240034 7.587539769894633\n",
            "6.761767294490408 7.193699710347786\n",
            "8.12093958578596 7.7413706621813105\n",
            "5.978905947619662 7.278970726980077\n",
            "8.115759081194568 7.082725729971116\n",
            "7.521312516233298 7.687172340689955\n",
            "7.611107259238716 7.656910386268919\n",
            "6.009998485078018 6.328494768312666\n",
            "5.0317945132385145 4.407187128803187\n",
            "4.9669964968348586 5.817929844061936\n",
            "6.884407791488445 5.741568446192346\n",
            "5.879521468717514 6.453385266232786\n",
            "6.321377390165008 5.804339744579565\n",
            "6.688805889358018 6.813177579503446\n",
            "4.348722598382592 5.0319859465583505\n",
            "7.683556493030081 7.068211940377054\n",
            "6.170737192461656 5.969889178036652\n",
            "7.063846947388165 6.200743261411446\n",
            "5.033846472813973 5.72993762823981\n",
            "5.0770471291533426 4.709662355713874\n",
            "7.080712523553292 6.713690280237955\n",
            "6.203323454699408 6.094381547796161\n",
            "7.4507796930177275 6.086954877230539\n",
            "6.323301516002246 5.477499907073863\n",
            "5.494467924731471 6.285265785987406\n",
            "6.4276461062858825 6.348653326801951\n",
            "5.3128150918848585 5.388016569921135\n",
            "5.7989133310988406 6.055046342183829\n",
            "7.696134620920677 7.2711886670850845\n",
            "6.692712504290128 5.99757932525354\n",
            "5.8321609684279405 5.844416452562314\n",
            "3.581437447444641 5.067873328906387\n",
            "3.8660538411030863 4.678142960670826\n"
          ]
        }
      ]
    },
    {
      "cell_type": "code",
      "metadata": {
        "id": "lN-Z6YwgW2v3"
      },
      "source": [
        "for key, value in output_to_rmse.items():\n",
        "    print(key, [math.sqrt(i) for i in value])"
      ],
      "execution_count": null,
      "outputs": []
    },
    {
      "cell_type": "code",
      "metadata": {
        "id": "pWXDBdAVJuc5"
      },
      "source": [
        "for output_idx, num_inputs in output_to_best_features:\n",
        "    print(output_feature_lst[output_idx], num_inputs)\n",
        "    print(output_to_best_features[(output_idx, num_inputs)][0])\n"
      ],
      "execution_count": null,
      "outputs": []
    },
    {
      "cell_type": "markdown",
      "metadata": {
        "id": "irQIp1yQtTsH"
      },
      "source": [
        "## KNN on User Rating"
      ]
    },
    {
      "cell_type": "code",
      "metadata": {
        "colab": {
          "base_uri": "https://localhost:8080/"
        },
        "id": "ZD2t_Wu-3xbh",
        "outputId": "9f759f82-ffa1-4016-8f7f-86837ed347cc"
      },
      "source": [
        "cur_df = movies_full_df\n",
        "input_features = avg_boxd_features\n",
        "all_features_lst = ['movie_id', 'audience_rating'] + avg_boxd_features + output_feature_lst\n",
        "output_feature_lst = [] # [\"audience_rating\", \"tmdb_vote_average\", \"imdb_vote_average\"]\n",
        "all_input_features = avg_boxd_features + output_feature_lst\n",
        "print(all_features_lst)\n",
        "\n",
        "# all_features_lst = ['movie_id', 'audience_rating'] + avg_boxd_features + output_feature_lst"
      ],
      "execution_count": null,
      "outputs": [
        {
          "output_type": "stream",
          "name": "stdout",
          "text": [
            "['movie_id', 'audience_rating', 'year', 'tmdb_budget', 'imdb_budget', 'tmdb_revenue', 'imdb_revenue', 'tmdb_runtime', 'imdb_runtime', 'tm_rating', 'tm_count', 'tm_top_critics_count', 'tm_fresh_critics_count', 'tm_rotten_critics_count', 'ebert_rating']\n"
          ]
        }
      ]
    },
    {
      "cell_type": "code",
      "metadata": {
        "colab": {
          "base_uri": "https://localhost:8080/",
          "height": 635
        },
        "id": "BrIsB-vZ3mZQ",
        "outputId": "92e7e209-f6d2-4a7d-abf7-c9bd3f60e6f4"
      },
      "source": [
        "X_start = movies_full_df[all_features_lst]\n",
        "X_start = X_start.dropna()\n",
        "X_start = X_start.sample(frac=1).reset_index(drop=True)\n",
        "X_start"
      ],
      "execution_count": null,
      "outputs": [
        {
          "output_type": "execute_result",
          "data": {
            "text/html": [
              "<div>\n",
              "<style scoped>\n",
              "    .dataframe tbody tr th:only-of-type {\n",
              "        vertical-align: middle;\n",
              "    }\n",
              "\n",
              "    .dataframe tbody tr th {\n",
              "        vertical-align: top;\n",
              "    }\n",
              "\n",
              "    .dataframe thead th {\n",
              "        text-align: right;\n",
              "    }\n",
              "</style>\n",
              "<table border=\"1\" class=\"dataframe\">\n",
              "  <thead>\n",
              "    <tr style=\"text-align: right;\">\n",
              "      <th></th>\n",
              "      <th>movie_id</th>\n",
              "      <th>audience_rating</th>\n",
              "      <th>year</th>\n",
              "      <th>tmdb_budget</th>\n",
              "      <th>imdb_budget</th>\n",
              "      <th>tmdb_revenue</th>\n",
              "      <th>imdb_revenue</th>\n",
              "      <th>tmdb_runtime</th>\n",
              "      <th>imdb_runtime</th>\n",
              "      <th>tm_rating</th>\n",
              "      <th>tm_count</th>\n",
              "      <th>tm_top_critics_count</th>\n",
              "      <th>tm_fresh_critics_count</th>\n",
              "      <th>tm_rotten_critics_count</th>\n",
              "      <th>ebert_rating</th>\n",
              "    </tr>\n",
              "  </thead>\n",
              "  <tbody>\n",
              "    <tr>\n",
              "      <th>0</th>\n",
              "      <td>gremlins-2-the-new-batch</td>\n",
              "      <td>57.0</td>\n",
              "      <td>1990</td>\n",
              "      <td>50000000.0</td>\n",
              "      <td>50000000.0</td>\n",
              "      <td>41482207.0</td>\n",
              "      <td>41482207.0</td>\n",
              "      <td>106.0</td>\n",
              "      <td>106.0</td>\n",
              "      <td>71.0</td>\n",
              "      <td>65.0</td>\n",
              "      <td>17.0</td>\n",
              "      <td>46.0</td>\n",
              "      <td>19.0</td>\n",
              "      <td>2.5</td>\n",
              "    </tr>\n",
              "    <tr>\n",
              "      <th>1</th>\n",
              "      <td>moneyball</td>\n",
              "      <td>86.0</td>\n",
              "      <td>2011</td>\n",
              "      <td>50000000.0</td>\n",
              "      <td>50000000.0</td>\n",
              "      <td>110206216.0</td>\n",
              "      <td>110206216.0</td>\n",
              "      <td>133.0</td>\n",
              "      <td>133.0</td>\n",
              "      <td>94.0</td>\n",
              "      <td>266.0</td>\n",
              "      <td>55.0</td>\n",
              "      <td>250.0</td>\n",
              "      <td>16.0</td>\n",
              "      <td>4.0</td>\n",
              "    </tr>\n",
              "    <tr>\n",
              "      <th>2</th>\n",
              "      <td>flipped</td>\n",
              "      <td>78.0</td>\n",
              "      <td>2010</td>\n",
              "      <td>14000000.0</td>\n",
              "      <td>14000000.0</td>\n",
              "      <td>1755212.0</td>\n",
              "      <td>4324817.0</td>\n",
              "      <td>89.0</td>\n",
              "      <td>90.0</td>\n",
              "      <td>54.0</td>\n",
              "      <td>76.0</td>\n",
              "      <td>22.0</td>\n",
              "      <td>41.0</td>\n",
              "      <td>35.0</td>\n",
              "      <td>3.5</td>\n",
              "    </tr>\n",
              "    <tr>\n",
              "      <th>3</th>\n",
              "      <td>the-fisher-king</td>\n",
              "      <td>86.0</td>\n",
              "      <td>1991</td>\n",
              "      <td>24000000.0</td>\n",
              "      <td>24000000.0</td>\n",
              "      <td>41895491.0</td>\n",
              "      <td>41895491.0</td>\n",
              "      <td>137.0</td>\n",
              "      <td>137.0</td>\n",
              "      <td>84.0</td>\n",
              "      <td>61.0</td>\n",
              "      <td>11.0</td>\n",
              "      <td>51.0</td>\n",
              "      <td>10.0</td>\n",
              "      <td>2.0</td>\n",
              "    </tr>\n",
              "    <tr>\n",
              "      <th>4</th>\n",
              "      <td>elektra</td>\n",
              "      <td>29.0</td>\n",
              "      <td>2005</td>\n",
              "      <td>43000000.0</td>\n",
              "      <td>43000000.0</td>\n",
              "      <td>56681566.0</td>\n",
              "      <td>56995646.0</td>\n",
              "      <td>97.0</td>\n",
              "      <td>97.0</td>\n",
              "      <td>11.0</td>\n",
              "      <td>166.0</td>\n",
              "      <td>42.0</td>\n",
              "      <td>18.0</td>\n",
              "      <td>148.0</td>\n",
              "      <td>1.5</td>\n",
              "    </tr>\n",
              "    <tr>\n",
              "      <th>...</th>\n",
              "      <td>...</td>\n",
              "      <td>...</td>\n",
              "      <td>...</td>\n",
              "      <td>...</td>\n",
              "      <td>...</td>\n",
              "      <td>...</td>\n",
              "      <td>...</td>\n",
              "      <td>...</td>\n",
              "      <td>...</td>\n",
              "      <td>...</td>\n",
              "      <td>...</td>\n",
              "      <td>...</td>\n",
              "      <td>...</td>\n",
              "      <td>...</td>\n",
              "      <td>...</td>\n",
              "    </tr>\n",
              "    <tr>\n",
              "      <th>1285</th>\n",
              "      <td>the-mexican</td>\n",
              "      <td>44.0</td>\n",
              "      <td>2001</td>\n",
              "      <td>57000000.0</td>\n",
              "      <td>57000000.0</td>\n",
              "      <td>147845033.0</td>\n",
              "      <td>147845033.0</td>\n",
              "      <td>123.0</td>\n",
              "      <td>123.0</td>\n",
              "      <td>54.0</td>\n",
              "      <td>133.0</td>\n",
              "      <td>36.0</td>\n",
              "      <td>72.0</td>\n",
              "      <td>61.0</td>\n",
              "      <td>3.0</td>\n",
              "    </tr>\n",
              "    <tr>\n",
              "      <th>1286</th>\n",
              "      <td>mission-impossible-iii</td>\n",
              "      <td>69.0</td>\n",
              "      <td>2006</td>\n",
              "      <td>150000000.0</td>\n",
              "      <td>150000000.0</td>\n",
              "      <td>397850012.0</td>\n",
              "      <td>398479497.0</td>\n",
              "      <td>126.0</td>\n",
              "      <td>126.0</td>\n",
              "      <td>71.0</td>\n",
              "      <td>224.0</td>\n",
              "      <td>51.0</td>\n",
              "      <td>158.0</td>\n",
              "      <td>66.0</td>\n",
              "      <td>2.5</td>\n",
              "    </tr>\n",
              "    <tr>\n",
              "      <th>1287</th>\n",
              "      <td>cool-runnings</td>\n",
              "      <td>81.0</td>\n",
              "      <td>1993</td>\n",
              "      <td>14000000.0</td>\n",
              "      <td>14000000.0</td>\n",
              "      <td>154864401.0</td>\n",
              "      <td>154856263.0</td>\n",
              "      <td>98.0</td>\n",
              "      <td>98.0</td>\n",
              "      <td>76.0</td>\n",
              "      <td>42.0</td>\n",
              "      <td>11.0</td>\n",
              "      <td>32.0</td>\n",
              "      <td>10.0</td>\n",
              "      <td>2.5</td>\n",
              "    </tr>\n",
              "    <tr>\n",
              "      <th>1288</th>\n",
              "      <td>the-mask-of-zorro</td>\n",
              "      <td>72.0</td>\n",
              "      <td>1998</td>\n",
              "      <td>95000000.0</td>\n",
              "      <td>95000000.0</td>\n",
              "      <td>250288523.0</td>\n",
              "      <td>250288523.0</td>\n",
              "      <td>136.0</td>\n",
              "      <td>136.0</td>\n",
              "      <td>82.0</td>\n",
              "      <td>73.0</td>\n",
              "      <td>15.0</td>\n",
              "      <td>60.0</td>\n",
              "      <td>13.0</td>\n",
              "      <td>3.0</td>\n",
              "    </tr>\n",
              "    <tr>\n",
              "      <th>1289</th>\n",
              "      <td>the-girl-with-the-dragon-tattoo-2011</td>\n",
              "      <td>86.0</td>\n",
              "      <td>2011</td>\n",
              "      <td>90000000.0</td>\n",
              "      <td>90000000.0</td>\n",
              "      <td>232617430.0</td>\n",
              "      <td>232617430.0</td>\n",
              "      <td>158.0</td>\n",
              "      <td>158.0</td>\n",
              "      <td>86.0</td>\n",
              "      <td>249.0</td>\n",
              "      <td>50.0</td>\n",
              "      <td>215.0</td>\n",
              "      <td>34.0</td>\n",
              "      <td>3.5</td>\n",
              "    </tr>\n",
              "  </tbody>\n",
              "</table>\n",
              "<p>1290 rows × 15 columns</p>\n",
              "</div>"
            ],
            "text/plain": [
              "                                  movie_id  ...  ebert_rating\n",
              "0                 gremlins-2-the-new-batch  ...           2.5\n",
              "1                                moneyball  ...           4.0\n",
              "2                                  flipped  ...           3.5\n",
              "3                          the-fisher-king  ...           2.0\n",
              "4                                  elektra  ...           1.5\n",
              "...                                    ...  ...           ...\n",
              "1285                           the-mexican  ...           3.0\n",
              "1286                mission-impossible-iii  ...           2.5\n",
              "1287                         cool-runnings  ...           2.5\n",
              "1288                     the-mask-of-zorro  ...           3.0\n",
              "1289  the-girl-with-the-dragon-tattoo-2011  ...           3.5\n",
              "\n",
              "[1290 rows x 15 columns]"
            ]
          },
          "metadata": {},
          "execution_count": 549
        }
      ]
    },
    {
      "cell_type": "code",
      "metadata": {
        "id": "orLDBTqRDeoP"
      },
      "source": [
        "for col in X_start.columns:\n",
        "    if col != 'movie_id' and col != 'boxd_vote_average' and col != 'audience_rating':\n",
        "        X_start[col] = (X_start[col] - X_start[col].mean()) / X_start[col].std()"
      ],
      "execution_count": null,
      "outputs": []
    },
    {
      "cell_type": "code",
      "metadata": {
        "colab": {
          "base_uri": "https://localhost:8080/",
          "height": 635
        },
        "id": "7WTxNpaAEXqy",
        "outputId": "d7d57ebd-e839-4eb4-edf8-efeaeb0b57a7"
      },
      "source": [
        "X_start"
      ],
      "execution_count": null,
      "outputs": [
        {
          "output_type": "execute_result",
          "data": {
            "text/html": [
              "<div>\n",
              "<style scoped>\n",
              "    .dataframe tbody tr th:only-of-type {\n",
              "        vertical-align: middle;\n",
              "    }\n",
              "\n",
              "    .dataframe tbody tr th {\n",
              "        vertical-align: top;\n",
              "    }\n",
              "\n",
              "    .dataframe thead th {\n",
              "        text-align: right;\n",
              "    }\n",
              "</style>\n",
              "<table border=\"1\" class=\"dataframe\">\n",
              "  <thead>\n",
              "    <tr style=\"text-align: right;\">\n",
              "      <th></th>\n",
              "      <th>movie_id</th>\n",
              "      <th>audience_rating</th>\n",
              "      <th>year</th>\n",
              "      <th>tmdb_budget</th>\n",
              "      <th>imdb_budget</th>\n",
              "      <th>tmdb_revenue</th>\n",
              "      <th>imdb_revenue</th>\n",
              "      <th>tmdb_runtime</th>\n",
              "      <th>imdb_runtime</th>\n",
              "      <th>tm_rating</th>\n",
              "      <th>tm_count</th>\n",
              "      <th>tm_top_critics_count</th>\n",
              "      <th>tm_fresh_critics_count</th>\n",
              "      <th>tm_rotten_critics_count</th>\n",
              "      <th>ebert_rating</th>\n",
              "    </tr>\n",
              "  </thead>\n",
              "  <tbody>\n",
              "    <tr>\n",
              "      <th>0</th>\n",
              "      <td>gremlins-2-the-new-batch</td>\n",
              "      <td>57.0</td>\n",
              "      <td>-1.517939</td>\n",
              "      <td>0.036140</td>\n",
              "      <td>0.000760</td>\n",
              "      <td>-0.572376</td>\n",
              "      <td>-0.600928</td>\n",
              "      <td>-0.341041</td>\n",
              "      <td>-0.343085</td>\n",
              "      <td>0.337901</td>\n",
              "      <td>-1.063611</td>\n",
              "      <td>-1.080964</td>\n",
              "      <td>-0.677901</td>\n",
              "      <td>-0.785998</td>\n",
              "      <td>-0.447428</td>\n",
              "    </tr>\n",
              "    <tr>\n",
              "      <th>1</th>\n",
              "      <td>moneyball</td>\n",
              "      <td>86.0</td>\n",
              "      <td>1.207650</td>\n",
              "      <td>0.036140</td>\n",
              "      <td>0.000760</td>\n",
              "      <td>-0.235683</td>\n",
              "      <td>-0.270855</td>\n",
              "      <td>0.946177</td>\n",
              "      <td>0.945843</td>\n",
              "      <td>1.278029</td>\n",
              "      <td>1.760681</td>\n",
              "      <td>1.356202</td>\n",
              "      <td>2.443428</td>\n",
              "      <td>-0.861099</td>\n",
              "      <td>1.345062</td>\n",
              "    </tr>\n",
              "    <tr>\n",
              "      <th>2</th>\n",
              "      <td>flipped</td>\n",
              "      <td>78.0</td>\n",
              "      <td>1.077860</td>\n",
              "      <td>-0.756918</td>\n",
              "      <td>-0.799041</td>\n",
              "      <td>-0.767006</td>\n",
              "      <td>-0.779390</td>\n",
              "      <td>-1.151511</td>\n",
              "      <td>-1.106894</td>\n",
              "      <td>-0.356976</td>\n",
              "      <td>-0.909048</td>\n",
              "      <td>-0.760284</td>\n",
              "      <td>-0.754404</td>\n",
              "      <td>-0.385460</td>\n",
              "      <td>0.747565</td>\n",
              "    </tr>\n",
              "    <tr>\n",
              "      <th>3</th>\n",
              "      <td>the-fisher-king</td>\n",
              "      <td>86.0</td>\n",
              "      <td>-1.388149</td>\n",
              "      <td>-0.536624</td>\n",
              "      <td>-0.576874</td>\n",
              "      <td>-0.570351</td>\n",
              "      <td>-0.598943</td>\n",
              "      <td>1.136876</td>\n",
              "      <td>1.136795</td>\n",
              "      <td>0.869277</td>\n",
              "      <td>-1.119816</td>\n",
              "      <td>-1.465780</td>\n",
              "      <td>-0.601398</td>\n",
              "      <td>-1.011301</td>\n",
              "      <td>-1.044924</td>\n",
              "    </tr>\n",
              "    <tr>\n",
              "      <th>4</th>\n",
              "      <td>elektra</td>\n",
              "      <td>29.0</td>\n",
              "      <td>0.428910</td>\n",
              "      <td>-0.118066</td>\n",
              "      <td>-0.154757</td>\n",
              "      <td>-0.497911</td>\n",
              "      <td>-0.526419</td>\n",
              "      <td>-0.770113</td>\n",
              "      <td>-0.772728</td>\n",
              "      <td>-2.114606</td>\n",
              "      <td>0.355561</td>\n",
              "      <td>0.522434</td>\n",
              "      <td>-1.106319</td>\n",
              "      <td>2.443343</td>\n",
              "      <td>-1.642421</td>\n",
              "    </tr>\n",
              "    <tr>\n",
              "      <th>...</th>\n",
              "      <td>...</td>\n",
              "      <td>...</td>\n",
              "      <td>...</td>\n",
              "      <td>...</td>\n",
              "      <td>...</td>\n",
              "      <td>...</td>\n",
              "      <td>...</td>\n",
              "      <td>...</td>\n",
              "      <td>...</td>\n",
              "      <td>...</td>\n",
              "      <td>...</td>\n",
              "      <td>...</td>\n",
              "      <td>...</td>\n",
              "      <td>...</td>\n",
              "      <td>...</td>\n",
              "    </tr>\n",
              "    <tr>\n",
              "      <th>1285</th>\n",
              "      <td>the-mexican</td>\n",
              "      <td>44.0</td>\n",
              "      <td>-0.090249</td>\n",
              "      <td>0.190346</td>\n",
              "      <td>0.156277</td>\n",
              "      <td>-0.051282</td>\n",
              "      <td>-0.090081</td>\n",
              "      <td>0.469430</td>\n",
              "      <td>0.468462</td>\n",
              "      <td>-0.356976</td>\n",
              "      <td>-0.108129</td>\n",
              "      <td>0.137619</td>\n",
              "      <td>-0.280085</td>\n",
              "      <td>0.265415</td>\n",
              "      <td>0.150069</td>\n",
              "    </tr>\n",
              "    <tr>\n",
              "      <th>1286</th>\n",
              "      <td>mission-impossible-iii</td>\n",
              "      <td>69.0</td>\n",
              "      <td>0.558700</td>\n",
              "      <td>2.239081</td>\n",
              "      <td>2.222430</td>\n",
              "      <td>1.173543</td>\n",
              "      <td>1.113683</td>\n",
              "      <td>0.612454</td>\n",
              "      <td>0.611676</td>\n",
              "      <td>0.337901</td>\n",
              "      <td>1.170531</td>\n",
              "      <td>1.099658</td>\n",
              "      <td>1.035770</td>\n",
              "      <td>0.390583</td>\n",
              "      <td>-0.447428</td>\n",
              "    </tr>\n",
              "    <tr>\n",
              "      <th>1287</th>\n",
              "      <td>cool-runnings</td>\n",
              "      <td>81.0</td>\n",
              "      <td>-1.128569</td>\n",
              "      <td>-0.756918</td>\n",
              "      <td>-0.799041</td>\n",
              "      <td>-0.016893</td>\n",
              "      <td>-0.056407</td>\n",
              "      <td>-0.722439</td>\n",
              "      <td>-0.724990</td>\n",
              "      <td>0.542277</td>\n",
              "      <td>-1.386789</td>\n",
              "      <td>-1.465780</td>\n",
              "      <td>-0.892110</td>\n",
              "      <td>-1.011301</td>\n",
              "      <td>-0.447428</td>\n",
              "    </tr>\n",
              "    <tr>\n",
              "      <th>1288</th>\n",
              "      <td>the-mask-of-zorro</td>\n",
              "      <td>72.0</td>\n",
              "      <td>-0.479619</td>\n",
              "      <td>1.027464</td>\n",
              "      <td>1.000512</td>\n",
              "      <td>0.450609</td>\n",
              "      <td>0.401941</td>\n",
              "      <td>1.089202</td>\n",
              "      <td>1.089057</td>\n",
              "      <td>0.787527</td>\n",
              "      <td>-0.951201</td>\n",
              "      <td>-1.209236</td>\n",
              "      <td>-0.463692</td>\n",
              "      <td>-0.936200</td>\n",
              "      <td>0.150069</td>\n",
              "    </tr>\n",
              "    <tr>\n",
              "      <th>1289</th>\n",
              "      <td>the-girl-with-the-dragon-tattoo-2011</td>\n",
              "      <td>86.0</td>\n",
              "      <td>1.207650</td>\n",
              "      <td>0.917317</td>\n",
              "      <td>0.889428</td>\n",
              "      <td>0.364035</td>\n",
              "      <td>0.317069</td>\n",
              "      <td>2.138046</td>\n",
              "      <td>2.139295</td>\n",
              "      <td>0.951028</td>\n",
              "      <td>1.521811</td>\n",
              "      <td>1.035522</td>\n",
              "      <td>1.907906</td>\n",
              "      <td>-0.410494</td>\n",
              "      <td>0.747565</td>\n",
              "    </tr>\n",
              "  </tbody>\n",
              "</table>\n",
              "<p>1290 rows × 15 columns</p>\n",
              "</div>"
            ],
            "text/plain": [
              "                                  movie_id  ...  ebert_rating\n",
              "0                 gremlins-2-the-new-batch  ...     -0.447428\n",
              "1                                moneyball  ...      1.345062\n",
              "2                                  flipped  ...      0.747565\n",
              "3                          the-fisher-king  ...     -1.044924\n",
              "4                                  elektra  ...     -1.642421\n",
              "...                                    ...  ...           ...\n",
              "1285                           the-mexican  ...      0.150069\n",
              "1286                mission-impossible-iii  ...     -0.447428\n",
              "1287                         cool-runnings  ...     -0.447428\n",
              "1288                     the-mask-of-zorro  ...      0.150069\n",
              "1289  the-girl-with-the-dragon-tattoo-2011  ...      0.747565\n",
              "\n",
              "[1290 rows x 15 columns]"
            ]
          },
          "metadata": {},
          "execution_count": 551
        }
      ]
    },
    {
      "cell_type": "code",
      "metadata": {
        "id": "GONynF0Z6eYl"
      },
      "source": [
        "X = X_start[all_input_features] # get rid of movie_id and boxd_vote_average\n",
        "\n",
        "train_frac = 0.8\n",
        "train_end_idx = int(X.shape[0] * train_frac)\n",
        "\n",
        "X_train = X.loc[:train_end_idx, :]\n",
        "X_test = X.loc[train_end_idx + 1:, :]\n",
        "\n",
        "X_train_all = X_start.loc[:train_end_idx, :]\n",
        "X_test_all = X_start.loc[train_end_idx + 1:, :]\n",
        "\n",
        "assert X_train.shape[0] + X_test.shape[0] == X.shape[0]"
      ],
      "execution_count": null,
      "outputs": []
    },
    {
      "cell_type": "code",
      "metadata": {
        "colab": {
          "base_uri": "https://localhost:8080/"
        },
        "id": "yIdaxqQ5Bv_G",
        "outputId": "ad0beed3-7e7e-4ff6-895a-07e5167b87ef"
      },
      "source": [
        "print(X_train.shape)\n",
        "print(X_test.shape)"
      ],
      "execution_count": null,
      "outputs": [
        {
          "output_type": "stream",
          "name": "stdout",
          "text": [
            "(1033, 13)\n",
            "(257, 13)\n"
          ]
        }
      ]
    },
    {
      "cell_type": "code",
      "metadata": {
        "id": "5Ec_Ze-g8xIX"
      },
      "source": [
        "# X_test_all\n",
        "\n",
        "# random_idx = 1\n",
        "# sample_embed = np.array(X.loc[train_end_idx + random_idx, 'year':])\n",
        "# sample_embed = torch.tensor(sample_embed).float()\n",
        "# sample_embed = sample_embed.reshape((1, sample_embed.shape[0]))\n",
        "# # print(sample_embed)\n",
        "# X_start.iloc[train_end_idx + random_idx, :]"
      ],
      "execution_count": null,
      "outputs": []
    },
    {
      "cell_type": "code",
      "metadata": {
        "id": "y2zi2i68tX4Z"
      },
      "source": [
        "# gets representations for every movie...?? if we can run this once and store it somewhere...\n",
        "def get_embeddings(cur_X):\n",
        "  # let's start with the stupid one: just return the letterboxd histogram\n",
        "  movie_embedding = np.array(cur_X)\n",
        "  return torch.tensor(movie_embedding).float()\n",
        "\n",
        "E = get_embeddings(X_train)\n",
        "\n",
        "# dists = nn.CosineSimilarity()(sample_embed, E)\n",
        "# knn = dists.topk(10, largest=True)\n",
        "# X_start.iloc[knn.indices.tolist()]\n",
        "\n",
        "# top_10_similar = X_start.iloc[knn.indices.tolist()]\n",
        "# top_10_boxd_avgs = top_10_similar['boxd_vote_average'].tolist()\n",
        "# print(top_10_boxd_avgs)\n",
        "\n",
        "\n"
      ],
      "execution_count": null,
      "outputs": []
    },
    {
      "cell_type": "code",
      "metadata": {
        "id": "RPZ-O44xEqVf"
      },
      "source": [
        "# k_list = [i for i in range(1, 100)]\n",
        "k_list = [3, 4, 5, 6, 7, 8, 9, 10, 11, 12, 13, 14, 15, 20, 30, 40, 50, 60, 70, 80, 90, 100]\n",
        "k_to_rmse = {}"
      ],
      "execution_count": null,
      "outputs": []
    },
    {
      "cell_type": "code",
      "metadata": {
        "id": "dheZ-WXVBm30"
      },
      "source": [
        "col_name = 'audience_rating'\n",
        "\n",
        "y_true_train = X_train_all[col_name].tolist()\n",
        "y_true = X_test_all[col_name].tolist()\n",
        "\n",
        "for k in k_list:\n",
        "    \n",
        "\n",
        "    y_pred_train = []\n",
        "\n",
        "    for i in range(0, X_train.shape[0]):\n",
        "        cur_embed = np.array(X.loc[i, 'year':])\n",
        "        cur_embed = torch.tensor(cur_embed).float()\n",
        "        cur_embed = cur_embed.reshape((1, cur_embed.shape[0]))\n",
        "        dists = nn.CosineSimilarity()(cur_embed, E)\n",
        "        knn = dists.topk(k + 1, largest=True)\n",
        "        top_10_similar = X_start.iloc[knn.indices.tolist()]\n",
        "        top_10_boxd_avgs = top_10_similar[col_name].tolist()[1:]\n",
        "        y_pred_train.append(sum(top_10_boxd_avgs) / len(top_10_boxd_avgs))\n",
        "\n",
        "    y_pred = []\n",
        "\n",
        "    for i in range(1, X_test.shape[0] + 1):\n",
        "        cur_embed = np.array(X.loc[train_end_idx + i, 'year':])\n",
        "        cur_embed = torch.tensor(cur_embed).float()\n",
        "        cur_embed = cur_embed.reshape((1, cur_embed.shape[0]))\n",
        "        dists = nn.CosineSimilarity()(cur_embed, E)\n",
        "        knn = dists.topk(k, largest=True)\n",
        "        top_10_similar = X_start.iloc[knn.indices.tolist()]\n",
        "        top_10_boxd_avgs = top_10_similar[col_name].tolist()\n",
        "        y_pred.append(sum(top_10_boxd_avgs) / len(top_10_boxd_avgs))\n",
        "\n",
        "\n",
        "    rmse_test = math.sqrt(mean_squared_error(y_true, y_pred))\n",
        "    rmse_train = math.sqrt(mean_squared_error(y_true_train, y_pred_train))\n",
        "\n",
        "    k_to_rmse[k] = [rmse_train, rmse_test]"
      ],
      "execution_count": null,
      "outputs": []
    },
    {
      "cell_type": "code",
      "metadata": {
        "colab": {
          "base_uri": "https://localhost:8080/"
        },
        "id": "y8vUvBEPGM61",
        "outputId": "9764900e-f3f6-47dd-d91e-10c2c735b3a1"
      },
      "source": [
        "for key, value in k_to_rmse.items():\n",
        "    print(key, value)"
      ],
      "execution_count": null,
      "outputs": [
        {
          "output_type": "stream",
          "name": "stdout",
          "text": [
            "3 [13.231305344146339, 13.052920321655074]\n",
            "4 [12.939051219722494, 12.979012540904835]\n",
            "5 [12.707744740097564, 12.682620848836045]\n",
            "6 [12.502446786451783, 12.441301869896849]\n",
            "7 [12.300625653570195, 12.209355892814271]\n",
            "8 [12.227008745420942, 12.150375588660841]\n",
            "9 [12.17313374547348, 12.184686692993308]\n",
            "10 [12.083165346942367, 12.154941670114713]\n",
            "11 [12.076946292311558, 12.120083369210457]\n",
            "12 [12.034445058273365, 12.231854794961901]\n",
            "13 [12.016725228458276, 12.162706714520539]\n",
            "14 [11.962097329775268, 12.147036033374276]\n",
            "15 [11.945698371536789, 12.236860392673421]\n",
            "20 [11.996153384772041, 12.023957925838506]\n",
            "30 [12.026805286150863, 12.006832253024516]\n",
            "40 [12.103577221572442, 12.041115623850063]\n",
            "50 [12.170827674114497, 12.096508870258768]\n",
            "60 [12.238968972689939, 12.204275021228188]\n",
            "70 [12.258285965292336, 12.25717353330246]\n",
            "80 [12.320443553305767, 12.32140267033715]\n",
            "90 [12.338799210730999, 12.461247283644983]\n",
            "100 [12.382261845966255, 12.527002103937809]\n"
          ]
        }
      ]
    },
    {
      "cell_type": "code",
      "metadata": {
        "id": "57whZb5TAx6n"
      },
      "source": [
        "# y_pred[:10]\n",
        "\n",
        "# y_true = X_test_all['boxd_vote_average'].tolist()\n",
        "# y_true[:10]"
      ],
      "execution_count": null,
      "outputs": []
    },
    {
      "cell_type": "code",
      "metadata": {
        "id": "Z-JUXlmYBJy4"
      },
      "source": [
        "print(len(y_true))\n",
        "\n",
        "mse_test = mean_squared_error(y_true, y_pred)\n",
        "print(math.sqrt(mse_test))"
      ],
      "execution_count": null,
      "outputs": []
    },
    {
      "cell_type": "code",
      "metadata": {
        "id": "BPygPRj2B7Y6"
      },
      "source": [
        "print(len(y_true_train))\n",
        "\n",
        "mse_train = mean_squared_error(y_true_train, y_pred_train)\n",
        "print(math.sqrt(mse_train))"
      ],
      "execution_count": null,
      "outputs": []
    }
  ]
}